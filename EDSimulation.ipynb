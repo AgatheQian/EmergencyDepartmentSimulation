{
 "cells": [
  {
   "cell_type": "markdown",
   "metadata": {},
   "source": [
    "# Emergency Department Environment"
   ]
  },
  {
   "cell_type": "code",
   "execution_count": 158,
   "metadata": {},
   "outputs": [],
   "source": [
    "import simpy\n",
    "import random\n",
    "import matplotlib.pyplot as plt\n",
    "import numpy as np\n",
    "from tqdm import tqdm\n",
    "import copy\n",
    "import scienceplots\n",
    "plt.style.use(['science'])"
   ]
  },
  {
   "cell_type": "code",
   "execution_count": 159,
   "metadata": {},
   "outputs": [],
   "source": [
    "class Project:\n",
    "    def __init__(self, name, time_distribution, staff_needed, **kwargs):\n",
    "        self.name = name\n",
    "        self.time_distribution = time_distribution\n",
    "        self.staff_needed = staff_needed  # 该项目需要的工作人员数量\n",
    "        if time_distribution == \"uniform\":\n",
    "            self.min_time = kwargs.get('min_time', 0)\n",
    "            self.max_time = kwargs.get('max_time', 0)\n",
    "        elif time_distribution == \"triangular\":\n",
    "            self.min_time = kwargs.get('min_time', 0)\n",
    "            self.mode_time = kwargs.get('mode_time', 0)\n",
    "            self.max_time = kwargs.get('max_time', 0)\n",
    "    \n",
    "    def get_time(self):\n",
    "        if self.time_distribution == \"uniform\":\n",
    "            return random.randint(self.min_time, self.max_time)\n",
    "        elif self.time_distribution == \"triangular\":\n",
    "            return int(np.random.triangular(self.min_time, self.mode_time, self.max_time))"
   ]
  },
  {
   "cell_type": "code",
   "execution_count": 160,
   "metadata": {},
   "outputs": [],
   "source": [
    "class Staff:\n",
    "    def __init__(self):\n",
    "        self.staff_dict = {}  # 存储各种类型的工作人员和其数量\n",
    "        self.staff_prices = {}  # 存储各种类型的工作人员和其价格\n",
    "\n",
    "    def add_staff(self, staff_type, quantity, price):\n",
    "        self.staff_dict[staff_type] = quantity\n",
    "        self.staff_prices[staff_type] = price\n",
    "\n",
    "    def assign_staff(self, staff_type, quantity):\n",
    "        self.staff_dict[staff_type] -= quantity\n",
    "\n",
    "    def release_staff(self, staff_type, quantity):\n",
    "        self.staff_dict[staff_type] += quantity\n"
   ]
  },
  {
   "cell_type": "code",
   "execution_count": 161,
   "metadata": {},
   "outputs": [],
   "source": [
    "class Patient:\n",
    "    def __init__(self, env, name, projects, project_probabilities):\n",
    "        self.env = env\n",
    "        self.name = name\n",
    "        self.all_projects = projects\n",
    "        self.project_probabilities = project_probabilities\n",
    "        \n",
    "        self.current_project = None\n",
    "        self.current_project_start_time = 0\n",
    "        self.current_project_end_time = 0\n",
    "        self.current_project_time = 0\n",
    "        \n",
    "        self.in_project = False\n",
    "        self.is_waiting = False\n",
    "        \n",
    "        self.waiting_time = 0\n",
    "        self.emergency_room_waiting_time = 0\n",
    "        self.total_time = 0  # 记录总共花费的时间\n",
    "        \n",
    "        self.start_times = {}  # 记录每个项目的开始时间\n",
    "        self.end_times = {}    # 记录每个项目的结束时间\n",
    "        self.project_times = {}  # 记录每个项目使用的时间\n",
    "\n",
    "        self.completed_projects = []  # 记录完成的项目\n",
    "\n",
    "    def execute_project(self, project):\n",
    "        self.in_project = True\n",
    "        self.current_project_start_time = self.env.now\n",
    "        self.start_times[self.current_project.name] = self.current_project_start_time  # 记录项目开始时间\n",
    "        project_time = self.current_project.get_time()\n",
    "        self.current_project_time = project_time\n",
    "        # end_time = self.env.now\n",
    "        # self.end_times[self.current_project.name] = end_time  # 记录项目结束时间\n",
    "        self.project_times[self.current_project.name] = project_time  # 记录项目使用的时间\n",
    "        self.total_time += project_time  # 更新总共花费的时间\n",
    "        self.completed_projects.append(project)  # 记录完成的项目\n",
    "        \n",
    "    def check_finish(self):\n",
    "        if self.env.now - self.current_project_start_time > self.current_project_time:\n",
    "            self.in_project = False\n",
    "            self.current_project_end_time = self.env.now\n",
    "            if  self.current_project != None:\n",
    "                self.end_times[self.current_project.name] = self.current_project_end_time\n",
    "\n",
    "    def choose_next_project(self):\n",
    "        current_project_name = self.current_project.name if self.current_project else None\n",
    "        next_project_probabilities = self.project_probabilities.get(current_project_name, self.project_probabilities[\"default\"])\n",
    "        projects = list(next_project_probabilities.keys())\n",
    "        probabilities = list(next_project_probabilities.values())\n",
    "        # print(projects,probabilities)\n",
    "        chosen_project = random.choices(projects, probabilities)[0]\n",
    "        chosen_project = [project for project in self.all_projects if project.name == chosen_project][0]\n",
    "        self.current_project = chosen_project\n",
    "        return chosen_project\n"
   ]
  },
  {
   "cell_type": "code",
   "execution_count": 162,
   "metadata": {},
   "outputs": [],
   "source": [
    "class EmergencyDepartment:\n",
    "    def __init__(self, env, staff, projects, project_probabilities, arrival_time):\n",
    "        self.env = env\n",
    "        self.staff = staff\n",
    "        self.projects = projects\n",
    "        self.project_probabilities = project_probabilities\n",
    "        self.patients = []\n",
    "        self.discharged_patient = []\n",
    "        self.arrival_time = arrival_time\n",
    "\n",
    "    def admit_patient(self, patient):\n",
    "        self.patients.append(patient)\n",
    "        \n",
    "    def process_patient(self, patients):\n",
    "        while True:\n",
    "            if self.env.now in self.arrival_time:\n",
    "                self.admit_patient(Patient(self.env, len(self.patients)+1, self.projects, self.project_probabilities))\n",
    "            for patient in patients:\n",
    "                if patient in self.discharged_patient:\n",
    "                    continue  # 跳过已经出院的患者\n",
    "                \n",
    "                if patient.current_project != None:\n",
    "                    if patient.current_project.name == \"Discharge\":\n",
    "                        self.discharged_patient.append(patient)\n",
    "                        continue\n",
    "\n",
    "                if not patient.in_project and not patient.is_waiting:  # 如果当前没有项目，则选择下一个项目\n",
    "                    project = patient.choose_next_project()\n",
    "                    if self.can_start_project(project):\n",
    "                        self.assign_staff(project)\n",
    "                        patient.execute_project(project)\n",
    "                    else:\n",
    "                        patient.waiting_time += 1\n",
    "                        patient.is_waiting = True \n",
    "                        if patient.current_project.name == \"Emergency room\":\n",
    "                            patient.emergency_room_waiting_time += 1\n",
    "                    continue\n",
    "                \n",
    "                if not patient.in_project and patient.is_waiting:  # 如果当前没有项目，则选择下一个项目\n",
    "                    project = patient.current_project\n",
    "                    \n",
    "                    if self.can_start_project(project):\n",
    "                        self.assign_staff(project)\n",
    "                        patient.execute_project(project)\n",
    "                        patient.is_waiting = False\n",
    "                    else:\n",
    "                        patient.waiting_time += 1\n",
    "                        if patient.current_project.name == \"Emergency room\":\n",
    "                            patient.emergency_room_waiting_time += 1\n",
    "                    continue\n",
    "                \n",
    "                patient.check_finish()\n",
    "                if not patient.in_project:\n",
    "                    project = patient.completed_projects[-1]\n",
    "                    self.release_staff(project)\n",
    "                    \n",
    "            yield self.env.timeout(1)  # 继续等待1个单位时间\n",
    "            \n",
    "    def can_start_project(self, project):\n",
    "        staff_needed = project.staff_needed\n",
    "        project_name = project.name\n",
    "        if project_name in self.staff.staff_dict:\n",
    "            available_staff = self.staff.staff_dict[project_name]\n",
    "            return staff_needed <= available_staff\n",
    "        else:\n",
    "            return False\n",
    "\n",
    "    def assign_staff(self, project):\n",
    "        staff_needed = project.staff_needed\n",
    "        project_name = project.name\n",
    "        if project_name in [\"Examination room\", \"Reexamination process\"]:\n",
    "            self.staff.assign_staff(\"Examination room\", staff_needed)\n",
    "            self.staff.assign_staff(\"Reexamination process\", staff_needed)\n",
    "        # elif project_name ==\"Emergency room\":\n",
    "        #     if self.staff.staff_dict[project_name] < staff_needed:\n",
    "        #         self.staff.assign_staff(\"Examination room\", staff_needed)\n",
    "        #         self.staff.assign_staff(\"Reexamination process\", staff_needed) \n",
    "        #     else:\n",
    "        #         self.staff.assign_staff(project_name, staff_needed)\n",
    "        else:\n",
    "            self.staff.assign_staff(project_name, staff_needed)\n",
    "\n",
    "    def release_staff(self, project):\n",
    "        staff_needed = project.staff_needed\n",
    "        project_name = project.name\n",
    "        if project_name in [\"Examination room\", \"Reexamination process\"]:\n",
    "            self.staff.release_staff(\"Examination room\", staff_needed)\n",
    "            self.staff.release_staff(\"Reexamination process\", staff_needed)\n",
    "        # elif project_name == \"Emergency room\":\n",
    "        #     if self.staff.staff_dict[project_name] < staff_needed:\n",
    "        #         self.staff.release_staff(\"Examination room\", staff_needed)\n",
    "        #         self.staff.release_staff(\"Reexamination process\", staff_needed) \n",
    "        #     else:\n",
    "        #         self.staff.release_staff(project_name, staff_needed)\n",
    "        else:\n",
    "            self.staff.release_staff(project_name, staff_needed)\n"
   ]
  },
  {
   "cell_type": "code",
   "execution_count": 163,
   "metadata": {},
   "outputs": [],
   "source": [
    "def calculate_average_waiting_time(waiting_times):\n",
    "    if waiting_times:\n",
    "        return sum(waiting_times) / len(waiting_times)\n",
    "    else:\n",
    "        return 0\n",
    "    \n",
    "def arrival_times(arrival_rates: list):\n",
    "    hour = range(len(arrival_rates))\n",
    "    arr_time = []\n",
    "    for h in hour:\n",
    "        for t in np.linspace(h*60,(h+1)*60,int(round(arrival_rates[h]))+1):\n",
    "            arr_time.append(round(t))\n",
    "        arr_time = arr_time[:-1]\n",
    "    return arr_time\n",
    "\n",
    "def calculate_discharge_per_hour(emergency_department):\n",
    "    discharge_count_per_hour = {}\n",
    "    for hour in range(24):  # 遍历24小时\n",
    "        discharge_count_per_hour[hour] = 0  # 初始化每小时的出院人数为0\n",
    "    for patient in emergency_department.patients:\n",
    "        completed_projects = patient.completed_projects\n",
    "        if completed_projects and completed_projects[-1].name == \"Discharge\":  # 检查是否有完成的项目，并且最后一个项目是\"Discharge\"\n",
    "            discharge_time = patient.start_times.get(\"Discharge\", -1)  # 获取\"Discharge\"项目的开始时间\n",
    "            if discharge_time != -1:  # 如果有\"Discharge\"项目\n",
    "                hour = discharge_time // 60  # 计算\"Discharge\"项目开始的小时\n",
    "                discharge_count_per_hour[hour] += 1  # 对应小时的出院人数加1\n",
    "    return discharge_count_per_hour\n",
    "\n"
   ]
  },
  {
   "cell_type": "markdown",
   "metadata": {},
   "source": [
    "## Test"
   ]
  },
  {
   "cell_type": "code",
   "execution_count": 164,
   "metadata": {},
   "outputs": [
    {
     "name": "stdout",
     "output_type": "stream",
     "text": [
      "Patient: 1\n",
      "Project: ['Reception', 'Examination room', 'Lab tests', 'Reexamination process', 'Treatment room', 'Discharge']\n",
      "Project: Reception, Start Time: 0, End Time: 10, Project Time: 9\n",
      "Project: Examination room, Start Time: 11, End Time: 29, Project Time: 17\n",
      "Project: Lab tests, Start Time: 30, End Time: 51, Project Time: 20\n",
      "Project: Reexamination process, Start Time: 52, End Time: 61, Project Time: 8\n",
      "Project: Treatment room, Start Time: 62, End Time: 83, Project Time: 20\n",
      "Project: Emergency room, Start Time: Not Started, End Time: Not Finished, Project Time: 0\n",
      "Project: Discharge, Start Time: 84, End Time: Not Finished, Project Time: 0\n",
      "Total Time Spent: 74\n",
      "Total Waiting Time: 0\n",
      "Emergency Room Waiting Time: 0\n",
      "\n",
      "\n",
      "Patient: 2\n",
      "Project: ['Reception', 'Examination room', 'Lab tests', 'Reexamination process', 'Treatment room', 'Discharge']\n",
      "Project: Reception, Start Time: 12, End Time: 20, Project Time: 7\n",
      "Project: Examination room, Start Time: 21, End Time: 33, Project Time: 11\n",
      "Project: Lab tests, Start Time: 34, End Time: 61, Project Time: 26\n",
      "Project: Reexamination process, Start Time: 62, End Time: 71, Project Time: 8\n",
      "Project: Treatment room, Start Time: 83, End Time: 112, Project Time: 28\n",
      "Project: Emergency room, Start Time: Not Started, End Time: Not Finished, Project Time: 0\n",
      "Project: Discharge, Start Time: 113, End Time: Not Finished, Project Time: 0\n",
      "Total Time Spent: 80\n",
      "Total Waiting Time: 11\n",
      "Emergency Room Waiting Time: 0\n",
      "\n",
      "\n",
      "Patient: 3\n",
      "Project: ['Reception', 'Examination room', 'Lab tests', 'Reexamination process', 'Treatment room', 'Discharge']\n",
      "Project: Reception, Start Time: 24, End Time: 35, Project Time: 10\n",
      "Project: Examination room, Start Time: 36, End Time: 51, Project Time: 14\n",
      "Project: Lab tests, Start Time: 52, End Time: 73, Project Time: 20\n",
      "Project: Reexamination process, Start Time: 74, End Time: 85, Project Time: 10\n",
      "Project: Treatment room, Start Time: 112, End Time: 140, Project Time: 27\n",
      "Project: Emergency room, Start Time: Not Started, End Time: Not Finished, Project Time: 0\n",
      "Project: Discharge, Start Time: 141, End Time: Not Finished, Project Time: 0\n",
      "Total Time Spent: 81\n",
      "Total Waiting Time: 26\n",
      "Emergency Room Waiting Time: 0\n",
      "\n",
      "\n",
      "Patient: 4\n",
      "Project: ['Reception', 'Examination room', 'Treatment room', 'Discharge']\n",
      "Project: Reception, Start Time: 36, End Time: 46, Project Time: 9\n",
      "Project: Examination room, Start Time: 47, End Time: 67, Project Time: 19\n",
      "Project: Lab tests, Start Time: Not Started, End Time: Not Finished, Project Time: 0\n",
      "Project: Reexamination process, Start Time: Not Started, End Time: Not Finished, Project Time: 0\n",
      "Project: Treatment room, Start Time: 68, End Time: 92, Project Time: 23\n",
      "Project: Emergency room, Start Time: Not Started, End Time: Not Finished, Project Time: 0\n",
      "Project: Discharge, Start Time: 93, End Time: Not Finished, Project Time: 0\n",
      "Total Time Spent: 51\n",
      "Total Waiting Time: 0\n",
      "Emergency Room Waiting Time: 0\n",
      "\n",
      "\n",
      "Patient: 5\n",
      "Project: ['Reception', 'Examination room', 'Lab tests', 'Reexamination process', 'Emergency room', 'Discharge']\n",
      "Project: Reception, Start Time: 48, End Time: 54, Project Time: 5\n",
      "Project: Examination room, Start Time: 55, End Time: 67, Project Time: 11\n",
      "Project: Lab tests, Start Time: 68, End Time: 95, Project Time: 26\n",
      "Project: Reexamination process, Start Time: 96, End Time: 108, Project Time: 11\n",
      "Project: Treatment room, Start Time: Not Started, End Time: Not Finished, Project Time: 0\n",
      "Project: Emergency room, Start Time: 109, End Time: 175, Project Time: 65\n",
      "Project: Discharge, Start Time: 176, End Time: Not Finished, Project Time: 0\n",
      "Total Time Spent: 118\n",
      "Total Waiting Time: 0\n",
      "Emergency Room Waiting Time: 0\n",
      "\n",
      "\n",
      "Patient: 6\n",
      "Project: ['Reception', 'Examination room', 'Treatment room', 'Discharge']\n",
      "Project: Reception, Start Time: 60, End Time: 68, Project Time: 7\n",
      "Project: Examination room, Start Time: 69, End Time: 84, Project Time: 14\n",
      "Project: Lab tests, Start Time: Not Started, End Time: Not Finished, Project Time: 0\n",
      "Project: Reexamination process, Start Time: Not Started, End Time: Not Finished, Project Time: 0\n",
      "Project: Treatment room, Start Time: 92, End Time: 116, Project Time: 23\n",
      "Project: Emergency room, Start Time: Not Started, End Time: Not Finished, Project Time: 0\n",
      "Project: Discharge, Start Time: 117, End Time: Not Finished, Project Time: 0\n",
      "Total Time Spent: 44\n",
      "Total Waiting Time: 7\n",
      "Emergency Room Waiting Time: 0\n",
      "\n",
      "\n",
      "Patient: 7\n",
      "Project: ['Reception', 'Examination room', 'Discharge']\n",
      "Project: Reception, Start Time: 72, End Time: 81, Project Time: 8\n",
      "Project: Examination room, Start Time: 82, End Time: 96, Project Time: 13\n",
      "Project: Lab tests, Start Time: Not Started, End Time: Not Finished, Project Time: 0\n",
      "Project: Reexamination process, Start Time: Not Started, End Time: Not Finished, Project Time: 0\n",
      "Project: Treatment room, Start Time: Not Started, End Time: Not Finished, Project Time: 0\n",
      "Project: Emergency room, Start Time: Not Started, End Time: Not Finished, Project Time: 0\n",
      "Project: Discharge, Start Time: 97, End Time: Not Finished, Project Time: 0\n",
      "Total Time Spent: 21\n",
      "Total Waiting Time: 0\n",
      "Emergency Room Waiting Time: 0\n",
      "\n",
      "\n",
      "Patient: 8\n",
      "Project: ['Reception', 'Examination room', 'Lab tests', 'Reexamination process', 'Treatment room', 'Discharge']\n",
      "Project: Reception, Start Time: 84, End Time: 91, Project Time: 6\n",
      "Project: Examination room, Start Time: 92, End Time: 107, Project Time: 14\n",
      "Project: Lab tests, Start Time: 108, End Time: 133, Project Time: 24\n",
      "Project: Reexamination process, Start Time: 134, End Time: 145, Project Time: 10\n",
      "Project: Treatment room, Start Time: 148, End Time: 175, Project Time: 26\n",
      "Project: Emergency room, Start Time: Not Started, End Time: Not Finished, Project Time: 0\n",
      "Project: Discharge, Start Time: 176, End Time: Not Finished, Project Time: 0\n",
      "Total Time Spent: 80\n",
      "Total Waiting Time: 2\n",
      "Emergency Room Waiting Time: 0\n",
      "\n",
      "\n",
      "Patient: 9\n",
      "Project: ['Reception', 'Examination room', 'Treatment room', 'Discharge']\n",
      "Project: Reception, Start Time: 96, End Time: 106, Project Time: 9\n",
      "Project: Examination room, Start Time: 107, End Time: 118, Project Time: 10\n",
      "Project: Lab tests, Start Time: Not Started, End Time: Not Finished, Project Time: 0\n",
      "Project: Reexamination process, Start Time: Not Started, End Time: Not Finished, Project Time: 0\n",
      "Project: Treatment room, Start Time: 119, End Time: 147, Project Time: 27\n",
      "Project: Emergency room, Start Time: Not Started, End Time: Not Finished, Project Time: 0\n",
      "Project: Discharge, Start Time: 148, End Time: Not Finished, Project Time: 0\n",
      "Total Time Spent: 46\n",
      "Total Waiting Time: 0\n",
      "Emergency Room Waiting Time: 0\n",
      "\n",
      "\n",
      "Patient: 10\n",
      "Project: ['Reception', 'Examination room', 'Treatment room', 'Discharge']\n",
      "Project: Reception, Start Time: 108, End Time: 119, Project Time: 10\n",
      "Project: Examination room, Start Time: 120, End Time: 137, Project Time: 16\n",
      "Project: Lab tests, Start Time: Not Started, End Time: Not Finished, Project Time: 0\n",
      "Project: Reexamination process, Start Time: Not Started, End Time: Not Finished, Project Time: 0\n",
      "Project: Treatment room, Start Time: 140, End Time: 166, Project Time: 25\n",
      "Project: Emergency room, Start Time: Not Started, End Time: Not Finished, Project Time: 0\n",
      "Project: Discharge, Start Time: 167, End Time: Not Finished, Project Time: 0\n",
      "Total Time Spent: 51\n",
      "Total Waiting Time: 2\n",
      "Emergency Room Waiting Time: 0\n",
      "\n",
      "\n",
      "Patient: 11\n",
      "Project: ['Reception', 'Examination room', 'Lab tests', 'Reexamination process', 'Emergency room', 'Discharge']\n",
      "Project: Reception, Start Time: 120, End Time: 130, Project Time: 9\n",
      "Project: Examination room, Start Time: 131, End Time: 143, Project Time: 11\n",
      "Project: Lab tests, Start Time: 144, End Time: 172, Project Time: 27\n",
      "Project: Reexamination process, Start Time: 173, End Time: 183, Project Time: 9\n",
      "Project: Treatment room, Start Time: Not Started, End Time: Not Finished, Project Time: 0\n",
      "Project: Emergency room, Start Time: 184, End Time: 305, Project Time: 120\n",
      "Project: Discharge, Start Time: 306, End Time: Not Finished, Project Time: 0\n",
      "Total Time Spent: 176\n",
      "Total Waiting Time: 0\n",
      "Emergency Room Waiting Time: 0\n",
      "\n",
      "\n",
      "Patient: 12\n",
      "Project: ['Reception', 'Examination room', 'Treatment room', 'Discharge']\n",
      "Project: Reception, Start Time: 135, End Time: 143, Project Time: 7\n",
      "Project: Examination room, Start Time: 144, End Time: 159, Project Time: 14\n",
      "Project: Lab tests, Start Time: Not Started, End Time: Not Finished, Project Time: 0\n",
      "Project: Reexamination process, Start Time: Not Started, End Time: Not Finished, Project Time: 0\n",
      "Project: Treatment room, Start Time: 166, End Time: 197, Project Time: 30\n",
      "Project: Emergency room, Start Time: Not Started, End Time: Not Finished, Project Time: 0\n",
      "Project: Discharge, Start Time: 198, End Time: Not Finished, Project Time: 0\n",
      "Total Time Spent: 51\n",
      "Total Waiting Time: 6\n",
      "Emergency Room Waiting Time: 0\n",
      "\n",
      "\n",
      "Patient: 13\n",
      "Project: ['Reception', 'Examination room', 'Treatment room', 'Discharge']\n",
      "Project: Reception, Start Time: 150, End Time: 159, Project Time: 8\n",
      "Project: Examination room, Start Time: 160, End Time: 177, Project Time: 16\n",
      "Project: Lab tests, Start Time: Not Started, End Time: Not Finished, Project Time: 0\n",
      "Project: Reexamination process, Start Time: Not Started, End Time: Not Finished, Project Time: 0\n",
      "Project: Treatment room, Start Time: 178, End Time: 208, Project Time: 29\n",
      "Project: Emergency room, Start Time: Not Started, End Time: Not Finished, Project Time: 0\n",
      "Project: Discharge, Start Time: 209, End Time: Not Finished, Project Time: 0\n",
      "Total Time Spent: 53\n",
      "Total Waiting Time: 0\n",
      "Emergency Room Waiting Time: 0\n",
      "\n",
      "\n",
      "Patient: 14\n",
      "Project: ['Reception', 'Examination room', 'Lab tests', 'Reexamination process', 'Emergency room', 'Discharge']\n",
      "Project: Reception, Start Time: 165, End Time: 173, Project Time: 7\n",
      "Project: Examination room, Start Time: 174, End Time: 188, Project Time: 13\n",
      "Project: Lab tests, Start Time: 189, End Time: 215, Project Time: 25\n",
      "Project: Reexamination process, Start Time: 216, End Time: 228, Project Time: 11\n",
      "Project: Treatment room, Start Time: Not Started, End Time: Not Finished, Project Time: 0\n",
      "Project: Emergency room, Start Time: 305, End Time: 426, Project Time: 120\n",
      "Project: Discharge, Start Time: 427, End Time: Not Finished, Project Time: 0\n",
      "Total Time Spent: 176\n",
      "Total Waiting Time: 76\n",
      "Emergency Room Waiting Time: 76\n",
      "\n",
      "\n",
      "Patient: 15\n",
      "Project: ['Reception', 'Examination room', 'Lab tests', 'Reexamination process', 'Treatment room', 'Discharge']\n",
      "Project: Reception, Start Time: 180, End Time: 191, Project Time: 10\n",
      "Project: Examination room, Start Time: 192, End Time: 203, Project Time: 10\n",
      "Project: Lab tests, Start Time: 204, End Time: 217, Project Time: 12\n",
      "Project: Reexamination process, Start Time: 218, End Time: 230, Project Time: 11\n",
      "Project: Treatment room, Start Time: 231, End Time: 262, Project Time: 30\n",
      "Project: Emergency room, Start Time: Not Started, End Time: Not Finished, Project Time: 0\n",
      "Project: Discharge, Start Time: 263, End Time: Not Finished, Project Time: 0\n",
      "Total Time Spent: 73\n",
      "Total Waiting Time: 0\n",
      "Emergency Room Waiting Time: 0\n",
      "\n",
      "\n",
      "Patient: 16\n",
      "Project: ['Reception', 'Examination room', 'Emergency room', 'Discharge']\n",
      "Project: Reception, Start Time: 195, End Time: 201, Project Time: 5\n",
      "Project: Examination room, Start Time: 202, End Time: 220, Project Time: 17\n",
      "Project: Lab tests, Start Time: Not Started, End Time: Not Finished, Project Time: 0\n",
      "Project: Reexamination process, Start Time: Not Started, End Time: Not Finished, Project Time: 0\n",
      "Project: Treatment room, Start Time: Not Started, End Time: Not Finished, Project Time: 0\n",
      "Project: Emergency room, Start Time: 221, End Time: 317, Project Time: 95\n",
      "Project: Discharge, Start Time: 318, End Time: Not Finished, Project Time: 0\n",
      "Total Time Spent: 117\n",
      "Total Waiting Time: 0\n",
      "Emergency Room Waiting Time: 0\n",
      "\n",
      "\n",
      "Patient: 17\n",
      "Project: ['Reception', 'Examination room', 'Lab tests', 'Reexamination process', 'Emergency room', 'Discharge']\n",
      "Project: Reception, Start Time: 210, End Time: 218, Project Time: 7\n",
      "Project: Examination room, Start Time: 220, End Time: 238, Project Time: 17\n",
      "Project: Lab tests, Start Time: 239, End Time: 255, Project Time: 15\n",
      "Project: Reexamination process, Start Time: 256, End Time: 269, Project Time: 12\n",
      "Project: Treatment room, Start Time: Not Started, End Time: Not Finished, Project Time: 0\n",
      "Project: Emergency room, Start Time: 317, End Time: 381, Project Time: 63\n",
      "Project: Discharge, Start Time: 382, End Time: Not Finished, Project Time: 0\n",
      "Total Time Spent: 114\n",
      "Total Waiting Time: 48\n",
      "Emergency Room Waiting Time: 47\n",
      "\n",
      "\n",
      "Patient: 18\n",
      "Project: ['Reception', 'Examination room', 'Lab tests', 'Reexamination process', 'Discharge']\n",
      "Project: Reception, Start Time: 225, End Time: 235, Project Time: 9\n",
      "Project: Examination room, Start Time: 236, End Time: 257, Project Time: 20\n",
      "Project: Lab tests, Start Time: 258, End Time: 277, Project Time: 18\n",
      "Project: Reexamination process, Start Time: 278, End Time: 288, Project Time: 9\n",
      "Project: Treatment room, Start Time: Not Started, End Time: Not Finished, Project Time: 0\n",
      "Project: Emergency room, Start Time: Not Started, End Time: Not Finished, Project Time: 0\n",
      "Project: Discharge, Start Time: 289, End Time: Not Finished, Project Time: 0\n",
      "Total Time Spent: 56\n",
      "Total Waiting Time: 0\n",
      "Emergency Room Waiting Time: 0\n",
      "\n",
      "\n",
      "Patient: 19\n",
      "Project: ['Reception', 'Examination room', 'Emergency room', 'Discharge']\n",
      "Project: Reception, Start Time: 240, End Time: 248, Project Time: 7\n",
      "Project: Examination room, Start Time: 249, End Time: 265, Project Time: 15\n",
      "Project: Lab tests, Start Time: Not Started, End Time: Not Finished, Project Time: 0\n",
      "Project: Reexamination process, Start Time: Not Started, End Time: Not Finished, Project Time: 0\n",
      "Project: Treatment room, Start Time: Not Started, End Time: Not Finished, Project Time: 0\n",
      "Project: Emergency room, Start Time: 381, End Time: 484, Project Time: 102\n",
      "Project: Discharge, Start Time: 485, End Time: Not Finished, Project Time: 0\n",
      "Total Time Spent: 124\n",
      "Total Waiting Time: 115\n",
      "Emergency Room Waiting Time: 115\n",
      "\n",
      "\n",
      "Patient: 20\n",
      "Project: ['Reception', 'Examination room', 'Treatment room', 'Discharge']\n",
      "Project: Reception, Start Time: 260, End Time: 266, Project Time: 5\n",
      "Project: Examination room, Start Time: 267, End Time: 286, Project Time: 18\n",
      "Project: Lab tests, Start Time: Not Started, End Time: Not Finished, Project Time: 0\n",
      "Project: Reexamination process, Start Time: Not Started, End Time: Not Finished, Project Time: 0\n",
      "Project: Treatment room, Start Time: 287, End Time: 310, Project Time: 22\n",
      "Project: Emergency room, Start Time: Not Started, End Time: Not Finished, Project Time: 0\n",
      "Project: Discharge, Start Time: 311, End Time: Not Finished, Project Time: 0\n",
      "Total Time Spent: 45\n",
      "Total Waiting Time: 0\n",
      "Emergency Room Waiting Time: 0\n",
      "\n",
      "\n",
      "Patient: 21\n",
      "Project: ['Reception', 'Examination room', 'Treatment room', 'Discharge']\n",
      "Project: Reception, Start Time: 280, End Time: 289, Project Time: 8\n",
      "Project: Examination room, Start Time: 290, End Time: 309, Project Time: 18\n",
      "Project: Lab tests, Start Time: Not Started, End Time: Not Finished, Project Time: 0\n",
      "Project: Reexamination process, Start Time: Not Started, End Time: Not Finished, Project Time: 0\n",
      "Project: Treatment room, Start Time: 310, End Time: 333, Project Time: 22\n",
      "Project: Emergency room, Start Time: Not Started, End Time: Not Finished, Project Time: 0\n",
      "Project: Discharge, Start Time: 334, End Time: Not Finished, Project Time: 0\n",
      "Total Time Spent: 48\n",
      "Total Waiting Time: 0\n",
      "Emergency Room Waiting Time: 0\n",
      "\n",
      "\n",
      "Patient: 22\n",
      "Project: ['Reception', 'Examination room', 'Treatment room', 'Discharge']\n",
      "Project: Reception, Start Time: 300, End Time: 306, Project Time: 5\n",
      "Project: Examination room, Start Time: 307, End Time: 318, Project Time: 10\n",
      "Project: Lab tests, Start Time: Not Started, End Time: Not Finished, Project Time: 0\n",
      "Project: Reexamination process, Start Time: Not Started, End Time: Not Finished, Project Time: 0\n",
      "Project: Treatment room, Start Time: 319, End Time: 349, Project Time: 29\n",
      "Project: Emergency room, Start Time: Not Started, End Time: Not Finished, Project Time: 0\n",
      "Project: Discharge, Start Time: 350, End Time: Not Finished, Project Time: 0\n",
      "Total Time Spent: 44\n",
      "Total Waiting Time: 0\n",
      "Emergency Room Waiting Time: 0\n",
      "\n",
      "\n",
      "Patient: 23\n",
      "Project: ['Reception', 'Examination room', 'Emergency room', 'Discharge']\n",
      "Project: Reception, Start Time: 320, End Time: 330, Project Time: 9\n",
      "Project: Examination room, Start Time: 331, End Time: 342, Project Time: 10\n",
      "Project: Lab tests, Start Time: Not Started, End Time: Not Finished, Project Time: 0\n",
      "Project: Reexamination process, Start Time: Not Started, End Time: Not Finished, Project Time: 0\n",
      "Project: Treatment room, Start Time: Not Started, End Time: Not Finished, Project Time: 0\n",
      "Project: Emergency room, Start Time: 426, End Time: 544, Project Time: 117\n",
      "Project: Discharge, Start Time: 545, End Time: Not Finished, Project Time: 0\n",
      "Total Time Spent: 136\n",
      "Total Waiting Time: 83\n",
      "Emergency Room Waiting Time: 83\n",
      "\n",
      "\n",
      "Patient: 24\n",
      "Project: ['Reception', 'Examination room', 'Lab tests', 'Reexamination process', 'Treatment room', 'Discharge']\n",
      "Project: Reception, Start Time: 340, End Time: 347, Project Time: 6\n",
      "Project: Examination room, Start Time: 348, End Time: 366, Project Time: 17\n",
      "Project: Lab tests, Start Time: 367, End Time: 394, Project Time: 26\n",
      "Project: Reexamination process, Start Time: 395, End Time: 406, Project Time: 10\n",
      "Project: Treatment room, Start Time: 407, End Time: 436, Project Time: 28\n",
      "Project: Emergency room, Start Time: Not Started, End Time: Not Finished, Project Time: 0\n",
      "Project: Discharge, Start Time: 437, End Time: Not Finished, Project Time: 0\n",
      "Total Time Spent: 87\n",
      "Total Waiting Time: 0\n",
      "Emergency Room Waiting Time: 0\n",
      "\n",
      "\n",
      "Patient: 25\n",
      "Project: ['Reception', 'Examination room', 'Treatment room', 'Discharge']\n",
      "Project: Reception, Start Time: 360, End Time: 370, Project Time: 9\n",
      "Project: Examination room, Start Time: 371, End Time: 384, Project Time: 12\n",
      "Project: Lab tests, Start Time: Not Started, End Time: Not Finished, Project Time: 0\n",
      "Project: Reexamination process, Start Time: Not Started, End Time: Not Finished, Project Time: 0\n",
      "Project: Treatment room, Start Time: 385, End Time: 409, Project Time: 23\n",
      "Project: Emergency room, Start Time: Not Started, End Time: Not Finished, Project Time: 0\n",
      "Project: Discharge, Start Time: 410, End Time: Not Finished, Project Time: 0\n",
      "Total Time Spent: 44\n",
      "Total Waiting Time: 0\n",
      "Emergency Room Waiting Time: 0\n",
      "\n",
      "\n",
      "Patient: 26\n",
      "Project: ['Reception', 'Examination room', 'Lab tests', 'Reexamination process', 'Treatment room', 'Discharge']\n",
      "Project: Reception, Start Time: 372, End Time: 380, Project Time: 7\n",
      "Project: Examination room, Start Time: 381, End Time: 400, Project Time: 18\n",
      "Project: Lab tests, Start Time: 401, End Time: 419, Project Time: 17\n",
      "Project: Reexamination process, Start Time: 420, End Time: 430, Project Time: 9\n",
      "Project: Treatment room, Start Time: 431, End Time: 458, Project Time: 26\n",
      "Project: Emergency room, Start Time: Not Started, End Time: Not Finished, Project Time: 0\n",
      "Project: Discharge, Start Time: 459, End Time: Not Finished, Project Time: 0\n",
      "Total Time Spent: 77\n",
      "Total Waiting Time: 0\n",
      "Emergency Room Waiting Time: 0\n",
      "\n",
      "\n",
      "Patient: 27\n",
      "Project: ['Reception', 'Examination room', 'Lab tests', 'Reexamination process', 'Treatment room', 'Discharge']\n",
      "Project: Reception, Start Time: 384, End Time: 392, Project Time: 7\n",
      "Project: Examination room, Start Time: 393, End Time: 406, Project Time: 12\n",
      "Project: Lab tests, Start Time: 407, End Time: 423, Project Time: 15\n",
      "Project: Reexamination process, Start Time: 424, End Time: 432, Project Time: 7\n",
      "Project: Treatment room, Start Time: 436, End Time: 465, Project Time: 28\n",
      "Project: Emergency room, Start Time: Not Started, End Time: Not Finished, Project Time: 0\n",
      "Project: Discharge, Start Time: 466, End Time: Not Finished, Project Time: 0\n",
      "Total Time Spent: 69\n",
      "Total Waiting Time: 3\n",
      "Emergency Room Waiting Time: 0\n",
      "\n",
      "\n",
      "Patient: 28\n",
      "Project: ['Reception', 'Examination room', 'Lab tests', 'Reexamination process', 'Discharge']\n",
      "Project: Reception, Start Time: 396, End Time: 402, Project Time: 5\n",
      "Project: Examination room, Start Time: 403, End Time: 416, Project Time: 12\n",
      "Project: Lab tests, Start Time: 419, End Time: 445, Project Time: 25\n",
      "Project: Reexamination process, Start Time: 446, End Time: 454, Project Time: 7\n",
      "Project: Treatment room, Start Time: Not Started, End Time: Not Finished, Project Time: 0\n",
      "Project: Emergency room, Start Time: Not Started, End Time: Not Finished, Project Time: 0\n",
      "Project: Discharge, Start Time: 455, End Time: Not Finished, Project Time: 0\n",
      "Total Time Spent: 49\n",
      "Total Waiting Time: 2\n",
      "Emergency Room Waiting Time: 0\n",
      "\n",
      "\n",
      "Patient: 29\n",
      "Project: ['Reception', 'Examination room', 'Treatment room', 'Discharge']\n",
      "Project: Reception, Start Time: 408, End Time: 416, Project Time: 7\n",
      "Project: Examination room, Start Time: 417, End Time: 432, Project Time: 14\n",
      "Project: Lab tests, Start Time: Not Started, End Time: Not Finished, Project Time: 0\n",
      "Project: Reexamination process, Start Time: Not Started, End Time: Not Finished, Project Time: 0\n",
      "Project: Treatment room, Start Time: 458, End Time: 488, Project Time: 29\n",
      "Project: Emergency room, Start Time: Not Started, End Time: Not Finished, Project Time: 0\n",
      "Project: Discharge, Start Time: 489, End Time: Not Finished, Project Time: 0\n",
      "Total Time Spent: 50\n",
      "Total Waiting Time: 25\n",
      "Emergency Room Waiting Time: 0\n",
      "\n",
      "\n",
      "Patient: 30\n",
      "Project: ['Reception', 'Examination room', 'Lab tests', 'Reexamination process', 'Treatment room', 'Discharge']\n",
      "Project: Reception, Start Time: 420, End Time: 427, Project Time: 6\n",
      "Project: Examination room, Start Time: 430, End Time: 450, Project Time: 19\n",
      "Project: Lab tests, Start Time: 451, End Time: 471, Project Time: 19\n",
      "Project: Reexamination process, Start Time: 472, End Time: 483, Project Time: 10\n",
      "Project: Treatment room, Start Time: 488, End Time: 519, Project Time: 30\n",
      "Project: Emergency room, Start Time: Not Started, End Time: Not Finished, Project Time: 0\n",
      "Project: Discharge, Start Time: 520, End Time: Not Finished, Project Time: 0\n",
      "Total Time Spent: 84\n",
      "Total Waiting Time: 6\n",
      "Emergency Room Waiting Time: 0\n",
      "\n",
      "\n",
      "Patient: 31\n",
      "Project: ['Reception', 'Examination room', 'Treatment room', 'Discharge']\n",
      "Project: Reception, Start Time: 432, End Time: 439, Project Time: 6\n",
      "Project: Examination room, Start Time: 440, End Time: 452, Project Time: 11\n",
      "Project: Lab tests, Start Time: Not Started, End Time: Not Finished, Project Time: 0\n",
      "Project: Reexamination process, Start Time: Not Started, End Time: Not Finished, Project Time: 0\n",
      "Project: Treatment room, Start Time: 465, End Time: 492, Project Time: 26\n",
      "Project: Emergency room, Start Time: Not Started, End Time: Not Finished, Project Time: 0\n",
      "Project: Discharge, Start Time: 493, End Time: Not Finished, Project Time: 0\n",
      "Total Time Spent: 43\n",
      "Total Waiting Time: 12\n",
      "Emergency Room Waiting Time: 0\n",
      "\n",
      "\n",
      "Patient: 32\n",
      "Project: ['Reception', 'Examination room', 'Treatment room', 'Discharge']\n",
      "Project: Reception, Start Time: 444, End Time: 450, Project Time: 5\n",
      "Project: Examination room, Start Time: 451, End Time: 468, Project Time: 16\n",
      "Project: Lab tests, Start Time: Not Started, End Time: Not Finished, Project Time: 0\n",
      "Project: Reexamination process, Start Time: Not Started, End Time: Not Finished, Project Time: 0\n",
      "Project: Treatment room, Start Time: 492, End Time: 517, Project Time: 24\n",
      "Project: Emergency room, Start Time: Not Started, End Time: Not Finished, Project Time: 0\n",
      "Project: Discharge, Start Time: 518, End Time: Not Finished, Project Time: 0\n",
      "Total Time Spent: 45\n",
      "Total Waiting Time: 23\n",
      "Emergency Room Waiting Time: 0\n",
      "\n",
      "\n",
      "Patient: 33\n",
      "Project: ['Reception', 'Examination room', 'Emergency room', 'Discharge']\n",
      "Project: Reception, Start Time: 456, End Time: 465, Project Time: 8\n",
      "Project: Examination room, Start Time: 466, End Time: 483, Project Time: 16\n",
      "Project: Lab tests, Start Time: Not Started, End Time: Not Finished, Project Time: 0\n",
      "Project: Reexamination process, Start Time: Not Started, End Time: Not Finished, Project Time: 0\n",
      "Project: Treatment room, Start Time: Not Started, End Time: Not Finished, Project Time: 0\n",
      "Project: Emergency room, Start Time: 484, End Time: 570, Project Time: 85\n",
      "Project: Discharge, Start Time: 571, End Time: Not Finished, Project Time: 0\n",
      "Total Time Spent: 109\n",
      "Total Waiting Time: 0\n",
      "Emergency Room Waiting Time: 0\n",
      "\n",
      "\n",
      "Patient: 34\n",
      "Project: ['Reception', 'Examination room', 'Lab tests', 'Reexamination process', 'Treatment room', 'Discharge']\n",
      "Project: Reception, Start Time: 468, End Time: 474, Project Time: 5\n",
      "Project: Examination room, Start Time: 475, End Time: 491, Project Time: 15\n",
      "Project: Lab tests, Start Time: 492, End Time: 518, Project Time: 25\n",
      "Project: Reexamination process, Start Time: 519, End Time: 529, Project Time: 9\n",
      "Project: Treatment room, Start Time: 530, End Time: 559, Project Time: 28\n",
      "Project: Emergency room, Start Time: Not Started, End Time: Not Finished, Project Time: 0\n",
      "Project: Discharge, Start Time: 560, End Time: Not Finished, Project Time: 0\n",
      "Total Time Spent: 82\n",
      "Total Waiting Time: 0\n",
      "Emergency Room Waiting Time: 0\n",
      "\n",
      "\n",
      "Patient: 35\n",
      "Project: ['Reception', 'Examination room', 'Treatment room', 'Discharge']\n",
      "Project: Reception, Start Time: 480, End Time: 486, Project Time: 5\n",
      "Project: Examination room, Start Time: 487, End Time: 499, Project Time: 11\n",
      "Project: Lab tests, Start Time: Not Started, End Time: Not Finished, Project Time: 0\n",
      "Project: Reexamination process, Start Time: Not Started, End Time: Not Finished, Project Time: 0\n",
      "Project: Treatment room, Start Time: 517, End Time: 548, Project Time: 30\n",
      "Project: Emergency room, Start Time: Not Started, End Time: Not Finished, Project Time: 0\n",
      "Project: Discharge, Start Time: 549, End Time: Not Finished, Project Time: 0\n",
      "Total Time Spent: 46\n",
      "Total Waiting Time: 17\n",
      "Emergency Room Waiting Time: 0\n",
      "\n",
      "\n",
      "Patient: 36\n",
      "Project: ['Reception', 'Examination room', 'Emergency room', 'Discharge']\n",
      "Project: Reception, Start Time: 489, End Time: 496, Project Time: 6\n",
      "Project: Examination room, Start Time: 497, End Time: 516, Project Time: 18\n",
      "Project: Lab tests, Start Time: Not Started, End Time: Not Finished, Project Time: 0\n",
      "Project: Reexamination process, Start Time: Not Started, End Time: Not Finished, Project Time: 0\n",
      "Project: Treatment room, Start Time: Not Started, End Time: Not Finished, Project Time: 0\n",
      "Project: Emergency room, Start Time: 544, End Time: 659, Project Time: 114\n",
      "Project: Discharge, Start Time: 660, End Time: Not Finished, Project Time: 0\n",
      "Total Time Spent: 138\n",
      "Total Waiting Time: 27\n",
      "Emergency Room Waiting Time: 27\n",
      "\n",
      "\n",
      "Patient: 37\n",
      "Project: ['Reception', 'Examination room', 'Emergency room', 'Discharge']\n",
      "Project: Reception, Start Time: 497, End Time: 503, Project Time: 5\n",
      "Project: Examination room, Start Time: 504, End Time: 524, Project Time: 19\n",
      "Project: Lab tests, Start Time: Not Started, End Time: Not Finished, Project Time: 0\n",
      "Project: Reexamination process, Start Time: Not Started, End Time: Not Finished, Project Time: 0\n",
      "Project: Treatment room, Start Time: Not Started, End Time: Not Finished, Project Time: 0\n",
      "Project: Emergency room, Start Time: 570, End Time: 663, Project Time: 92\n",
      "Project: Discharge, Start Time: 664, End Time: Not Finished, Project Time: 0\n",
      "Total Time Spent: 116\n",
      "Total Waiting Time: 45\n",
      "Emergency Room Waiting Time: 45\n",
      "\n",
      "\n",
      "Patient: 38\n",
      "Project: ['Reception', 'Examination room', 'Lab tests', 'Reexamination process', 'Treatment room', 'Discharge']\n",
      "Project: Reception, Start Time: 506, End Time: 514, Project Time: 7\n",
      "Project: Examination room, Start Time: 515, End Time: 531, Project Time: 15\n",
      "Project: Lab tests, Start Time: 532, End Time: 548, Project Time: 15\n",
      "Project: Reexamination process, Start Time: 549, End Time: 558, Project Time: 8\n",
      "Project: Treatment room, Start Time: 559, End Time: 586, Project Time: 26\n",
      "Project: Emergency room, Start Time: Not Started, End Time: Not Finished, Project Time: 0\n",
      "Project: Discharge, Start Time: 587, End Time: Not Finished, Project Time: 0\n",
      "Total Time Spent: 71\n",
      "Total Waiting Time: 0\n",
      "Emergency Room Waiting Time: 0\n",
      "\n",
      "\n",
      "Patient: 39\n",
      "Project: ['Reception', 'Examination room', 'Lab tests', 'Reexamination process', 'Treatment room', 'Discharge']\n",
      "Project: Reception, Start Time: 514, End Time: 523, Project Time: 8\n",
      "Project: Examination room, Start Time: 524, End Time: 539, Project Time: 14\n",
      "Project: Lab tests, Start Time: 540, End Time: 562, Project Time: 21\n",
      "Project: Reexamination process, Start Time: 563, End Time: 573, Project Time: 9\n",
      "Project: Treatment room, Start Time: 574, End Time: 602, Project Time: 27\n",
      "Project: Emergency room, Start Time: Not Started, End Time: Not Finished, Project Time: 0\n",
      "Project: Discharge, Start Time: 603, End Time: Not Finished, Project Time: 0\n",
      "Total Time Spent: 79\n",
      "Total Waiting Time: 0\n",
      "Emergency Room Waiting Time: 0\n",
      "\n",
      "\n",
      "Patient: 40\n",
      "Project: ['Reception', 'Examination room', 'Lab tests', 'Reexamination process', 'Emergency room', 'Discharge']\n",
      "Project: Reception, Start Time: 523, End Time: 529, Project Time: 5\n",
      "Project: Examination room, Start Time: 530, End Time: 546, Project Time: 15\n",
      "Project: Lab tests, Start Time: 548, End Time: 568, Project Time: 19\n",
      "Project: Reexamination process, Start Time: 569, End Time: 578, Project Time: 8\n",
      "Project: Treatment room, Start Time: Not Started, End Time: Not Finished, Project Time: 0\n",
      "Project: Emergency room, Start Time: 659, End Time: 721, Project Time: 61\n",
      "Project: Discharge, Start Time: 722, End Time: Not Finished, Project Time: 0\n",
      "Total Time Spent: 108\n",
      "Total Waiting Time: 81\n",
      "Emergency Room Waiting Time: 80\n",
      "\n",
      "\n",
      "Patient: 41\n",
      "Project: ['Reception', 'Examination room', 'Emergency room', 'Discharge']\n",
      "Project: Reception, Start Time: 531, End Time: 538, Project Time: 6\n",
      "Project: Examination room, Start Time: 539, End Time: 554, Project Time: 14\n",
      "Project: Lab tests, Start Time: Not Started, End Time: Not Finished, Project Time: 0\n",
      "Project: Reexamination process, Start Time: Not Started, End Time: Not Finished, Project Time: 0\n",
      "Project: Treatment room, Start Time: Not Started, End Time: Not Finished, Project Time: 0\n",
      "Project: Emergency room, Start Time: 663, End Time: 740, Project Time: 76\n",
      "Project: Discharge, Start Time: 741, End Time: Not Finished, Project Time: 0\n",
      "Total Time Spent: 96\n",
      "Total Waiting Time: 108\n",
      "Emergency Room Waiting Time: 108\n",
      "\n",
      "\n",
      "Patient: 42\n",
      "Project: ['Reception', 'Examination room', 'Lab tests', 'Reexamination process', 'Emergency room', 'Discharge']\n",
      "Project: Reception, Start Time: 540, End Time: 549, Project Time: 8\n",
      "Project: Examination room, Start Time: 550, End Time: 567, Project Time: 16\n",
      "Project: Lab tests, Start Time: 568, End Time: 582, Project Time: 13\n",
      "Project: Reexamination process, Start Time: 583, End Time: 591, Project Time: 7\n",
      "Project: Treatment room, Start Time: Not Started, End Time: Not Finished, Project Time: 0\n",
      "Project: Emergency room, Start Time: 721, End Time: 798, Project Time: 76\n",
      "Project: Discharge, Start Time: 799, End Time: Not Finished, Project Time: 0\n",
      "Total Time Spent: 120\n",
      "Total Waiting Time: 129\n",
      "Emergency Room Waiting Time: 129\n",
      "\n",
      "\n",
      "Patient: 43\n",
      "Project: ['Reception', 'Examination room', 'Treatment room', 'Discharge']\n",
      "Project: Reception, Start Time: 549, End Time: 558, Project Time: 8\n",
      "Project: Examination room, Start Time: 559, End Time: 577, Project Time: 17\n",
      "Project: Lab tests, Start Time: Not Started, End Time: Not Finished, Project Time: 0\n",
      "Project: Reexamination process, Start Time: Not Started, End Time: Not Finished, Project Time: 0\n",
      "Project: Treatment room, Start Time: 586, End Time: 617, Project Time: 30\n",
      "Project: Emergency room, Start Time: Not Started, End Time: Not Finished, Project Time: 0\n",
      "Project: Discharge, Start Time: 618, End Time: Not Finished, Project Time: 0\n",
      "Total Time Spent: 55\n",
      "Total Waiting Time: 8\n",
      "Emergency Room Waiting Time: 0\n",
      "\n",
      "\n",
      "Patient: 44\n",
      "Project: ['Reception', 'Examination room', 'Treatment room', 'Discharge']\n",
      "Project: Reception, Start Time: 558, End Time: 569, Project Time: 10\n",
      "Project: Examination room, Start Time: 573, End Time: 592, Project Time: 18\n",
      "Project: Lab tests, Start Time: Not Started, End Time: Not Finished, Project Time: 0\n",
      "Project: Reexamination process, Start Time: Not Started, End Time: Not Finished, Project Time: 0\n",
      "Project: Treatment room, Start Time: 602, End Time: 632, Project Time: 29\n",
      "Project: Emergency room, Start Time: Not Started, End Time: Not Finished, Project Time: 0\n",
      "Project: Discharge, Start Time: 633, End Time: Not Finished, Project Time: 0\n",
      "Total Time Spent: 57\n",
      "Total Waiting Time: 13\n",
      "Emergency Room Waiting Time: 0\n",
      "\n",
      "\n",
      "Patient: 45\n",
      "Project: ['Reception', 'Examination room', 'Discharge']\n",
      "Project: Reception, Start Time: 569, End Time: 576, Project Time: 6\n",
      "Project: Examination room, Start Time: 577, End Time: 590, Project Time: 12\n",
      "Project: Lab tests, Start Time: Not Started, End Time: Not Finished, Project Time: 0\n",
      "Project: Reexamination process, Start Time: Not Started, End Time: Not Finished, Project Time: 0\n",
      "Project: Treatment room, Start Time: Not Started, End Time: Not Finished, Project Time: 0\n",
      "Project: Emergency room, Start Time: Not Started, End Time: Not Finished, Project Time: 0\n",
      "Project: Discharge, Start Time: 591, End Time: Not Finished, Project Time: 0\n",
      "Total Time Spent: 18\n",
      "Total Waiting Time: 3\n",
      "Emergency Room Waiting Time: 0\n",
      "\n",
      "\n",
      "Patient: 46\n",
      "Project: ['Reception', 'Examination room', 'Lab tests', 'Reexamination process', 'Treatment room', 'Discharge']\n",
      "Project: Reception, Start Time: 576, End Time: 585, Project Time: 8\n",
      "Project: Examination room, Start Time: 590, End Time: 611, Project Time: 20\n",
      "Project: Lab tests, Start Time: 612, End Time: 630, Project Time: 17\n",
      "Project: Reexamination process, Start Time: 631, End Time: 642, Project Time: 10\n",
      "Project: Treatment room, Start Time: 643, End Time: 672, Project Time: 28\n",
      "Project: Emergency room, Start Time: Not Started, End Time: Not Finished, Project Time: 0\n",
      "Project: Discharge, Start Time: 673, End Time: Not Finished, Project Time: 0\n",
      "Total Time Spent: 83\n",
      "Total Waiting Time: 6\n",
      "Emergency Room Waiting Time: 0\n",
      "\n",
      "\n",
      "Patient: 47\n",
      "Project: ['Reception', 'Examination room', 'Lab tests', 'Reexamination process', 'Discharge']\n",
      "Project: Reception, Start Time: 585, End Time: 591, Project Time: 5\n",
      "Project: Examination room, Start Time: 592, End Time: 608, Project Time: 15\n",
      "Project: Lab tests, Start Time: 609, End Time: 632, Project Time: 22\n",
      "Project: Reexamination process, Start Time: 640, End Time: 648, Project Time: 7\n",
      "Project: Treatment room, Start Time: Not Started, End Time: Not Finished, Project Time: 0\n",
      "Project: Emergency room, Start Time: Not Started, End Time: Not Finished, Project Time: 0\n",
      "Project: Discharge, Start Time: 649, End Time: Not Finished, Project Time: 0\n",
      "Total Time Spent: 49\n",
      "Total Waiting Time: 9\n",
      "Emergency Room Waiting Time: 0\n",
      "\n",
      "\n",
      "Patient: 48\n",
      "Project: ['Reception', 'Examination room', 'Emergency room', 'Discharge']\n",
      "Project: Reception, Start Time: 591, End Time: 599, Project Time: 7\n",
      "Project: Examination room, Start Time: 600, End Time: 618, Project Time: 17\n",
      "Project: Lab tests, Start Time: Not Started, End Time: Not Finished, Project Time: 0\n",
      "Project: Reexamination process, Start Time: Not Started, End Time: Not Finished, Project Time: 0\n",
      "Project: Treatment room, Start Time: Not Started, End Time: Not Finished, Project Time: 0\n",
      "Project: Emergency room, Start Time: 740, End Time: 854, Project Time: 113\n",
      "Project: Discharge, Start Time: 855, End Time: Not Finished, Project Time: 0\n",
      "Total Time Spent: 137\n",
      "Total Waiting Time: 121\n",
      "Emergency Room Waiting Time: 121\n",
      "\n",
      "\n",
      "Patient: 49\n",
      "Project: ['Reception', 'Examination room', 'Treatment room', 'Discharge']\n",
      "Project: Reception, Start Time: 600, End Time: 606, Project Time: 5\n",
      "Project: Examination room, Start Time: 608, End Time: 629, Project Time: 20\n",
      "Project: Lab tests, Start Time: Not Started, End Time: Not Finished, Project Time: 0\n",
      "Project: Reexamination process, Start Time: Not Started, End Time: Not Finished, Project Time: 0\n",
      "Project: Treatment room, Start Time: 630, End Time: 661, Project Time: 30\n",
      "Project: Emergency room, Start Time: Not Started, End Time: Not Finished, Project Time: 0\n",
      "Project: Discharge, Start Time: 662, End Time: Not Finished, Project Time: 0\n",
      "Total Time Spent: 55\n",
      "Total Waiting Time: 1\n",
      "Emergency Room Waiting Time: 0\n",
      "\n",
      "\n",
      "Patient: 50\n",
      "Project: ['Reception', 'Examination room', 'Lab tests', 'Reexamination process', 'Treatment room', 'Discharge']\n",
      "Project: Reception, Start Time: 608, End Time: 617, Project Time: 8\n",
      "Project: Examination room, Start Time: 618, End Time: 637, Project Time: 18\n",
      "Project: Lab tests, Start Time: 638, End Time: 651, Project Time: 12\n",
      "Project: Reexamination process, Start Time: 652, End Time: 660, Project Time: 7\n",
      "Project: Treatment room, Start Time: 661, End Time: 686, Project Time: 24\n",
      "Project: Emergency room, Start Time: Not Started, End Time: Not Finished, Project Time: 0\n",
      "Project: Discharge, Start Time: 687, End Time: Not Finished, Project Time: 0\n",
      "Total Time Spent: 69\n",
      "Total Waiting Time: 0\n",
      "Emergency Room Waiting Time: 0\n",
      "\n",
      "\n",
      "Patient: 51\n",
      "Project: ['Reception', 'Examination room', 'Lab tests', 'Reexamination process', 'Emergency room', 'Discharge']\n",
      "Project: Reception, Start Time: 617, End Time: 626, Project Time: 8\n",
      "Project: Examination room, Start Time: 627, End Time: 639, Project Time: 11\n",
      "Project: Lab tests, Start Time: 640, End Time: 654, Project Time: 13\n",
      "Project: Reexamination process, Start Time: 660, End Time: 672, Project Time: 11\n",
      "Project: Treatment room, Start Time: Not Started, End Time: Not Finished, Project Time: 0\n",
      "Project: Emergency room, Start Time: 798, End Time: 865, Project Time: 66\n",
      "Project: Discharge, Start Time: 866, End Time: Not Finished, Project Time: 0\n",
      "Total Time Spent: 109\n",
      "Total Waiting Time: 132\n",
      "Emergency Room Waiting Time: 125\n",
      "\n",
      "\n",
      "Patient: 52\n",
      "Project: ['Reception', 'Examination room', 'Treatment room', 'Discharge']\n",
      "Project: Reception, Start Time: 626, End Time: 634, Project Time: 7\n",
      "Project: Examination room, Start Time: 637, End Time: 656, Project Time: 18\n",
      "Project: Lab tests, Start Time: Not Started, End Time: Not Finished, Project Time: 0\n",
      "Project: Reexamination process, Start Time: Not Started, End Time: Not Finished, Project Time: 0\n",
      "Project: Treatment room, Start Time: 672, End Time: 697, Project Time: 24\n",
      "Project: Emergency room, Start Time: Not Started, End Time: Not Finished, Project Time: 0\n",
      "Project: Discharge, Start Time: 698, End Time: Not Finished, Project Time: 0\n",
      "Total Time Spent: 49\n",
      "Total Waiting Time: 21\n",
      "Emergency Room Waiting Time: 0\n",
      "\n",
      "\n",
      "Patient: 53\n",
      "Project: ['Reception', 'Examination room', 'Emergency room', 'Discharge']\n",
      "Project: Reception, Start Time: 634, End Time: 644, Project Time: 9\n",
      "Project: Examination room, Start Time: 645, End Time: 665, Project Time: 19\n",
      "Project: Lab tests, Start Time: Not Started, End Time: Not Finished, Project Time: 0\n",
      "Project: Reexamination process, Start Time: Not Started, End Time: Not Finished, Project Time: 0\n",
      "Project: Treatment room, Start Time: Not Started, End Time: Not Finished, Project Time: 0\n",
      "Project: Emergency room, Start Time: 854, End Time: 938, Project Time: 83\n",
      "Project: Discharge, Start Time: 939, End Time: Not Finished, Project Time: 0\n",
      "Total Time Spent: 111\n",
      "Total Waiting Time: 192\n",
      "Emergency Room Waiting Time: 188\n",
      "\n",
      "\n",
      "Patient: 54\n",
      "Project: ['Reception', 'Examination room', 'Lab tests', 'Reexamination process', 'Emergency room', 'Discharge']\n",
      "Project: Reception, Start Time: 644, End Time: 655, Project Time: 10\n",
      "Project: Examination room, Start Time: 656, End Time: 673, Project Time: 16\n",
      "Project: Lab tests, Start Time: 674, End Time: 688, Project Time: 13\n",
      "Project: Reexamination process, Start Time: 696, End Time: 709, Project Time: 12\n",
      "Project: Treatment room, Start Time: Not Started, End Time: Not Finished, Project Time: 0\n",
      "Project: Emergency room, Start Time: 865, End Time: 966, Project Time: 100\n",
      "Project: Discharge, Start Time: 967, End Time: Not Finished, Project Time: 0\n",
      "Total Time Spent: 151\n",
      "Total Waiting Time: 168\n",
      "Emergency Room Waiting Time: 155\n",
      "\n",
      "\n",
      "Patient: 55\n",
      "Project: ['Reception', 'Examination room', 'Treatment room', 'Discharge']\n",
      "Project: Reception, Start Time: 655, End Time: 665, Project Time: 9\n",
      "Project: Examination room, Start Time: 666, End Time: 678, Project Time: 11\n",
      "Project: Lab tests, Start Time: Not Started, End Time: Not Finished, Project Time: 0\n",
      "Project: Reexamination process, Start Time: Not Started, End Time: Not Finished, Project Time: 0\n",
      "Project: Treatment room, Start Time: 686, End Time: 714, Project Time: 27\n",
      "Project: Emergency room, Start Time: Not Started, End Time: Not Finished, Project Time: 0\n",
      "Project: Discharge, Start Time: 715, End Time: Not Finished, Project Time: 0\n",
      "Total Time Spent: 47\n",
      "Total Waiting Time: 17\n",
      "Emergency Room Waiting Time: 0\n",
      "\n",
      "\n",
      "Patient: 56\n",
      "Project: ['Reception', 'Examination room', 'Lab tests', 'Reexamination process', 'Emergency room', 'Discharge']\n",
      "Project: Reception, Start Time: 665, End Time: 673, Project Time: 7\n",
      "Project: Examination room, Start Time: 674, End Time: 695, Project Time: 20\n",
      "Project: Lab tests, Start Time: 696, End Time: 722, Project Time: 25\n",
      "Project: Reexamination process, Start Time: 723, End Time: 732, Project Time: 8\n",
      "Project: Treatment room, Start Time: Not Started, End Time: Not Finished, Project Time: 0\n",
      "Project: Emergency room, Start Time: 938, End Time: 1038, Project Time: 99\n",
      "Project: Discharge, Start Time: 1039, End Time: Not Finished, Project Time: 0\n",
      "Total Time Spent: 159\n",
      "Total Waiting Time: 218\n",
      "Emergency Room Waiting Time: 205\n",
      "\n",
      "\n",
      "Patient: 57\n",
      "Project: ['Reception', 'Examination room', 'Discharge']\n",
      "Project: Reception, Start Time: 673, End Time: 679, Project Time: 5\n",
      "Project: Examination room, Start Time: 680, End Time: 698, Project Time: 17\n",
      "Project: Lab tests, Start Time: Not Started, End Time: Not Finished, Project Time: 0\n",
      "Project: Reexamination process, Start Time: Not Started, End Time: Not Finished, Project Time: 0\n",
      "Project: Treatment room, Start Time: Not Started, End Time: Not Finished, Project Time: 0\n",
      "Project: Emergency room, Start Time: Not Started, End Time: Not Finished, Project Time: 0\n",
      "Project: Discharge, Start Time: 699, End Time: Not Finished, Project Time: 0\n",
      "Total Time Spent: 22\n",
      "Total Waiting Time: 13\n",
      "Emergency Room Waiting Time: 0\n",
      "\n",
      "\n",
      "Patient: 58\n",
      "Project: ['Reception', 'Examination room', 'Treatment room', 'Discharge']\n",
      "Project: Reception, Start Time: 679, End Time: 686, Project Time: 6\n",
      "Project: Examination room, Start Time: 687, End Time: 699, Project Time: 11\n",
      "Project: Lab tests, Start Time: Not Started, End Time: Not Finished, Project Time: 0\n",
      "Project: Reexamination process, Start Time: Not Started, End Time: Not Finished, Project Time: 0\n",
      "Project: Treatment room, Start Time: 700, End Time: 727, Project Time: 26\n",
      "Project: Emergency room, Start Time: Not Started, End Time: Not Finished, Project Time: 0\n",
      "Project: Discharge, Start Time: 728, End Time: Not Finished, Project Time: 0\n",
      "Total Time Spent: 43\n",
      "Total Waiting Time: 11\n",
      "Emergency Room Waiting Time: 0\n",
      "\n",
      "\n",
      "Patient: 59\n",
      "Project: ['Reception', 'Examination room', 'Treatment room', 'Discharge']\n",
      "Project: Reception, Start Time: 686, End Time: 695, Project Time: 8\n",
      "Project: Examination room, Start Time: 698, End Time: 710, Project Time: 11\n",
      "Project: Lab tests, Start Time: Not Started, End Time: Not Finished, Project Time: 0\n",
      "Project: Reexamination process, Start Time: Not Started, End Time: Not Finished, Project Time: 0\n",
      "Project: Treatment room, Start Time: 714, End Time: 740, Project Time: 25\n",
      "Project: Emergency room, Start Time: Not Started, End Time: Not Finished, Project Time: 0\n",
      "Project: Discharge, Start Time: 741, End Time: Not Finished, Project Time: 0\n",
      "Total Time Spent: 44\n",
      "Total Waiting Time: 16\n",
      "Emergency Room Waiting Time: 0\n",
      "\n",
      "\n",
      "Patient: 60\n",
      "Project: ['Reception', 'Examination room', 'Treatment room', 'Discharge']\n",
      "Project: Reception, Start Time: 695, End Time: 703, Project Time: 7\n",
      "Project: Examination room, Start Time: 704, End Time: 722, Project Time: 17\n",
      "Project: Lab tests, Start Time: Not Started, End Time: Not Finished, Project Time: 0\n",
      "Project: Reexamination process, Start Time: Not Started, End Time: Not Finished, Project Time: 0\n",
      "Project: Treatment room, Start Time: 727, End Time: 757, Project Time: 29\n",
      "Project: Emergency room, Start Time: Not Started, End Time: Not Finished, Project Time: 0\n",
      "Project: Discharge, Start Time: 758, End Time: Not Finished, Project Time: 0\n",
      "Total Time Spent: 53\n",
      "Total Waiting Time: 17\n",
      "Emergency Room Waiting Time: 0\n",
      "\n",
      "\n",
      "Patient: 61\n",
      "Project: ['Reception', 'Examination room', 'Lab tests', 'Reexamination process', 'Emergency room', 'Discharge']\n",
      "Project: Reception, Start Time: 703, End Time: 709, Project Time: 5\n",
      "Project: Examination room, Start Time: 710, End Time: 728, Project Time: 17\n",
      "Project: Lab tests, Start Time: 729, End Time: 752, Project Time: 22\n",
      "Project: Reexamination process, Start Time: 753, End Time: 764, Project Time: 10\n",
      "Project: Treatment room, Start Time: Not Started, End Time: Not Finished, Project Time: 0\n",
      "Project: Emergency room, Start Time: 966, End Time: 1063, Project Time: 96\n",
      "Project: Discharge, Start Time: 1064, End Time: Not Finished, Project Time: 0\n",
      "Total Time Spent: 150\n",
      "Total Waiting Time: 214\n",
      "Emergency Room Waiting Time: 201\n",
      "\n",
      "\n",
      "Patient: 62\n",
      "Project: ['Reception', 'Examination room', 'Lab tests', 'Reexamination process', 'Emergency room', 'Discharge']\n",
      "Project: Reception, Start Time: 709, End Time: 719, Project Time: 9\n",
      "Project: Examination room, Start Time: 720, End Time: 731, Project Time: 10\n",
      "Project: Lab tests, Start Time: 732, End Time: 758, Project Time: 25\n",
      "Project: Reexamination process, Start Time: 764, End Time: 776, Project Time: 11\n",
      "Project: Treatment room, Start Time: Not Started, End Time: Not Finished, Project Time: 0\n",
      "Project: Emergency room, Start Time: 1038, End Time: 1149, Project Time: 110\n",
      "Project: Discharge, Start Time: 1150, End Time: Not Finished, Project Time: 0\n",
      "Total Time Spent: 165\n",
      "Total Waiting Time: 277\n",
      "Emergency Room Waiting Time: 261\n",
      "\n",
      "\n",
      "Patient: 63\n",
      "Project: ['Reception', 'Examination room', 'Emergency room', 'Discharge']\n",
      "Project: Reception, Start Time: 719, End Time: 727, Project Time: 7\n",
      "Project: Examination room, Start Time: 728, End Time: 741, Project Time: 12\n",
      "Project: Lab tests, Start Time: Not Started, End Time: Not Finished, Project Time: 0\n",
      "Project: Reexamination process, Start Time: Not Started, End Time: Not Finished, Project Time: 0\n",
      "Project: Treatment room, Start Time: Not Started, End Time: Not Finished, Project Time: 0\n",
      "Project: Emergency room, Start Time: 1063, End Time: 1184, Project Time: 120\n",
      "Project: Discharge, Start Time: 1185, End Time: Not Finished, Project Time: 0\n",
      "Total Time Spent: 139\n",
      "Total Waiting Time: 335\n",
      "Emergency Room Waiting Time: 321\n",
      "\n",
      "\n",
      "Patient: 64\n",
      "Project: ['Reception', 'Examination room', 'Emergency room', 'Discharge']\n",
      "Project: Reception, Start Time: 727, End Time: 734, Project Time: 6\n",
      "Project: Examination room, Start Time: 735, End Time: 746, Project Time: 10\n",
      "Project: Lab tests, Start Time: Not Started, End Time: Not Finished, Project Time: 0\n",
      "Project: Reexamination process, Start Time: Not Started, End Time: Not Finished, Project Time: 0\n",
      "Project: Treatment room, Start Time: Not Started, End Time: Not Finished, Project Time: 0\n",
      "Project: Emergency room, Start Time: 1149, End Time: 1211, Project Time: 61\n",
      "Project: Discharge, Start Time: 1212, End Time: Not Finished, Project Time: 0\n",
      "Total Time Spent: 77\n",
      "Total Waiting Time: 417\n",
      "Emergency Room Waiting Time: 402\n",
      "\n",
      "\n",
      "Patient: 65\n",
      "Project: ['Reception', 'Examination room', 'Emergency room', 'Discharge']\n",
      "Project: Reception, Start Time: 734, End Time: 744, Project Time: 9\n",
      "Project: Examination room, Start Time: 745, End Time: 764, Project Time: 18\n",
      "Project: Lab tests, Start Time: Not Started, End Time: Not Finished, Project Time: 0\n",
      "Project: Reexamination process, Start Time: Not Started, End Time: Not Finished, Project Time: 0\n",
      "Project: Treatment room, Start Time: Not Started, End Time: Not Finished, Project Time: 0\n",
      "Project: Emergency room, Start Time: 1184, End Time: 1260, Project Time: 75\n",
      "Project: Discharge, Start Time: 1261, End Time: Not Finished, Project Time: 0\n",
      "Total Time Spent: 102\n",
      "Total Waiting Time: 433\n",
      "Emergency Room Waiting Time: 419\n",
      "\n",
      "\n",
      "Patient: 66\n",
      "Project: ['Reception', 'Examination room', 'Lab tests', 'Reexamination process', 'Discharge']\n",
      "Project: Reception, Start Time: 744, End Time: 755, Project Time: 10\n",
      "Project: Examination room, Start Time: 756, End Time: 773, Project Time: 16\n",
      "Project: Lab tests, Start Time: 774, End Time: 796, Project Time: 21\n",
      "Project: Reexamination process, Start Time: 798, End Time: 811, Project Time: 12\n",
      "Project: Treatment room, Start Time: Not Started, End Time: Not Finished, Project Time: 0\n",
      "Project: Emergency room, Start Time: Not Started, End Time: Not Finished, Project Time: 0\n",
      "Project: Discharge, Start Time: 812, End Time: Not Finished, Project Time: 0\n",
      "Total Time Spent: 59\n",
      "Total Waiting Time: 18\n",
      "Emergency Room Waiting Time: 0\n",
      "\n",
      "\n",
      "Patient: 67\n",
      "Project: ['Reception', 'Examination room', 'Discharge']\n",
      "Project: Reception, Start Time: 755, End Time: 765, Project Time: 9\n",
      "Project: Examination room, Start Time: 766, End Time: 784, Project Time: 17\n",
      "Project: Lab tests, Start Time: Not Started, End Time: Not Finished, Project Time: 0\n",
      "Project: Reexamination process, Start Time: Not Started, End Time: Not Finished, Project Time: 0\n",
      "Project: Treatment room, Start Time: Not Started, End Time: Not Finished, Project Time: 0\n",
      "Project: Emergency room, Start Time: Not Started, End Time: Not Finished, Project Time: 0\n",
      "Project: Discharge, Start Time: 785, End Time: Not Finished, Project Time: 0\n",
      "Total Time Spent: 26\n",
      "Total Waiting Time: 22\n",
      "Emergency Room Waiting Time: 0\n",
      "\n",
      "\n",
      "Patient: 68\n",
      "Project: ['Reception', 'Examination room', 'Discharge']\n",
      "Project: Reception, Start Time: 765, End Time: 775, Project Time: 9\n",
      "Project: Examination room, Start Time: 776, End Time: 797, Project Time: 20\n",
      "Project: Lab tests, Start Time: Not Started, End Time: Not Finished, Project Time: 0\n",
      "Project: Reexamination process, Start Time: Not Started, End Time: Not Finished, Project Time: 0\n",
      "Project: Treatment room, Start Time: Not Started, End Time: Not Finished, Project Time: 0\n",
      "Project: Emergency room, Start Time: Not Started, End Time: Not Finished, Project Time: 0\n",
      "Project: Discharge, Start Time: 798, End Time: Not Finished, Project Time: 0\n",
      "Total Time Spent: 29\n",
      "Total Waiting Time: 25\n",
      "Emergency Room Waiting Time: 0\n",
      "\n",
      "\n",
      "Patient: 69\n",
      "Project: ['Reception', 'Examination room', 'Discharge']\n",
      "Project: Reception, Start Time: 775, End Time: 781, Project Time: 5\n",
      "Project: Examination room, Start Time: 782, End Time: 793, Project Time: 10\n",
      "Project: Lab tests, Start Time: Not Started, End Time: Not Finished, Project Time: 0\n",
      "Project: Reexamination process, Start Time: Not Started, End Time: Not Finished, Project Time: 0\n",
      "Project: Treatment room, Start Time: Not Started, End Time: Not Finished, Project Time: 0\n",
      "Project: Emergency room, Start Time: Not Started, End Time: Not Finished, Project Time: 0\n",
      "Project: Discharge, Start Time: 794, End Time: Not Finished, Project Time: 0\n",
      "Total Time Spent: 15\n",
      "Total Waiting Time: 28\n",
      "Emergency Room Waiting Time: 0\n",
      "\n",
      "\n",
      "Patient: 70\n",
      "Project: ['Reception', 'Examination room', 'Lab tests', 'Reexamination process', 'Emergency room', 'Discharge']\n",
      "Project: Reception, Start Time: 781, End Time: 787, Project Time: 5\n",
      "Project: Examination room, Start Time: 788, End Time: 800, Project Time: 11\n",
      "Project: Lab tests, Start Time: 801, End Time: 822, Project Time: 20\n",
      "Project: Reexamination process, Start Time: 826, End Time: 838, Project Time: 11\n",
      "Project: Treatment room, Start Time: Not Started, End Time: Not Finished, Project Time: 0\n",
      "Project: Emergency room, Start Time: 1211, End Time: 1322, Project Time: 110\n",
      "Project: Discharge, Start Time: 1323, End Time: Not Finished, Project Time: 0\n",
      "Total Time Spent: 157\n",
      "Total Waiting Time: 403\n",
      "Emergency Room Waiting Time: 372\n",
      "\n",
      "\n",
      "Patient: 71\n",
      "Project: ['Reception', 'Examination room', 'Treatment room', 'Discharge']\n",
      "Project: Reception, Start Time: 787, End Time: 793, Project Time: 5\n",
      "Project: Examination room, Start Time: 794, End Time: 811, Project Time: 16\n",
      "Project: Lab tests, Start Time: Not Started, End Time: Not Finished, Project Time: 0\n",
      "Project: Reexamination process, Start Time: Not Started, End Time: Not Finished, Project Time: 0\n",
      "Project: Treatment room, Start Time: 812, End Time: 836, Project Time: 23\n",
      "Project: Emergency room, Start Time: Not Started, End Time: Not Finished, Project Time: 0\n",
      "Project: Discharge, Start Time: 837, End Time: Not Finished, Project Time: 0\n",
      "Total Time Spent: 44\n",
      "Total Waiting Time: 27\n",
      "Emergency Room Waiting Time: 0\n",
      "\n",
      "\n",
      "Patient: 72\n",
      "Project: ['Reception', 'Examination room', 'Emergency room', 'Discharge']\n",
      "Project: Reception, Start Time: 793, End Time: 803, Project Time: 9\n",
      "Project: Examination room, Start Time: 804, End Time: 825, Project Time: 20\n",
      "Project: Lab tests, Start Time: Not Started, End Time: Not Finished, Project Time: 0\n",
      "Project: Reexamination process, Start Time: Not Started, End Time: Not Finished, Project Time: 0\n",
      "Project: Treatment room, Start Time: Not Started, End Time: Not Finished, Project Time: 0\n",
      "Project: Emergency room, Start Time: 1260, End Time: 1343, Project Time: 82\n",
      "Project: Discharge, Start Time: 1344, End Time: Not Finished, Project Time: 0\n",
      "Total Time Spent: 111\n",
      "Total Waiting Time: 460\n",
      "Emergency Room Waiting Time: 434\n",
      "\n",
      "\n",
      "Patient: 73\n",
      "Project: ['Reception', 'Examination room', 'Lab tests', 'Reexamination process', 'Emergency room', 'Discharge']\n",
      "Project: Reception, Start Time: 803, End Time: 811, Project Time: 7\n",
      "Project: Examination room, Start Time: 812, End Time: 825, Project Time: 12\n",
      "Project: Lab tests, Start Time: 826, End Time: 844, Project Time: 17\n",
      "Project: Reexamination process, Start Time: 845, End Time: 857, Project Time: 11\n",
      "Project: Treatment room, Start Time: Not Started, End Time: Not Finished, Project Time: 0\n",
      "Project: Emergency room, Start Time: 1322, End Time: 1426, Project Time: 103\n",
      "Project: Discharge, Start Time: 1427, End Time: Not Finished, Project Time: 0\n",
      "Total Time Spent: 150\n",
      "Total Waiting Time: 494\n",
      "Emergency Room Waiting Time: 464\n",
      "\n",
      "\n",
      "Patient: 74\n",
      "Project: ['Reception', 'Examination room', 'Lab tests', 'Reexamination process', 'Emergency room']\n",
      "Project: Reception, Start Time: 811, End Time: 818, Project Time: 6\n",
      "Project: Examination room, Start Time: 819, End Time: 840, Project Time: 20\n",
      "Project: Lab tests, Start Time: 841, End Time: 871, Project Time: 29\n",
      "Project: Reexamination process, Start Time: 872, End Time: 884, Project Time: 11\n",
      "Project: Treatment room, Start Time: Not Started, End Time: Not Finished, Project Time: 0\n",
      "Project: Emergency room, Start Time: 1343, End Time: Not Finished, Project Time: 118\n",
      "Project: Discharge, Start Time: Not Started, End Time: Not Finished, Project Time: 0\n",
      "Total Time Spent: 184\n",
      "Total Waiting Time: 489\n",
      "Emergency Room Waiting Time: 458\n",
      "\n",
      "\n",
      "Patient: 75\n",
      "Project: ['Reception', 'Examination room', 'Discharge']\n",
      "Project: Reception, Start Time: 818, End Time: 824, Project Time: 5\n",
      "Project: Examination room, Start Time: 825, End Time: 836, Project Time: 10\n",
      "Project: Lab tests, Start Time: Not Started, End Time: Not Finished, Project Time: 0\n",
      "Project: Reexamination process, Start Time: Not Started, End Time: Not Finished, Project Time: 0\n",
      "Project: Treatment room, Start Time: Not Started, End Time: Not Finished, Project Time: 0\n",
      "Project: Emergency room, Start Time: Not Started, End Time: Not Finished, Project Time: 0\n",
      "Project: Discharge, Start Time: 837, End Time: Not Finished, Project Time: 0\n",
      "Total Time Spent: 15\n",
      "Total Waiting Time: 31\n",
      "Emergency Room Waiting Time: 0\n",
      "\n",
      "\n",
      "Patient: 76\n",
      "Project: ['Reception', 'Examination room', 'Treatment room', 'Discharge']\n",
      "Project: Reception, Start Time: 824, End Time: 832, Project Time: 7\n",
      "Project: Examination room, Start Time: 836, End Time: 856, Project Time: 19\n",
      "Project: Lab tests, Start Time: Not Started, End Time: Not Finished, Project Time: 0\n",
      "Project: Reexamination process, Start Time: Not Started, End Time: Not Finished, Project Time: 0\n",
      "Project: Treatment room, Start Time: 857, End Time: 886, Project Time: 28\n",
      "Project: Emergency room, Start Time: Not Started, End Time: Not Finished, Project Time: 0\n",
      "Project: Discharge, Start Time: 887, End Time: Not Finished, Project Time: 0\n",
      "Total Time Spent: 54\n",
      "Total Waiting Time: 34\n",
      "Emergency Room Waiting Time: 0\n",
      "\n",
      "\n",
      "Patient: 77\n",
      "Project: ['Reception', 'Examination room', 'Lab tests', 'Reexamination process', 'Emergency room']\n",
      "Project: Reception, Start Time: 832, End Time: 840, Project Time: 7\n",
      "Project: Examination room, Start Time: 841, End Time: 854, Project Time: 12\n",
      "Project: Lab tests, Start Time: 855, End Time: 874, Project Time: 18\n",
      "Project: Reexamination process, Start Time: 875, End Time: 883, Project Time: 7\n",
      "Project: Treatment room, Start Time: Not Started, End Time: Not Finished, Project Time: 0\n",
      "Project: Emergency room, Start Time: 1426, End Time: Not Finished, Project Time: 69\n",
      "Project: Discharge, Start Time: Not Started, End Time: Not Finished, Project Time: 0\n",
      "Total Time Spent: 113\n",
      "Total Waiting Time: 574\n",
      "Emergency Room Waiting Time: 542\n",
      "\n",
      "\n",
      "Patient: 78\n",
      "Project: ['Reception', 'Examination room', 'Treatment room', 'Discharge']\n",
      "Project: Reception, Start Time: 840, End Time: 846, Project Time: 5\n",
      "Project: Examination room, Start Time: 854, End Time: 874, Project Time: 19\n",
      "Project: Lab tests, Start Time: Not Started, End Time: Not Finished, Project Time: 0\n",
      "Project: Reexamination process, Start Time: Not Started, End Time: Not Finished, Project Time: 0\n",
      "Project: Treatment room, Start Time: 875, End Time: 903, Project Time: 27\n",
      "Project: Emergency room, Start Time: Not Started, End Time: Not Finished, Project Time: 0\n",
      "Project: Discharge, Start Time: 904, End Time: Not Finished, Project Time: 0\n",
      "Total Time Spent: 51\n",
      "Total Waiting Time: 40\n",
      "Emergency Room Waiting Time: 0\n",
      "\n",
      "\n",
      "Patient: 79\n",
      "Project: ['Reception', 'Examination room', 'Lab tests', 'Reexamination process', 'Treatment room', 'Discharge']\n",
      "Project: Reception, Start Time: 846, End Time: 854, Project Time: 7\n",
      "Project: Examination room, Start Time: 856, End Time: 870, Project Time: 13\n",
      "Project: Lab tests, Start Time: 871, End Time: 891, Project Time: 19\n",
      "Project: Reexamination process, Start Time: 896, End Time: 906, Project Time: 9\n",
      "Project: Treatment room, Start Time: 907, End Time: 936, Project Time: 28\n",
      "Project: Emergency room, Start Time: Not Started, End Time: Not Finished, Project Time: 0\n",
      "Project: Discharge, Start Time: 937, End Time: Not Finished, Project Time: 0\n",
      "Total Time Spent: 76\n",
      "Total Waiting Time: 38\n",
      "Emergency Room Waiting Time: 0\n",
      "\n",
      "\n",
      "Patient: 80\n",
      "Project: ['Reception', 'Examination room', 'Treatment room', 'Discharge']\n",
      "Project: Reception, Start Time: 854, End Time: 864, Project Time: 9\n",
      "Project: Examination room, Start Time: 865, End Time: 886, Project Time: 20\n",
      "Project: Lab tests, Start Time: Not Started, End Time: Not Finished, Project Time: 0\n",
      "Project: Reexamination process, Start Time: Not Started, End Time: Not Finished, Project Time: 0\n",
      "Project: Treatment room, Start Time: 887, End Time: 915, Project Time: 27\n",
      "Project: Emergency room, Start Time: Not Started, End Time: Not Finished, Project Time: 0\n",
      "Project: Discharge, Start Time: 916, End Time: Not Finished, Project Time: 0\n",
      "Total Time Spent: 56\n",
      "Total Waiting Time: 34\n",
      "Emergency Room Waiting Time: 0\n",
      "\n",
      "\n",
      "Patient: 81\n",
      "Project: ['Reception', 'Examination room']\n",
      "Project: Reception, Start Time: 864, End Time: 875, Project Time: 10\n",
      "Project: Examination room, Start Time: 883, End Time: 895, Project Time: 11\n",
      "Project: Lab tests, Start Time: Not Started, End Time: Not Finished, Project Time: 0\n",
      "Project: Reexamination process, Start Time: Not Started, End Time: Not Finished, Project Time: 0\n",
      "Project: Treatment room, Start Time: Not Started, End Time: Not Finished, Project Time: 0\n",
      "Project: Emergency room, Start Time: Not Started, End Time: Not Finished, Project Time: 0\n",
      "Project: Discharge, Start Time: Not Started, End Time: Not Finished, Project Time: 0\n",
      "Total Time Spent: 21\n",
      "Total Waiting Time: 588\n",
      "Emergency Room Waiting Time: 544\n",
      "\n",
      "\n",
      "Patient: 82\n",
      "Project: ['Reception', 'Examination room', 'Lab tests', 'Reexamination process', 'Treatment room', 'Discharge']\n",
      "Project: Reception, Start Time: 875, End Time: 881, Project Time: 5\n",
      "Project: Examination room, Start Time: 884, End Time: 904, Project Time: 19\n",
      "Project: Lab tests, Start Time: 905, End Time: 924, Project Time: 18\n",
      "Project: Reexamination process, Start Time: 925, End Time: 934, Project Time: 8\n",
      "Project: Treatment room, Start Time: 936, End Time: 962, Project Time: 25\n",
      "Project: Emergency room, Start Time: Not Started, End Time: Not Finished, Project Time: 0\n",
      "Project: Discharge, Start Time: 963, End Time: Not Finished, Project Time: 0\n",
      "Total Time Spent: 75\n",
      "Total Waiting Time: 45\n",
      "Emergency Room Waiting Time: 0\n",
      "\n",
      "\n",
      "Patient: 83\n",
      "Project: ['Reception', 'Examination room', 'Lab tests', 'Reexamination process', 'Discharge']\n",
      "Project: Reception, Start Time: 881, End Time: 890, Project Time: 8\n",
      "Project: Examination room, Start Time: 891, End Time: 905, Project Time: 13\n",
      "Project: Lab tests, Start Time: 906, End Time: 934, Project Time: 27\n",
      "Project: Reexamination process, Start Time: 935, End Time: 945, Project Time: 9\n",
      "Project: Treatment room, Start Time: Not Started, End Time: Not Finished, Project Time: 0\n",
      "Project: Emergency room, Start Time: Not Started, End Time: Not Finished, Project Time: 0\n",
      "Project: Discharge, Start Time: 946, End Time: Not Finished, Project Time: 0\n",
      "Total Time Spent: 57\n",
      "Total Waiting Time: 41\n",
      "Emergency Room Waiting Time: 0\n",
      "\n",
      "\n",
      "Patient: 84\n",
      "Project: ['Reception', 'Examination room', 'Treatment room', 'Discharge']\n",
      "Project: Reception, Start Time: 890, End Time: 896, Project Time: 5\n",
      "Project: Examination room, Start Time: 904, End Time: 919, Project Time: 14\n",
      "Project: Lab tests, Start Time: Not Started, End Time: Not Finished, Project Time: 0\n",
      "Project: Reexamination process, Start Time: Not Started, End Time: Not Finished, Project Time: 0\n",
      "Project: Treatment room, Start Time: 920, End Time: 946, Project Time: 25\n",
      "Project: Emergency room, Start Time: Not Started, End Time: Not Finished, Project Time: 0\n",
      "Project: Discharge, Start Time: 947, End Time: Not Finished, Project Time: 0\n",
      "Total Time Spent: 44\n",
      "Total Waiting Time: 49\n",
      "Emergency Room Waiting Time: 0\n",
      "\n",
      "\n",
      "Patient: 85\n",
      "Project: ['Reception', 'Examination room', 'Lab tests', 'Reexamination process', 'Treatment room', 'Discharge']\n",
      "Project: Reception, Start Time: 896, End Time: 906, Project Time: 9\n",
      "Project: Examination room, Start Time: 907, End Time: 922, Project Time: 14\n",
      "Project: Lab tests, Start Time: 924, End Time: 940, Project Time: 15\n",
      "Project: Reexamination process, Start Time: 945, End Time: 954, Project Time: 8\n",
      "Project: Treatment room, Start Time: 962, End Time: 983, Project Time: 20\n",
      "Project: Emergency room, Start Time: Not Started, End Time: Not Finished, Project Time: 0\n",
      "Project: Discharge, Start Time: 984, End Time: Not Finished, Project Time: 0\n",
      "Total Time Spent: 66\n",
      "Total Waiting Time: 53\n",
      "Emergency Room Waiting Time: 0\n",
      "\n",
      "\n",
      "Patient: 86\n",
      "Project: ['Reception', 'Examination room', 'Treatment room', 'Discharge']\n",
      "Project: Reception, Start Time: 906, End Time: 916, Project Time: 9\n",
      "Project: Examination room, Start Time: 917, End Time: 936, Project Time: 18\n",
      "Project: Lab tests, Start Time: Not Started, End Time: Not Finished, Project Time: 0\n",
      "Project: Reexamination process, Start Time: Not Started, End Time: Not Finished, Project Time: 0\n",
      "Project: Treatment room, Start Time: 946, End Time: 967, Project Time: 20\n",
      "Project: Emergency room, Start Time: Not Started, End Time: Not Finished, Project Time: 0\n",
      "Project: Discharge, Start Time: 968, End Time: Not Finished, Project Time: 0\n",
      "Total Time Spent: 47\n",
      "Total Waiting Time: 53\n",
      "Emergency Room Waiting Time: 0\n",
      "\n",
      "\n",
      "Patient: 87\n",
      "Project: ['Reception', 'Examination room']\n",
      "Project: Reception, Start Time: 916, End Time: 926, Project Time: 9\n",
      "Project: Examination room, Start Time: 927, End Time: 945, Project Time: 17\n",
      "Project: Lab tests, Start Time: Not Started, End Time: Not Finished, Project Time: 0\n",
      "Project: Reexamination process, Start Time: Not Started, End Time: Not Finished, Project Time: 0\n",
      "Project: Treatment room, Start Time: Not Started, End Time: Not Finished, Project Time: 0\n",
      "Project: Emergency room, Start Time: Not Started, End Time: Not Finished, Project Time: 0\n",
      "Project: Discharge, Start Time: Not Started, End Time: Not Finished, Project Time: 0\n",
      "Total Time Spent: 26\n",
      "Total Waiting Time: 540\n",
      "Emergency Room Waiting Time: 494\n",
      "\n",
      "\n",
      "Patient: 88\n",
      "Project: ['Reception', 'Examination room', 'Lab tests', 'Reexamination process', 'Treatment room', 'Discharge']\n",
      "Project: Reception, Start Time: 926, End Time: 936, Project Time: 9\n",
      "Project: Examination room, Start Time: 937, End Time: 958, Project Time: 20\n",
      "Project: Lab tests, Start Time: 959, End Time: 978, Project Time: 18\n",
      "Project: Reexamination process, Start Time: 979, End Time: 992, Project Time: 12\n",
      "Project: Treatment room, Start Time: 993, End Time: 1017, Project Time: 23\n",
      "Project: Emergency room, Start Time: Not Started, End Time: Not Finished, Project Time: 0\n",
      "Project: Discharge, Start Time: 1018, End Time: Not Finished, Project Time: 0\n",
      "Total Time Spent: 82\n",
      "Total Waiting Time: 48\n",
      "Emergency Room Waiting Time: 0\n",
      "\n",
      "\n",
      "Patient: 89\n",
      "Project: ['Reception', 'Examination room', 'Lab tests', 'Reexamination process']\n",
      "Project: Reception, Start Time: 936, End Time: 944, Project Time: 7\n",
      "Project: Examination room, Start Time: 945, End Time: 960, Project Time: 14\n",
      "Project: Lab tests, Start Time: 961, End Time: 984, Project Time: 22\n",
      "Project: Reexamination process, Start Time: 985, End Time: 994, Project Time: 8\n",
      "Project: Treatment room, Start Time: Not Started, End Time: Not Finished, Project Time: 0\n",
      "Project: Emergency room, Start Time: Not Started, End Time: Not Finished, Project Time: 0\n",
      "Project: Discharge, Start Time: Not Started, End Time: Not Finished, Project Time: 0\n",
      "Total Time Spent: 51\n",
      "Total Waiting Time: 496\n",
      "Emergency Room Waiting Time: 445\n",
      "\n",
      "\n",
      "Patient: 90\n",
      "Project: ['Reception', 'Examination room', 'Lab tests', 'Reexamination process', 'Discharge']\n",
      "Project: Reception, Start Time: 944, End Time: 954, Project Time: 9\n",
      "Project: Examination room, Start Time: 955, End Time: 971, Project Time: 15\n",
      "Project: Lab tests, Start Time: 978, End Time: 992, Project Time: 13\n",
      "Project: Reexamination process, Start Time: 994, End Time: 1003, Project Time: 8\n",
      "Project: Treatment room, Start Time: Not Started, End Time: Not Finished, Project Time: 0\n",
      "Project: Emergency room, Start Time: Not Started, End Time: Not Finished, Project Time: 0\n",
      "Project: Discharge, Start Time: 1004, End Time: Not Finished, Project Time: 0\n",
      "Total Time Spent: 45\n",
      "Total Waiting Time: 59\n",
      "Emergency Room Waiting Time: 0\n",
      "\n",
      "\n",
      "Patient: 91\n",
      "Project: ['Reception', 'Examination room']\n",
      "Project: Reception, Start Time: 954, End Time: 961, Project Time: 6\n",
      "Project: Examination room, Start Time: 962, End Time: 980, Project Time: 17\n",
      "Project: Lab tests, Start Time: Not Started, End Time: Not Finished, Project Time: 0\n",
      "Project: Reexamination process, Start Time: Not Started, End Time: Not Finished, Project Time: 0\n",
      "Project: Treatment room, Start Time: Not Started, End Time: Not Finished, Project Time: 0\n",
      "Project: Emergency room, Start Time: Not Started, End Time: Not Finished, Project Time: 0\n",
      "Project: Discharge, Start Time: Not Started, End Time: Not Finished, Project Time: 0\n",
      "Total Time Spent: 23\n",
      "Total Waiting Time: 513\n",
      "Emergency Room Waiting Time: 459\n",
      "\n",
      "\n",
      "Patient: 92\n",
      "Project: ['Reception', 'Examination room']\n",
      "Project: Reception, Start Time: 961, End Time: 968, Project Time: 6\n",
      "Project: Examination room, Start Time: 969, End Time: 981, Project Time: 11\n",
      "Project: Lab tests, Start Time: Not Started, End Time: Not Finished, Project Time: 0\n",
      "Project: Reexamination process, Start Time: Not Started, End Time: Not Finished, Project Time: 0\n",
      "Project: Treatment room, Start Time: Not Started, End Time: Not Finished, Project Time: 0\n",
      "Project: Emergency room, Start Time: Not Started, End Time: Not Finished, Project Time: 0\n",
      "Project: Discharge, Start Time: Not Started, End Time: Not Finished, Project Time: 0\n",
      "Total Time Spent: 17\n",
      "Total Waiting Time: 511\n",
      "Emergency Room Waiting Time: 458\n",
      "\n",
      "\n",
      "Patient: 93\n",
      "Project: ['Reception', 'Examination room', 'Lab tests', 'Reexamination process']\n",
      "Project: Reception, Start Time: 968, End Time: 978, Project Time: 9\n",
      "Project: Examination room, Start Time: 980, End Time: 996, Project Time: 15\n",
      "Project: Lab tests, Start Time: 997, End Time: 1019, Project Time: 21\n",
      "Project: Reexamination process, Start Time: 1020, End Time: 1033, Project Time: 12\n",
      "Project: Treatment room, Start Time: Not Started, End Time: Not Finished, Project Time: 0\n",
      "Project: Emergency room, Start Time: Not Started, End Time: Not Finished, Project Time: 0\n",
      "Project: Discharge, Start Time: Not Started, End Time: Not Finished, Project Time: 0\n",
      "Total Time Spent: 57\n",
      "Total Waiting Time: 460\n",
      "Emergency Room Waiting Time: 406\n",
      "\n",
      "\n",
      "Patient: 94\n",
      "Project: ['Reception', 'Examination room']\n",
      "Project: Reception, Start Time: 978, End Time: 988, Project Time: 9\n",
      "Project: Examination room, Start Time: 992, End Time: 1011, Project Time: 18\n",
      "Project: Lab tests, Start Time: Not Started, End Time: Not Finished, Project Time: 0\n",
      "Project: Reexamination process, Start Time: Not Started, End Time: Not Finished, Project Time: 0\n",
      "Project: Treatment room, Start Time: Not Started, End Time: Not Finished, Project Time: 0\n",
      "Project: Emergency room, Start Time: Not Started, End Time: Not Finished, Project Time: 0\n",
      "Project: Discharge, Start Time: Not Started, End Time: Not Finished, Project Time: 0\n",
      "Total Time Spent: 27\n",
      "Total Waiting Time: 487\n",
      "Emergency Room Waiting Time: 428\n",
      "\n",
      "\n",
      "Patient: 95\n",
      "Project: ['Reception', 'Examination room', 'Lab tests', 'Reexamination process']\n",
      "Project: Reception, Start Time: 988, End Time: 994, Project Time: 5\n",
      "Project: Examination room, Start Time: 996, End Time: 1011, Project Time: 14\n",
      "Project: Lab tests, Start Time: 1012, End Time: 1032, Project Time: 19\n",
      "Project: Reexamination process, Start Time: 1033, End Time: 1043, Project Time: 9\n",
      "Project: Treatment room, Start Time: Not Started, End Time: Not Finished, Project Time: 0\n",
      "Project: Emergency room, Start Time: Not Started, End Time: Not Finished, Project Time: 0\n",
      "Project: Discharge, Start Time: Not Started, End Time: Not Finished, Project Time: 0\n",
      "Total Time Spent: 47\n",
      "Total Waiting Time: 455\n",
      "Emergency Room Waiting Time: 396\n",
      "\n",
      "\n",
      "Patient: 96\n",
      "Project: ['Reception', 'Examination room', 'Lab tests', 'Reexamination process']\n",
      "Project: Reception, Start Time: 994, End Time: 1000, Project Time: 5\n",
      "Project: Examination room, Start Time: 1003, End Time: 1020, Project Time: 16\n",
      "Project: Lab tests, Start Time: 1021, End Time: 1039, Project Time: 17\n",
      "Project: Reexamination process, Start Time: 1040, End Time: 1051, Project Time: 10\n",
      "Project: Treatment room, Start Time: Not Started, End Time: Not Finished, Project Time: 0\n",
      "Project: Emergency room, Start Time: Not Started, End Time: Not Finished, Project Time: 0\n",
      "Project: Discharge, Start Time: Not Started, End Time: Not Finished, Project Time: 0\n",
      "Total Time Spent: 48\n",
      "Total Waiting Time: 446\n",
      "Emergency Room Waiting Time: 388\n",
      "\n",
      "\n",
      "Patient: 97\n",
      "Project: ['Reception', 'Examination room', 'Lab tests', 'Reexamination process']\n",
      "Project: Reception, Start Time: 1000, End Time: 1010, Project Time: 9\n",
      "Project: Examination room, Start Time: 1011, End Time: 1031, Project Time: 19\n",
      "Project: Lab tests, Start Time: 1032, End Time: 1049, Project Time: 16\n",
      "Project: Reexamination process, Start Time: 1051, End Time: 1063, Project Time: 11\n",
      "Project: Treatment room, Start Time: Not Started, End Time: Not Finished, Project Time: 0\n",
      "Project: Emergency room, Start Time: Not Started, End Time: Not Finished, Project Time: 0\n",
      "Project: Discharge, Start Time: Not Started, End Time: Not Finished, Project Time: 0\n",
      "Total Time Spent: 55\n",
      "Total Waiting Time: 432\n",
      "Emergency Room Waiting Time: 376\n",
      "\n",
      "\n",
      "Patient: 98\n",
      "Project: ['Reception', 'Examination room', 'Treatment room', 'Discharge']\n",
      "Project: Reception, Start Time: 1010, End Time: 1019, Project Time: 8\n",
      "Project: Examination room, Start Time: 1020, End Time: 1034, Project Time: 13\n",
      "Project: Lab tests, Start Time: Not Started, End Time: Not Finished, Project Time: 0\n",
      "Project: Reexamination process, Start Time: Not Started, End Time: Not Finished, Project Time: 0\n",
      "Project: Treatment room, Start Time: 1035, End Time: 1056, Project Time: 20\n",
      "Project: Emergency room, Start Time: Not Started, End Time: Not Finished, Project Time: 0\n",
      "Project: Discharge, Start Time: 1057, End Time: Not Finished, Project Time: 0\n",
      "Total Time Spent: 41\n",
      "Total Waiting Time: 58\n",
      "Emergency Room Waiting Time: 0\n",
      "\n",
      "\n",
      "Patient: 99\n",
      "Project: ['Reception', 'Examination room']\n",
      "Project: Reception, Start Time: 1019, End Time: 1030, Project Time: 10\n",
      "Project: Examination room, Start Time: 1031, End Time: 1044, Project Time: 12\n",
      "Project: Lab tests, Start Time: Not Started, End Time: Not Finished, Project Time: 0\n",
      "Project: Reexamination process, Start Time: Not Started, End Time: Not Finished, Project Time: 0\n",
      "Project: Treatment room, Start Time: Not Started, End Time: Not Finished, Project Time: 0\n",
      "Project: Emergency room, Start Time: Not Started, End Time: Not Finished, Project Time: 0\n",
      "Project: Discharge, Start Time: Not Started, End Time: Not Finished, Project Time: 0\n",
      "Total Time Spent: 22\n",
      "Total Waiting Time: 454\n",
      "Emergency Room Waiting Time: 395\n",
      "\n",
      "\n",
      "Patient: 100\n",
      "Project: ['Reception', 'Examination room', 'Discharge']\n",
      "Project: Reception, Start Time: 1030, End Time: 1039, Project Time: 8\n",
      "Project: Examination room, Start Time: 1043, End Time: 1062, Project Time: 18\n",
      "Project: Lab tests, Start Time: Not Started, End Time: Not Finished, Project Time: 0\n",
      "Project: Reexamination process, Start Time: Not Started, End Time: Not Finished, Project Time: 0\n",
      "Project: Treatment room, Start Time: Not Started, End Time: Not Finished, Project Time: 0\n",
      "Project: Emergency room, Start Time: Not Started, End Time: Not Finished, Project Time: 0\n",
      "Project: Discharge, Start Time: 1063, End Time: Not Finished, Project Time: 0\n",
      "Total Time Spent: 26\n",
      "Total Waiting Time: 65\n",
      "Emergency Room Waiting Time: 0\n",
      "\n",
      "\n",
      "Patient: 101\n",
      "Project: ['Reception', 'Examination room']\n",
      "Project: Reception, Start Time: 1039, End Time: 1048, Project Time: 8\n",
      "Project: Examination room, Start Time: 1049, End Time: 1064, Project Time: 14\n",
      "Project: Lab tests, Start Time: Not Started, End Time: Not Finished, Project Time: 0\n",
      "Project: Reexamination process, Start Time: Not Started, End Time: Not Finished, Project Time: 0\n",
      "Project: Treatment room, Start Time: Not Started, End Time: Not Finished, Project Time: 0\n",
      "Project: Emergency room, Start Time: Not Started, End Time: Not Finished, Project Time: 0\n",
      "Project: Discharge, Start Time: Not Started, End Time: Not Finished, Project Time: 0\n",
      "Total Time Spent: 22\n",
      "Total Waiting Time: 439\n",
      "Emergency Room Waiting Time: 375\n",
      "\n",
      "\n",
      "Patient: 102\n",
      "Project: ['Reception', 'Examination room', 'Lab tests', 'Reexamination process']\n",
      "Project: Reception, Start Time: 1048, End Time: 1058, Project Time: 9\n",
      "Project: Examination room, Start Time: 1062, End Time: 1076, Project Time: 13\n",
      "Project: Lab tests, Start Time: 1077, End Time: 1098, Project Time: 20\n",
      "Project: Reexamination process, Start Time: 1099, End Time: 1109, Project Time: 9\n",
      "Project: Treatment room, Start Time: Not Started, End Time: Not Finished, Project Time: 0\n",
      "Project: Emergency room, Start Time: Not Started, End Time: Not Finished, Project Time: 0\n",
      "Project: Discharge, Start Time: Not Started, End Time: Not Finished, Project Time: 0\n",
      "Total Time Spent: 51\n",
      "Total Waiting Time: 399\n",
      "Emergency Room Waiting Time: 330\n",
      "\n",
      "\n",
      "Patient: 103\n",
      "Project: ['Reception', 'Examination room', 'Lab tests', 'Reexamination process']\n",
      "Project: Reception, Start Time: 1058, End Time: 1066, Project Time: 7\n",
      "Project: Examination room, Start Time: 1067, End Time: 1081, Project Time: 13\n",
      "Project: Lab tests, Start Time: 1082, End Time: 1101, Project Time: 18\n",
      "Project: Reexamination process, Start Time: 1109, End Time: 1120, Project Time: 10\n",
      "Project: Treatment room, Start Time: Not Started, End Time: Not Finished, Project Time: 0\n",
      "Project: Emergency room, Start Time: Not Started, End Time: Not Finished, Project Time: 0\n",
      "Project: Discharge, Start Time: Not Started, End Time: Not Finished, Project Time: 0\n",
      "Total Time Spent: 48\n",
      "Total Waiting Time: 394\n",
      "Emergency Room Waiting Time: 319\n",
      "\n",
      "\n",
      "Patient: 104\n",
      "Project: ['Reception', 'Examination room', 'Lab tests', 'Reexamination process']\n",
      "Project: Reception, Start Time: 1066, End Time: 1077, Project Time: 10\n",
      "Project: Examination room, Start Time: 1078, End Time: 1094, Project Time: 15\n",
      "Project: Lab tests, Start Time: 1098, End Time: 1118, Project Time: 19\n",
      "Project: Reexamination process, Start Time: 1120, End Time: 1130, Project Time: 9\n",
      "Project: Treatment room, Start Time: Not Started, End Time: Not Finished, Project Time: 0\n",
      "Project: Emergency room, Start Time: Not Started, End Time: Not Finished, Project Time: 0\n",
      "Project: Discharge, Start Time: Not Started, End Time: Not Finished, Project Time: 0\n",
      "Total Time Spent: 53\n",
      "Total Waiting Time: 381\n",
      "Emergency Room Waiting Time: 309\n",
      "\n",
      "\n",
      "Patient: 105\n",
      "Project: ['Reception', 'Examination room', 'Lab tests', 'Reexamination process', 'Treatment room', 'Discharge']\n",
      "Project: Reception, Start Time: 1077, End Time: 1088, Project Time: 10\n",
      "Project: Examination room, Start Time: 1089, End Time: 1106, Project Time: 16\n",
      "Project: Lab tests, Start Time: 1107, End Time: 1126, Project Time: 18\n",
      "Project: Reexamination process, Start Time: 1130, End Time: 1138, Project Time: 7\n",
      "Project: Treatment room, Start Time: 1143, End Time: 1168, Project Time: 24\n",
      "Project: Emergency room, Start Time: Not Started, End Time: Not Finished, Project Time: 0\n",
      "Project: Discharge, Start Time: 1169, End Time: Not Finished, Project Time: 0\n",
      "Total Time Spent: 75\n",
      "Total Waiting Time: 79\n",
      "Emergency Room Waiting Time: 0\n",
      "\n",
      "\n",
      "Patient: 106\n",
      "Project: ['Reception', 'Examination room', 'Treatment room', 'Discharge']\n",
      "Project: Reception, Start Time: 1088, End Time: 1095, Project Time: 6\n",
      "Project: Examination room, Start Time: 1096, End Time: 1117, Project Time: 20\n",
      "Project: Lab tests, Start Time: Not Started, End Time: Not Finished, Project Time: 0\n",
      "Project: Reexamination process, Start Time: Not Started, End Time: Not Finished, Project Time: 0\n",
      "Project: Treatment room, Start Time: 1118, End Time: 1146, Project Time: 27\n",
      "Project: Emergency room, Start Time: Not Started, End Time: Not Finished, Project Time: 0\n",
      "Project: Discharge, Start Time: 1147, End Time: Not Finished, Project Time: 0\n",
      "Total Time Spent: 53\n",
      "Total Waiting Time: 76\n",
      "Emergency Room Waiting Time: 0\n",
      "\n",
      "\n",
      "Patient: 107\n",
      "Project: ['Reception', 'Examination room', 'Treatment room', 'Discharge']\n",
      "Project: Reception, Start Time: 1095, End Time: 1102, Project Time: 6\n",
      "Project: Examination room, Start Time: 1106, End Time: 1120, Project Time: 13\n",
      "Project: Lab tests, Start Time: Not Started, End Time: Not Finished, Project Time: 0\n",
      "Project: Reexamination process, Start Time: Not Started, End Time: Not Finished, Project Time: 0\n",
      "Project: Treatment room, Start Time: 1121, End Time: 1142, Project Time: 20\n",
      "Project: Emergency room, Start Time: Not Started, End Time: Not Finished, Project Time: 0\n",
      "Project: Discharge, Start Time: 1143, End Time: Not Finished, Project Time: 0\n",
      "Total Time Spent: 39\n",
      "Total Waiting Time: 78\n",
      "Emergency Room Waiting Time: 0\n",
      "\n",
      "\n",
      "Patient: 108\n",
      "Project: ['Reception', 'Examination room']\n",
      "Project: Reception, Start Time: 1102, End Time: 1112, Project Time: 9\n",
      "Project: Examination room, Start Time: 1117, End Time: 1131, Project Time: 13\n",
      "Project: Lab tests, Start Time: Not Started, End Time: Not Finished, Project Time: 0\n",
      "Project: Reexamination process, Start Time: Not Started, End Time: Not Finished, Project Time: 0\n",
      "Project: Treatment room, Start Time: Not Started, End Time: Not Finished, Project Time: 0\n",
      "Project: Emergency room, Start Time: Not Started, End Time: Not Finished, Project Time: 0\n",
      "Project: Discharge, Start Time: Not Started, End Time: Not Finished, Project Time: 0\n",
      "Total Time Spent: 22\n",
      "Total Waiting Time: 386\n",
      "Emergency Room Waiting Time: 308\n",
      "\n",
      "\n",
      "Patient: 109\n",
      "Project: ['Reception', 'Examination room', 'Treatment room', 'Discharge']\n",
      "Project: Reception, Start Time: 1112, End Time: 1122, Project Time: 9\n",
      "Project: Examination room, Start Time: 1123, End Time: 1142, Project Time: 18\n",
      "Project: Lab tests, Start Time: Not Started, End Time: Not Finished, Project Time: 0\n",
      "Project: Reexamination process, Start Time: Not Started, End Time: Not Finished, Project Time: 0\n",
      "Project: Treatment room, Start Time: 1146, End Time: 1167, Project Time: 20\n",
      "Project: Emergency room, Start Time: Not Started, End Time: Not Finished, Project Time: 0\n",
      "Project: Discharge, Start Time: 1168, End Time: Not Finished, Project Time: 0\n",
      "Total Time Spent: 47\n",
      "Total Waiting Time: 80\n",
      "Emergency Room Waiting Time: 0\n",
      "\n",
      "\n",
      "Patient: 110\n",
      "Project: ['Reception', 'Examination room']\n",
      "Project: Reception, Start Time: 1122, End Time: 1129, Project Time: 6\n",
      "Project: Examination room, Start Time: 1131, End Time: 1143, Project Time: 11\n",
      "Project: Lab tests, Start Time: Not Started, End Time: Not Finished, Project Time: 0\n",
      "Project: Reexamination process, Start Time: Not Started, End Time: Not Finished, Project Time: 0\n",
      "Project: Treatment room, Start Time: Not Started, End Time: Not Finished, Project Time: 0\n",
      "Project: Emergency room, Start Time: Not Started, End Time: Not Finished, Project Time: 0\n",
      "Project: Discharge, Start Time: Not Started, End Time: Not Finished, Project Time: 0\n",
      "Total Time Spent: 17\n",
      "Total Waiting Time: 377\n",
      "Emergency Room Waiting Time: 296\n",
      "\n",
      "\n",
      "Patient: 111\n",
      "Project: ['Reception', 'Examination room', 'Lab tests', 'Reexamination process', 'Discharge']\n",
      "Project: Reception, Start Time: 1129, End Time: 1138, Project Time: 8\n",
      "Project: Examination room, Start Time: 1139, End Time: 1155, Project Time: 15\n",
      "Project: Lab tests, Start Time: 1156, End Time: 1184, Project Time: 27\n",
      "Project: Reexamination process, Start Time: 1185, End Time: 1196, Project Time: 10\n",
      "Project: Treatment room, Start Time: Not Started, End Time: Not Finished, Project Time: 0\n",
      "Project: Emergency room, Start Time: Not Started, End Time: Not Finished, Project Time: 0\n",
      "Project: Discharge, Start Time: 1197, End Time: Not Finished, Project Time: 0\n",
      "Total Time Spent: 60\n",
      "Total Waiting Time: 79\n",
      "Emergency Room Waiting Time: 0\n",
      "\n",
      "\n",
      "Patient: 112\n",
      "Project: ['Reception', 'Examination room', 'Discharge']\n",
      "Project: Reception, Start Time: 1138, End Time: 1149, Project Time: 10\n",
      "Project: Examination room, Start Time: 1150, End Time: 1161, Project Time: 10\n",
      "Project: Lab tests, Start Time: Not Started, End Time: Not Finished, Project Time: 0\n",
      "Project: Reexamination process, Start Time: Not Started, End Time: Not Finished, Project Time: 0\n",
      "Project: Treatment room, Start Time: Not Started, End Time: Not Finished, Project Time: 0\n",
      "Project: Emergency room, Start Time: Not Started, End Time: Not Finished, Project Time: 0\n",
      "Project: Discharge, Start Time: 1162, End Time: Not Finished, Project Time: 0\n",
      "Total Time Spent: 20\n",
      "Total Waiting Time: 80\n",
      "Emergency Room Waiting Time: 0\n",
      "\n",
      "\n",
      "Patient: 113\n",
      "Project: ['Reception', 'Examination room', 'Lab tests', 'Reexamination process']\n",
      "Project: Reception, Start Time: 1149, End Time: 1156, Project Time: 6\n",
      "Project: Examination room, Start Time: 1157, End Time: 1168, Project Time: 10\n",
      "Project: Lab tests, Start Time: 1169, End Time: 1185, Project Time: 15\n",
      "Project: Reexamination process, Start Time: 1187, End Time: 1195, Project Time: 7\n",
      "Project: Treatment room, Start Time: Not Started, End Time: Not Finished, Project Time: 0\n",
      "Project: Emergency room, Start Time: Not Started, End Time: Not Finished, Project Time: 0\n",
      "Project: Discharge, Start Time: Not Started, End Time: Not Finished, Project Time: 0\n",
      "Total Time Spent: 38\n",
      "Total Waiting Time: 329\n",
      "Emergency Room Waiting Time: 244\n",
      "\n",
      "\n",
      "Patient: 114\n",
      "Project: ['Reception', 'Examination room']\n",
      "Project: Reception, Start Time: 1156, End Time: 1165, Project Time: 8\n",
      "Project: Examination room, Start Time: 1166, End Time: 1180, Project Time: 13\n",
      "Project: Lab tests, Start Time: Not Started, End Time: Not Finished, Project Time: 0\n",
      "Project: Reexamination process, Start Time: Not Started, End Time: Not Finished, Project Time: 0\n",
      "Project: Treatment room, Start Time: Not Started, End Time: Not Finished, Project Time: 0\n",
      "Project: Emergency room, Start Time: Not Started, End Time: Not Finished, Project Time: 0\n",
      "Project: Discharge, Start Time: Not Started, End Time: Not Finished, Project Time: 0\n",
      "Total Time Spent: 21\n",
      "Total Waiting Time: 343\n",
      "Emergency Room Waiting Time: 259\n",
      "\n",
      "\n",
      "Patient: 115\n",
      "Project: ['Reception', 'Examination room', 'Discharge']\n",
      "Project: Reception, Start Time: 1165, End Time: 1174, Project Time: 8\n",
      "Project: Examination room, Start Time: 1175, End Time: 1186, Project Time: 10\n",
      "Project: Lab tests, Start Time: Not Started, End Time: Not Finished, Project Time: 0\n",
      "Project: Reexamination process, Start Time: Not Started, End Time: Not Finished, Project Time: 0\n",
      "Project: Treatment room, Start Time: Not Started, End Time: Not Finished, Project Time: 0\n",
      "Project: Emergency room, Start Time: Not Started, End Time: Not Finished, Project Time: 0\n",
      "Project: Discharge, Start Time: 1187, End Time: Not Finished, Project Time: 0\n",
      "Total Time Spent: 18\n",
      "Total Waiting Time: 85\n",
      "Emergency Room Waiting Time: 0\n",
      "\n",
      "\n",
      "Patient: 116\n",
      "Project: ['Reception', 'Examination room', 'Lab tests', 'Reexamination process', 'Treatment room', 'Discharge']\n",
      "Project: Reception, Start Time: 1174, End Time: 1182, Project Time: 7\n",
      "Project: Examination room, Start Time: 1183, End Time: 1198, Project Time: 14\n",
      "Project: Lab tests, Start Time: 1199, End Time: 1214, Project Time: 14\n",
      "Project: Reexamination process, Start Time: 1215, End Time: 1224, Project Time: 8\n",
      "Project: Treatment room, Start Time: 1225, End Time: 1256, Project Time: 30\n",
      "Project: Emergency room, Start Time: Not Started, End Time: Not Finished, Project Time: 0\n",
      "Project: Discharge, Start Time: 1257, End Time: Not Finished, Project Time: 0\n",
      "Total Time Spent: 73\n",
      "Total Waiting Time: 86\n",
      "Emergency Room Waiting Time: 0\n",
      "\n",
      "\n",
      "Patient: 117\n",
      "Project: ['Reception', 'Examination room']\n",
      "Project: Reception, Start Time: 1182, End Time: 1193, Project Time: 10\n",
      "Project: Examination room, Start Time: 1195, End Time: 1207, Project Time: 11\n",
      "Project: Lab tests, Start Time: Not Started, End Time: Not Finished, Project Time: 0\n",
      "Project: Reexamination process, Start Time: Not Started, End Time: Not Finished, Project Time: 0\n",
      "Project: Treatment room, Start Time: Not Started, End Time: Not Finished, Project Time: 0\n",
      "Project: Emergency room, Start Time: Not Started, End Time: Not Finished, Project Time: 0\n",
      "Project: Discharge, Start Time: Not Started, End Time: Not Finished, Project Time: 0\n",
      "Total Time Spent: 21\n",
      "Total Waiting Time: 320\n",
      "Emergency Room Waiting Time: 232\n",
      "\n",
      "\n",
      "Patient: 118\n",
      "Project: ['Reception', 'Examination room']\n",
      "Project: Reception, Start Time: 1193, End Time: 1202, Project Time: 8\n",
      "Project: Examination room, Start Time: 1203, End Time: 1220, Project Time: 16\n",
      "Project: Lab tests, Start Time: Not Started, End Time: Not Finished, Project Time: 0\n",
      "Project: Reexamination process, Start Time: Not Started, End Time: Not Finished, Project Time: 0\n",
      "Project: Treatment room, Start Time: Not Started, End Time: Not Finished, Project Time: 0\n",
      "Project: Emergency room, Start Time: Not Started, End Time: Not Finished, Project Time: 0\n",
      "Project: Discharge, Start Time: Not Started, End Time: Not Finished, Project Time: 0\n",
      "Total Time Spent: 24\n",
      "Total Waiting Time: 310\n",
      "Emergency Room Waiting Time: 219\n",
      "\n",
      "\n",
      "Patient: 119\n",
      "Project: ['Reception', 'Examination room']\n",
      "Project: Reception, Start Time: 1202, End Time: 1208, Project Time: 5\n",
      "Project: Examination room, Start Time: 1209, End Time: 1226, Project Time: 16\n",
      "Project: Lab tests, Start Time: Not Started, End Time: Not Finished, Project Time: 0\n",
      "Project: Reexamination process, Start Time: Not Started, End Time: Not Finished, Project Time: 0\n",
      "Project: Treatment room, Start Time: Not Started, End Time: Not Finished, Project Time: 0\n",
      "Project: Emergency room, Start Time: Not Started, End Time: Not Finished, Project Time: 0\n",
      "Project: Discharge, Start Time: Not Started, End Time: Not Finished, Project Time: 0\n",
      "Total Time Spent: 21\n",
      "Total Waiting Time: 305\n",
      "Emergency Room Waiting Time: 213\n",
      "\n",
      "\n",
      "Patient: 120\n",
      "Project: ['Reception', 'Examination room', 'Treatment room', 'Discharge']\n",
      "Project: Reception, Start Time: 1208, End Time: 1219, Project Time: 10\n",
      "Project: Examination room, Start Time: 1220, End Time: 1241, Project Time: 20\n",
      "Project: Lab tests, Start Time: Not Started, End Time: Not Finished, Project Time: 0\n",
      "Project: Reexamination process, Start Time: Not Started, End Time: Not Finished, Project Time: 0\n",
      "Project: Treatment room, Start Time: 1242, End Time: 1273, Project Time: 30\n",
      "Project: Emergency room, Start Time: Not Started, End Time: Not Finished, Project Time: 0\n",
      "Project: Discharge, Start Time: 1274, End Time: Not Finished, Project Time: 0\n",
      "Total Time Spent: 60\n",
      "Total Waiting Time: 90\n",
      "Emergency Room Waiting Time: 0\n",
      "\n",
      "\n",
      "Patient: 121\n",
      "Project: ['Reception', 'Examination room']\n",
      "Project: Reception, Start Time: 1219, End Time: 1227, Project Time: 7\n",
      "Project: Examination room, Start Time: 1228, End Time: 1245, Project Time: 16\n",
      "Project: Lab tests, Start Time: Not Started, End Time: Not Finished, Project Time: 0\n",
      "Project: Reexamination process, Start Time: Not Started, End Time: Not Finished, Project Time: 0\n",
      "Project: Treatment room, Start Time: Not Started, End Time: Not Finished, Project Time: 0\n",
      "Project: Emergency room, Start Time: Not Started, End Time: Not Finished, Project Time: 0\n",
      "Project: Discharge, Start Time: Not Started, End Time: Not Finished, Project Time: 0\n",
      "Total Time Spent: 23\n",
      "Total Waiting Time: 288\n",
      "Emergency Room Waiting Time: 194\n",
      "\n",
      "\n",
      "Patient: 122\n",
      "Project: ['Reception', 'Examination room', 'Treatment room', 'Discharge']\n",
      "Project: Reception, Start Time: 1227, End Time: 1237, Project Time: 9\n",
      "Project: Examination room, Start Time: 1238, End Time: 1255, Project Time: 16\n",
      "Project: Lab tests, Start Time: Not Started, End Time: Not Finished, Project Time: 0\n",
      "Project: Reexamination process, Start Time: Not Started, End Time: Not Finished, Project Time: 0\n",
      "Project: Treatment room, Start Time: 1256, End Time: 1280, Project Time: 23\n",
      "Project: Emergency room, Start Time: Not Started, End Time: Not Finished, Project Time: 0\n",
      "Project: Discharge, Start Time: 1281, End Time: Not Finished, Project Time: 0\n",
      "Total Time Spent: 48\n",
      "Total Waiting Time: 95\n",
      "Emergency Room Waiting Time: 0\n",
      "\n",
      "\n",
      "Patient: 123\n",
      "Project: ['Reception', 'Examination room', 'Treatment room', 'Discharge']\n",
      "Project: Reception, Start Time: 1237, End Time: 1245, Project Time: 7\n",
      "Project: Examination room, Start Time: 1246, End Time: 1264, Project Time: 17\n",
      "Project: Lab tests, Start Time: Not Started, End Time: Not Finished, Project Time: 0\n",
      "Project: Reexamination process, Start Time: Not Started, End Time: Not Finished, Project Time: 0\n",
      "Project: Treatment room, Start Time: 1273, End Time: 1297, Project Time: 23\n",
      "Project: Emergency room, Start Time: Not Started, End Time: Not Finished, Project Time: 0\n",
      "Project: Discharge, Start Time: 1298, End Time: Not Finished, Project Time: 0\n",
      "Total Time Spent: 47\n",
      "Total Waiting Time: 105\n",
      "Emergency Room Waiting Time: 0\n",
      "\n",
      "\n",
      "Patient: 124\n",
      "Project: ['Reception', 'Examination room']\n",
      "Project: Reception, Start Time: 1245, End Time: 1251, Project Time: 5\n",
      "Project: Examination room, Start Time: 1252, End Time: 1271, Project Time: 18\n",
      "Project: Lab tests, Start Time: Not Started, End Time: Not Finished, Project Time: 0\n",
      "Project: Reexamination process, Start Time: Not Started, End Time: Not Finished, Project Time: 0\n",
      "Project: Treatment room, Start Time: Not Started, End Time: Not Finished, Project Time: 0\n",
      "Project: Emergency room, Start Time: Not Started, End Time: Not Finished, Project Time: 0\n",
      "Project: Discharge, Start Time: Not Started, End Time: Not Finished, Project Time: 0\n",
      "Total Time Spent: 23\n",
      "Total Waiting Time: 265\n",
      "Emergency Room Waiting Time: 168\n",
      "\n",
      "\n",
      "Patient: 125\n",
      "Project: ['Reception', 'Examination room']\n",
      "Project: Reception, Start Time: 1251, End Time: 1259, Project Time: 7\n",
      "Project: Examination room, Start Time: 1260, End Time: 1279, Project Time: 18\n",
      "Project: Lab tests, Start Time: Not Started, End Time: Not Finished, Project Time: 0\n",
      "Project: Reexamination process, Start Time: Not Started, End Time: Not Finished, Project Time: 0\n",
      "Project: Treatment room, Start Time: Not Started, End Time: Not Finished, Project Time: 0\n",
      "Project: Emergency room, Start Time: Not Started, End Time: Not Finished, Project Time: 0\n",
      "Project: Discharge, Start Time: Not Started, End Time: Not Finished, Project Time: 0\n",
      "Total Time Spent: 25\n",
      "Total Waiting Time: 256\n",
      "Emergency Room Waiting Time: 160\n",
      "\n",
      "\n",
      "Patient: 126\n",
      "Project: ['Reception', 'Examination room', 'Lab tests', 'Reexamination process']\n",
      "Project: Reception, Start Time: 1259, End Time: 1268, Project Time: 8\n",
      "Project: Examination room, Start Time: 1269, End Time: 1286, Project Time: 16\n",
      "Project: Lab tests, Start Time: 1287, End Time: 1306, Project Time: 18\n",
      "Project: Reexamination process, Start Time: 1307, End Time: 1318, Project Time: 10\n",
      "Project: Treatment room, Start Time: Not Started, End Time: Not Finished, Project Time: 0\n",
      "Project: Emergency room, Start Time: Not Started, End Time: Not Finished, Project Time: 0\n",
      "Project: Discharge, Start Time: Not Started, End Time: Not Finished, Project Time: 0\n",
      "Total Time Spent: 52\n",
      "Total Waiting Time: 218\n",
      "Emergency Room Waiting Time: 121\n",
      "\n",
      "\n",
      "Patient: 127\n",
      "Project: ['Reception', 'Examination room', 'Lab tests', 'Reexamination process', 'Discharge']\n",
      "Project: Reception, Start Time: 1268, End Time: 1277, Project Time: 8\n",
      "Project: Examination room, Start Time: 1278, End Time: 1298, Project Time: 19\n",
      "Project: Lab tests, Start Time: 1299, End Time: 1320, Project Time: 20\n",
      "Project: Reexamination process, Start Time: 1321, End Time: 1330, Project Time: 8\n",
      "Project: Treatment room, Start Time: Not Started, End Time: Not Finished, Project Time: 0\n",
      "Project: Emergency room, Start Time: Not Started, End Time: Not Finished, Project Time: 0\n",
      "Project: Discharge, Start Time: 1331, End Time: Not Finished, Project Time: 0\n",
      "Total Time Spent: 55\n",
      "Total Waiting Time: 98\n",
      "Emergency Room Waiting Time: 0\n",
      "\n",
      "\n",
      "Patient: 128\n",
      "Project: ['Reception', 'Examination room', 'Lab tests', 'Reexamination process', 'Treatment room', 'Discharge']\n",
      "Project: Reception, Start Time: 1277, End Time: 1284, Project Time: 6\n",
      "Project: Examination room, Start Time: 1285, End Time: 1305, Project Time: 19\n",
      "Project: Lab tests, Start Time: 1306, End Time: 1328, Project Time: 21\n",
      "Project: Reexamination process, Start Time: 1330, End Time: 1340, Project Time: 9\n",
      "Project: Treatment room, Start Time: 1341, End Time: 1363, Project Time: 21\n",
      "Project: Emergency room, Start Time: Not Started, End Time: Not Finished, Project Time: 0\n",
      "Project: Discharge, Start Time: 1364, End Time: Not Finished, Project Time: 0\n",
      "Total Time Spent: 76\n",
      "Total Waiting Time: 100\n",
      "Emergency Room Waiting Time: 0\n",
      "\n",
      "\n",
      "Patient: 129\n",
      "Project: ['Reception', 'Examination room']\n",
      "Project: Reception, Start Time: 1284, End Time: 1290, Project Time: 5\n",
      "Project: Examination room, Start Time: 1291, End Time: 1306, Project Time: 14\n",
      "Project: Lab tests, Start Time: Not Started, End Time: Not Finished, Project Time: 0\n",
      "Project: Reexamination process, Start Time: Not Started, End Time: Not Finished, Project Time: 0\n",
      "Project: Treatment room, Start Time: Not Started, End Time: Not Finished, Project Time: 0\n",
      "Project: Emergency room, Start Time: Not Started, End Time: Not Finished, Project Time: 0\n",
      "Project: Discharge, Start Time: Not Started, End Time: Not Finished, Project Time: 0\n",
      "Total Time Spent: 19\n",
      "Total Waiting Time: 232\n",
      "Emergency Room Waiting Time: 133\n",
      "\n",
      "\n",
      "Patient: 130\n",
      "Project: ['Reception', 'Examination room']\n",
      "Project: Reception, Start Time: 1290, End Time: 1298, Project Time: 7\n",
      "Project: Examination room, Start Time: 1299, End Time: 1311, Project Time: 11\n",
      "Project: Lab tests, Start Time: Not Started, End Time: Not Finished, Project Time: 0\n",
      "Project: Reexamination process, Start Time: Not Started, End Time: Not Finished, Project Time: 0\n",
      "Project: Treatment room, Start Time: Not Started, End Time: Not Finished, Project Time: 0\n",
      "Project: Emergency room, Start Time: Not Started, End Time: Not Finished, Project Time: 0\n",
      "Project: Discharge, Start Time: Not Started, End Time: Not Finished, Project Time: 0\n",
      "Total Time Spent: 18\n",
      "Total Waiting Time: 226\n",
      "Emergency Room Waiting Time: 128\n",
      "\n",
      "\n",
      "Patient: 131\n",
      "Project: ['Reception', 'Examination room', 'Treatment room', 'Discharge']\n",
      "Project: Reception, Start Time: 1298, End Time: 1307, Project Time: 8\n",
      "Project: Examination room, Start Time: 1308, End Time: 1322, Project Time: 13\n",
      "Project: Lab tests, Start Time: Not Started, End Time: Not Finished, Project Time: 0\n",
      "Project: Reexamination process, Start Time: Not Started, End Time: Not Finished, Project Time: 0\n",
      "Project: Treatment room, Start Time: 1323, End Time: 1347, Project Time: 23\n",
      "Project: Emergency room, Start Time: Not Started, End Time: Not Finished, Project Time: 0\n",
      "Project: Discharge, Start Time: 1348, End Time: Not Finished, Project Time: 0\n",
      "Total Time Spent: 44\n",
      "Total Waiting Time: 98\n",
      "Emergency Room Waiting Time: 0\n",
      "\n",
      "\n",
      "Patient: 132\n",
      "Project: ['Reception', 'Examination room']\n",
      "Project: Reception, Start Time: 1307, End Time: 1315, Project Time: 7\n",
      "Project: Examination room, Start Time: 1316, End Time: 1331, Project Time: 14\n",
      "Project: Lab tests, Start Time: Not Started, End Time: Not Finished, Project Time: 0\n",
      "Project: Reexamination process, Start Time: Not Started, End Time: Not Finished, Project Time: 0\n",
      "Project: Treatment room, Start Time: Not Started, End Time: Not Finished, Project Time: 0\n",
      "Project: Emergency room, Start Time: Not Started, End Time: Not Finished, Project Time: 0\n",
      "Project: Discharge, Start Time: Not Started, End Time: Not Finished, Project Time: 0\n",
      "Total Time Spent: 21\n",
      "Total Waiting Time: 207\n",
      "Emergency Room Waiting Time: 108\n",
      "\n",
      "\n",
      "Patient: 133\n",
      "Project: ['Reception', 'Examination room']\n",
      "Project: Reception, Start Time: 1315, End Time: 1322, Project Time: 6\n",
      "Project: Examination room, Start Time: 1323, End Time: 1335, Project Time: 11\n",
      "Project: Lab tests, Start Time: Not Started, End Time: Not Finished, Project Time: 0\n",
      "Project: Reexamination process, Start Time: Not Started, End Time: Not Finished, Project Time: 0\n",
      "Project: Treatment room, Start Time: Not Started, End Time: Not Finished, Project Time: 0\n",
      "Project: Emergency room, Start Time: Not Started, End Time: Not Finished, Project Time: 0\n",
      "Project: Discharge, Start Time: Not Started, End Time: Not Finished, Project Time: 0\n",
      "Total Time Spent: 17\n",
      "Total Waiting Time: 204\n",
      "Emergency Room Waiting Time: 104\n",
      "\n",
      "\n",
      "Patient: 134\n",
      "Project: ['Reception', 'Examination room', 'Lab tests', 'Reexamination process']\n",
      "Project: Reception, Start Time: 1322, End Time: 1331, Project Time: 8\n",
      "Project: Examination room, Start Time: 1332, End Time: 1350, Project Time: 17\n",
      "Project: Lab tests, Start Time: 1351, End Time: 1370, Project Time: 18\n",
      "Project: Reexamination process, Start Time: 1371, End Time: 1381, Project Time: 9\n",
      "Project: Treatment room, Start Time: Not Started, End Time: Not Finished, Project Time: 0\n",
      "Project: Emergency room, Start Time: Not Started, End Time: Not Finished, Project Time: 0\n",
      "Project: Discharge, Start Time: Not Started, End Time: Not Finished, Project Time: 0\n",
      "Total Time Spent: 52\n",
      "Total Waiting Time: 158\n",
      "Emergency Room Waiting Time: 58\n",
      "\n",
      "\n",
      "Patient: 135\n",
      "Project: ['Reception', 'Examination room', 'Treatment room', 'Discharge']\n",
      "Project: Reception, Start Time: 1331, End Time: 1337, Project Time: 5\n",
      "Project: Examination room, Start Time: 1338, End Time: 1356, Project Time: 17\n",
      "Project: Lab tests, Start Time: Not Started, End Time: Not Finished, Project Time: 0\n",
      "Project: Reexamination process, Start Time: Not Started, End Time: Not Finished, Project Time: 0\n",
      "Project: Treatment room, Start Time: 1357, End Time: 1384, Project Time: 26\n",
      "Project: Emergency room, Start Time: Not Started, End Time: Not Finished, Project Time: 0\n",
      "Project: Discharge, Start Time: 1385, End Time: Not Finished, Project Time: 0\n",
      "Total Time Spent: 48\n",
      "Total Waiting Time: 101\n",
      "Emergency Room Waiting Time: 0\n",
      "\n",
      "\n",
      "Patient: 136\n",
      "Project: ['Reception', 'Examination room', 'Treatment room', 'Discharge']\n",
      "Project: Reception, Start Time: 1337, End Time: 1346, Project Time: 8\n",
      "Project: Examination room, Start Time: 1347, End Time: 1366, Project Time: 18\n",
      "Project: Lab tests, Start Time: Not Started, End Time: Not Finished, Project Time: 0\n",
      "Project: Reexamination process, Start Time: Not Started, End Time: Not Finished, Project Time: 0\n",
      "Project: Treatment room, Start Time: 1367, End Time: 1398, Project Time: 30\n",
      "Project: Emergency room, Start Time: Not Started, End Time: Not Finished, Project Time: 0\n",
      "Project: Discharge, Start Time: 1399, End Time: Not Finished, Project Time: 0\n",
      "Total Time Spent: 56\n",
      "Total Waiting Time: 99\n",
      "Emergency Room Waiting Time: 0\n",
      "\n",
      "\n",
      "Patient: 137\n",
      "Project: ['Reception', 'Examination room']\n",
      "Project: Reception, Start Time: 1346, End Time: 1355, Project Time: 8\n",
      "Project: Examination room, Start Time: 1356, End Time: 1367, Project Time: 10\n",
      "Project: Lab tests, Start Time: Not Started, End Time: Not Finished, Project Time: 0\n",
      "Project: Reexamination process, Start Time: Not Started, End Time: Not Finished, Project Time: 0\n",
      "Project: Treatment room, Start Time: Not Started, End Time: Not Finished, Project Time: 0\n",
      "Project: Emergency room, Start Time: Not Started, End Time: Not Finished, Project Time: 0\n",
      "Project: Discharge, Start Time: Not Started, End Time: Not Finished, Project Time: 0\n",
      "Total Time Spent: 18\n",
      "Total Waiting Time: 173\n",
      "Emergency Room Waiting Time: 72\n",
      "\n",
      "\n",
      "Patient: 138\n",
      "Project: ['Reception', 'Examination room']\n",
      "Project: Reception, Start Time: 1355, End Time: 1362, Project Time: 6\n",
      "Project: Examination room, Start Time: 1363, End Time: 1380, Project Time: 16\n",
      "Project: Lab tests, Start Time: Not Started, End Time: Not Finished, Project Time: 0\n",
      "Project: Reexamination process, Start Time: Not Started, End Time: Not Finished, Project Time: 0\n",
      "Project: Treatment room, Start Time: Not Started, End Time: Not Finished, Project Time: 0\n",
      "Project: Emergency room, Start Time: Not Started, End Time: Not Finished, Project Time: 0\n",
      "Project: Discharge, Start Time: Not Started, End Time: Not Finished, Project Time: 0\n",
      "Total Time Spent: 22\n",
      "Total Waiting Time: 162\n",
      "Emergency Room Waiting Time: 59\n",
      "\n",
      "\n",
      "Patient: 139\n",
      "Project: ['Reception', 'Examination room', 'Lab tests', 'Reexamination process', 'Treatment room']\n",
      "Project: Reception, Start Time: 1362, End Time: 1368, Project Time: 5\n",
      "Project: Examination room, Start Time: 1369, End Time: 1384, Project Time: 14\n",
      "Project: Lab tests, Start Time: 1385, End Time: 1415, Project Time: 29\n",
      "Project: Reexamination process, Start Time: 1416, End Time: 1426, Project Time: 9\n",
      "Project: Treatment room, Start Time: 1427, End Time: Not Finished, Project Time: 26\n",
      "Project: Emergency room, Start Time: Not Started, End Time: Not Finished, Project Time: 0\n",
      "Project: Discharge, Start Time: Not Started, End Time: Not Finished, Project Time: 0\n",
      "Total Time Spent: 83\n",
      "Total Waiting Time: 102\n",
      "Emergency Room Waiting Time: 0\n",
      "\n",
      "\n",
      "Patient: 140\n",
      "Project: ['Reception', 'Examination room', 'Lab tests', 'Reexamination process']\n",
      "Project: Reception, Start Time: 1368, End Time: 1375, Project Time: 6\n",
      "Project: Examination room, Start Time: 1380, End Time: 1400, Project Time: 19\n",
      "Project: Lab tests, Start Time: 1401, End Time: 1420, Project Time: 18\n",
      "Project: Reexamination process, Start Time: 1424, End Time: 1436, Project Time: 11\n",
      "Project: Treatment room, Start Time: Not Started, End Time: Not Finished, Project Time: 0\n",
      "Project: Emergency room, Start Time: Not Started, End Time: Not Finished, Project Time: 0\n",
      "Project: Discharge, Start Time: Not Started, End Time: Not Finished, Project Time: 0\n",
      "Total Time Spent: 54\n",
      "Total Waiting Time: 106\n",
      "Emergency Room Waiting Time: 3\n",
      "\n",
      "\n",
      "Patient: 141\n",
      "Project: ['Reception', 'Examination room', 'Lab tests']\n",
      "Project: Reception, Start Time: 1375, End Time: 1381, Project Time: 5\n",
      "Project: Examination room, Start Time: 1382, End Time: 1400, Project Time: 17\n",
      "Project: Lab tests, Start Time: 1415, End Time: 1438, Project Time: 22\n",
      "Project: Reexamination process, Start Time: Not Started, End Time: Not Finished, Project Time: 0\n",
      "Project: Treatment room, Start Time: Not Started, End Time: Not Finished, Project Time: 0\n",
      "Project: Emergency room, Start Time: Not Started, End Time: Not Finished, Project Time: 0\n",
      "Project: Discharge, Start Time: Not Started, End Time: Not Finished, Project Time: 0\n",
      "Total Time Spent: 44\n",
      "Total Waiting Time: 106\n",
      "Emergency Room Waiting Time: 0\n",
      "\n",
      "\n",
      "Patient: 142\n",
      "Project: ['Reception', 'Examination room', 'Lab tests']\n",
      "Project: Reception, Start Time: 1381, End Time: 1391, Project Time: 9\n",
      "Project: Examination room, Start Time: 1392, End Time: 1411, Project Time: 18\n",
      "Project: Lab tests, Start Time: 1420, End Time: Not Finished, Project Time: 21\n",
      "Project: Reexamination process, Start Time: Not Started, End Time: Not Finished, Project Time: 0\n",
      "Project: Treatment room, Start Time: Not Started, End Time: Not Finished, Project Time: 0\n",
      "Project: Emergency room, Start Time: Not Started, End Time: Not Finished, Project Time: 0\n",
      "Project: Discharge, Start Time: Not Started, End Time: Not Finished, Project Time: 0\n",
      "Total Time Spent: 48\n",
      "Total Waiting Time: 93\n",
      "Emergency Room Waiting Time: 0\n",
      "\n",
      "\n",
      "Patient: 143\n",
      "Project: ['Reception', 'Examination room', 'Lab tests']\n",
      "Project: Reception, Start Time: 1391, End Time: 1399, Project Time: 7\n",
      "Project: Examination room, Start Time: 1400, End Time: 1419, Project Time: 18\n",
      "Project: Lab tests, Start Time: 1438, End Time: Not Finished, Project Time: 23\n",
      "Project: Reexamination process, Start Time: Not Started, End Time: Not Finished, Project Time: 0\n",
      "Project: Treatment room, Start Time: Not Started, End Time: Not Finished, Project Time: 0\n",
      "Project: Emergency room, Start Time: Not Started, End Time: Not Finished, Project Time: 0\n",
      "Project: Discharge, Start Time: Not Started, End Time: Not Finished, Project Time: 0\n",
      "Total Time Spent: 48\n",
      "Total Waiting Time: 101\n",
      "Emergency Room Waiting Time: 0\n",
      "\n",
      "\n",
      "Patient: 144\n",
      "Project: ['Reception', 'Examination room']\n",
      "Project: Reception, Start Time: 1399, End Time: 1410, Project Time: 10\n",
      "Project: Examination room, Start Time: 1411, End Time: 1423, Project Time: 11\n",
      "Project: Lab tests, Start Time: Not Started, End Time: Not Finished, Project Time: 0\n",
      "Project: Reexamination process, Start Time: Not Started, End Time: Not Finished, Project Time: 0\n",
      "Project: Treatment room, Start Time: Not Started, End Time: Not Finished, Project Time: 0\n",
      "Project: Emergency room, Start Time: Not Started, End Time: Not Finished, Project Time: 0\n",
      "Project: Discharge, Start Time: Not Started, End Time: Not Finished, Project Time: 0\n",
      "Total Time Spent: 21\n",
      "Total Waiting Time: 95\n",
      "Emergency Room Waiting Time: 0\n",
      "\n",
      "\n",
      "Patient: 145\n",
      "Project: ['Reception', 'Examination room']\n",
      "Project: Reception, Start Time: 1410, End Time: 1419, Project Time: 8\n",
      "Project: Examination room, Start Time: 1420, End Time: Not Finished, Project Time: 20\n",
      "Project: Lab tests, Start Time: Not Started, End Time: Not Finished, Project Time: 0\n",
      "Project: Reexamination process, Start Time: Not Started, End Time: Not Finished, Project Time: 0\n",
      "Project: Treatment room, Start Time: Not Started, End Time: Not Finished, Project Time: 0\n",
      "Project: Emergency room, Start Time: Not Started, End Time: Not Finished, Project Time: 0\n",
      "Project: Discharge, Start Time: Not Started, End Time: Not Finished, Project Time: 0\n",
      "Total Time Spent: 28\n",
      "Total Waiting Time: 75\n",
      "Emergency Room Waiting Time: 0\n",
      "\n",
      "\n",
      "Patient: 146\n",
      "Project: ['Reception', 'Examination room']\n",
      "Project: Reception, Start Time: 1419, End Time: 1425, Project Time: 5\n",
      "Project: Examination room, Start Time: 1426, End Time: Not Finished, Project Time: 19\n",
      "Project: Lab tests, Start Time: Not Started, End Time: Not Finished, Project Time: 0\n",
      "Project: Reexamination process, Start Time: Not Started, End Time: Not Finished, Project Time: 0\n",
      "Project: Treatment room, Start Time: Not Started, End Time: Not Finished, Project Time: 0\n",
      "Project: Emergency room, Start Time: Not Started, End Time: Not Finished, Project Time: 0\n",
      "Project: Discharge, Start Time: Not Started, End Time: Not Finished, Project Time: 0\n",
      "Total Time Spent: 24\n",
      "Total Waiting Time: 69\n",
      "Emergency Room Waiting Time: 0\n",
      "\n",
      "\n",
      "Patient: 147\n",
      "Project: ['Reception', 'Examination room']\n",
      "Project: Reception, Start Time: 1425, End Time: 1433, Project Time: 7\n",
      "Project: Examination room, Start Time: 1436, End Time: Not Finished, Project Time: 11\n",
      "Project: Lab tests, Start Time: Not Started, End Time: Not Finished, Project Time: 0\n",
      "Project: Reexamination process, Start Time: Not Started, End Time: Not Finished, Project Time: 0\n",
      "Project: Treatment room, Start Time: Not Started, End Time: Not Finished, Project Time: 0\n",
      "Project: Emergency room, Start Time: Not Started, End Time: Not Finished, Project Time: 0\n",
      "Project: Discharge, Start Time: Not Started, End Time: Not Finished, Project Time: 0\n",
      "Total Time Spent: 18\n",
      "Total Waiting Time: 62\n",
      "Emergency Room Waiting Time: 0\n",
      "\n",
      "\n",
      "Patient: 148\n",
      "Project: ['Reception']\n",
      "Project: Reception, Start Time: 1433, End Time: Not Finished, Project Time: 10\n",
      "Project: Examination room, Start Time: Not Started, End Time: Not Finished, Project Time: 0\n",
      "Project: Lab tests, Start Time: Not Started, End Time: Not Finished, Project Time: 0\n",
      "Project: Reexamination process, Start Time: Not Started, End Time: Not Finished, Project Time: 0\n",
      "Project: Treatment room, Start Time: Not Started, End Time: Not Finished, Project Time: 0\n",
      "Project: Emergency room, Start Time: Not Started, End Time: Not Finished, Project Time: 0\n",
      "Project: Discharge, Start Time: Not Started, End Time: Not Finished, Project Time: 0\n",
      "Total Time Spent: 10\n",
      "Total Waiting Time: 53\n",
      "Emergency Room Waiting Time: 0\n",
      "\n",
      "\n",
      "Patient: 149\n",
      "Project: []\n",
      "Project: Reception, Start Time: Not Started, End Time: Not Finished, Project Time: 0\n",
      "Project: Examination room, Start Time: Not Started, End Time: Not Finished, Project Time: 0\n",
      "Project: Lab tests, Start Time: Not Started, End Time: Not Finished, Project Time: 0\n",
      "Project: Reexamination process, Start Time: Not Started, End Time: Not Finished, Project Time: 0\n",
      "Project: Treatment room, Start Time: Not Started, End Time: Not Finished, Project Time: 0\n",
      "Project: Emergency room, Start Time: Not Started, End Time: Not Finished, Project Time: 0\n",
      "Project: Discharge, Start Time: Not Started, End Time: Not Finished, Project Time: 0\n",
      "Total Time Spent: 0\n",
      "Total Waiting Time: 30\n",
      "Emergency Room Waiting Time: 0\n",
      "\n",
      "\n",
      "C1病人的等待时间的平均值为: 192.07 分钟\n"
     ]
    }
   ],
   "source": [
    "env = simpy.Environment()\n",
    "\n",
    "# 定义病人每小时到达率\n",
    "arrival_rates = [5.33, 5.33, 3.82, 3.82, 3.06, 3.06, 4.54, 4.54, 6.81, 6.84, 8.32, 8.32, \n",
    "                    9.01, 9.01, 8.36, 7.5, 8.32, 7.5, 8.32, 8.32, 7.5, 5.33, 3.82, 2.3]\n",
    "# arrival_rates = [i*10 for i in arrival_rates]\n",
    "arrival_time = arrival_times(arrival_rates)\n",
    "\n",
    "# 创建不同项目\n",
    "projects = [\n",
    "    Project(\"default\", \"uniform\", staff_needed=0, min_time=0, max_time=0),\n",
    "    Project(\"Reception\", \"uniform\", staff_needed=1, min_time=5, max_time=10),\n",
    "    Project(\"Examination room\", \"uniform\", staff_needed=1, min_time=10, max_time=20),\n",
    "    Project(\"Lab tests\", \"triangular\", staff_needed=1, min_time=10, mode_time=20, max_time=30),\n",
    "    Project(\"Reexamination process\", \"uniform\", staff_needed=1, min_time=7, max_time=12),\n",
    "    Project(\"Treatment room\", \"uniform\", staff_needed=1, min_time=20, max_time=30),\n",
    "    Project(\"Emergency room\", \"uniform\", staff_needed=3, min_time=60, max_time=120),\n",
    "    Project(\"Discharge\", \"uniform\", staff_needed=0, min_time=0, max_time=0)  # 出院项目\n",
    "]\n",
    "\n",
    "# 创建工作人员\n",
    "staff = Staff()\n",
    "staff.add_staff(\"default\", 0, 0)\n",
    "staff.add_staff(\"Reception\", 1, 0.4)\n",
    "staff.add_staff(\"Lab tests\", 2, 0.5)\n",
    "staff.add_staff(\"Examination room\", 3, 1.2)\n",
    "staff.add_staff(\"Reexamination process\", 3, 1.2)\n",
    "staff.add_staff(\"Treatment room\", 2, 0.3)\n",
    "staff.add_staff(\"Emergency room\", 7, 0.3)\n",
    "staff.add_staff(\"Discharge\", 0, 0)\n",
    "\n",
    "project_probabilities = {\n",
    "    \"default\": {\"Reception\": 1.0, \"Lab tests\": 0.0, \"Examination room\": 0.0,\n",
    "                \"Reexamination process\": 0.0, \"Treatment room\": 0.0, \"Emergency room\": 0.0, \"Discharge\": 0.0},\n",
    "    \"Reception\": {\"Examination room\": 1.0, \"Lab tests\": 0.0, \"Reexamination process\": 0.0,\n",
    "                \"Treatment room\": 0.0, \"Emergency room\": 0.0, \"Discharge\": 0.0},\n",
    "    \"Examination room\": {\"Treatment room\": 0.2, \"Lab tests\": 0.5, \"Discharge\": 0.05, \"Emergency room\": 0.25,\n",
    "                        \"Reception\": 0.0, \"Reexamination process\": 0.0},\n",
    "    \"Lab tests\": {\"Reexamination process\": 1.0, \"Reception\": 0.0, \"Examination room\": 0.0,\n",
    "                \"Treatment room\": 0.0, \"Emergency room\": 0.0, \"Discharge\": 0.0},\n",
    "    \"Reexamination process\": {\"Treatment room\": 0.4, \"Discharge\": 0.1, \"Emergency room\": 0.5,\n",
    "                            \"Reception\": 0.0, \"Lab tests\": 0.0, \"Examination room\": 0.0},\n",
    "    \"Treatment room\": {\"Discharge\": 1.0, \"Reception\": 0.0, \"Lab tests\": 0.0, \"Examination room\": 0.0,\n",
    "                        \"Reexamination process\": 0.0, \"Emergency room\": 0.0},\n",
    "    \"Emergency room\": {\"Discharge\": 1.0, \"Reception\": 0.0, \"Lab tests\": 0.0, \"Examination room\": 0.0,\n",
    "                        \"Reexamination process\": 0.0, \"Treatment room\": 0.0},\n",
    "    \"Discharge\": {\"Reception\": 0.0, \"Lab tests\": 0.0, \"Examination room\": 0.0,\n",
    "                \"Reexamination process\": 0.0, \"Treatment room\": 0.0, \"Emergency room\": 0.0}\n",
    "}\n",
    "emergency_department = EmergencyDepartment(env, staff, projects, project_probabilities, arrival_time)\n",
    "env.process(emergency_department.process_patient(emergency_department.patients))\n",
    "env.run(until=1440)  # 模拟24小时\n",
    "for patient in emergency_department.patients:\n",
    "    print(f\"Patient: {patient.name}\")\n",
    "    print(f\"Project: {[project.name for project in patient.completed_projects]}\")\n",
    "    for project in projects[1:]:\n",
    "        start_time = patient.start_times.get(project.name, \"Not Started\")\n",
    "        end_time = patient.end_times.get(project.name, \"Not Finished\")\n",
    "        project_time = patient.project_times.get(project.name, 0)\n",
    "        print(f\"Project: {project.name}, Start Time: {start_time}, End Time: {end_time}, Project Time: {project_time}\")\n",
    "    print(f\"Total Time Spent: {patient.total_time}\")\n",
    "    print(f\"Total Waiting Time: {patient.waiting_time}\")\n",
    "    print(f\"Emergency Room Waiting Time: {patient.emergency_room_waiting_time}\")\n",
    "    print(\"\\n\")\n",
    "waiting_times_C1 = [patient.emergency_room_waiting_time for patient in emergency_department.patients if any(project.name == \"Emergency room\" for project in patient.completed_projects)]\n",
    "average_waiting_time_C1 = calculate_average_waiting_time(waiting_times_C1)\n",
    "print(f\"C1病人的等待时间的平均值为: {average_waiting_time_C1:.2f} 分钟\")"
   ]
  },
  {
   "cell_type": "code",
   "execution_count": 165,
   "metadata": {},
   "outputs": [
    {
     "data": {
      "text/plain": [
       "([0, 5, 5, 2, 2, 5, 2, 5, 5, 6, 4, 8, 5, 7, 3, 6, 6, 4, 0, 9, 2, 4, 5, 3], 103)"
      ]
     },
     "execution_count": 165,
     "metadata": {},
     "output_type": "execute_result"
    }
   ],
   "source": [
    "# 调用函数并打印每个小时的出院人数\n",
    "discharge_per_hour = calculate_discharge_per_hour(emergency_department)\n",
    "list(discharge_per_hour.values()), sum(list(discharge_per_hour.values()))"
   ]
  },
  {
   "cell_type": "markdown",
   "metadata": {},
   "source": [
    "# To satisfy constraint (2) and constraint (4)\n",
    "Constraint (2): $f_1(x_1,x_2,x_3,x_4,x_5) \\leq B$  \n",
    "Constraint (4): $1 \\leq x_i \\leq x_{i_{max}}, \\forall i \\in \\{1,2,3,4,5\\}$"
   ]
  },
  {
   "cell_type": "code",
   "execution_count": 166,
   "metadata": {},
   "outputs": [
    {
     "name": "stdout",
     "output_type": "stream",
     "text": [
      "All staff configurations:\n",
      "[1, 1, 1, 1, 1]\n",
      "[1, 1, 1, 1, 2]\n",
      "[1, 1, 1, 1, 3]\n",
      "[1, 1, 1, 1, 4]\n",
      "[1, 1, 1, 1, 5]\n",
      "[1, 1, 1, 1, 6]\n",
      "[1, 1, 1, 1, 7]\n",
      "[1, 1, 1, 1, 8]\n",
      "[1, 1, 1, 1, 9]\n",
      "[1, 1, 1, 1, 10]\n",
      "[1, 1, 1, 1, 11]\n",
      "[1, 1, 1, 1, 12]\n",
      "[1, 1, 1, 2, 1]\n",
      "[1, 1, 1, 2, 2]\n",
      "[1, 1, 1, 2, 3]\n",
      "[1, 1, 1, 2, 4]\n",
      "[1, 1, 1, 2, 5]\n",
      "[1, 1, 1, 2, 6]\n",
      "[1, 1, 1, 2, 7]\n",
      "[1, 1, 1, 2, 8]\n",
      "[1, 1, 1, 2, 9]\n",
      "[1, 1, 1, 2, 10]\n",
      "[1, 1, 1, 2, 11]\n",
      "[1, 1, 1, 2, 12]\n",
      "[1, 1, 1, 3, 1]\n",
      "[1, 1, 1, 3, 2]\n",
      "[1, 1, 1, 3, 3]\n",
      "[1, 1, 1, 3, 4]\n",
      "[1, 1, 1, 3, 5]\n",
      "[1, 1, 1, 3, 6]\n",
      "[1, 1, 1, 3, 7]\n",
      "[1, 1, 1, 3, 8]\n",
      "[1, 1, 1, 3, 9]\n",
      "[1, 1, 1, 3, 10]\n",
      "[1, 1, 1, 3, 11]\n",
      "[1, 1, 1, 3, 12]\n",
      "[1, 1, 1, 4, 1]\n",
      "[1, 1, 1, 4, 2]\n",
      "[1, 1, 1, 4, 3]\n",
      "[1, 1, 1, 4, 4]\n",
      "[1, 1, 1, 4, 5]\n",
      "[1, 1, 1, 4, 6]\n",
      "[1, 1, 1, 4, 7]\n",
      "[1, 1, 1, 4, 8]\n",
      "[1, 1, 1, 4, 9]\n",
      "[1, 1, 1, 4, 10]\n",
      "[1, 1, 1, 4, 11]\n",
      "[1, 1, 1, 4, 12]\n",
      "[1, 1, 1, 5, 1]\n",
      "[1, 1, 1, 5, 2]\n",
      "[1, 1, 1, 5, 3]\n",
      "[1, 1, 1, 5, 4]\n",
      "[1, 1, 1, 5, 5]\n",
      "[1, 1, 1, 5, 6]\n",
      "[1, 1, 1, 5, 7]\n",
      "[1, 1, 1, 5, 8]\n",
      "[1, 1, 1, 5, 9]\n",
      "[1, 1, 1, 5, 10]\n",
      "[1, 1, 1, 5, 11]\n",
      "[1, 1, 1, 5, 12]\n",
      "[1, 1, 1, 6, 1]\n",
      "[1, 1, 1, 6, 2]\n",
      "[1, 1, 1, 6, 3]\n",
      "[1, 1, 1, 6, 4]\n",
      "[1, 1, 1, 6, 5]\n",
      "[1, 1, 1, 6, 6]\n",
      "[1, 1, 1, 6, 7]\n",
      "[1, 1, 1, 6, 8]\n",
      "[1, 1, 1, 6, 9]\n",
      "[1, 1, 1, 6, 10]\n",
      "[1, 1, 1, 6, 11]\n",
      "[1, 1, 1, 6, 12]\n",
      "[1, 1, 2, 1, 1]\n",
      "[1, 1, 2, 1, 2]\n",
      "[1, 1, 2, 1, 3]\n",
      "[1, 1, 2, 1, 4]\n",
      "[1, 1, 2, 1, 5]\n",
      "[1, 1, 2, 1, 6]\n",
      "[1, 1, 2, 1, 7]\n",
      "[1, 1, 2, 1, 8]\n",
      "[1, 1, 2, 1, 9]\n",
      "[1, 1, 2, 1, 10]\n",
      "[1, 1, 2, 1, 11]\n",
      "[1, 1, 2, 1, 12]\n",
      "[1, 1, 2, 2, 1]\n",
      "[1, 1, 2, 2, 2]\n",
      "[1, 1, 2, 2, 3]\n",
      "[1, 1, 2, 2, 4]\n",
      "[1, 1, 2, 2, 5]\n",
      "[1, 1, 2, 2, 6]\n",
      "[1, 1, 2, 2, 7]\n",
      "[1, 1, 2, 2, 8]\n",
      "[1, 1, 2, 2, 9]\n",
      "[1, 1, 2, 2, 10]\n",
      "[1, 1, 2, 2, 11]\n",
      "[1, 1, 2, 2, 12]\n",
      "[1, 1, 2, 3, 1]\n",
      "[1, 1, 2, 3, 2]\n",
      "[1, 1, 2, 3, 3]\n",
      "[1, 1, 2, 3, 4]\n",
      "[1, 1, 2, 3, 5]\n",
      "[1, 1, 2, 3, 6]\n",
      "[1, 1, 2, 3, 7]\n",
      "[1, 1, 2, 3, 8]\n",
      "[1, 1, 2, 3, 9]\n",
      "[1, 1, 2, 3, 10]\n",
      "[1, 1, 2, 3, 11]\n",
      "[1, 1, 2, 3, 12]\n",
      "[1, 1, 2, 4, 1]\n",
      "[1, 1, 2, 4, 2]\n",
      "[1, 1, 2, 4, 3]\n",
      "[1, 1, 2, 4, 4]\n",
      "[1, 1, 2, 4, 5]\n",
      "[1, 1, 2, 4, 6]\n",
      "[1, 1, 2, 4, 7]\n",
      "[1, 1, 2, 4, 8]\n",
      "[1, 1, 2, 4, 9]\n",
      "[1, 1, 2, 4, 10]\n",
      "[1, 1, 2, 4, 11]\n",
      "[1, 1, 2, 4, 12]\n",
      "[1, 1, 2, 5, 1]\n",
      "[1, 1, 2, 5, 2]\n",
      "[1, 1, 2, 5, 3]\n",
      "[1, 1, 2, 5, 4]\n",
      "[1, 1, 2, 5, 5]\n",
      "[1, 1, 2, 5, 6]\n",
      "[1, 1, 2, 5, 7]\n",
      "[1, 1, 2, 5, 8]\n",
      "[1, 1, 2, 5, 9]\n",
      "[1, 1, 2, 5, 10]\n",
      "[1, 1, 2, 5, 11]\n",
      "[1, 1, 2, 5, 12]\n",
      "[1, 1, 2, 6, 1]\n",
      "[1, 1, 2, 6, 2]\n",
      "[1, 1, 2, 6, 3]\n",
      "[1, 1, 2, 6, 4]\n",
      "[1, 1, 2, 6, 5]\n",
      "[1, 1, 2, 6, 6]\n",
      "[1, 1, 2, 6, 7]\n",
      "[1, 1, 2, 6, 8]\n",
      "[1, 1, 2, 6, 9]\n",
      "[1, 1, 2, 6, 10]\n",
      "[1, 1, 2, 6, 11]\n",
      "[1, 1, 3, 1, 1]\n",
      "[1, 1, 3, 1, 2]\n",
      "[1, 1, 3, 1, 3]\n",
      "[1, 1, 3, 1, 4]\n",
      "[1, 1, 3, 1, 5]\n",
      "[1, 1, 3, 1, 6]\n",
      "[1, 1, 3, 1, 7]\n",
      "[1, 1, 3, 1, 8]\n",
      "[1, 1, 3, 1, 9]\n",
      "[1, 1, 3, 1, 10]\n",
      "[1, 1, 3, 1, 11]\n",
      "[1, 1, 3, 1, 12]\n",
      "[1, 1, 3, 2, 1]\n",
      "[1, 1, 3, 2, 2]\n",
      "[1, 1, 3, 2, 3]\n",
      "[1, 1, 3, 2, 4]\n",
      "[1, 1, 3, 2, 5]\n",
      "[1, 1, 3, 2, 6]\n",
      "[1, 1, 3, 2, 7]\n",
      "[1, 1, 3, 2, 8]\n",
      "[1, 1, 3, 2, 9]\n",
      "[1, 1, 3, 2, 10]\n",
      "[1, 1, 3, 2, 11]\n",
      "[1, 1, 3, 2, 12]\n",
      "[1, 1, 3, 3, 1]\n",
      "[1, 1, 3, 3, 2]\n",
      "[1, 1, 3, 3, 3]\n",
      "[1, 1, 3, 3, 4]\n",
      "[1, 1, 3, 3, 5]\n",
      "[1, 1, 3, 3, 6]\n",
      "[1, 1, 3, 3, 7]\n",
      "[1, 1, 3, 3, 8]\n",
      "[1, 1, 3, 3, 9]\n",
      "[1, 1, 3, 3, 10]\n",
      "[1, 1, 3, 3, 11]\n",
      "[1, 1, 3, 3, 12]\n",
      "[1, 1, 3, 4, 1]\n",
      "[1, 1, 3, 4, 2]\n",
      "[1, 1, 3, 4, 3]\n",
      "[1, 1, 3, 4, 4]\n",
      "[1, 1, 3, 4, 5]\n",
      "[1, 1, 3, 4, 6]\n",
      "[1, 1, 3, 4, 7]\n",
      "[1, 1, 3, 4, 8]\n",
      "[1, 1, 3, 4, 9]\n",
      "[1, 1, 3, 4, 10]\n",
      "[1, 1, 3, 4, 11]\n",
      "[1, 1, 3, 5, 1]\n",
      "[1, 1, 3, 5, 2]\n",
      "[1, 1, 3, 5, 3]\n",
      "[1, 1, 3, 5, 4]\n",
      "[1, 1, 3, 5, 5]\n",
      "[1, 1, 3, 5, 6]\n",
      "[1, 1, 3, 5, 7]\n",
      "[1, 1, 3, 5, 8]\n",
      "[1, 1, 3, 5, 9]\n",
      "[1, 1, 3, 5, 10]\n",
      "[1, 1, 3, 6, 1]\n",
      "[1, 1, 3, 6, 2]\n",
      "[1, 1, 3, 6, 3]\n",
      "[1, 1, 3, 6, 4]\n",
      "[1, 1, 3, 6, 5]\n",
      "[1, 1, 3, 6, 6]\n",
      "[1, 1, 3, 6, 7]\n",
      "[1, 1, 3, 6, 8]\n",
      "[1, 1, 3, 6, 9]\n",
      "[1, 1, 4, 1, 1]\n",
      "[1, 1, 4, 1, 2]\n",
      "[1, 1, 4, 1, 3]\n",
      "[1, 1, 4, 1, 4]\n",
      "[1, 1, 4, 1, 5]\n",
      "[1, 1, 4, 1, 6]\n",
      "[1, 1, 4, 1, 7]\n",
      "[1, 1, 4, 1, 8]\n",
      "[1, 1, 4, 1, 9]\n",
      "[1, 1, 4, 1, 10]\n",
      "[1, 1, 4, 1, 11]\n",
      "[1, 1, 4, 1, 12]\n",
      "[1, 1, 4, 2, 1]\n",
      "[1, 1, 4, 2, 2]\n",
      "[1, 1, 4, 2, 3]\n",
      "[1, 1, 4, 2, 4]\n",
      "[1, 1, 4, 2, 5]\n",
      "[1, 1, 4, 2, 6]\n",
      "[1, 1, 4, 2, 7]\n",
      "[1, 1, 4, 2, 8]\n",
      "[1, 1, 4, 2, 9]\n",
      "[1, 1, 4, 2, 10]\n",
      "[1, 1, 4, 2, 11]\n",
      "[1, 1, 4, 3, 1]\n",
      "[1, 1, 4, 3, 2]\n",
      "[1, 1, 4, 3, 3]\n",
      "[1, 1, 4, 3, 4]\n",
      "[1, 1, 4, 3, 5]\n",
      "[1, 1, 4, 3, 6]\n",
      "[1, 1, 4, 3, 7]\n",
      "[1, 1, 4, 3, 8]\n",
      "[1, 1, 4, 3, 9]\n",
      "[1, 1, 4, 3, 10]\n",
      "[1, 1, 4, 4, 1]\n",
      "[1, 1, 4, 4, 2]\n",
      "[1, 1, 4, 4, 3]\n",
      "[1, 1, 4, 4, 4]\n",
      "[1, 1, 4, 4, 5]\n",
      "[1, 1, 4, 4, 6]\n",
      "[1, 1, 4, 4, 7]\n",
      "[1, 1, 4, 4, 8]\n",
      "[1, 1, 4, 4, 9]\n",
      "[1, 1, 4, 5, 1]\n",
      "[1, 1, 4, 5, 2]\n",
      "[1, 1, 4, 5, 3]\n",
      "[1, 1, 4, 5, 4]\n",
      "[1, 1, 4, 5, 5]\n",
      "[1, 1, 4, 5, 6]\n",
      "[1, 1, 4, 5, 7]\n",
      "[1, 1, 4, 5, 8]\n",
      "[1, 1, 4, 6, 1]\n",
      "[1, 1, 4, 6, 2]\n",
      "[1, 1, 4, 6, 3]\n",
      "[1, 1, 4, 6, 4]\n",
      "[1, 1, 4, 6, 5]\n",
      "[1, 1, 4, 6, 6]\n",
      "[1, 1, 4, 6, 7]\n",
      "[1, 1, 5, 1, 1]\n",
      "[1, 1, 5, 1, 2]\n",
      "[1, 1, 5, 1, 3]\n",
      "[1, 1, 5, 1, 4]\n",
      "[1, 1, 5, 1, 5]\n",
      "[1, 1, 5, 1, 6]\n",
      "[1, 1, 5, 1, 7]\n",
      "[1, 1, 5, 1, 8]\n",
      "[1, 1, 5, 1, 9]\n",
      "[1, 1, 5, 1, 10]\n",
      "[1, 1, 5, 1, 11]\n",
      "[1, 1, 5, 2, 1]\n",
      "[1, 1, 5, 2, 2]\n",
      "[1, 1, 5, 2, 3]\n",
      "[1, 1, 5, 2, 4]\n",
      "[1, 1, 5, 2, 5]\n",
      "[1, 1, 5, 2, 6]\n",
      "[1, 1, 5, 2, 7]\n",
      "[1, 1, 5, 2, 8]\n",
      "[1, 1, 5, 2, 9]\n",
      "[1, 1, 5, 2, 10]\n",
      "[1, 1, 5, 3, 1]\n",
      "[1, 1, 5, 3, 2]\n",
      "[1, 1, 5, 3, 3]\n",
      "[1, 1, 5, 3, 4]\n",
      "[1, 1, 5, 3, 5]\n",
      "[1, 1, 5, 3, 6]\n",
      "[1, 1, 5, 3, 7]\n",
      "[1, 1, 5, 3, 8]\n",
      "[1, 1, 5, 3, 9]\n",
      "[1, 1, 5, 4, 1]\n",
      "[1, 1, 5, 4, 2]\n",
      "[1, 1, 5, 4, 3]\n",
      "[1, 1, 5, 4, 4]\n",
      "[1, 1, 5, 4, 5]\n",
      "[1, 1, 5, 4, 6]\n",
      "[1, 1, 5, 4, 7]\n",
      "[1, 1, 5, 4, 8]\n",
      "[1, 1, 5, 5, 1]\n",
      "[1, 1, 5, 5, 2]\n",
      "[1, 1, 5, 5, 3]\n",
      "[1, 1, 5, 5, 4]\n",
      "[1, 1, 5, 5, 5]\n",
      "[1, 1, 5, 5, 6]\n",
      "[1, 1, 5, 5, 7]\n",
      "[1, 1, 5, 6, 1]\n",
      "[1, 1, 5, 6, 2]\n",
      "[1, 1, 5, 6, 3]\n",
      "[1, 1, 5, 6, 4]\n",
      "[1, 1, 5, 6, 5]\n",
      "[1, 1, 5, 6, 6]\n",
      "[1, 2, 1, 1, 1]\n",
      "[1, 2, 1, 1, 2]\n",
      "[1, 2, 1, 1, 3]\n",
      "[1, 2, 1, 1, 4]\n",
      "[1, 2, 1, 1, 5]\n",
      "[1, 2, 1, 1, 6]\n",
      "[1, 2, 1, 1, 7]\n",
      "[1, 2, 1, 1, 8]\n",
      "[1, 2, 1, 1, 9]\n",
      "[1, 2, 1, 1, 10]\n",
      "[1, 2, 1, 1, 11]\n",
      "[1, 2, 1, 1, 12]\n",
      "[1, 2, 1, 2, 1]\n",
      "[1, 2, 1, 2, 2]\n",
      "[1, 2, 1, 2, 3]\n",
      "[1, 2, 1, 2, 4]\n",
      "[1, 2, 1, 2, 5]\n",
      "[1, 2, 1, 2, 6]\n",
      "[1, 2, 1, 2, 7]\n",
      "[1, 2, 1, 2, 8]\n",
      "[1, 2, 1, 2, 9]\n",
      "[1, 2, 1, 2, 10]\n",
      "[1, 2, 1, 2, 11]\n",
      "[1, 2, 1, 2, 12]\n",
      "[1, 2, 1, 3, 1]\n",
      "[1, 2, 1, 3, 2]\n",
      "[1, 2, 1, 3, 3]\n",
      "[1, 2, 1, 3, 4]\n",
      "[1, 2, 1, 3, 5]\n",
      "[1, 2, 1, 3, 6]\n",
      "[1, 2, 1, 3, 7]\n",
      "[1, 2, 1, 3, 8]\n",
      "[1, 2, 1, 3, 9]\n",
      "[1, 2, 1, 3, 10]\n",
      "[1, 2, 1, 3, 11]\n",
      "[1, 2, 1, 4, 1]\n",
      "[1, 2, 1, 4, 2]\n",
      "[1, 2, 1, 4, 3]\n",
      "[1, 2, 1, 4, 4]\n",
      "[1, 2, 1, 4, 5]\n",
      "[1, 2, 1, 4, 6]\n",
      "[1, 2, 1, 4, 7]\n",
      "[1, 2, 1, 4, 8]\n",
      "[1, 2, 1, 4, 9]\n",
      "[1, 2, 1, 4, 10]\n",
      "[1, 2, 1, 5, 1]\n",
      "[1, 2, 1, 5, 2]\n",
      "[1, 2, 1, 5, 3]\n",
      "[1, 2, 1, 5, 4]\n",
      "[1, 2, 1, 5, 5]\n",
      "[1, 2, 1, 5, 6]\n",
      "[1, 2, 1, 5, 7]\n",
      "[1, 2, 1, 5, 8]\n",
      "[1, 2, 1, 5, 9]\n",
      "[1, 2, 1, 6, 1]\n",
      "[1, 2, 1, 6, 2]\n",
      "[1, 2, 1, 6, 3]\n",
      "[1, 2, 1, 6, 4]\n",
      "[1, 2, 1, 6, 5]\n",
      "[1, 2, 1, 6, 6]\n",
      "[1, 2, 1, 6, 7]\n",
      "[1, 2, 1, 6, 8]\n",
      "[1, 2, 2, 1, 1]\n",
      "[1, 2, 2, 1, 2]\n",
      "[1, 2, 2, 1, 3]\n",
      "[1, 2, 2, 1, 4]\n",
      "[1, 2, 2, 1, 5]\n",
      "[1, 2, 2, 1, 6]\n",
      "[1, 2, 2, 1, 7]\n",
      "[1, 2, 2, 1, 8]\n",
      "[1, 2, 2, 1, 9]\n",
      "[1, 2, 2, 1, 10]\n",
      "[1, 2, 2, 1, 11]\n",
      "[1, 2, 2, 1, 12]\n",
      "[1, 2, 2, 2, 1]\n",
      "[1, 2, 2, 2, 2]\n",
      "[1, 2, 2, 2, 3]\n",
      "[1, 2, 2, 2, 4]\n",
      "[1, 2, 2, 2, 5]\n",
      "[1, 2, 2, 2, 6]\n",
      "[1, 2, 2, 2, 7]\n",
      "[1, 2, 2, 2, 8]\n",
      "[1, 2, 2, 2, 9]\n",
      "[1, 2, 2, 2, 10]\n",
      "[1, 2, 2, 2, 11]\n",
      "[1, 2, 2, 3, 1]\n",
      "[1, 2, 2, 3, 2]\n",
      "[1, 2, 2, 3, 3]\n",
      "[1, 2, 2, 3, 4]\n",
      "[1, 2, 2, 3, 5]\n",
      "[1, 2, 2, 3, 6]\n",
      "[1, 2, 2, 3, 7]\n",
      "[1, 2, 2, 3, 8]\n",
      "[1, 2, 2, 3, 9]\n",
      "[1, 2, 2, 3, 10]\n",
      "[1, 2, 2, 4, 1]\n",
      "[1, 2, 2, 4, 2]\n",
      "[1, 2, 2, 4, 3]\n",
      "[1, 2, 2, 4, 4]\n",
      "[1, 2, 2, 4, 5]\n",
      "[1, 2, 2, 4, 6]\n",
      "[1, 2, 2, 4, 7]\n",
      "[1, 2, 2, 4, 8]\n",
      "[1, 2, 2, 4, 9]\n",
      "[1, 2, 2, 5, 1]\n",
      "[1, 2, 2, 5, 2]\n",
      "[1, 2, 2, 5, 3]\n",
      "[1, 2, 2, 5, 4]\n",
      "[1, 2, 2, 5, 5]\n",
      "[1, 2, 2, 5, 6]\n",
      "[1, 2, 2, 5, 7]\n",
      "[1, 2, 2, 5, 8]\n",
      "[1, 2, 2, 6, 1]\n",
      "[1, 2, 2, 6, 2]\n",
      "[1, 2, 2, 6, 3]\n",
      "[1, 2, 2, 6, 4]\n",
      "[1, 2, 2, 6, 5]\n",
      "[1, 2, 2, 6, 6]\n",
      "[1, 2, 2, 6, 7]\n",
      "[1, 2, 3, 1, 1]\n",
      "[1, 2, 3, 1, 2]\n",
      "[1, 2, 3, 1, 3]\n",
      "[1, 2, 3, 1, 4]\n",
      "[1, 2, 3, 1, 5]\n",
      "[1, 2, 3, 1, 6]\n",
      "[1, 2, 3, 1, 7]\n",
      "[1, 2, 3, 1, 8]\n",
      "[1, 2, 3, 1, 9]\n",
      "[1, 2, 3, 1, 10]\n",
      "[1, 2, 3, 2, 1]\n",
      "[1, 2, 3, 2, 2]\n",
      "[1, 2, 3, 2, 3]\n",
      "[1, 2, 3, 2, 4]\n",
      "[1, 2, 3, 2, 5]\n",
      "[1, 2, 3, 2, 6]\n",
      "[1, 2, 3, 2, 7]\n",
      "[1, 2, 3, 2, 8]\n",
      "[1, 2, 3, 2, 9]\n",
      "[1, 2, 3, 3, 1]\n",
      "[1, 2, 3, 3, 2]\n",
      "[1, 2, 3, 3, 3]\n",
      "[1, 2, 3, 3, 4]\n",
      "[1, 2, 3, 3, 5]\n",
      "[1, 2, 3, 3, 6]\n",
      "[1, 2, 3, 3, 7]\n",
      "[1, 2, 3, 3, 8]\n",
      "[1, 2, 3, 4, 1]\n",
      "[1, 2, 3, 4, 2]\n",
      "[1, 2, 3, 4, 3]\n",
      "[1, 2, 3, 4, 4]\n",
      "[1, 2, 3, 4, 5]\n",
      "[1, 2, 3, 4, 6]\n",
      "[1, 2, 3, 4, 7]\n",
      "[1, 2, 3, 5, 1]\n",
      "[1, 2, 3, 5, 2]\n",
      "[1, 2, 3, 5, 3]\n",
      "[1, 2, 3, 5, 4]\n",
      "[1, 2, 3, 5, 5]\n",
      "[1, 2, 3, 5, 6]\n",
      "[1, 2, 3, 6, 1]\n",
      "[1, 2, 3, 6, 2]\n",
      "[1, 2, 3, 6, 3]\n",
      "[1, 2, 3, 6, 4]\n",
      "[1, 2, 3, 6, 5]\n",
      "[1, 2, 4, 1, 1]\n",
      "[1, 2, 4, 1, 2]\n",
      "[1, 2, 4, 1, 3]\n",
      "[1, 2, 4, 1, 4]\n",
      "[1, 2, 4, 1, 5]\n",
      "[1, 2, 4, 1, 6]\n",
      "[1, 2, 4, 1, 7]\n",
      "[1, 2, 4, 1, 8]\n",
      "[1, 2, 4, 2, 1]\n",
      "[1, 2, 4, 2, 2]\n",
      "[1, 2, 4, 2, 3]\n",
      "[1, 2, 4, 2, 4]\n",
      "[1, 2, 4, 2, 5]\n",
      "[1, 2, 4, 2, 6]\n",
      "[1, 2, 4, 2, 7]\n",
      "[1, 2, 4, 3, 1]\n",
      "[1, 2, 4, 3, 2]\n",
      "[1, 2, 4, 3, 3]\n",
      "[1, 2, 4, 3, 4]\n",
      "[1, 2, 4, 3, 5]\n",
      "[1, 2, 4, 3, 6]\n",
      "[1, 2, 4, 4, 1]\n",
      "[1, 2, 4, 4, 2]\n",
      "[1, 2, 4, 4, 3]\n",
      "[1, 2, 4, 4, 4]\n",
      "[1, 2, 4, 4, 5]\n",
      "[1, 2, 4, 5, 1]\n",
      "[1, 2, 4, 5, 2]\n",
      "[1, 2, 4, 5, 3]\n",
      "[1, 2, 4, 5, 4]\n",
      "[1, 2, 4, 6, 1]\n",
      "[1, 2, 4, 6, 2]\n",
      "[1, 2, 4, 6, 3]\n",
      "[1, 2, 5, 1, 1]\n",
      "[1, 2, 5, 1, 2]\n",
      "[1, 2, 5, 1, 3]\n",
      "[1, 2, 5, 1, 4]\n",
      "[1, 2, 5, 1, 5]\n",
      "[1, 2, 5, 1, 6]\n",
      "[1, 2, 5, 1, 7]\n",
      "[1, 2, 5, 2, 1]\n",
      "[1, 2, 5, 2, 2]\n",
      "[1, 2, 5, 2, 3]\n",
      "[1, 2, 5, 2, 4]\n",
      "[1, 2, 5, 2, 5]\n",
      "[1, 2, 5, 2, 6]\n",
      "[1, 2, 5, 3, 1]\n",
      "[1, 2, 5, 3, 2]\n",
      "[1, 2, 5, 3, 3]\n",
      "[1, 2, 5, 3, 4]\n",
      "[1, 2, 5, 3, 5]\n",
      "[1, 2, 5, 4, 1]\n",
      "[1, 2, 5, 4, 2]\n",
      "[1, 2, 5, 4, 3]\n",
      "[1, 2, 5, 4, 4]\n",
      "[1, 2, 5, 5, 1]\n",
      "[1, 2, 5, 5, 2]\n",
      "[1, 2, 5, 5, 3]\n",
      "[1, 2, 5, 6, 1]\n",
      "[1, 2, 5, 6, 2]\n",
      "[1, 3, 1, 1, 1]\n",
      "[1, 3, 1, 1, 2]\n",
      "[1, 3, 1, 1, 3]\n",
      "[1, 3, 1, 1, 4]\n",
      "[1, 3, 1, 1, 5]\n",
      "[1, 3, 1, 1, 6]\n",
      "[1, 3, 1, 1, 7]\n",
      "[1, 3, 1, 1, 8]\n",
      "[1, 3, 1, 1, 9]\n",
      "[1, 3, 1, 2, 1]\n",
      "[1, 3, 1, 2, 2]\n",
      "[1, 3, 1, 2, 3]\n",
      "[1, 3, 1, 2, 4]\n",
      "[1, 3, 1, 2, 5]\n",
      "[1, 3, 1, 2, 6]\n",
      "[1, 3, 1, 2, 7]\n",
      "[1, 3, 1, 2, 8]\n",
      "[1, 3, 1, 3, 1]\n",
      "[1, 3, 1, 3, 2]\n",
      "[1, 3, 1, 3, 3]\n",
      "[1, 3, 1, 3, 4]\n",
      "[1, 3, 1, 3, 5]\n",
      "[1, 3, 1, 3, 6]\n",
      "[1, 3, 1, 3, 7]\n",
      "[1, 3, 1, 4, 1]\n",
      "[1, 3, 1, 4, 2]\n",
      "[1, 3, 1, 4, 3]\n",
      "[1, 3, 1, 4, 4]\n",
      "[1, 3, 1, 4, 5]\n",
      "[1, 3, 1, 4, 6]\n",
      "[1, 3, 1, 5, 1]\n",
      "[1, 3, 1, 5, 2]\n",
      "[1, 3, 1, 5, 3]\n",
      "[1, 3, 1, 5, 4]\n",
      "[1, 3, 1, 5, 5]\n",
      "[1, 3, 1, 6, 1]\n",
      "[1, 3, 1, 6, 2]\n",
      "[1, 3, 1, 6, 3]\n",
      "[1, 3, 1, 6, 4]\n",
      "[1, 3, 2, 1, 1]\n",
      "[1, 3, 2, 1, 2]\n",
      "[1, 3, 2, 1, 3]\n",
      "[1, 3, 2, 1, 4]\n",
      "[1, 3, 2, 1, 5]\n",
      "[1, 3, 2, 1, 6]\n",
      "[1, 3, 2, 1, 7]\n",
      "[1, 3, 2, 1, 8]\n",
      "[1, 3, 2, 2, 1]\n",
      "[1, 3, 2, 2, 2]\n",
      "[1, 3, 2, 2, 3]\n",
      "[1, 3, 2, 2, 4]\n",
      "[1, 3, 2, 2, 5]\n",
      "[1, 3, 2, 2, 6]\n",
      "[1, 3, 2, 2, 7]\n",
      "[1, 3, 2, 3, 1]\n",
      "[1, 3, 2, 3, 2]\n",
      "[1, 3, 2, 3, 3]\n",
      "[1, 3, 2, 3, 4]\n",
      "[1, 3, 2, 3, 5]\n",
      "[1, 3, 2, 3, 6]\n",
      "[1, 3, 2, 4, 1]\n",
      "[1, 3, 2, 4, 2]\n",
      "[1, 3, 2, 4, 3]\n",
      "[1, 3, 2, 4, 4]\n",
      "[1, 3, 2, 4, 5]\n",
      "[1, 3, 2, 5, 1]\n",
      "[1, 3, 2, 5, 2]\n",
      "[1, 3, 2, 5, 3]\n",
      "[1, 3, 2, 5, 4]\n",
      "[1, 3, 2, 6, 1]\n",
      "[1, 3, 2, 6, 2]\n",
      "[1, 3, 2, 6, 3]\n",
      "[1, 3, 3, 1, 1]\n",
      "[1, 3, 3, 1, 2]\n",
      "[1, 3, 3, 1, 3]\n",
      "[1, 3, 3, 1, 4]\n",
      "[1, 3, 3, 1, 5]\n",
      "[1, 3, 3, 1, 6]\n",
      "[1, 3, 3, 2, 1]\n",
      "[1, 3, 3, 2, 2]\n",
      "[1, 3, 3, 2, 3]\n",
      "[1, 3, 3, 2, 4]\n",
      "[1, 3, 3, 2, 5]\n",
      "[1, 3, 3, 3, 1]\n",
      "[1, 3, 3, 3, 2]\n",
      "[1, 3, 3, 3, 3]\n",
      "[1, 3, 3, 3, 4]\n",
      "[1, 3, 3, 4, 1]\n",
      "[1, 3, 3, 4, 2]\n",
      "[1, 3, 3, 4, 3]\n",
      "[1, 3, 3, 5, 1]\n",
      "[1, 3, 3, 5, 2]\n",
      "[1, 3, 3, 6, 1]\n",
      "[1, 3, 4, 1, 1]\n",
      "[1, 3, 4, 1, 2]\n",
      "[1, 3, 4, 1, 3]\n",
      "[1, 3, 4, 1, 4]\n",
      "[1, 3, 4, 2, 1]\n",
      "[1, 3, 4, 2, 2]\n",
      "[1, 3, 4, 2, 3]\n",
      "[1, 3, 4, 3, 1]\n",
      "[1, 3, 4, 3, 2]\n",
      "[1, 3, 4, 4, 1]\n",
      "[1, 3, 5, 1, 1]\n",
      "[1, 3, 5, 1, 2]\n",
      "[1, 3, 5, 1, 3]\n",
      "[1, 3, 5, 2, 1]\n",
      "[1, 3, 5, 2, 2]\n",
      "[1, 3, 5, 3, 1]\n",
      "[1, 4, 1, 1, 1]\n",
      "[1, 4, 1, 1, 2]\n",
      "[1, 4, 1, 1, 3]\n",
      "[1, 4, 1, 1, 4]\n",
      "[1, 4, 1, 1, 5]\n",
      "[1, 4, 1, 2, 1]\n",
      "[1, 4, 1, 2, 2]\n",
      "[1, 4, 1, 2, 3]\n",
      "[1, 4, 1, 2, 4]\n",
      "[1, 4, 1, 3, 1]\n",
      "[1, 4, 1, 3, 2]\n",
      "[1, 4, 1, 3, 3]\n",
      "[1, 4, 1, 4, 1]\n",
      "[1, 4, 1, 4, 2]\n",
      "[1, 4, 1, 5, 1]\n",
      "[1, 4, 2, 1, 1]\n",
      "[1, 4, 2, 1, 2]\n",
      "[1, 4, 2, 1, 3]\n",
      "[1, 4, 2, 1, 4]\n",
      "[1, 4, 2, 2, 1]\n",
      "[1, 4, 2, 2, 2]\n",
      "[1, 4, 2, 2, 3]\n",
      "[1, 4, 2, 3, 1]\n",
      "[1, 4, 2, 3, 2]\n",
      "[1, 4, 2, 4, 1]\n",
      "[1, 4, 3, 1, 1]\n",
      "[1, 4, 3, 1, 2]\n",
      "[1, 4, 3, 2, 1]\n",
      "[2, 1, 1, 1, 1]\n",
      "[2, 1, 1, 1, 2]\n",
      "[2, 1, 1, 1, 3]\n",
      "[2, 1, 1, 1, 4]\n",
      "[2, 1, 1, 1, 5]\n",
      "[2, 1, 1, 1, 6]\n",
      "[2, 1, 1, 1, 7]\n",
      "[2, 1, 1, 1, 8]\n",
      "[2, 1, 1, 1, 9]\n",
      "[2, 1, 1, 1, 10]\n",
      "[2, 1, 1, 1, 11]\n",
      "[2, 1, 1, 1, 12]\n",
      "[2, 1, 1, 2, 1]\n",
      "[2, 1, 1, 2, 2]\n",
      "[2, 1, 1, 2, 3]\n",
      "[2, 1, 1, 2, 4]\n",
      "[2, 1, 1, 2, 5]\n",
      "[2, 1, 1, 2, 6]\n",
      "[2, 1, 1, 2, 7]\n",
      "[2, 1, 1, 2, 8]\n",
      "[2, 1, 1, 2, 9]\n",
      "[2, 1, 1, 2, 10]\n",
      "[2, 1, 1, 2, 11]\n",
      "[2, 1, 1, 2, 12]\n",
      "[2, 1, 1, 3, 1]\n",
      "[2, 1, 1, 3, 2]\n",
      "[2, 1, 1, 3, 3]\n",
      "[2, 1, 1, 3, 4]\n",
      "[2, 1, 1, 3, 5]\n",
      "[2, 1, 1, 3, 6]\n",
      "[2, 1, 1, 3, 7]\n",
      "[2, 1, 1, 3, 8]\n",
      "[2, 1, 1, 3, 9]\n",
      "[2, 1, 1, 3, 10]\n",
      "[2, 1, 1, 3, 11]\n",
      "[2, 1, 1, 3, 12]\n",
      "[2, 1, 1, 4, 1]\n",
      "[2, 1, 1, 4, 2]\n",
      "[2, 1, 1, 4, 3]\n",
      "[2, 1, 1, 4, 4]\n",
      "[2, 1, 1, 4, 5]\n",
      "[2, 1, 1, 4, 6]\n",
      "[2, 1, 1, 4, 7]\n",
      "[2, 1, 1, 4, 8]\n",
      "[2, 1, 1, 4, 9]\n",
      "[2, 1, 1, 4, 10]\n",
      "[2, 1, 1, 4, 11]\n",
      "[2, 1, 1, 4, 12]\n",
      "[2, 1, 1, 5, 1]\n",
      "[2, 1, 1, 5, 2]\n",
      "[2, 1, 1, 5, 3]\n",
      "[2, 1, 1, 5, 4]\n",
      "[2, 1, 1, 5, 5]\n",
      "[2, 1, 1, 5, 6]\n",
      "[2, 1, 1, 5, 7]\n",
      "[2, 1, 1, 5, 8]\n",
      "[2, 1, 1, 5, 9]\n",
      "[2, 1, 1, 5, 10]\n",
      "[2, 1, 1, 5, 11]\n",
      "[2, 1, 1, 5, 12]\n",
      "[2, 1, 1, 6, 1]\n",
      "[2, 1, 1, 6, 2]\n",
      "[2, 1, 1, 6, 3]\n",
      "[2, 1, 1, 6, 4]\n",
      "[2, 1, 1, 6, 5]\n",
      "[2, 1, 1, 6, 6]\n",
      "[2, 1, 1, 6, 7]\n",
      "[2, 1, 1, 6, 8]\n",
      "[2, 1, 1, 6, 9]\n",
      "[2, 1, 1, 6, 10]\n",
      "[2, 1, 1, 6, 11]\n",
      "[2, 1, 2, 1, 1]\n",
      "[2, 1, 2, 1, 2]\n",
      "[2, 1, 2, 1, 3]\n",
      "[2, 1, 2, 1, 4]\n",
      "[2, 1, 2, 1, 5]\n",
      "[2, 1, 2, 1, 6]\n",
      "[2, 1, 2, 1, 7]\n",
      "[2, 1, 2, 1, 8]\n",
      "[2, 1, 2, 1, 9]\n",
      "[2, 1, 2, 1, 10]\n",
      "[2, 1, 2, 1, 11]\n",
      "[2, 1, 2, 1, 12]\n",
      "[2, 1, 2, 2, 1]\n",
      "[2, 1, 2, 2, 2]\n",
      "[2, 1, 2, 2, 3]\n",
      "[2, 1, 2, 2, 4]\n",
      "[2, 1, 2, 2, 5]\n",
      "[2, 1, 2, 2, 6]\n",
      "[2, 1, 2, 2, 7]\n",
      "[2, 1, 2, 2, 8]\n",
      "[2, 1, 2, 2, 9]\n",
      "[2, 1, 2, 2, 10]\n",
      "[2, 1, 2, 2, 11]\n",
      "[2, 1, 2, 2, 12]\n",
      "[2, 1, 2, 3, 1]\n",
      "[2, 1, 2, 3, 2]\n",
      "[2, 1, 2, 3, 3]\n",
      "[2, 1, 2, 3, 4]\n",
      "[2, 1, 2, 3, 5]\n",
      "[2, 1, 2, 3, 6]\n",
      "[2, 1, 2, 3, 7]\n",
      "[2, 1, 2, 3, 8]\n",
      "[2, 1, 2, 3, 9]\n",
      "[2, 1, 2, 3, 10]\n",
      "[2, 1, 2, 3, 11]\n",
      "[2, 1, 2, 3, 12]\n",
      "[2, 1, 2, 4, 1]\n",
      "[2, 1, 2, 4, 2]\n",
      "[2, 1, 2, 4, 3]\n",
      "[2, 1, 2, 4, 4]\n",
      "[2, 1, 2, 4, 5]\n",
      "[2, 1, 2, 4, 6]\n",
      "[2, 1, 2, 4, 7]\n",
      "[2, 1, 2, 4, 8]\n",
      "[2, 1, 2, 4, 9]\n",
      "[2, 1, 2, 4, 10]\n",
      "[2, 1, 2, 4, 11]\n",
      "[2, 1, 2, 5, 1]\n",
      "[2, 1, 2, 5, 2]\n",
      "[2, 1, 2, 5, 3]\n",
      "[2, 1, 2, 5, 4]\n",
      "[2, 1, 2, 5, 5]\n",
      "[2, 1, 2, 5, 6]\n",
      "[2, 1, 2, 5, 7]\n",
      "[2, 1, 2, 5, 8]\n",
      "[2, 1, 2, 5, 9]\n",
      "[2, 1, 2, 5, 10]\n",
      "[2, 1, 2, 6, 1]\n",
      "[2, 1, 2, 6, 2]\n",
      "[2, 1, 2, 6, 3]\n",
      "[2, 1, 2, 6, 4]\n",
      "[2, 1, 2, 6, 5]\n",
      "[2, 1, 2, 6, 6]\n",
      "[2, 1, 2, 6, 7]\n",
      "[2, 1, 2, 6, 8]\n",
      "[2, 1, 2, 6, 9]\n",
      "[2, 1, 3, 1, 1]\n",
      "[2, 1, 3, 1, 2]\n",
      "[2, 1, 3, 1, 3]\n",
      "[2, 1, 3, 1, 4]\n",
      "[2, 1, 3, 1, 5]\n",
      "[2, 1, 3, 1, 6]\n",
      "[2, 1, 3, 1, 7]\n",
      "[2, 1, 3, 1, 8]\n",
      "[2, 1, 3, 1, 9]\n",
      "[2, 1, 3, 1, 10]\n",
      "[2, 1, 3, 1, 11]\n",
      "[2, 1, 3, 1, 12]\n",
      "[2, 1, 3, 2, 1]\n",
      "[2, 1, 3, 2, 2]\n",
      "[2, 1, 3, 2, 3]\n",
      "[2, 1, 3, 2, 4]\n",
      "[2, 1, 3, 2, 5]\n",
      "[2, 1, 3, 2, 6]\n",
      "[2, 1, 3, 2, 7]\n",
      "[2, 1, 3, 2, 8]\n",
      "[2, 1, 3, 2, 9]\n",
      "[2, 1, 3, 2, 10]\n",
      "[2, 1, 3, 2, 11]\n",
      "[2, 1, 3, 2, 12]\n",
      "[2, 1, 3, 3, 1]\n",
      "[2, 1, 3, 3, 2]\n",
      "[2, 1, 3, 3, 3]\n",
      "[2, 1, 3, 3, 4]\n",
      "[2, 1, 3, 3, 5]\n",
      "[2, 1, 3, 3, 6]\n",
      "[2, 1, 3, 3, 7]\n",
      "[2, 1, 3, 3, 8]\n",
      "[2, 1, 3, 3, 9]\n",
      "[2, 1, 3, 3, 10]\n",
      "[2, 1, 3, 3, 11]\n",
      "[2, 1, 3, 4, 1]\n",
      "[2, 1, 3, 4, 2]\n",
      "[2, 1, 3, 4, 3]\n",
      "[2, 1, 3, 4, 4]\n",
      "[2, 1, 3, 4, 5]\n",
      "[2, 1, 3, 4, 6]\n",
      "[2, 1, 3, 4, 7]\n",
      "[2, 1, 3, 4, 8]\n",
      "[2, 1, 3, 4, 9]\n",
      "[2, 1, 3, 4, 10]\n",
      "[2, 1, 3, 5, 1]\n",
      "[2, 1, 3, 5, 2]\n",
      "[2, 1, 3, 5, 3]\n",
      "[2, 1, 3, 5, 4]\n",
      "[2, 1, 3, 5, 5]\n",
      "[2, 1, 3, 5, 6]\n",
      "[2, 1, 3, 5, 7]\n",
      "[2, 1, 3, 5, 8]\n",
      "[2, 1, 3, 5, 9]\n",
      "[2, 1, 3, 6, 1]\n",
      "[2, 1, 3, 6, 2]\n",
      "[2, 1, 3, 6, 3]\n",
      "[2, 1, 3, 6, 4]\n",
      "[2, 1, 3, 6, 5]\n",
      "[2, 1, 3, 6, 6]\n",
      "[2, 1, 3, 6, 7]\n",
      "[2, 1, 3, 6, 8]\n",
      "[2, 1, 4, 1, 1]\n",
      "[2, 1, 4, 1, 2]\n",
      "[2, 1, 4, 1, 3]\n",
      "[2, 1, 4, 1, 4]\n",
      "[2, 1, 4, 1, 5]\n",
      "[2, 1, 4, 1, 6]\n",
      "[2, 1, 4, 1, 7]\n",
      "[2, 1, 4, 1, 8]\n",
      "[2, 1, 4, 1, 9]\n",
      "[2, 1, 4, 1, 10]\n",
      "[2, 1, 4, 1, 11]\n",
      "[2, 1, 4, 2, 1]\n",
      "[2, 1, 4, 2, 2]\n",
      "[2, 1, 4, 2, 3]\n",
      "[2, 1, 4, 2, 4]\n",
      "[2, 1, 4, 2, 5]\n",
      "[2, 1, 4, 2, 6]\n",
      "[2, 1, 4, 2, 7]\n",
      "[2, 1, 4, 2, 8]\n",
      "[2, 1, 4, 2, 9]\n",
      "[2, 1, 4, 2, 10]\n",
      "[2, 1, 4, 3, 1]\n",
      "[2, 1, 4, 3, 2]\n",
      "[2, 1, 4, 3, 3]\n",
      "[2, 1, 4, 3, 4]\n",
      "[2, 1, 4, 3, 5]\n",
      "[2, 1, 4, 3, 6]\n",
      "[2, 1, 4, 3, 7]\n",
      "[2, 1, 4, 3, 8]\n",
      "[2, 1, 4, 3, 9]\n",
      "[2, 1, 4, 4, 1]\n",
      "[2, 1, 4, 4, 2]\n",
      "[2, 1, 4, 4, 3]\n",
      "[2, 1, 4, 4, 4]\n",
      "[2, 1, 4, 4, 5]\n",
      "[2, 1, 4, 4, 6]\n",
      "[2, 1, 4, 4, 7]\n",
      "[2, 1, 4, 4, 8]\n",
      "[2, 1, 4, 5, 1]\n",
      "[2, 1, 4, 5, 2]\n",
      "[2, 1, 4, 5, 3]\n",
      "[2, 1, 4, 5, 4]\n",
      "[2, 1, 4, 5, 5]\n",
      "[2, 1, 4, 5, 6]\n",
      "[2, 1, 4, 5, 7]\n",
      "[2, 1, 4, 6, 1]\n",
      "[2, 1, 4, 6, 2]\n",
      "[2, 1, 4, 6, 3]\n",
      "[2, 1, 4, 6, 4]\n",
      "[2, 1, 4, 6, 5]\n",
      "[2, 1, 4, 6, 6]\n",
      "[2, 1, 5, 1, 1]\n",
      "[2, 1, 5, 1, 2]\n",
      "[2, 1, 5, 1, 3]\n",
      "[2, 1, 5, 1, 4]\n",
      "[2, 1, 5, 1, 5]\n",
      "[2, 1, 5, 1, 6]\n",
      "[2, 1, 5, 1, 7]\n",
      "[2, 1, 5, 1, 8]\n",
      "[2, 1, 5, 1, 9]\n",
      "[2, 1, 5, 2, 1]\n",
      "[2, 1, 5, 2, 2]\n",
      "[2, 1, 5, 2, 3]\n",
      "[2, 1, 5, 2, 4]\n",
      "[2, 1, 5, 2, 5]\n",
      "[2, 1, 5, 2, 6]\n",
      "[2, 1, 5, 2, 7]\n",
      "[2, 1, 5, 2, 8]\n",
      "[2, 1, 5, 3, 1]\n",
      "[2, 1, 5, 3, 2]\n",
      "[2, 1, 5, 3, 3]\n",
      "[2, 1, 5, 3, 4]\n",
      "[2, 1, 5, 3, 5]\n",
      "[2, 1, 5, 3, 6]\n",
      "[2, 1, 5, 3, 7]\n",
      "[2, 1, 5, 4, 1]\n",
      "[2, 1, 5, 4, 2]\n",
      "[2, 1, 5, 4, 3]\n",
      "[2, 1, 5, 4, 4]\n",
      "[2, 1, 5, 4, 5]\n",
      "[2, 1, 5, 4, 6]\n",
      "[2, 1, 5, 5, 1]\n",
      "[2, 1, 5, 5, 2]\n",
      "[2, 1, 5, 5, 3]\n",
      "[2, 1, 5, 5, 4]\n",
      "[2, 1, 5, 5, 5]\n",
      "[2, 1, 5, 6, 1]\n",
      "[2, 1, 5, 6, 2]\n",
      "[2, 1, 5, 6, 3]\n",
      "[2, 1, 5, 6, 4]\n",
      "[2, 2, 1, 1, 1]\n",
      "[2, 2, 1, 1, 2]\n",
      "[2, 2, 1, 1, 3]\n",
      "[2, 2, 1, 1, 4]\n",
      "[2, 2, 1, 1, 5]\n",
      "[2, 2, 1, 1, 6]\n",
      "[2, 2, 1, 1, 7]\n",
      "[2, 2, 1, 1, 8]\n",
      "[2, 2, 1, 1, 9]\n",
      "[2, 2, 1, 1, 10]\n",
      "[2, 2, 1, 1, 11]\n",
      "[2, 2, 1, 1, 12]\n",
      "[2, 2, 1, 2, 1]\n",
      "[2, 2, 1, 2, 2]\n",
      "[2, 2, 1, 2, 3]\n",
      "[2, 2, 1, 2, 4]\n",
      "[2, 2, 1, 2, 5]\n",
      "[2, 2, 1, 2, 6]\n",
      "[2, 2, 1, 2, 7]\n",
      "[2, 2, 1, 2, 8]\n",
      "[2, 2, 1, 2, 9]\n",
      "[2, 2, 1, 2, 10]\n",
      "[2, 2, 1, 2, 11]\n",
      "[2, 2, 1, 3, 1]\n",
      "[2, 2, 1, 3, 2]\n",
      "[2, 2, 1, 3, 3]\n",
      "[2, 2, 1, 3, 4]\n",
      "[2, 2, 1, 3, 5]\n",
      "[2, 2, 1, 3, 6]\n",
      "[2, 2, 1, 3, 7]\n",
      "[2, 2, 1, 3, 8]\n",
      "[2, 2, 1, 3, 9]\n",
      "[2, 2, 1, 3, 10]\n",
      "[2, 2, 1, 4, 1]\n",
      "[2, 2, 1, 4, 2]\n",
      "[2, 2, 1, 4, 3]\n",
      "[2, 2, 1, 4, 4]\n",
      "[2, 2, 1, 4, 5]\n",
      "[2, 2, 1, 4, 6]\n",
      "[2, 2, 1, 4, 7]\n",
      "[2, 2, 1, 4, 8]\n",
      "[2, 2, 1, 4, 9]\n",
      "[2, 2, 1, 5, 1]\n",
      "[2, 2, 1, 5, 2]\n",
      "[2, 2, 1, 5, 3]\n",
      "[2, 2, 1, 5, 4]\n",
      "[2, 2, 1, 5, 5]\n",
      "[2, 2, 1, 5, 6]\n",
      "[2, 2, 1, 5, 7]\n",
      "[2, 2, 1, 5, 8]\n",
      "[2, 2, 1, 6, 1]\n",
      "[2, 2, 1, 6, 2]\n",
      "[2, 2, 1, 6, 3]\n",
      "[2, 2, 1, 6, 4]\n",
      "[2, 2, 1, 6, 5]\n",
      "[2, 2, 1, 6, 6]\n",
      "[2, 2, 1, 6, 7]\n",
      "[2, 2, 2, 1, 1]\n",
      "[2, 2, 2, 1, 2]\n",
      "[2, 2, 2, 1, 3]\n",
      "[2, 2, 2, 1, 4]\n",
      "[2, 2, 2, 1, 5]\n",
      "[2, 2, 2, 1, 6]\n",
      "[2, 2, 2, 1, 7]\n",
      "[2, 2, 2, 1, 8]\n",
      "[2, 2, 2, 1, 9]\n",
      "[2, 2, 2, 1, 10]\n",
      "[2, 2, 2, 2, 1]\n",
      "[2, 2, 2, 2, 2]\n",
      "[2, 2, 2, 2, 3]\n",
      "[2, 2, 2, 2, 4]\n",
      "[2, 2, 2, 2, 5]\n",
      "[2, 2, 2, 2, 6]\n",
      "[2, 2, 2, 2, 7]\n",
      "[2, 2, 2, 2, 8]\n",
      "[2, 2, 2, 2, 9]\n",
      "[2, 2, 2, 3, 1]\n",
      "[2, 2, 2, 3, 2]\n",
      "[2, 2, 2, 3, 3]\n",
      "[2, 2, 2, 3, 4]\n",
      "[2, 2, 2, 3, 5]\n",
      "[2, 2, 2, 3, 6]\n",
      "[2, 2, 2, 3, 7]\n",
      "[2, 2, 2, 3, 8]\n",
      "[2, 2, 2, 4, 1]\n",
      "[2, 2, 2, 4, 2]\n",
      "[2, 2, 2, 4, 3]\n",
      "[2, 2, 2, 4, 4]\n",
      "[2, 2, 2, 4, 5]\n",
      "[2, 2, 2, 4, 6]\n",
      "[2, 2, 2, 4, 7]\n",
      "[2, 2, 2, 5, 1]\n",
      "[2, 2, 2, 5, 2]\n",
      "[2, 2, 2, 5, 3]\n",
      "[2, 2, 2, 5, 4]\n",
      "[2, 2, 2, 5, 5]\n",
      "[2, 2, 2, 5, 6]\n",
      "[2, 2, 2, 6, 1]\n",
      "[2, 2, 2, 6, 2]\n",
      "[2, 2, 2, 6, 3]\n",
      "[2, 2, 2, 6, 4]\n",
      "[2, 2, 2, 6, 5]\n",
      "[2, 2, 3, 1, 1]\n",
      "[2, 2, 3, 1, 2]\n",
      "[2, 2, 3, 1, 3]\n",
      "[2, 2, 3, 1, 4]\n",
      "[2, 2, 3, 1, 5]\n",
      "[2, 2, 3, 1, 6]\n",
      "[2, 2, 3, 1, 7]\n",
      "[2, 2, 3, 1, 8]\n",
      "[2, 2, 3, 1, 9]\n",
      "[2, 2, 3, 2, 1]\n",
      "[2, 2, 3, 2, 2]\n",
      "[2, 2, 3, 2, 3]\n",
      "[2, 2, 3, 2, 4]\n",
      "[2, 2, 3, 2, 5]\n",
      "[2, 2, 3, 2, 6]\n",
      "[2, 2, 3, 2, 7]\n",
      "[2, 2, 3, 2, 8]\n",
      "[2, 2, 3, 3, 1]\n",
      "[2, 2, 3, 3, 2]\n",
      "[2, 2, 3, 3, 3]\n",
      "[2, 2, 3, 3, 4]\n",
      "[2, 2, 3, 3, 5]\n",
      "[2, 2, 3, 3, 6]\n",
      "[2, 2, 3, 3, 7]\n",
      "[2, 2, 3, 4, 1]\n",
      "[2, 2, 3, 4, 2]\n",
      "[2, 2, 3, 4, 3]\n",
      "[2, 2, 3, 4, 4]\n",
      "[2, 2, 3, 4, 5]\n",
      "[2, 2, 3, 4, 6]\n",
      "[2, 2, 3, 5, 1]\n",
      "[2, 2, 3, 5, 2]\n",
      "[2, 2, 3, 5, 3]\n",
      "[2, 2, 3, 5, 4]\n",
      "[2, 2, 3, 5, 5]\n",
      "[2, 2, 3, 6, 1]\n",
      "[2, 2, 3, 6, 2]\n",
      "[2, 2, 3, 6, 3]\n",
      "[2, 2, 3, 6, 4]\n",
      "[2, 2, 4, 1, 1]\n",
      "[2, 2, 4, 1, 2]\n",
      "[2, 2, 4, 1, 3]\n",
      "[2, 2, 4, 1, 4]\n",
      "[2, 2, 4, 1, 5]\n",
      "[2, 2, 4, 1, 6]\n",
      "[2, 2, 4, 1, 7]\n",
      "[2, 2, 4, 2, 1]\n",
      "[2, 2, 4, 2, 2]\n",
      "[2, 2, 4, 2, 3]\n",
      "[2, 2, 4, 2, 4]\n",
      "[2, 2, 4, 2, 5]\n",
      "[2, 2, 4, 2, 6]\n",
      "[2, 2, 4, 3, 1]\n",
      "[2, 2, 4, 3, 2]\n",
      "[2, 2, 4, 3, 3]\n",
      "[2, 2, 4, 3, 4]\n",
      "[2, 2, 4, 3, 5]\n",
      "[2, 2, 4, 4, 1]\n",
      "[2, 2, 4, 4, 2]\n",
      "[2, 2, 4, 4, 3]\n",
      "[2, 2, 4, 4, 4]\n",
      "[2, 2, 4, 5, 1]\n",
      "[2, 2, 4, 5, 2]\n",
      "[2, 2, 4, 5, 3]\n",
      "[2, 2, 4, 6, 1]\n",
      "[2, 2, 4, 6, 2]\n",
      "[2, 2, 5, 1, 1]\n",
      "[2, 2, 5, 1, 2]\n",
      "[2, 2, 5, 1, 3]\n",
      "[2, 2, 5, 1, 4]\n",
      "[2, 2, 5, 1, 5]\n",
      "[2, 2, 5, 2, 1]\n",
      "[2, 2, 5, 2, 2]\n",
      "[2, 2, 5, 2, 3]\n",
      "[2, 2, 5, 2, 4]\n",
      "[2, 2, 5, 3, 1]\n",
      "[2, 2, 5, 3, 2]\n",
      "[2, 2, 5, 3, 3]\n",
      "[2, 2, 5, 4, 1]\n",
      "[2, 2, 5, 4, 2]\n",
      "[2, 2, 5, 5, 1]\n",
      "[2, 3, 1, 1, 1]\n",
      "[2, 3, 1, 1, 2]\n",
      "[2, 3, 1, 1, 3]\n",
      "[2, 3, 1, 1, 4]\n",
      "[2, 3, 1, 1, 5]\n",
      "[2, 3, 1, 1, 6]\n",
      "[2, 3, 1, 1, 7]\n",
      "[2, 3, 1, 1, 8]\n",
      "[2, 3, 1, 2, 1]\n",
      "[2, 3, 1, 2, 2]\n",
      "[2, 3, 1, 2, 3]\n",
      "[2, 3, 1, 2, 4]\n",
      "[2, 3, 1, 2, 5]\n",
      "[2, 3, 1, 2, 6]\n",
      "[2, 3, 1, 2, 7]\n",
      "[2, 3, 1, 3, 1]\n",
      "[2, 3, 1, 3, 2]\n",
      "[2, 3, 1, 3, 3]\n",
      "[2, 3, 1, 3, 4]\n",
      "[2, 3, 1, 3, 5]\n",
      "[2, 3, 1, 3, 6]\n",
      "[2, 3, 1, 4, 1]\n",
      "[2, 3, 1, 4, 2]\n",
      "[2, 3, 1, 4, 3]\n",
      "[2, 3, 1, 4, 4]\n",
      "[2, 3, 1, 4, 5]\n",
      "[2, 3, 1, 5, 1]\n",
      "[2, 3, 1, 5, 2]\n",
      "[2, 3, 1, 5, 3]\n",
      "[2, 3, 1, 5, 4]\n",
      "[2, 3, 1, 6, 1]\n",
      "[2, 3, 1, 6, 2]\n",
      "[2, 3, 1, 6, 3]\n",
      "[2, 3, 2, 1, 1]\n",
      "[2, 3, 2, 1, 2]\n",
      "[2, 3, 2, 1, 3]\n",
      "[2, 3, 2, 1, 4]\n",
      "[2, 3, 2, 1, 5]\n",
      "[2, 3, 2, 1, 6]\n",
      "[2, 3, 2, 2, 1]\n",
      "[2, 3, 2, 2, 2]\n",
      "[2, 3, 2, 2, 3]\n",
      "[2, 3, 2, 2, 4]\n",
      "[2, 3, 2, 2, 5]\n",
      "[2, 3, 2, 3, 1]\n",
      "[2, 3, 2, 3, 2]\n",
      "[2, 3, 2, 3, 3]\n",
      "[2, 3, 2, 3, 4]\n",
      "[2, 3, 2, 4, 1]\n",
      "[2, 3, 2, 4, 2]\n",
      "[2, 3, 2, 4, 3]\n",
      "[2, 3, 2, 5, 1]\n",
      "[2, 3, 2, 5, 2]\n",
      "[2, 3, 2, 6, 1]\n",
      "[2, 3, 3, 1, 1]\n",
      "[2, 3, 3, 1, 2]\n",
      "[2, 3, 3, 1, 3]\n",
      "[2, 3, 3, 1, 4]\n",
      "[2, 3, 3, 1, 5]\n",
      "[2, 3, 3, 2, 1]\n",
      "[2, 3, 3, 2, 2]\n",
      "[2, 3, 3, 2, 3]\n",
      "[2, 3, 3, 2, 4]\n",
      "[2, 3, 3, 3, 1]\n",
      "[2, 3, 3, 3, 2]\n",
      "[2, 3, 3, 3, 3]\n",
      "[2, 3, 3, 4, 1]\n",
      "[2, 3, 3, 4, 2]\n",
      "[2, 3, 3, 5, 1]\n",
      "[2, 3, 4, 1, 1]\n",
      "[2, 3, 4, 1, 2]\n",
      "[2, 3, 4, 1, 3]\n",
      "[2, 3, 4, 2, 1]\n",
      "[2, 3, 4, 2, 2]\n",
      "[2, 3, 4, 3, 1]\n",
      "[2, 3, 5, 1, 1]\n",
      "[2, 4, 1, 1, 1]\n",
      "[2, 4, 1, 1, 2]\n",
      "[2, 4, 1, 1, 3]\n",
      "[2, 4, 1, 1, 4]\n",
      "[2, 4, 1, 2, 1]\n",
      "[2, 4, 1, 2, 2]\n",
      "[2, 4, 1, 2, 3]\n",
      "[2, 4, 1, 3, 1]\n",
      "[2, 4, 1, 3, 2]\n",
      "[2, 4, 1, 4, 1]\n",
      "[2, 4, 2, 1, 1]\n",
      "[2, 4, 2, 1, 2]\n",
      "[2, 4, 2, 2, 1]\n",
      "[2, 4, 3, 1, 1]\n",
      "[3, 1, 1, 1, 1]\n",
      "[3, 1, 1, 1, 2]\n",
      "[3, 1, 1, 1, 3]\n",
      "[3, 1, 1, 1, 4]\n",
      "[3, 1, 1, 1, 5]\n",
      "[3, 1, 1, 1, 6]\n",
      "[3, 1, 1, 1, 7]\n",
      "[3, 1, 1, 1, 8]\n",
      "[3, 1, 1, 1, 9]\n",
      "[3, 1, 1, 1, 10]\n",
      "[3, 1, 1, 1, 11]\n",
      "[3, 1, 1, 1, 12]\n",
      "[3, 1, 1, 2, 1]\n",
      "[3, 1, 1, 2, 2]\n",
      "[3, 1, 1, 2, 3]\n",
      "[3, 1, 1, 2, 4]\n",
      "[3, 1, 1, 2, 5]\n",
      "[3, 1, 1, 2, 6]\n",
      "[3, 1, 1, 2, 7]\n",
      "[3, 1, 1, 2, 8]\n",
      "[3, 1, 1, 2, 9]\n",
      "[3, 1, 1, 2, 10]\n",
      "[3, 1, 1, 2, 11]\n",
      "[3, 1, 1, 2, 12]\n",
      "[3, 1, 1, 3, 1]\n",
      "[3, 1, 1, 3, 2]\n",
      "[3, 1, 1, 3, 3]\n",
      "[3, 1, 1, 3, 4]\n",
      "[3, 1, 1, 3, 5]\n",
      "[3, 1, 1, 3, 6]\n",
      "[3, 1, 1, 3, 7]\n",
      "[3, 1, 1, 3, 8]\n",
      "[3, 1, 1, 3, 9]\n",
      "[3, 1, 1, 3, 10]\n",
      "[3, 1, 1, 3, 11]\n",
      "[3, 1, 1, 3, 12]\n",
      "[3, 1, 1, 4, 1]\n",
      "[3, 1, 1, 4, 2]\n",
      "[3, 1, 1, 4, 3]\n",
      "[3, 1, 1, 4, 4]\n",
      "[3, 1, 1, 4, 5]\n",
      "[3, 1, 1, 4, 6]\n",
      "[3, 1, 1, 4, 7]\n",
      "[3, 1, 1, 4, 8]\n",
      "[3, 1, 1, 4, 9]\n",
      "[3, 1, 1, 4, 10]\n",
      "[3, 1, 1, 4, 11]\n",
      "[3, 1, 1, 4, 12]\n",
      "[3, 1, 1, 5, 1]\n",
      "[3, 1, 1, 5, 2]\n",
      "[3, 1, 1, 5, 3]\n",
      "[3, 1, 1, 5, 4]\n",
      "[3, 1, 1, 5, 5]\n",
      "[3, 1, 1, 5, 6]\n",
      "[3, 1, 1, 5, 7]\n",
      "[3, 1, 1, 5, 8]\n",
      "[3, 1, 1, 5, 9]\n",
      "[3, 1, 1, 5, 10]\n",
      "[3, 1, 1, 5, 11]\n",
      "[3, 1, 1, 6, 1]\n",
      "[3, 1, 1, 6, 2]\n",
      "[3, 1, 1, 6, 3]\n",
      "[3, 1, 1, 6, 4]\n",
      "[3, 1, 1, 6, 5]\n",
      "[3, 1, 1, 6, 6]\n",
      "[3, 1, 1, 6, 7]\n",
      "[3, 1, 1, 6, 8]\n",
      "[3, 1, 1, 6, 9]\n",
      "[3, 1, 1, 6, 10]\n",
      "[3, 1, 2, 1, 1]\n",
      "[3, 1, 2, 1, 2]\n",
      "[3, 1, 2, 1, 3]\n",
      "[3, 1, 2, 1, 4]\n",
      "[3, 1, 2, 1, 5]\n",
      "[3, 1, 2, 1, 6]\n",
      "[3, 1, 2, 1, 7]\n",
      "[3, 1, 2, 1, 8]\n",
      "[3, 1, 2, 1, 9]\n",
      "[3, 1, 2, 1, 10]\n",
      "[3, 1, 2, 1, 11]\n",
      "[3, 1, 2, 1, 12]\n",
      "[3, 1, 2, 2, 1]\n",
      "[3, 1, 2, 2, 2]\n",
      "[3, 1, 2, 2, 3]\n",
      "[3, 1, 2, 2, 4]\n",
      "[3, 1, 2, 2, 5]\n",
      "[3, 1, 2, 2, 6]\n",
      "[3, 1, 2, 2, 7]\n",
      "[3, 1, 2, 2, 8]\n",
      "[3, 1, 2, 2, 9]\n",
      "[3, 1, 2, 2, 10]\n",
      "[3, 1, 2, 2, 11]\n",
      "[3, 1, 2, 2, 12]\n",
      "[3, 1, 2, 3, 1]\n",
      "[3, 1, 2, 3, 2]\n",
      "[3, 1, 2, 3, 3]\n",
      "[3, 1, 2, 3, 4]\n",
      "[3, 1, 2, 3, 5]\n",
      "[3, 1, 2, 3, 6]\n",
      "[3, 1, 2, 3, 7]\n",
      "[3, 1, 2, 3, 8]\n",
      "[3, 1, 2, 3, 9]\n",
      "[3, 1, 2, 3, 10]\n",
      "[3, 1, 2, 3, 11]\n",
      "[3, 1, 2, 4, 1]\n",
      "[3, 1, 2, 4, 2]\n",
      "[3, 1, 2, 4, 3]\n",
      "[3, 1, 2, 4, 4]\n",
      "[3, 1, 2, 4, 5]\n",
      "[3, 1, 2, 4, 6]\n",
      "[3, 1, 2, 4, 7]\n",
      "[3, 1, 2, 4, 8]\n",
      "[3, 1, 2, 4, 9]\n",
      "[3, 1, 2, 4, 10]\n",
      "[3, 1, 2, 5, 1]\n",
      "[3, 1, 2, 5, 2]\n",
      "[3, 1, 2, 5, 3]\n",
      "[3, 1, 2, 5, 4]\n",
      "[3, 1, 2, 5, 5]\n",
      "[3, 1, 2, 5, 6]\n",
      "[3, 1, 2, 5, 7]\n",
      "[3, 1, 2, 5, 8]\n",
      "[3, 1, 2, 5, 9]\n",
      "[3, 1, 2, 6, 1]\n",
      "[3, 1, 2, 6, 2]\n",
      "[3, 1, 2, 6, 3]\n",
      "[3, 1, 2, 6, 4]\n",
      "[3, 1, 2, 6, 5]\n",
      "[3, 1, 2, 6, 6]\n",
      "[3, 1, 2, 6, 7]\n",
      "[3, 1, 2, 6, 8]\n",
      "[3, 1, 3, 1, 1]\n",
      "[3, 1, 3, 1, 2]\n",
      "[3, 1, 3, 1, 3]\n",
      "[3, 1, 3, 1, 4]\n",
      "[3, 1, 3, 1, 5]\n",
      "[3, 1, 3, 1, 6]\n",
      "[3, 1, 3, 1, 7]\n",
      "[3, 1, 3, 1, 8]\n",
      "[3, 1, 3, 1, 9]\n",
      "[3, 1, 3, 1, 10]\n",
      "[3, 1, 3, 1, 11]\n",
      "[3, 1, 3, 2, 1]\n",
      "[3, 1, 3, 2, 2]\n",
      "[3, 1, 3, 2, 3]\n",
      "[3, 1, 3, 2, 4]\n",
      "[3, 1, 3, 2, 5]\n",
      "[3, 1, 3, 2, 6]\n",
      "[3, 1, 3, 2, 7]\n",
      "[3, 1, 3, 2, 8]\n",
      "[3, 1, 3, 2, 9]\n",
      "[3, 1, 3, 2, 10]\n",
      "[3, 1, 3, 3, 1]\n",
      "[3, 1, 3, 3, 2]\n",
      "[3, 1, 3, 3, 3]\n",
      "[3, 1, 3, 3, 4]\n",
      "[3, 1, 3, 3, 5]\n",
      "[3, 1, 3, 3, 6]\n",
      "[3, 1, 3, 3, 7]\n",
      "[3, 1, 3, 3, 8]\n",
      "[3, 1, 3, 3, 9]\n",
      "[3, 1, 3, 4, 1]\n",
      "[3, 1, 3, 4, 2]\n",
      "[3, 1, 3, 4, 3]\n",
      "[3, 1, 3, 4, 4]\n",
      "[3, 1, 3, 4, 5]\n",
      "[3, 1, 3, 4, 6]\n",
      "[3, 1, 3, 4, 7]\n",
      "[3, 1, 3, 4, 8]\n",
      "[3, 1, 3, 5, 1]\n",
      "[3, 1, 3, 5, 2]\n",
      "[3, 1, 3, 5, 3]\n",
      "[3, 1, 3, 5, 4]\n",
      "[3, 1, 3, 5, 5]\n",
      "[3, 1, 3, 5, 6]\n",
      "[3, 1, 3, 5, 7]\n",
      "[3, 1, 3, 6, 1]\n",
      "[3, 1, 3, 6, 2]\n",
      "[3, 1, 3, 6, 3]\n",
      "[3, 1, 3, 6, 4]\n",
      "[3, 1, 3, 6, 5]\n",
      "[3, 1, 3, 6, 6]\n",
      "[3, 1, 4, 1, 1]\n",
      "[3, 1, 4, 1, 2]\n",
      "[3, 1, 4, 1, 3]\n",
      "[3, 1, 4, 1, 4]\n",
      "[3, 1, 4, 1, 5]\n",
      "[3, 1, 4, 1, 6]\n",
      "[3, 1, 4, 1, 7]\n",
      "[3, 1, 4, 1, 8]\n",
      "[3, 1, 4, 1, 9]\n",
      "[3, 1, 4, 1, 10]\n",
      "[3, 1, 4, 2, 1]\n",
      "[3, 1, 4, 2, 2]\n",
      "[3, 1, 4, 2, 3]\n",
      "[3, 1, 4, 2, 4]\n",
      "[3, 1, 4, 2, 5]\n",
      "[3, 1, 4, 2, 6]\n",
      "[3, 1, 4, 2, 7]\n",
      "[3, 1, 4, 2, 8]\n",
      "[3, 1, 4, 2, 9]\n",
      "[3, 1, 4, 3, 1]\n",
      "[3, 1, 4, 3, 2]\n",
      "[3, 1, 4, 3, 3]\n",
      "[3, 1, 4, 3, 4]\n",
      "[3, 1, 4, 3, 5]\n",
      "[3, 1, 4, 3, 6]\n",
      "[3, 1, 4, 3, 7]\n",
      "[3, 1, 4, 4, 1]\n",
      "[3, 1, 4, 4, 2]\n",
      "[3, 1, 4, 4, 3]\n",
      "[3, 1, 4, 4, 4]\n",
      "[3, 1, 4, 4, 5]\n",
      "[3, 1, 4, 4, 6]\n",
      "[3, 1, 4, 5, 1]\n",
      "[3, 1, 4, 5, 2]\n",
      "[3, 1, 4, 5, 3]\n",
      "[3, 1, 4, 5, 4]\n",
      "[3, 1, 4, 5, 5]\n",
      "[3, 1, 4, 5, 6]\n",
      "[3, 1, 4, 6, 1]\n",
      "[3, 1, 4, 6, 2]\n",
      "[3, 1, 4, 6, 3]\n",
      "[3, 1, 4, 6, 4]\n",
      "[3, 1, 4, 6, 5]\n",
      "[3, 1, 5, 1, 1]\n",
      "[3, 1, 5, 1, 2]\n",
      "[3, 1, 5, 1, 3]\n",
      "[3, 1, 5, 1, 4]\n",
      "[3, 1, 5, 1, 5]\n",
      "[3, 1, 5, 1, 6]\n",
      "[3, 1, 5, 1, 7]\n",
      "[3, 1, 5, 1, 8]\n",
      "[3, 1, 5, 2, 1]\n",
      "[3, 1, 5, 2, 2]\n",
      "[3, 1, 5, 2, 3]\n",
      "[3, 1, 5, 2, 4]\n",
      "[3, 1, 5, 2, 5]\n",
      "[3, 1, 5, 2, 6]\n",
      "[3, 1, 5, 2, 7]\n",
      "[3, 1, 5, 3, 1]\n",
      "[3, 1, 5, 3, 2]\n",
      "[3, 1, 5, 3, 3]\n",
      "[3, 1, 5, 3, 4]\n",
      "[3, 1, 5, 3, 5]\n",
      "[3, 1, 5, 3, 6]\n",
      "[3, 1, 5, 4, 1]\n",
      "[3, 1, 5, 4, 2]\n",
      "[3, 1, 5, 4, 3]\n",
      "[3, 1, 5, 4, 4]\n",
      "[3, 1, 5, 4, 5]\n",
      "[3, 1, 5, 5, 1]\n",
      "[3, 1, 5, 5, 2]\n",
      "[3, 1, 5, 5, 3]\n",
      "[3, 1, 5, 5, 4]\n",
      "[3, 1, 5, 6, 1]\n",
      "[3, 1, 5, 6, 2]\n",
      "[3, 1, 5, 6, 3]\n",
      "[3, 2, 1, 1, 1]\n",
      "[3, 2, 1, 1, 2]\n",
      "[3, 2, 1, 1, 3]\n",
      "[3, 2, 1, 1, 4]\n",
      "[3, 2, 1, 1, 5]\n",
      "[3, 2, 1, 1, 6]\n",
      "[3, 2, 1, 1, 7]\n",
      "[3, 2, 1, 1, 8]\n",
      "[3, 2, 1, 1, 9]\n",
      "[3, 2, 1, 1, 10]\n",
      "[3, 2, 1, 1, 11]\n",
      "[3, 2, 1, 2, 1]\n",
      "[3, 2, 1, 2, 2]\n",
      "[3, 2, 1, 2, 3]\n",
      "[3, 2, 1, 2, 4]\n",
      "[3, 2, 1, 2, 5]\n",
      "[3, 2, 1, 2, 6]\n",
      "[3, 2, 1, 2, 7]\n",
      "[3, 2, 1, 2, 8]\n",
      "[3, 2, 1, 2, 9]\n",
      "[3, 2, 1, 2, 10]\n",
      "[3, 2, 1, 3, 1]\n",
      "[3, 2, 1, 3, 2]\n",
      "[3, 2, 1, 3, 3]\n",
      "[3, 2, 1, 3, 4]\n",
      "[3, 2, 1, 3, 5]\n",
      "[3, 2, 1, 3, 6]\n",
      "[3, 2, 1, 3, 7]\n",
      "[3, 2, 1, 3, 8]\n",
      "[3, 2, 1, 3, 9]\n",
      "[3, 2, 1, 4, 1]\n",
      "[3, 2, 1, 4, 2]\n",
      "[3, 2, 1, 4, 3]\n",
      "[3, 2, 1, 4, 4]\n",
      "[3, 2, 1, 4, 5]\n",
      "[3, 2, 1, 4, 6]\n",
      "[3, 2, 1, 4, 7]\n",
      "[3, 2, 1, 4, 8]\n",
      "[3, 2, 1, 5, 1]\n",
      "[3, 2, 1, 5, 2]\n",
      "[3, 2, 1, 5, 3]\n",
      "[3, 2, 1, 5, 4]\n",
      "[3, 2, 1, 5, 5]\n",
      "[3, 2, 1, 5, 6]\n",
      "[3, 2, 1, 5, 7]\n",
      "[3, 2, 1, 6, 1]\n",
      "[3, 2, 1, 6, 2]\n",
      "[3, 2, 1, 6, 3]\n",
      "[3, 2, 1, 6, 4]\n",
      "[3, 2, 1, 6, 5]\n",
      "[3, 2, 1, 6, 6]\n",
      "[3, 2, 2, 1, 1]\n",
      "[3, 2, 2, 1, 2]\n",
      "[3, 2, 2, 1, 3]\n",
      "[3, 2, 2, 1, 4]\n",
      "[3, 2, 2, 1, 5]\n",
      "[3, 2, 2, 1, 6]\n",
      "[3, 2, 2, 1, 7]\n",
      "[3, 2, 2, 1, 8]\n",
      "[3, 2, 2, 1, 9]\n",
      "[3, 2, 2, 2, 1]\n",
      "[3, 2, 2, 2, 2]\n",
      "[3, 2, 2, 2, 3]\n",
      "[3, 2, 2, 2, 4]\n",
      "[3, 2, 2, 2, 5]\n",
      "[3, 2, 2, 2, 6]\n",
      "[3, 2, 2, 2, 7]\n",
      "[3, 2, 2, 2, 8]\n",
      "[3, 2, 2, 3, 1]\n",
      "[3, 2, 2, 3, 2]\n",
      "[3, 2, 2, 3, 3]\n",
      "[3, 2, 2, 3, 4]\n",
      "[3, 2, 2, 3, 5]\n",
      "[3, 2, 2, 3, 6]\n",
      "[3, 2, 2, 3, 7]\n",
      "[3, 2, 2, 4, 1]\n",
      "[3, 2, 2, 4, 2]\n",
      "[3, 2, 2, 4, 3]\n",
      "[3, 2, 2, 4, 4]\n",
      "[3, 2, 2, 4, 5]\n",
      "[3, 2, 2, 4, 6]\n",
      "[3, 2, 2, 5, 1]\n",
      "[3, 2, 2, 5, 2]\n",
      "[3, 2, 2, 5, 3]\n",
      "[3, 2, 2, 5, 4]\n",
      "[3, 2, 2, 5, 5]\n",
      "[3, 2, 2, 6, 1]\n",
      "[3, 2, 2, 6, 2]\n",
      "[3, 2, 2, 6, 3]\n",
      "[3, 2, 2, 6, 4]\n",
      "[3, 2, 3, 1, 1]\n",
      "[3, 2, 3, 1, 2]\n",
      "[3, 2, 3, 1, 3]\n",
      "[3, 2, 3, 1, 4]\n",
      "[3, 2, 3, 1, 5]\n",
      "[3, 2, 3, 1, 6]\n",
      "[3, 2, 3, 1, 7]\n",
      "[3, 2, 3, 2, 1]\n",
      "[3, 2, 3, 2, 2]\n",
      "[3, 2, 3, 2, 3]\n",
      "[3, 2, 3, 2, 4]\n",
      "[3, 2, 3, 2, 5]\n",
      "[3, 2, 3, 2, 6]\n",
      "[3, 2, 3, 3, 1]\n",
      "[3, 2, 3, 3, 2]\n",
      "[3, 2, 3, 3, 3]\n",
      "[3, 2, 3, 3, 4]\n",
      "[3, 2, 3, 3, 5]\n",
      "[3, 2, 3, 4, 1]\n",
      "[3, 2, 3, 4, 2]\n",
      "[3, 2, 3, 4, 3]\n",
      "[3, 2, 3, 4, 4]\n",
      "[3, 2, 3, 5, 1]\n",
      "[3, 2, 3, 5, 2]\n",
      "[3, 2, 3, 5, 3]\n",
      "[3, 2, 3, 6, 1]\n",
      "[3, 2, 3, 6, 2]\n",
      "[3, 2, 4, 1, 1]\n",
      "[3, 2, 4, 1, 2]\n",
      "[3, 2, 4, 1, 3]\n",
      "[3, 2, 4, 1, 4]\n",
      "[3, 2, 4, 1, 5]\n",
      "[3, 2, 4, 1, 6]\n",
      "[3, 2, 4, 2, 1]\n",
      "[3, 2, 4, 2, 2]\n",
      "[3, 2, 4, 2, 3]\n",
      "[3, 2, 4, 2, 4]\n",
      "[3, 2, 4, 2, 5]\n",
      "[3, 2, 4, 3, 1]\n",
      "[3, 2, 4, 3, 2]\n",
      "[3, 2, 4, 3, 3]\n",
      "[3, 2, 4, 3, 4]\n",
      "[3, 2, 4, 4, 1]\n",
      "[3, 2, 4, 4, 2]\n",
      "[3, 2, 4, 4, 3]\n",
      "[3, 2, 4, 5, 1]\n",
      "[3, 2, 4, 5, 2]\n",
      "[3, 2, 4, 6, 1]\n",
      "[3, 2, 5, 1, 1]\n",
      "[3, 2, 5, 1, 2]\n",
      "[3, 2, 5, 1, 3]\n",
      "[3, 2, 5, 1, 4]\n",
      "[3, 2, 5, 2, 1]\n",
      "[3, 2, 5, 2, 2]\n",
      "[3, 2, 5, 2, 3]\n",
      "[3, 2, 5, 3, 1]\n",
      "[3, 2, 5, 3, 2]\n",
      "[3, 2, 5, 4, 1]\n",
      "[3, 3, 1, 1, 1]\n",
      "[3, 3, 1, 1, 2]\n",
      "[3, 3, 1, 1, 3]\n",
      "[3, 3, 1, 1, 4]\n",
      "[3, 3, 1, 1, 5]\n",
      "[3, 3, 1, 1, 6]\n",
      "[3, 3, 1, 1, 7]\n",
      "[3, 3, 1, 2, 1]\n",
      "[3, 3, 1, 2, 2]\n",
      "[3, 3, 1, 2, 3]\n",
      "[3, 3, 1, 2, 4]\n",
      "[3, 3, 1, 2, 5]\n",
      "[3, 3, 1, 2, 6]\n",
      "[3, 3, 1, 3, 1]\n",
      "[3, 3, 1, 3, 2]\n",
      "[3, 3, 1, 3, 3]\n",
      "[3, 3, 1, 3, 4]\n",
      "[3, 3, 1, 3, 5]\n",
      "[3, 3, 1, 4, 1]\n",
      "[3, 3, 1, 4, 2]\n",
      "[3, 3, 1, 4, 3]\n",
      "[3, 3, 1, 4, 4]\n",
      "[3, 3, 1, 5, 1]\n",
      "[3, 3, 1, 5, 2]\n",
      "[3, 3, 1, 5, 3]\n",
      "[3, 3, 1, 6, 1]\n",
      "[3, 3, 1, 6, 2]\n",
      "[3, 3, 2, 1, 1]\n",
      "[3, 3, 2, 1, 2]\n",
      "[3, 3, 2, 1, 3]\n",
      "[3, 3, 2, 1, 4]\n",
      "[3, 3, 2, 1, 5]\n",
      "[3, 3, 2, 2, 1]\n",
      "[3, 3, 2, 2, 2]\n",
      "[3, 3, 2, 2, 3]\n",
      "[3, 3, 2, 2, 4]\n",
      "[3, 3, 2, 3, 1]\n",
      "[3, 3, 2, 3, 2]\n",
      "[3, 3, 2, 3, 3]\n",
      "[3, 3, 2, 4, 1]\n",
      "[3, 3, 2, 4, 2]\n",
      "[3, 3, 2, 5, 1]\n",
      "[3, 3, 3, 1, 1]\n",
      "[3, 3, 3, 1, 2]\n",
      "[3, 3, 3, 1, 3]\n",
      "[3, 3, 3, 2, 1]\n",
      "[3, 3, 3, 2, 2]\n",
      "[3, 3, 3, 3, 1]\n",
      "[3, 3, 4, 1, 1]\n",
      "[3, 3, 4, 1, 2]\n",
      "[3, 3, 4, 2, 1]\n",
      "[3, 4, 1, 1, 1]\n",
      "[3, 4, 1, 1, 2]\n",
      "[3, 4, 1, 1, 3]\n",
      "[3, 4, 1, 2, 1]\n",
      "[3, 4, 1, 2, 2]\n",
      "[3, 4, 1, 3, 1]\n",
      "[3, 4, 2, 1, 1]\n"
     ]
    },
    {
     "data": {
      "text/plain": [
       "1704"
      ]
     },
     "execution_count": 166,
     "metadata": {},
     "output_type": "execute_result"
    }
   ],
   "source": [
    "def backtrack(x, cost, budget, x_max, x_cost, results): #回溯算法计算解的可行域\n",
    "    if len(x) == len(x_max):\n",
    "        if cost <= budget:\n",
    "            results.append(x.copy())\n",
    "        return\n",
    "\n",
    "    for i in range(1, x_max[len(x)] + 1):\n",
    "        new_cost = cost + i * x_cost[len(x)]\n",
    "        if new_cost <= budget:\n",
    "            x.append(i)\n",
    "            backtrack(x, new_cost, budget, x_max, x_cost, results)\n",
    "            x.pop()\n",
    "\n",
    "def find_combinations(budget, x_max, x_cost):\n",
    "    results = []\n",
    "    backtrack([], 0, budget, x_max, x_cost, results)\n",
    "    return results\n",
    "\n",
    "budget = 7.7\n",
    "x_max = [3, 4, 5, 6, 12]\n",
    "x_cost = [0.4, 1.2, 0.5, 0.3, 0.3]\n",
    "\n",
    "available_set = find_combinations(budget, x_max, x_cost)\n",
    "print(\"All staff configurations:\")\n",
    "for configuration in available_set:\n",
    "    print(configuration)\n",
    "len(available_set)"
   ]
  },
  {
   "cell_type": "markdown",
   "metadata": {},
   "source": [
    "# To satisfy constraint (3)\n",
    "Constraint (3): $f_2(x_1,x_2,x_3,x_4,x_5) \\leq Q_1$"
   ]
  },
  {
   "cell_type": "code",
   "execution_count": 167,
   "metadata": {},
   "outputs": [],
   "source": [
    "# 计算时间太长\n",
    "\n",
    "# def threshold(c, r, v, w, z):\n",
    "#     return max(0, (w*z)/2*c*v - (v*r)/(2*c))\n",
    "\n",
    "# def sample_variance(data:list):\n",
    "#     n = len(data)\n",
    "#     if n <= 1:\n",
    "#         raise ValueError(\"样本容量必须大于1\")\n",
    "#     mean = sum(data) / n\n",
    "#     return sum((x - mean) ** 2 for x in data) / (n - 1)\n",
    "\n",
    "# def feasiblility_check(data:list, threshold, q):\n",
    "#     data = [d-q for d in data]\n",
    "#     if sum(data) <=  -threshold:\n",
    "#         return 1\n",
    "#     elif sum(data) >=  threshold:\n",
    "#         return 2\n",
    "#     else:\n",
    "#         return 0\n",
    "    \n",
    "# def get_average_waiting_time(sample_time, staff_configurattion:list):\n",
    "#     average_waiting_time = []\n",
    "#     arrival_rates = [5.33, 5.33, 3.82, 3.82, 3.06, 3.06, 4.54, 4.54, 6.81, 6.84, 8.32, 8.32, \n",
    "#                             9.01, 9.01, 8.36, 7.5, 8.32, 7.5, 8.32, 8.32, 7.5, 5.33, 3.82, 2.3]\n",
    "#     arrival_time = arrival_times(arrival_rates)\n",
    "#     for _ in range(sample_time):\n",
    "#         env = simpy.Environment()\n",
    "#         projects = [\n",
    "#             Project(\"default\", \"uniform\", staff_needed=0, min_time=0, max_time=0),\n",
    "#             Project(\"Reception\", \"uniform\", staff_needed=1, min_time=5, max_time=10),\n",
    "#             Project(\"Examination room\", \"uniform\", staff_needed=1, min_time=10, max_time=20),\n",
    "#             Project(\"Lab tests\", \"triangular\", staff_needed=1, min_time=10, mode_time=20, max_time=30),\n",
    "#             Project(\"Reexamination process\", \"uniform\", staff_needed=1, min_time=7, max_time=12),\n",
    "#             Project(\"Treatment room\", \"uniform\", staff_needed=1, min_time=20, max_time=30),\n",
    "#             Project(\"Emergency room\", \"uniform\", staff_needed=3, min_time=60, max_time=120),\n",
    "#             Project(\"Discharge\", \"uniform\", staff_needed=0, min_time=0, max_time=0)  # 出院项目\n",
    "#         ]\n",
    "        \n",
    "#         staff = Staff()\n",
    "#         staff.add_staff(\"default\", 0, 0)\n",
    "#         staff.add_staff(\"Reception\", staff_configurattion[0], 0.4)\n",
    "#         staff.add_staff(\"Lab tests\", staff_configurattion[2], 0.5)\n",
    "#         staff.add_staff(\"Examination room\", staff_configurattion[1], 1.2)\n",
    "#         staff.add_staff(\"Reexamination process\", staff_configurattion[1], 1.2)\n",
    "#         staff.add_staff(\"Treatment room\", staff_configurattion[3], 0.3)\n",
    "#         staff.add_staff(\"Emergency room\", staff_configurattion[4], 0.3)\n",
    "#         staff.add_staff(\"Discharge\", 0, 0)\n",
    "        \n",
    "#         project_probabilities = {\n",
    "#             \"default\": {\"Reception\": 1.0, \"Lab tests\": 0.0, \"Examination room\": 0.0,\n",
    "#                         \"Reexamination process\": 0.0, \"Treatment room\": 0.0, \"Emergency room\": 0.0, \"Discharge\": 0.0},\n",
    "#             \"Reception\": {\"Examination room\": 1.0, \"Lab tests\": 0.0, \"Reexamination process\": 0.0,\n",
    "#                         \"Treatment room\": 0.0, \"Emergency room\": 0.0, \"Discharge\": 0.0},\n",
    "#             \"Examination room\": {\"Treatment room\": 0.2, \"Lab tests\": 0.5, \"Discharge\": 0.05, \"Emergency room\": 0.25,\n",
    "#                                 \"Reception\": 0.0, \"Reexamination process\": 0.0},\n",
    "#             \"Lab tests\": {\"Reexamination process\": 1.0, \"Reception\": 0.0, \"Examination room\": 0.0,\n",
    "#                         \"Treatment room\": 0.0, \"Emergency room\": 0.0, \"Discharge\": 0.0},\n",
    "#             \"Reexamination process\": {\"Treatment room\": 0.4, \"Discharge\": 0.1, \"Emergency room\": 0.5,\n",
    "#                                     \"Reception\": 0.0, \"Lab tests\": 0.0, \"Examination room\": 0.0},\n",
    "#             \"Treatment room\": {\"Discharge\": 1.0, \"Reception\": 0.0, \"Lab tests\": 0.0, \"Examination room\": 0.0,\n",
    "#                                 \"Reexamination process\": 0.0, \"Emergency room\": 0.0},\n",
    "#             \"Emergency room\": {\"Discharge\": 1.0, \"Reception\": 0.0, \"Lab tests\": 0.0, \"Examination room\": 0.0,\n",
    "#                                 \"Reexamination process\": 0.0, \"Treatment room\": 0.0},\n",
    "#             \"Discharge\": {\"Reception\": 0.0, \"Lab tests\": 0.0, \"Examination room\": 0.0,\n",
    "#                         \"Reexamination process\": 0.0, \"Treatment room\": 0.0, \"Emergency room\": 0.0}\n",
    "#         }\n",
    "        \n",
    "#         emergency_department = EmergencyDepartment(env, staff, projects, project_probabilities, arrival_time)\n",
    "#         env.process(emergency_department.process_patient(emergency_department.patients))\n",
    "#         env.run(until=1440)\n",
    "#         waiting_times_C1 = [patient.emergency_room_waiting_time for patient in emergency_department.patients if any(project.name == \"Emergency room\" for project in patient.completed_projects)]\n",
    "#         average_waiting_time_C1 = calculate_average_waiting_time(waiting_times_C1)\n",
    "#         average_waiting_time.append(average_waiting_time_C1)\n",
    "#     return average_waiting_time"
   ]
  },
  {
   "cell_type": "code",
   "execution_count": 168,
   "metadata": {},
   "outputs": [],
   "source": [
    "# L = []\n",
    "\n",
    "# Q1L = 60\n",
    "# Q1R = 80\n",
    "# c = 1 # 常量\n",
    "# r = 10 # 初始模拟的次数\n",
    "# v = (Q1R - Q1L) / 2 # 偏差\n",
    "# mu = 9.89\n",
    "# w = 2 * mu * c * 9\n",
    "# z = 0 # 样本方差\n",
    "# q = (Q1L + Q1R) / 2\n",
    "\n",
    "# for configuration in available_set[:10]:\n",
    "#     average_waiting_time = get_average_waiting_time(100, configuration)\n",
    "#     z = sample_variance(average_waiting_time)\n",
    "#     while feasiblility_check(average_waiting_time, threshold(c, r, v, w, z), q) == 0:\n",
    "#         average_waiting_time.append(random.choice(average_waiting_time))\n",
    "#         r += 1\n",
    "#         print(r)\n",
    "#     if feasiblility_check(average_waiting_time, threshold(c, r, v, w, z), q) == 1:\n",
    "#         L.append(configuration)"
   ]
  },
  {
   "cell_type": "code",
   "execution_count": 169,
   "metadata": {},
   "outputs": [],
   "source": [
    "def get_average_waiting_time(arrival_rates_multiple_times, sample_time, staff_configurattion:list):\n",
    "    average_waiting_time = []\n",
    "    arrival_rates = arrival_rates_multiple_times*[5.33, 5.33, 3.82, 3.82, 3.06, 3.06, 4.54, 4.54, 6.81, 6.84, 8.32, 8.32, \n",
    "                            9.01, 9.01, 8.36, 7.5, 8.32, 7.5, 8.32, 8.32, 7.5, 5.33, 3.82, 2.3]\n",
    "    arrival_time = arrival_times(arrival_rates)\n",
    "    for _ in range(sample_time):\n",
    "        env = simpy.Environment()\n",
    "        projects = [\n",
    "            Project(\"default\", \"uniform\", staff_needed=0, min_time=0, max_time=0),\n",
    "            Project(\"Reception\", \"uniform\", staff_needed=1, min_time=5, max_time=10),\n",
    "            Project(\"Examination room\", \"uniform\", staff_needed=1, min_time=10, max_time=20),\n",
    "            Project(\"Lab tests\", \"triangular\", staff_needed=1, min_time=10, mode_time=20, max_time=30),\n",
    "            Project(\"Reexamination process\", \"uniform\", staff_needed=1, min_time=7, max_time=12),\n",
    "            Project(\"Treatment room\", \"uniform\", staff_needed=1, min_time=20, max_time=30),\n",
    "            Project(\"Emergency room\", \"uniform\", staff_needed=1, min_time=60, max_time=120),\n",
    "            Project(\"Discharge\", \"uniform\", staff_needed=0, min_time=0, max_time=0)  # 出院项目\n",
    "        ]\n",
    "        \n",
    "        staff = Staff()\n",
    "        staff.add_staff(\"default\", 0, 0)\n",
    "        staff.add_staff(\"Reception\", staff_configurattion[0], 0.4)\n",
    "        staff.add_staff(\"Lab tests\", staff_configurattion[2], 0.5)\n",
    "        staff.add_staff(\"Examination room\", staff_configurattion[1], 1.2)\n",
    "        staff.add_staff(\"Reexamination process\", staff_configurattion[1], 1.2)\n",
    "        staff.add_staff(\"Treatment room\", staff_configurattion[3], 0.3)\n",
    "        staff.add_staff(\"Emergency room\", staff_configurattion[4], 0.3)\n",
    "        staff.add_staff(\"Discharge\", 0, 0)\n",
    "        \n",
    "        project_probabilities = {\n",
    "            \"default\": {\"Reception\": 1.0, \"Lab tests\": 0.0, \"Examination room\": 0.0,\n",
    "                        \"Reexamination process\": 0.0, \"Treatment room\": 0.0, \"Emergency room\": 0.0, \"Discharge\": 0.0},\n",
    "            \"Reception\": {\"Examination room\": 1.0, \"Lab tests\": 0.0, \"Reexamination process\": 0.0,\n",
    "                        \"Treatment room\": 0.0, \"Emergency room\": 0.0, \"Discharge\": 0.0},\n",
    "            \"Examination room\": {\"Treatment room\": 0.2, \"Lab tests\": 0.5, \"Discharge\": 0.05, \"Emergency room\": 0.25,\n",
    "                                \"Reception\": 0.0, \"Reexamination process\": 0.0},\n",
    "            \"Lab tests\": {\"Reexamination process\": 1.0, \"Reception\": 0.0, \"Examination room\": 0.0,\n",
    "                        \"Treatment room\": 0.0, \"Emergency room\": 0.0, \"Discharge\": 0.0},\n",
    "            \"Reexamination process\": {\"Treatment room\": 0.4, \"Discharge\": 0.1, \"Emergency room\": 0.5,\n",
    "                                    \"Reception\": 0.0, \"Lab tests\": 0.0, \"Examination room\": 0.0},\n",
    "            \"Treatment room\": {\"Discharge\": 1.0, \"Reception\": 0.0, \"Lab tests\": 0.0, \"Examination room\": 0.0,\n",
    "                                \"Reexamination process\": 0.0, \"Emergency room\": 0.0},\n",
    "            \"Emergency room\": {\"Discharge\": 1.0, \"Reception\": 0.0, \"Lab tests\": 0.0, \"Examination room\": 0.0,\n",
    "                                \"Reexamination process\": 0.0, \"Treatment room\": 0.0},\n",
    "            \"Discharge\": {\"Reception\": 0.0, \"Lab tests\": 0.0, \"Examination room\": 0.0,\n",
    "                        \"Reexamination process\": 0.0, \"Treatment room\": 0.0, \"Emergency room\": 0.0}\n",
    "        }\n",
    "        \n",
    "        emergency_department = EmergencyDepartment(env, staff, projects, project_probabilities, arrival_time)\n",
    "        env.process(emergency_department.process_patient(emergency_department.patients))\n",
    "        env.run(until=1440)\n",
    "        waiting_times_C1 = [patient.emergency_room_waiting_time for patient in emergency_department.patients if any(project.name == \"Emergency room\" for project in patient.completed_projects)]\n",
    "        average_waiting_time_C1 = calculate_average_waiting_time(waiting_times_C1)\n",
    "        average_waiting_time.append(average_waiting_time_C1)\n",
    "    return average_waiting_time"
   ]
  },
  {
   "cell_type": "code",
   "execution_count": 170,
   "metadata": {},
   "outputs": [
    {
     "data": {
      "text/plain": [
       "1221"
      ]
     },
     "execution_count": 170,
     "metadata": {},
     "output_type": "execute_result"
    }
   ],
   "source": [
    "# 每个工作人员组合做10次模拟，记录每1次的平均等待时间，取其中10个平均值的最大值，不能超过180分钟\n",
    "F = []\n",
    "\n",
    "for configuration in available_set:\n",
    "    average_waiting_time = get_average_waiting_time(1, 10, configuration)\n",
    "    if max(average_waiting_time) <= 180: # Waiting time should be smaller than 180 minites\n",
    "        F.append(configuration)\n",
    "        \n",
    "len(F)"
   ]
  },
  {
   "cell_type": "markdown",
   "metadata": {},
   "source": [
    "# Optimization algorithm"
   ]
  },
  {
   "cell_type": "code",
   "execution_count": 171,
   "metadata": {},
   "outputs": [],
   "source": [
    "def get_discharge_number(arrival_rates_multiple_times, staff_configurattion:list):\n",
    "    arrival_rates = arrival_rates_multiple_times * [5.33, 5.33, 3.82, 3.82, 3.06, 3.06, 4.54, 4.54, 6.81, 6.84, 8.32, 8.32, \n",
    "                            9.01, 9.01, 8.36, 7.5, 8.32, 7.5, 8.32, 8.32, 7.5, 5.33, 3.82, 2.3]\n",
    "    arrival_time = arrival_times(arrival_rates)\n",
    "    \n",
    "    env = simpy.Environment()\n",
    "    \n",
    "    projects = [\n",
    "            Project(\"default\", \"uniform\", staff_needed=0, min_time=0, max_time=0),\n",
    "            Project(\"Reception\", \"uniform\", staff_needed=1, min_time=5, max_time=10),\n",
    "            Project(\"Examination room\", \"uniform\", staff_needed=1, min_time=10, max_time=20),\n",
    "            Project(\"Lab tests\", \"triangular\", staff_needed=1, min_time=10, mode_time=20, max_time=30),\n",
    "            Project(\"Reexamination process\", \"uniform\", staff_needed=1, min_time=7, max_time=12),\n",
    "            Project(\"Treatment room\", \"uniform\", staff_needed=1, min_time=20, max_time=30),\n",
    "            Project(\"Emergency room\", \"uniform\", staff_needed=1, min_time=60, max_time=120),\n",
    "            Project(\"Discharge\", \"uniform\", staff_needed=0, min_time=0, max_time=0)  # 出院项目\n",
    "        ]\n",
    "    \n",
    "    staff = Staff()\n",
    "    staff.add_staff(\"default\", 0, 0)\n",
    "    staff.add_staff(\"Reception\", staff_configurattion[0], 0.4)\n",
    "    staff.add_staff(\"Lab tests\", staff_configurattion[2], 0.5)\n",
    "    staff.add_staff(\"Examination room\", staff_configurattion[1], 1.2)\n",
    "    staff.add_staff(\"Reexamination process\", staff_configurattion[1], 1.2)\n",
    "    staff.add_staff(\"Treatment room\", staff_configurattion[3], 0.3)\n",
    "    staff.add_staff(\"Emergency room\", staff_configurattion[4], 0.3)\n",
    "    staff.add_staff(\"Discharge\", 0, 0)\n",
    "    \n",
    "    project_probabilities = {\n",
    "        \"default\": {\"Reception\": 1.0, \"Lab tests\": 0.0, \"Examination room\": 0.0,\n",
    "                    \"Reexamination process\": 0.0, \"Treatment room\": 0.0, \"Emergency room\": 0.0, \"Discharge\": 0.0},\n",
    "        \"Reception\": {\"Examination room\": 1.0, \"Lab tests\": 0.0, \"Reexamination process\": 0.0,\n",
    "                    \"Treatment room\": 0.0, \"Emergency room\": 0.0, \"Discharge\": 0.0},\n",
    "        \"Examination room\": {\"Treatment room\": 0.2, \"Lab tests\": 0.5, \"Discharge\": 0.05, \"Emergency room\": 0.25,\n",
    "                            \"Reception\": 0.0, \"Reexamination process\": 0.0},\n",
    "        \"Lab tests\": {\"Reexamination process\": 1.0, \"Reception\": 0.0, \"Examination room\": 0.0,\n",
    "                    \"Treatment room\": 0.0, \"Emergency room\": 0.0, \"Discharge\": 0.0},\n",
    "        \"Reexamination process\": {\"Treatment room\": 0.4, \"Discharge\": 0.1, \"Emergency room\": 0.5,\n",
    "                                \"Reception\": 0.0, \"Lab tests\": 0.0, \"Examination room\": 0.0},\n",
    "        \"Treatment room\": {\"Discharge\": 1.0, \"Reception\": 0.0, \"Lab tests\": 0.0, \"Examination room\": 0.0,\n",
    "                            \"Reexamination process\": 0.0, \"Emergency room\": 0.0},\n",
    "        \"Emergency room\": {\"Discharge\": 1.0, \"Reception\": 0.0, \"Lab tests\": 0.0, \"Examination room\": 0.0,\n",
    "                            \"Reexamination process\": 0.0, \"Treatment room\": 0.0},\n",
    "        \"Discharge\": {\"Reception\": 0.0, \"Lab tests\": 0.0, \"Examination room\": 0.0,\n",
    "                    \"Reexamination process\": 0.0, \"Treatment room\": 0.0, \"Emergency room\": 0.0}\n",
    "    }\n",
    "    \n",
    "    emergency_department = EmergencyDepartment(env, staff, projects, project_probabilities, arrival_time)\n",
    "    \n",
    "    env.process(emergency_department.process_patient(emergency_department.patients))\n",
    "    env.run(until=1440)\n",
    "    \n",
    "    discharge_count_per_hour = {}\n",
    "    for hour in range(24):  # 遍历24小时\n",
    "        discharge_count_per_hour[hour] = 0  # 初始化每小时的出院人数为0\n",
    "    for patient in emergency_department.patients:\n",
    "        completed_projects = patient.completed_projects\n",
    "        if completed_projects and completed_projects[-1].name == \"Discharge\":  # 检查是否有完成的项目，并且最后一个项目是\"Discharge\"\n",
    "            discharge_time = patient.start_times.get(\"Discharge\", -1)  # 获取\"Discharge\"项目的开始时间\n",
    "            if discharge_time != -1:  # 如果有\"Discharge\"项目\n",
    "                hour = discharge_time // 60  # 计算\"Discharge\"项目开始的小时\n",
    "                discharge_count_per_hour[hour] += 1  # 对应小时的出院人数加1\n",
    "    return sum(list(discharge_count_per_hour.values()))\n",
    "\n",
    "def find_optimal_configuration(bound, feasible_set, arrival_rates_multiple_times):\n",
    "    FF = copy.deepcopy(feasible_set)\n",
    "    i = random.choice(FF)\n",
    "    FF.remove(i)\n",
    "    \n",
    "    T_total = []\n",
    "    \n",
    "    configuration_pair = []\n",
    "    X = []\n",
    "    T = []\n",
    "    current_configuration = i\n",
    "\n",
    "    for _ in tqdm(range(len(FF) - 1)):\n",
    "        j = random.choice(FF)\n",
    "        FF.remove(j)\n",
    "        configuration_pair.append((current_configuration, j))\n",
    "        while sum(X) > -bound and sum(X) < bound:\n",
    "            discharge_number_current_configuration = get_discharge_number(arrival_rates_multiple_times, current_configuration)\n",
    "            discharge_number_j = get_discharge_number(arrival_rates_multiple_times, j)\n",
    "            if discharge_number_current_configuration < discharge_number_j:\n",
    "                X.append(1)\n",
    "            elif discharge_number_current_configuration > discharge_number_j:\n",
    "                X.append(-1)\n",
    "            else:\n",
    "                X.append(0)\n",
    "            T.append(sum(X))\n",
    "        T_total.append(T)\n",
    "        print(T)\n",
    "        if sum(X) >= bound:\n",
    "            current_configuration = j\n",
    "        T = []\n",
    "        X = []\n",
    "        \n",
    "    optimal_configuration = current_configuration \n",
    "    \n",
    "    return optimal_configuration, configuration_pair, T_total"
   ]
  },
  {
   "cell_type": "code",
   "execution_count": 172,
   "metadata": {},
   "outputs": [
    {
     "name": "stderr",
     "output_type": "stream",
     "text": [
      "  0%|          | 1/1219 [00:00<06:45,  3.01it/s]"
     ]
    },
    {
     "name": "stdout",
     "output_type": "stream",
     "text": [
      "[1, 2, 3]\n"
     ]
    },
    {
     "name": "stderr",
     "output_type": "stream",
     "text": [
      "  0%|          | 2/1219 [00:00<06:48,  2.98it/s]"
     ]
    },
    {
     "name": "stdout",
     "output_type": "stream",
     "text": [
      "[1, 2, 3]\n"
     ]
    },
    {
     "name": "stderr",
     "output_type": "stream",
     "text": [
      "  0%|          | 3/1219 [00:00<06:41,  3.03it/s]"
     ]
    },
    {
     "name": "stdout",
     "output_type": "stream",
     "text": [
      "[-1, -2, -3]\n"
     ]
    },
    {
     "name": "stderr",
     "output_type": "stream",
     "text": [
      "  0%|          | 4/1219 [00:01<06:38,  3.05it/s]"
     ]
    },
    {
     "name": "stdout",
     "output_type": "stream",
     "text": [
      "[-1, -2, -3]\n"
     ]
    },
    {
     "name": "stderr",
     "output_type": "stream",
     "text": [
      "  0%|          | 5/1219 [00:01<06:42,  3.02it/s]"
     ]
    },
    {
     "name": "stdout",
     "output_type": "stream",
     "text": [
      "[-1, -2, -3]\n"
     ]
    },
    {
     "name": "stderr",
     "output_type": "stream",
     "text": [
      "  0%|          | 6/1219 [00:01<06:42,  3.01it/s]"
     ]
    },
    {
     "name": "stdout",
     "output_type": "stream",
     "text": [
      "[-1, -2, -3]\n"
     ]
    },
    {
     "name": "stderr",
     "output_type": "stream",
     "text": [
      "  1%|          | 7/1219 [00:02<06:38,  3.04it/s]"
     ]
    },
    {
     "name": "stdout",
     "output_type": "stream",
     "text": [
      "[-1, -2, -3]\n"
     ]
    },
    {
     "name": "stderr",
     "output_type": "stream",
     "text": [
      "  1%|          | 8/1219 [00:02<06:37,  3.05it/s]"
     ]
    },
    {
     "name": "stdout",
     "output_type": "stream",
     "text": [
      "[-1, -2, -3]\n"
     ]
    },
    {
     "name": "stderr",
     "output_type": "stream",
     "text": [
      "  1%|          | 9/1219 [00:02<06:33,  3.07it/s]"
     ]
    },
    {
     "name": "stdout",
     "output_type": "stream",
     "text": [
      "[-1, -2, -3]\n"
     ]
    },
    {
     "name": "stderr",
     "output_type": "stream",
     "text": [
      "  1%|          | 10/1219 [00:03<06:33,  3.07it/s]"
     ]
    },
    {
     "name": "stdout",
     "output_type": "stream",
     "text": [
      "[-1, -2, -3]\n"
     ]
    },
    {
     "name": "stderr",
     "output_type": "stream",
     "text": [
      "  1%|          | 11/1219 [00:03<06:36,  3.05it/s]"
     ]
    },
    {
     "name": "stdout",
     "output_type": "stream",
     "text": [
      "[-1, -2, -3]\n"
     ]
    },
    {
     "name": "stderr",
     "output_type": "stream",
     "text": [
      "  1%|          | 12/1219 [00:03<06:35,  3.05it/s]"
     ]
    },
    {
     "name": "stdout",
     "output_type": "stream",
     "text": [
      "[-1, -2, -3]\n"
     ]
    },
    {
     "name": "stderr",
     "output_type": "stream",
     "text": [
      "  1%|          | 13/1219 [00:04<06:34,  3.06it/s]"
     ]
    },
    {
     "name": "stdout",
     "output_type": "stream",
     "text": [
      "[-1, -2, -3]\n"
     ]
    },
    {
     "name": "stderr",
     "output_type": "stream",
     "text": [
      "  1%|          | 14/1219 [00:04<06:33,  3.06it/s]"
     ]
    },
    {
     "name": "stdout",
     "output_type": "stream",
     "text": [
      "[-1, -2, -3]\n"
     ]
    },
    {
     "name": "stderr",
     "output_type": "stream",
     "text": [
      "  1%|          | 15/1219 [00:04<06:32,  3.07it/s]"
     ]
    },
    {
     "name": "stdout",
     "output_type": "stream",
     "text": [
      "[-1, -2, -3]\n"
     ]
    },
    {
     "name": "stderr",
     "output_type": "stream",
     "text": [
      "  1%|▏         | 16/1219 [00:05<06:35,  3.04it/s]"
     ]
    },
    {
     "name": "stdout",
     "output_type": "stream",
     "text": [
      "[-1, -2, -3]\n"
     ]
    },
    {
     "name": "stderr",
     "output_type": "stream",
     "text": [
      "  1%|▏         | 17/1219 [00:05<06:34,  3.05it/s]"
     ]
    },
    {
     "name": "stdout",
     "output_type": "stream",
     "text": [
      "[-1, -2, -3]\n"
     ]
    },
    {
     "name": "stderr",
     "output_type": "stream",
     "text": [
      "  1%|▏         | 18/1219 [00:05<06:32,  3.06it/s]"
     ]
    },
    {
     "name": "stdout",
     "output_type": "stream",
     "text": [
      "[-1, -2, -3]\n"
     ]
    },
    {
     "name": "stderr",
     "output_type": "stream",
     "text": [
      "  2%|▏         | 19/1219 [00:06<06:31,  3.06it/s]"
     ]
    },
    {
     "name": "stdout",
     "output_type": "stream",
     "text": [
      "[-1, -2, -3]\n"
     ]
    },
    {
     "name": "stderr",
     "output_type": "stream",
     "text": [
      "  2%|▏         | 20/1219 [00:06<06:34,  3.04it/s]"
     ]
    },
    {
     "name": "stdout",
     "output_type": "stream",
     "text": [
      "[-1, -2, -3]\n"
     ]
    },
    {
     "name": "stderr",
     "output_type": "stream",
     "text": [
      "  2%|▏         | 21/1219 [00:06<06:31,  3.06it/s]"
     ]
    },
    {
     "name": "stdout",
     "output_type": "stream",
     "text": [
      "[-1, -2, -3]\n"
     ]
    },
    {
     "name": "stderr",
     "output_type": "stream",
     "text": [
      "  2%|▏         | 22/1219 [00:07<06:30,  3.07it/s]"
     ]
    },
    {
     "name": "stdout",
     "output_type": "stream",
     "text": [
      "[-1, -2, -3]\n"
     ]
    },
    {
     "name": "stderr",
     "output_type": "stream",
     "text": [
      "  2%|▏         | 23/1219 [00:07<06:30,  3.07it/s]"
     ]
    },
    {
     "name": "stdout",
     "output_type": "stream",
     "text": [
      "[-1, -2, -3]\n"
     ]
    },
    {
     "name": "stderr",
     "output_type": "stream",
     "text": [
      "  2%|▏         | 24/1219 [00:07<06:30,  3.06it/s]"
     ]
    },
    {
     "name": "stdout",
     "output_type": "stream",
     "text": [
      "[-1, -2, -3]\n"
     ]
    },
    {
     "name": "stderr",
     "output_type": "stream",
     "text": [
      "  2%|▏         | 25/1219 [00:08<06:29,  3.06it/s]"
     ]
    },
    {
     "name": "stdout",
     "output_type": "stream",
     "text": [
      "[-1, -2, -3]\n"
     ]
    },
    {
     "name": "stderr",
     "output_type": "stream",
     "text": [
      "  2%|▏         | 26/1219 [00:08<06:28,  3.07it/s]"
     ]
    },
    {
     "name": "stdout",
     "output_type": "stream",
     "text": [
      "[-1, -2, -3]\n"
     ]
    },
    {
     "name": "stderr",
     "output_type": "stream",
     "text": [
      "  2%|▏         | 27/1219 [00:08<06:28,  3.06it/s]"
     ]
    },
    {
     "name": "stdout",
     "output_type": "stream",
     "text": [
      "[-1, -2, -3]\n"
     ]
    },
    {
     "name": "stderr",
     "output_type": "stream",
     "text": [
      "  2%|▏         | 28/1219 [00:09<06:28,  3.06it/s]"
     ]
    },
    {
     "name": "stdout",
     "output_type": "stream",
     "text": [
      "[-1, -2, -3]\n"
     ]
    },
    {
     "name": "stderr",
     "output_type": "stream",
     "text": [
      "  2%|▏         | 29/1219 [00:09<06:27,  3.07it/s]"
     ]
    },
    {
     "name": "stdout",
     "output_type": "stream",
     "text": [
      "[-1, -2, -3]\n"
     ]
    },
    {
     "name": "stderr",
     "output_type": "stream",
     "text": [
      "  2%|▏         | 30/1219 [00:09<06:27,  3.07it/s]"
     ]
    },
    {
     "name": "stdout",
     "output_type": "stream",
     "text": [
      "[-1, -2, -3]\n"
     ]
    },
    {
     "name": "stderr",
     "output_type": "stream",
     "text": [
      "  3%|▎         | 31/1219 [00:10<06:26,  3.07it/s]"
     ]
    },
    {
     "name": "stdout",
     "output_type": "stream",
     "text": [
      "[-1, -2, -3]\n"
     ]
    },
    {
     "name": "stderr",
     "output_type": "stream",
     "text": [
      "  3%|▎         | 32/1219 [00:10<06:26,  3.07it/s]"
     ]
    },
    {
     "name": "stdout",
     "output_type": "stream",
     "text": [
      "[-1, -2, -3]\n"
     ]
    },
    {
     "name": "stderr",
     "output_type": "stream",
     "text": [
      "  3%|▎         | 33/1219 [00:10<06:26,  3.07it/s]"
     ]
    },
    {
     "name": "stdout",
     "output_type": "stream",
     "text": [
      "[-1, -2, -3]\n"
     ]
    },
    {
     "name": "stderr",
     "output_type": "stream",
     "text": [
      "  3%|▎         | 34/1219 [00:11<06:24,  3.08it/s]"
     ]
    },
    {
     "name": "stdout",
     "output_type": "stream",
     "text": [
      "[-1, -2, -3]\n"
     ]
    },
    {
     "name": "stderr",
     "output_type": "stream",
     "text": [
      "  3%|▎         | 35/1219 [00:11<06:23,  3.09it/s]"
     ]
    },
    {
     "name": "stdout",
     "output_type": "stream",
     "text": [
      "[-1, -2, -3]\n"
     ]
    },
    {
     "name": "stderr",
     "output_type": "stream",
     "text": [
      "  3%|▎         | 36/1219 [00:11<06:27,  3.05it/s]"
     ]
    },
    {
     "name": "stdout",
     "output_type": "stream",
     "text": [
      "[-1, -2, -3]\n"
     ]
    },
    {
     "name": "stderr",
     "output_type": "stream",
     "text": [
      "  3%|▎         | 37/1219 [00:12<06:26,  3.06it/s]"
     ]
    },
    {
     "name": "stdout",
     "output_type": "stream",
     "text": [
      "[-1, -2, -3]\n"
     ]
    },
    {
     "name": "stderr",
     "output_type": "stream",
     "text": [
      "  3%|▎         | 38/1219 [00:12<06:24,  3.07it/s]"
     ]
    },
    {
     "name": "stdout",
     "output_type": "stream",
     "text": [
      "[-1, -2, -3]\n"
     ]
    },
    {
     "name": "stderr",
     "output_type": "stream",
     "text": [
      "  3%|▎         | 39/1219 [00:12<06:23,  3.08it/s]"
     ]
    },
    {
     "name": "stdout",
     "output_type": "stream",
     "text": [
      "[-1, -2, -3]\n"
     ]
    },
    {
     "name": "stderr",
     "output_type": "stream",
     "text": [
      "  3%|▎         | 40/1219 [00:13<06:26,  3.05it/s]"
     ]
    },
    {
     "name": "stdout",
     "output_type": "stream",
     "text": [
      "[-1, -2, -3]\n"
     ]
    },
    {
     "name": "stderr",
     "output_type": "stream",
     "text": [
      "  3%|▎         | 41/1219 [00:13<06:25,  3.06it/s]"
     ]
    },
    {
     "name": "stdout",
     "output_type": "stream",
     "text": [
      "[-1, -2, -3]\n"
     ]
    },
    {
     "name": "stderr",
     "output_type": "stream",
     "text": [
      "  3%|▎         | 42/1219 [00:13<06:24,  3.06it/s]"
     ]
    },
    {
     "name": "stdout",
     "output_type": "stream",
     "text": [
      "[-1, -2, -3]\n"
     ]
    },
    {
     "name": "stderr",
     "output_type": "stream",
     "text": [
      "  4%|▎         | 43/1219 [00:14<06:22,  3.07it/s]"
     ]
    },
    {
     "name": "stdout",
     "output_type": "stream",
     "text": [
      "[-1, -2, -3]\n"
     ]
    },
    {
     "name": "stderr",
     "output_type": "stream",
     "text": [
      "  4%|▎         | 44/1219 [00:14<06:27,  3.03it/s]"
     ]
    },
    {
     "name": "stdout",
     "output_type": "stream",
     "text": [
      "[-1, -2, -3]\n"
     ]
    },
    {
     "name": "stderr",
     "output_type": "stream",
     "text": [
      "  4%|▎         | 45/1219 [00:14<06:29,  3.02it/s]"
     ]
    },
    {
     "name": "stdout",
     "output_type": "stream",
     "text": [
      "[-1, -2, -3]\n"
     ]
    },
    {
     "name": "stderr",
     "output_type": "stream",
     "text": [
      "  4%|▍         | 46/1219 [00:15<06:26,  3.04it/s]"
     ]
    },
    {
     "name": "stdout",
     "output_type": "stream",
     "text": [
      "[-1, -2, -3]\n"
     ]
    },
    {
     "name": "stderr",
     "output_type": "stream",
     "text": [
      "  4%|▍         | 47/1219 [00:15<06:28,  3.02it/s]"
     ]
    },
    {
     "name": "stdout",
     "output_type": "stream",
     "text": [
      "[-1, -2, -3]\n"
     ]
    },
    {
     "name": "stderr",
     "output_type": "stream",
     "text": [
      "  4%|▍         | 48/1219 [00:15<06:25,  3.04it/s]"
     ]
    },
    {
     "name": "stdout",
     "output_type": "stream",
     "text": [
      "[-1, -2, -3]\n"
     ]
    },
    {
     "name": "stderr",
     "output_type": "stream",
     "text": [
      "  4%|▍         | 49/1219 [00:16<06:27,  3.02it/s]"
     ]
    },
    {
     "name": "stdout",
     "output_type": "stream",
     "text": [
      "[-1, -2, -3]\n"
     ]
    },
    {
     "name": "stderr",
     "output_type": "stream",
     "text": [
      "  4%|▍         | 50/1219 [00:16<06:25,  3.03it/s]"
     ]
    },
    {
     "name": "stdout",
     "output_type": "stream",
     "text": [
      "[-1, -2, -3]\n"
     ]
    },
    {
     "name": "stderr",
     "output_type": "stream",
     "text": [
      "  4%|▍         | 51/1219 [00:16<06:24,  3.04it/s]"
     ]
    },
    {
     "name": "stdout",
     "output_type": "stream",
     "text": [
      "[-1, -2, -3]\n"
     ]
    },
    {
     "name": "stderr",
     "output_type": "stream",
     "text": [
      "  4%|▍         | 52/1219 [00:17<06:26,  3.02it/s]"
     ]
    },
    {
     "name": "stdout",
     "output_type": "stream",
     "text": [
      "[-1, -2, -3]\n"
     ]
    },
    {
     "name": "stderr",
     "output_type": "stream",
     "text": [
      "  4%|▍         | 53/1219 [00:17<06:28,  3.00it/s]"
     ]
    },
    {
     "name": "stdout",
     "output_type": "stream",
     "text": [
      "[-1, -2, -3]\n"
     ]
    },
    {
     "name": "stderr",
     "output_type": "stream",
     "text": [
      "  4%|▍         | 54/1219 [00:17<06:28,  3.00it/s]"
     ]
    },
    {
     "name": "stdout",
     "output_type": "stream",
     "text": [
      "[-1, -2, -3]\n"
     ]
    },
    {
     "name": "stderr",
     "output_type": "stream",
     "text": [
      "  5%|▍         | 55/1219 [00:18<06:28,  2.99it/s]"
     ]
    },
    {
     "name": "stdout",
     "output_type": "stream",
     "text": [
      "[-1, -2, -3]\n"
     ]
    },
    {
     "name": "stderr",
     "output_type": "stream",
     "text": [
      "  5%|▍         | 56/1219 [00:18<06:25,  3.02it/s]"
     ]
    },
    {
     "name": "stdout",
     "output_type": "stream",
     "text": [
      "[-1, -2, -3]\n"
     ]
    },
    {
     "name": "stderr",
     "output_type": "stream",
     "text": [
      "  5%|▍         | 57/1219 [00:18<06:26,  3.00it/s]"
     ]
    },
    {
     "name": "stdout",
     "output_type": "stream",
     "text": [
      "[-1, -2, -3]\n"
     ]
    },
    {
     "name": "stderr",
     "output_type": "stream",
     "text": [
      "  5%|▍         | 58/1219 [00:19<06:24,  3.02it/s]"
     ]
    },
    {
     "name": "stdout",
     "output_type": "stream",
     "text": [
      "[-1, -2, -3]\n"
     ]
    },
    {
     "name": "stderr",
     "output_type": "stream",
     "text": [
      "  5%|▍         | 59/1219 [00:19<06:24,  3.02it/s]"
     ]
    },
    {
     "name": "stdout",
     "output_type": "stream",
     "text": [
      "[-1, -2, -3]\n"
     ]
    },
    {
     "name": "stderr",
     "output_type": "stream",
     "text": [
      "  5%|▍         | 60/1219 [00:19<06:28,  2.98it/s]"
     ]
    },
    {
     "name": "stdout",
     "output_type": "stream",
     "text": [
      "[-1, -2, -3]\n"
     ]
    },
    {
     "name": "stderr",
     "output_type": "stream",
     "text": [
      "  5%|▌         | 61/1219 [00:20<06:24,  3.01it/s]"
     ]
    },
    {
     "name": "stdout",
     "output_type": "stream",
     "text": [
      "[-1, -2, -3]\n"
     ]
    },
    {
     "name": "stderr",
     "output_type": "stream",
     "text": [
      "  5%|▌         | 62/1219 [00:20<06:20,  3.04it/s]"
     ]
    },
    {
     "name": "stdout",
     "output_type": "stream",
     "text": [
      "[-1, -2, -3]\n"
     ]
    },
    {
     "name": "stderr",
     "output_type": "stream",
     "text": [
      "  5%|▌         | 63/1219 [00:20<06:23,  3.02it/s]"
     ]
    },
    {
     "name": "stdout",
     "output_type": "stream",
     "text": [
      "[-1, -2, -3]\n"
     ]
    },
    {
     "name": "stderr",
     "output_type": "stream",
     "text": [
      "  5%|▌         | 64/1219 [00:21<06:20,  3.04it/s]"
     ]
    },
    {
     "name": "stdout",
     "output_type": "stream",
     "text": [
      "[-1, -2, -3]\n"
     ]
    },
    {
     "name": "stderr",
     "output_type": "stream",
     "text": [
      "  5%|▌         | 65/1219 [00:21<06:22,  3.02it/s]"
     ]
    },
    {
     "name": "stdout",
     "output_type": "stream",
     "text": [
      "[-1, -2, -3]\n"
     ]
    },
    {
     "name": "stderr",
     "output_type": "stream",
     "text": [
      "  5%|▌         | 66/1219 [00:21<06:23,  3.00it/s]"
     ]
    },
    {
     "name": "stdout",
     "output_type": "stream",
     "text": [
      "[-1, -2, -3]\n"
     ]
    },
    {
     "name": "stderr",
     "output_type": "stream",
     "text": [
      "  5%|▌         | 67/1219 [00:22<06:21,  3.02it/s]"
     ]
    },
    {
     "name": "stdout",
     "output_type": "stream",
     "text": [
      "[-1, -2, -3]\n"
     ]
    },
    {
     "name": "stderr",
     "output_type": "stream",
     "text": [
      "  6%|▌         | 68/1219 [00:22<06:19,  3.03it/s]"
     ]
    },
    {
     "name": "stdout",
     "output_type": "stream",
     "text": [
      "[-1, -2, -3]\n"
     ]
    },
    {
     "name": "stderr",
     "output_type": "stream",
     "text": [
      "  6%|▌         | 69/1219 [00:22<06:22,  3.00it/s]"
     ]
    },
    {
     "name": "stdout",
     "output_type": "stream",
     "text": [
      "[-1, -2, -3]\n"
     ]
    },
    {
     "name": "stderr",
     "output_type": "stream",
     "text": [
      "  6%|▌         | 70/1219 [00:23<06:19,  3.03it/s]"
     ]
    },
    {
     "name": "stdout",
     "output_type": "stream",
     "text": [
      "[-1, -2, -3]\n"
     ]
    },
    {
     "name": "stderr",
     "output_type": "stream",
     "text": [
      "  6%|▌         | 71/1219 [00:23<06:18,  3.03it/s]"
     ]
    },
    {
     "name": "stdout",
     "output_type": "stream",
     "text": [
      "[-1, -2, -3]\n"
     ]
    },
    {
     "name": "stderr",
     "output_type": "stream",
     "text": [
      "  6%|▌         | 72/1219 [00:23<06:20,  3.01it/s]"
     ]
    },
    {
     "name": "stdout",
     "output_type": "stream",
     "text": [
      "[-1, -2, -3]\n"
     ]
    },
    {
     "name": "stderr",
     "output_type": "stream",
     "text": [
      "  6%|▌         | 73/1219 [00:24<06:21,  3.01it/s]"
     ]
    },
    {
     "name": "stdout",
     "output_type": "stream",
     "text": [
      "[-1, -2, -3]\n"
     ]
    },
    {
     "name": "stderr",
     "output_type": "stream",
     "text": [
      "  6%|▌         | 74/1219 [00:24<06:22,  3.00it/s]"
     ]
    },
    {
     "name": "stdout",
     "output_type": "stream",
     "text": [
      "[-1, -2, -3]\n"
     ]
    },
    {
     "name": "stderr",
     "output_type": "stream",
     "text": [
      "  6%|▌         | 75/1219 [00:24<06:19,  3.01it/s]"
     ]
    },
    {
     "name": "stdout",
     "output_type": "stream",
     "text": [
      "[-1, -2, -3]\n"
     ]
    },
    {
     "name": "stderr",
     "output_type": "stream",
     "text": [
      "  6%|▌         | 76/1219 [00:25<06:20,  3.00it/s]"
     ]
    },
    {
     "name": "stdout",
     "output_type": "stream",
     "text": [
      "[-1, -2, -3]\n"
     ]
    },
    {
     "name": "stderr",
     "output_type": "stream",
     "text": [
      "  6%|▋         | 77/1219 [00:25<06:18,  3.02it/s]"
     ]
    },
    {
     "name": "stdout",
     "output_type": "stream",
     "text": [
      "[-1, -2, -3]\n"
     ]
    },
    {
     "name": "stderr",
     "output_type": "stream",
     "text": [
      "  6%|▋         | 78/1219 [00:25<06:20,  3.00it/s]"
     ]
    },
    {
     "name": "stdout",
     "output_type": "stream",
     "text": [
      "[-1, -2, -3]\n"
     ]
    },
    {
     "name": "stderr",
     "output_type": "stream",
     "text": [
      "  6%|▋         | 79/1219 [00:25<06:15,  3.04it/s]"
     ]
    },
    {
     "name": "stdout",
     "output_type": "stream",
     "text": [
      "[-1, -2, -3]\n"
     ]
    },
    {
     "name": "stderr",
     "output_type": "stream",
     "text": [
      "  7%|▋         | 80/1219 [00:26<06:14,  3.04it/s]"
     ]
    },
    {
     "name": "stdout",
     "output_type": "stream",
     "text": [
      "[-1, -2, -3]\n"
     ]
    },
    {
     "name": "stderr",
     "output_type": "stream",
     "text": [
      "  7%|▋         | 81/1219 [00:26<06:14,  3.04it/s]"
     ]
    },
    {
     "name": "stdout",
     "output_type": "stream",
     "text": [
      "[-1, -2, -3]\n"
     ]
    },
    {
     "name": "stderr",
     "output_type": "stream",
     "text": [
      "  7%|▋         | 82/1219 [00:26<06:12,  3.05it/s]"
     ]
    },
    {
     "name": "stdout",
     "output_type": "stream",
     "text": [
      "[-1, -2, -3]\n"
     ]
    },
    {
     "name": "stderr",
     "output_type": "stream",
     "text": [
      "  7%|▋         | 83/1219 [00:27<06:15,  3.03it/s]"
     ]
    },
    {
     "name": "stdout",
     "output_type": "stream",
     "text": [
      "[-1, -2, -3]\n"
     ]
    },
    {
     "name": "stderr",
     "output_type": "stream",
     "text": [
      "  7%|▋         | 84/1219 [00:27<06:13,  3.04it/s]"
     ]
    },
    {
     "name": "stdout",
     "output_type": "stream",
     "text": [
      "[-1, -2, -3]\n"
     ]
    },
    {
     "name": "stderr",
     "output_type": "stream",
     "text": [
      "  7%|▋         | 85/1219 [00:27<06:11,  3.05it/s]"
     ]
    },
    {
     "name": "stdout",
     "output_type": "stream",
     "text": [
      "[-1, -2, -3]\n"
     ]
    },
    {
     "name": "stderr",
     "output_type": "stream",
     "text": [
      "  7%|▋         | 86/1219 [00:28<06:13,  3.03it/s]"
     ]
    },
    {
     "name": "stdout",
     "output_type": "stream",
     "text": [
      "[-1, -2, -3]\n"
     ]
    },
    {
     "name": "stderr",
     "output_type": "stream",
     "text": [
      "  7%|▋         | 87/1219 [00:28<06:15,  3.01it/s]"
     ]
    },
    {
     "name": "stdout",
     "output_type": "stream",
     "text": [
      "[-1, -2, -3]\n"
     ]
    },
    {
     "name": "stderr",
     "output_type": "stream",
     "text": [
      "  7%|▋         | 88/1219 [00:28<06:12,  3.04it/s]"
     ]
    },
    {
     "name": "stdout",
     "output_type": "stream",
     "text": [
      "[-1, -2, -3]\n"
     ]
    },
    {
     "name": "stderr",
     "output_type": "stream",
     "text": [
      "  7%|▋         | 89/1219 [00:29<06:10,  3.05it/s]"
     ]
    },
    {
     "name": "stdout",
     "output_type": "stream",
     "text": [
      "[-1, -2, -3]\n"
     ]
    },
    {
     "name": "stderr",
     "output_type": "stream",
     "text": [
      "  7%|▋         | 90/1219 [00:29<06:10,  3.05it/s]"
     ]
    },
    {
     "name": "stdout",
     "output_type": "stream",
     "text": [
      "[-1, -2, -3]\n"
     ]
    },
    {
     "name": "stderr",
     "output_type": "stream",
     "text": [
      "  7%|▋         | 91/1219 [00:29<06:12,  3.03it/s]"
     ]
    },
    {
     "name": "stdout",
     "output_type": "stream",
     "text": [
      "[-1, -2, -3]\n"
     ]
    },
    {
     "name": "stderr",
     "output_type": "stream",
     "text": [
      "  8%|▊         | 92/1219 [00:30<06:12,  3.02it/s]"
     ]
    },
    {
     "name": "stdout",
     "output_type": "stream",
     "text": [
      "[-1, -2, -3]\n"
     ]
    },
    {
     "name": "stderr",
     "output_type": "stream",
     "text": [
      "  8%|▊         | 93/1219 [00:30<06:14,  3.01it/s]"
     ]
    },
    {
     "name": "stdout",
     "output_type": "stream",
     "text": [
      "[-1, -2, -3]\n"
     ]
    },
    {
     "name": "stderr",
     "output_type": "stream",
     "text": [
      "  8%|▊         | 94/1219 [00:30<06:14,  3.00it/s]"
     ]
    },
    {
     "name": "stdout",
     "output_type": "stream",
     "text": [
      "[-1, -2, -3]\n"
     ]
    },
    {
     "name": "stderr",
     "output_type": "stream",
     "text": [
      "  8%|▊         | 95/1219 [00:31<06:11,  3.03it/s]"
     ]
    },
    {
     "name": "stdout",
     "output_type": "stream",
     "text": [
      "[-1, -2, -3]\n"
     ]
    },
    {
     "name": "stderr",
     "output_type": "stream",
     "text": [
      "  8%|▊         | 96/1219 [00:31<06:09,  3.04it/s]"
     ]
    },
    {
     "name": "stdout",
     "output_type": "stream",
     "text": [
      "[-1, -2, -3]\n"
     ]
    },
    {
     "name": "stderr",
     "output_type": "stream",
     "text": [
      "  8%|▊         | 97/1219 [00:31<06:11,  3.02it/s]"
     ]
    },
    {
     "name": "stdout",
     "output_type": "stream",
     "text": [
      "[-1, -2, -3]\n"
     ]
    },
    {
     "name": "stderr",
     "output_type": "stream",
     "text": [
      "  8%|▊         | 98/1219 [00:32<06:08,  3.04it/s]"
     ]
    },
    {
     "name": "stdout",
     "output_type": "stream",
     "text": [
      "[-1, -2, -3]\n"
     ]
    },
    {
     "name": "stderr",
     "output_type": "stream",
     "text": [
      "  8%|▊         | 99/1219 [00:32<06:11,  3.01it/s]"
     ]
    },
    {
     "name": "stdout",
     "output_type": "stream",
     "text": [
      "[-1, -2, -3]\n"
     ]
    },
    {
     "name": "stderr",
     "output_type": "stream",
     "text": [
      "  8%|▊         | 100/1219 [00:32<06:12,  3.01it/s]"
     ]
    },
    {
     "name": "stdout",
     "output_type": "stream",
     "text": [
      "[-1, -2, -3]\n"
     ]
    },
    {
     "name": "stderr",
     "output_type": "stream",
     "text": [
      "  8%|▊         | 101/1219 [00:33<06:12,  3.00it/s]"
     ]
    },
    {
     "name": "stdout",
     "output_type": "stream",
     "text": [
      "[-1, -2, -3]\n"
     ]
    },
    {
     "name": "stderr",
     "output_type": "stream",
     "text": [
      "  8%|▊         | 102/1219 [00:33<06:13,  2.99it/s]"
     ]
    },
    {
     "name": "stdout",
     "output_type": "stream",
     "text": [
      "[-1, -2, -3]\n"
     ]
    },
    {
     "name": "stderr",
     "output_type": "stream",
     "text": [
      "  8%|▊         | 103/1219 [00:33<06:13,  2.99it/s]"
     ]
    },
    {
     "name": "stdout",
     "output_type": "stream",
     "text": [
      "[-1, -2, -3]\n"
     ]
    },
    {
     "name": "stderr",
     "output_type": "stream",
     "text": [
      "  9%|▊         | 104/1219 [00:34<06:13,  2.99it/s]"
     ]
    },
    {
     "name": "stdout",
     "output_type": "stream",
     "text": [
      "[-1, -2, -3]\n"
     ]
    },
    {
     "name": "stderr",
     "output_type": "stream",
     "text": [
      "  9%|▊         | 105/1219 [00:34<06:10,  3.01it/s]"
     ]
    },
    {
     "name": "stdout",
     "output_type": "stream",
     "text": [
      "[-1, -2, -3]\n"
     ]
    },
    {
     "name": "stderr",
     "output_type": "stream",
     "text": [
      "  9%|▊         | 106/1219 [00:34<06:07,  3.03it/s]"
     ]
    },
    {
     "name": "stdout",
     "output_type": "stream",
     "text": [
      "[-1, -2, -3]\n"
     ]
    },
    {
     "name": "stderr",
     "output_type": "stream",
     "text": [
      "  9%|▉         | 107/1219 [00:35<06:06,  3.03it/s]"
     ]
    },
    {
     "name": "stdout",
     "output_type": "stream",
     "text": [
      "[-1, -2, -3]\n"
     ]
    },
    {
     "name": "stderr",
     "output_type": "stream",
     "text": [
      "  9%|▉         | 108/1219 [00:35<06:05,  3.04it/s]"
     ]
    },
    {
     "name": "stdout",
     "output_type": "stream",
     "text": [
      "[-1, -2, -3]\n"
     ]
    },
    {
     "name": "stderr",
     "output_type": "stream",
     "text": [
      "  9%|▉         | 109/1219 [00:35<06:04,  3.04it/s]"
     ]
    },
    {
     "name": "stdout",
     "output_type": "stream",
     "text": [
      "[-1, -2, -3]\n"
     ]
    },
    {
     "name": "stderr",
     "output_type": "stream",
     "text": [
      "  9%|▉         | 110/1219 [00:36<06:07,  3.02it/s]"
     ]
    },
    {
     "name": "stdout",
     "output_type": "stream",
     "text": [
      "[-1, -2, -3]\n"
     ]
    },
    {
     "name": "stderr",
     "output_type": "stream",
     "text": [
      "  9%|▉         | 111/1219 [00:36<06:05,  3.03it/s]"
     ]
    },
    {
     "name": "stdout",
     "output_type": "stream",
     "text": [
      "[-1, -2, -3]\n"
     ]
    },
    {
     "name": "stderr",
     "output_type": "stream",
     "text": [
      "  9%|▉         | 112/1219 [00:36<06:04,  3.04it/s]"
     ]
    },
    {
     "name": "stdout",
     "output_type": "stream",
     "text": [
      "[-1, -2, -3]\n"
     ]
    },
    {
     "name": "stderr",
     "output_type": "stream",
     "text": [
      "  9%|▉         | 113/1219 [00:37<06:03,  3.04it/s]"
     ]
    },
    {
     "name": "stdout",
     "output_type": "stream",
     "text": [
      "[-1, -2, -3]\n"
     ]
    },
    {
     "name": "stderr",
     "output_type": "stream",
     "text": [
      "  9%|▉         | 114/1219 [00:37<06:02,  3.05it/s]"
     ]
    },
    {
     "name": "stdout",
     "output_type": "stream",
     "text": [
      "[-1, -2, -3]\n"
     ]
    },
    {
     "name": "stderr",
     "output_type": "stream",
     "text": [
      "  9%|▉         | 115/1219 [00:37<06:01,  3.06it/s]"
     ]
    },
    {
     "name": "stdout",
     "output_type": "stream",
     "text": [
      "[-1, -2, -3]\n"
     ]
    },
    {
     "name": "stderr",
     "output_type": "stream",
     "text": [
      " 10%|▉         | 116/1219 [00:38<06:00,  3.06it/s]"
     ]
    },
    {
     "name": "stdout",
     "output_type": "stream",
     "text": [
      "[-1, -2, -3]\n"
     ]
    },
    {
     "name": "stderr",
     "output_type": "stream",
     "text": [
      " 10%|▉         | 117/1219 [00:38<05:59,  3.06it/s]"
     ]
    },
    {
     "name": "stdout",
     "output_type": "stream",
     "text": [
      "[-1, -2, -3]\n"
     ]
    },
    {
     "name": "stderr",
     "output_type": "stream",
     "text": [
      " 10%|▉         | 118/1219 [00:38<06:02,  3.04it/s]"
     ]
    },
    {
     "name": "stdout",
     "output_type": "stream",
     "text": [
      "[-1, -2, -3]\n"
     ]
    },
    {
     "name": "stderr",
     "output_type": "stream",
     "text": [
      " 10%|▉         | 119/1219 [00:39<06:00,  3.05it/s]"
     ]
    },
    {
     "name": "stdout",
     "output_type": "stream",
     "text": [
      "[-1, -2, -3]\n"
     ]
    },
    {
     "name": "stderr",
     "output_type": "stream",
     "text": [
      " 10%|▉         | 120/1219 [00:39<05:58,  3.06it/s]"
     ]
    },
    {
     "name": "stdout",
     "output_type": "stream",
     "text": [
      "[-1, -2, -3]\n"
     ]
    },
    {
     "name": "stderr",
     "output_type": "stream",
     "text": [
      " 10%|▉         | 121/1219 [00:40<07:15,  2.52it/s]"
     ]
    },
    {
     "name": "stdout",
     "output_type": "stream",
     "text": [
      "[1, 0, -1, -2, -3]\n"
     ]
    },
    {
     "name": "stderr",
     "output_type": "stream",
     "text": [
      " 10%|█         | 122/1219 [00:40<06:51,  2.66it/s]"
     ]
    },
    {
     "name": "stdout",
     "output_type": "stream",
     "text": [
      "[-1, -2, -3]\n"
     ]
    },
    {
     "name": "stderr",
     "output_type": "stream",
     "text": [
      " 10%|█         | 123/1219 [00:40<06:38,  2.75it/s]"
     ]
    },
    {
     "name": "stdout",
     "output_type": "stream",
     "text": [
      "[-1, -2, -3]\n"
     ]
    },
    {
     "name": "stderr",
     "output_type": "stream",
     "text": [
      " 10%|█         | 124/1219 [00:41<06:25,  2.84it/s]"
     ]
    },
    {
     "name": "stdout",
     "output_type": "stream",
     "text": [
      "[-1, -2, -3]\n"
     ]
    },
    {
     "name": "stderr",
     "output_type": "stream",
     "text": [
      " 10%|█         | 125/1219 [00:41<06:15,  2.91it/s]"
     ]
    },
    {
     "name": "stdout",
     "output_type": "stream",
     "text": [
      "[-1, -2, -3]\n"
     ]
    },
    {
     "name": "stderr",
     "output_type": "stream",
     "text": [
      " 10%|█         | 126/1219 [00:41<06:12,  2.93it/s]"
     ]
    },
    {
     "name": "stdout",
     "output_type": "stream",
     "text": [
      "[-1, -2, -3]\n"
     ]
    },
    {
     "name": "stderr",
     "output_type": "stream",
     "text": [
      " 10%|█         | 127/1219 [00:42<06:09,  2.95it/s]"
     ]
    },
    {
     "name": "stdout",
     "output_type": "stream",
     "text": [
      "[-1, -2, -3]\n"
     ]
    },
    {
     "name": "stderr",
     "output_type": "stream",
     "text": [
      " 11%|█         | 128/1219 [00:42<06:03,  3.00it/s]"
     ]
    },
    {
     "name": "stdout",
     "output_type": "stream",
     "text": [
      "[-1, -2, -3]\n"
     ]
    },
    {
     "name": "stderr",
     "output_type": "stream",
     "text": [
      " 11%|█         | 129/1219 [00:42<06:01,  3.02it/s]"
     ]
    },
    {
     "name": "stdout",
     "output_type": "stream",
     "text": [
      "[-1, -2, -3]\n"
     ]
    },
    {
     "name": "stderr",
     "output_type": "stream",
     "text": [
      " 11%|█         | 130/1219 [00:43<07:18,  2.48it/s]"
     ]
    },
    {
     "name": "stdout",
     "output_type": "stream",
     "text": [
      "[-1, -2, -3]\n"
     ]
    },
    {
     "name": "stderr",
     "output_type": "stream",
     "text": [
      " 11%|█         | 131/1219 [00:43<06:52,  2.64it/s]"
     ]
    },
    {
     "name": "stdout",
     "output_type": "stream",
     "text": [
      "[-1, -2, -3]\n"
     ]
    },
    {
     "name": "stderr",
     "output_type": "stream",
     "text": [
      " 11%|█         | 132/1219 [00:43<06:38,  2.73it/s]"
     ]
    },
    {
     "name": "stdout",
     "output_type": "stream",
     "text": [
      "[-1, -2, -3]\n"
     ]
    },
    {
     "name": "stderr",
     "output_type": "stream",
     "text": [
      " 11%|█         | 133/1219 [00:44<06:29,  2.79it/s]"
     ]
    },
    {
     "name": "stdout",
     "output_type": "stream",
     "text": [
      "[-1, -2, -3]\n"
     ]
    },
    {
     "name": "stderr",
     "output_type": "stream",
     "text": [
      " 11%|█         | 134/1219 [00:44<06:22,  2.83it/s]"
     ]
    },
    {
     "name": "stdout",
     "output_type": "stream",
     "text": [
      "[-1, -2, -3]\n"
     ]
    },
    {
     "name": "stderr",
     "output_type": "stream",
     "text": [
      " 11%|█         | 135/1219 [00:44<06:17,  2.87it/s]"
     ]
    },
    {
     "name": "stdout",
     "output_type": "stream",
     "text": [
      "[-1, -2, -3]\n"
     ]
    },
    {
     "name": "stderr",
     "output_type": "stream",
     "text": [
      " 11%|█         | 136/1219 [00:45<06:13,  2.90it/s]"
     ]
    },
    {
     "name": "stdout",
     "output_type": "stream",
     "text": [
      "[-1, -2, -3]\n"
     ]
    },
    {
     "name": "stderr",
     "output_type": "stream",
     "text": [
      " 11%|█         | 137/1219 [00:45<06:08,  2.94it/s]"
     ]
    },
    {
     "name": "stdout",
     "output_type": "stream",
     "text": [
      "[-1, -2, -3]\n"
     ]
    },
    {
     "name": "stderr",
     "output_type": "stream",
     "text": [
      " 11%|█▏        | 138/1219 [00:45<06:06,  2.95it/s]"
     ]
    },
    {
     "name": "stdout",
     "output_type": "stream",
     "text": [
      "[-1, -2, -3]\n"
     ]
    },
    {
     "name": "stderr",
     "output_type": "stream",
     "text": [
      " 11%|█▏        | 139/1219 [00:46<06:01,  2.98it/s]"
     ]
    },
    {
     "name": "stdout",
     "output_type": "stream",
     "text": [
      "[-1, -2, -3]\n"
     ]
    },
    {
     "name": "stderr",
     "output_type": "stream",
     "text": [
      " 11%|█▏        | 140/1219 [00:46<05:58,  3.01it/s]"
     ]
    },
    {
     "name": "stdout",
     "output_type": "stream",
     "text": [
      "[-1, -2, -3]\n"
     ]
    },
    {
     "name": "stderr",
     "output_type": "stream",
     "text": [
      " 12%|█▏        | 141/1219 [00:46<05:55,  3.03it/s]"
     ]
    },
    {
     "name": "stdout",
     "output_type": "stream",
     "text": [
      "[-1, -2, -3]\n"
     ]
    },
    {
     "name": "stderr",
     "output_type": "stream",
     "text": [
      " 12%|█▏        | 142/1219 [00:47<05:53,  3.05it/s]"
     ]
    },
    {
     "name": "stdout",
     "output_type": "stream",
     "text": [
      "[-1, -2, -3]\n"
     ]
    },
    {
     "name": "stderr",
     "output_type": "stream",
     "text": [
      " 12%|█▏        | 143/1219 [00:47<05:52,  3.05it/s]"
     ]
    },
    {
     "name": "stdout",
     "output_type": "stream",
     "text": [
      "[-1, -2, -3]\n"
     ]
    },
    {
     "name": "stderr",
     "output_type": "stream",
     "text": [
      " 12%|█▏        | 144/1219 [00:47<05:54,  3.03it/s]"
     ]
    },
    {
     "name": "stdout",
     "output_type": "stream",
     "text": [
      "[-1, -2, -3]\n"
     ]
    },
    {
     "name": "stderr",
     "output_type": "stream",
     "text": [
      " 12%|█▏        | 145/1219 [00:48<05:56,  3.01it/s]"
     ]
    },
    {
     "name": "stdout",
     "output_type": "stream",
     "text": [
      "[-1, -2, -3]\n"
     ]
    },
    {
     "name": "stderr",
     "output_type": "stream",
     "text": [
      " 12%|█▏        | 146/1219 [00:48<05:57,  3.00it/s]"
     ]
    },
    {
     "name": "stdout",
     "output_type": "stream",
     "text": [
      "[-1, -2, -3]\n"
     ]
    },
    {
     "name": "stderr",
     "output_type": "stream",
     "text": [
      " 12%|█▏        | 147/1219 [00:48<05:54,  3.02it/s]"
     ]
    },
    {
     "name": "stdout",
     "output_type": "stream",
     "text": [
      "[-1, -2, -3]\n"
     ]
    },
    {
     "name": "stderr",
     "output_type": "stream",
     "text": [
      " 12%|█▏        | 148/1219 [00:49<05:53,  3.03it/s]"
     ]
    },
    {
     "name": "stdout",
     "output_type": "stream",
     "text": [
      "[-1, -2, -3]\n"
     ]
    },
    {
     "name": "stderr",
     "output_type": "stream",
     "text": [
      " 12%|█▏        | 149/1219 [00:49<05:51,  3.04it/s]"
     ]
    },
    {
     "name": "stdout",
     "output_type": "stream",
     "text": [
      "[-1, -2, -3]\n"
     ]
    },
    {
     "name": "stderr",
     "output_type": "stream",
     "text": [
      " 12%|█▏        | 150/1219 [00:49<05:49,  3.06it/s]"
     ]
    },
    {
     "name": "stdout",
     "output_type": "stream",
     "text": [
      "[-1, -2, -3]\n"
     ]
    },
    {
     "name": "stderr",
     "output_type": "stream",
     "text": [
      " 12%|█▏        | 151/1219 [00:50<05:48,  3.06it/s]"
     ]
    },
    {
     "name": "stdout",
     "output_type": "stream",
     "text": [
      "[-1, -2, -3]\n"
     ]
    },
    {
     "name": "stderr",
     "output_type": "stream",
     "text": [
      " 12%|█▏        | 152/1219 [00:50<05:51,  3.04it/s]"
     ]
    },
    {
     "name": "stdout",
     "output_type": "stream",
     "text": [
      "[-1, -2, -3]\n"
     ]
    },
    {
     "name": "stderr",
     "output_type": "stream",
     "text": [
      " 13%|█▎        | 153/1219 [00:50<05:53,  3.02it/s]"
     ]
    },
    {
     "name": "stdout",
     "output_type": "stream",
     "text": [
      "[-1, -2, -3]\n"
     ]
    },
    {
     "name": "stderr",
     "output_type": "stream",
     "text": [
      " 13%|█▎        | 154/1219 [00:51<05:50,  3.04it/s]"
     ]
    },
    {
     "name": "stdout",
     "output_type": "stream",
     "text": [
      "[-1, -2, -3]\n"
     ]
    },
    {
     "name": "stderr",
     "output_type": "stream",
     "text": [
      " 13%|█▎        | 155/1219 [00:51<05:49,  3.04it/s]"
     ]
    },
    {
     "name": "stdout",
     "output_type": "stream",
     "text": [
      "[-1, -2, -3]\n"
     ]
    },
    {
     "name": "stderr",
     "output_type": "stream",
     "text": [
      " 13%|█▎        | 156/1219 [00:51<05:47,  3.06it/s]"
     ]
    },
    {
     "name": "stdout",
     "output_type": "stream",
     "text": [
      "[-1, -2, -3]\n"
     ]
    },
    {
     "name": "stderr",
     "output_type": "stream",
     "text": [
      " 13%|█▎        | 157/1219 [00:52<05:52,  3.01it/s]"
     ]
    },
    {
     "name": "stdout",
     "output_type": "stream",
     "text": [
      "[-1, -2, -3]\n"
     ]
    },
    {
     "name": "stderr",
     "output_type": "stream",
     "text": [
      " 13%|█▎        | 158/1219 [00:52<05:54,  2.99it/s]"
     ]
    },
    {
     "name": "stdout",
     "output_type": "stream",
     "text": [
      "[-1, -2, -3]\n"
     ]
    },
    {
     "name": "stderr",
     "output_type": "stream",
     "text": [
      " 13%|█▎        | 159/1219 [00:52<05:55,  2.99it/s]"
     ]
    },
    {
     "name": "stdout",
     "output_type": "stream",
     "text": [
      "[-1, -2, -3]\n"
     ]
    },
    {
     "name": "stderr",
     "output_type": "stream",
     "text": [
      " 13%|█▎        | 160/1219 [00:53<05:55,  2.98it/s]"
     ]
    },
    {
     "name": "stdout",
     "output_type": "stream",
     "text": [
      "[-1, -2, -3]\n"
     ]
    },
    {
     "name": "stderr",
     "output_type": "stream",
     "text": [
      " 13%|█▎        | 161/1219 [00:53<05:51,  3.01it/s]"
     ]
    },
    {
     "name": "stdout",
     "output_type": "stream",
     "text": [
      "[-1, -2, -3]\n"
     ]
    },
    {
     "name": "stderr",
     "output_type": "stream",
     "text": [
      " 13%|█▎        | 162/1219 [00:53<05:49,  3.02it/s]"
     ]
    },
    {
     "name": "stdout",
     "output_type": "stream",
     "text": [
      "[-1, -2, -3]\n"
     ]
    },
    {
     "name": "stderr",
     "output_type": "stream",
     "text": [
      " 13%|█▎        | 163/1219 [00:54<05:48,  3.03it/s]"
     ]
    },
    {
     "name": "stdout",
     "output_type": "stream",
     "text": [
      "[-1, -2, -3]\n"
     ]
    },
    {
     "name": "stderr",
     "output_type": "stream",
     "text": [
      " 13%|█▎        | 164/1219 [00:54<05:46,  3.04it/s]"
     ]
    },
    {
     "name": "stdout",
     "output_type": "stream",
     "text": [
      "[-1, -2, -3]\n"
     ]
    },
    {
     "name": "stderr",
     "output_type": "stream",
     "text": [
      " 14%|█▎        | 165/1219 [00:54<05:46,  3.04it/s]"
     ]
    },
    {
     "name": "stdout",
     "output_type": "stream",
     "text": [
      "[-1, -2, -3]\n"
     ]
    },
    {
     "name": "stderr",
     "output_type": "stream",
     "text": [
      " 14%|█▎        | 166/1219 [00:55<05:45,  3.05it/s]"
     ]
    },
    {
     "name": "stdout",
     "output_type": "stream",
     "text": [
      "[-1, -2, -3]\n"
     ]
    },
    {
     "name": "stderr",
     "output_type": "stream",
     "text": [
      " 14%|█▎        | 167/1219 [00:55<05:46,  3.04it/s]"
     ]
    },
    {
     "name": "stdout",
     "output_type": "stream",
     "text": [
      "[-1, -2, -3]\n"
     ]
    },
    {
     "name": "stderr",
     "output_type": "stream",
     "text": [
      " 14%|█▍        | 168/1219 [00:55<05:44,  3.05it/s]"
     ]
    },
    {
     "name": "stdout",
     "output_type": "stream",
     "text": [
      "[-1, -2, -3]\n"
     ]
    },
    {
     "name": "stderr",
     "output_type": "stream",
     "text": [
      " 14%|█▍        | 169/1219 [00:56<05:43,  3.06it/s]"
     ]
    },
    {
     "name": "stdout",
     "output_type": "stream",
     "text": [
      "[-1, -2, -3]\n"
     ]
    },
    {
     "name": "stderr",
     "output_type": "stream",
     "text": [
      " 14%|█▍        | 170/1219 [00:56<05:45,  3.04it/s]"
     ]
    },
    {
     "name": "stdout",
     "output_type": "stream",
     "text": [
      "[-1, -2, -3]\n"
     ]
    },
    {
     "name": "stderr",
     "output_type": "stream",
     "text": [
      " 14%|█▍        | 171/1219 [00:56<05:44,  3.05it/s]"
     ]
    },
    {
     "name": "stdout",
     "output_type": "stream",
     "text": [
      "[-1, -2, -3]\n"
     ]
    },
    {
     "name": "stderr",
     "output_type": "stream",
     "text": [
      " 14%|█▍        | 172/1219 [00:57<05:42,  3.05it/s]"
     ]
    },
    {
     "name": "stdout",
     "output_type": "stream",
     "text": [
      "[-1, -2, -3]\n"
     ]
    },
    {
     "name": "stderr",
     "output_type": "stream",
     "text": [
      " 14%|█▍        | 173/1219 [00:57<05:42,  3.06it/s]"
     ]
    },
    {
     "name": "stdout",
     "output_type": "stream",
     "text": [
      "[-1, -2, -3]\n"
     ]
    },
    {
     "name": "stderr",
     "output_type": "stream",
     "text": [
      " 14%|█▍        | 174/1219 [00:57<05:45,  3.02it/s]"
     ]
    },
    {
     "name": "stdout",
     "output_type": "stream",
     "text": [
      "[-1, -2, -3]\n"
     ]
    },
    {
     "name": "stderr",
     "output_type": "stream",
     "text": [
      " 14%|█▍        | 175/1219 [00:58<05:43,  3.04it/s]"
     ]
    },
    {
     "name": "stdout",
     "output_type": "stream",
     "text": [
      "[-1, -2, -3]\n"
     ]
    },
    {
     "name": "stderr",
     "output_type": "stream",
     "text": [
      " 14%|█▍        | 176/1219 [00:58<05:41,  3.05it/s]"
     ]
    },
    {
     "name": "stdout",
     "output_type": "stream",
     "text": [
      "[-1, -2, -3]\n"
     ]
    },
    {
     "name": "stderr",
     "output_type": "stream",
     "text": [
      " 15%|█▍        | 177/1219 [00:58<05:40,  3.06it/s]"
     ]
    },
    {
     "name": "stdout",
     "output_type": "stream",
     "text": [
      "[-1, -2, -3]\n"
     ]
    },
    {
     "name": "stderr",
     "output_type": "stream",
     "text": [
      " 15%|█▍        | 178/1219 [00:59<05:43,  3.03it/s]"
     ]
    },
    {
     "name": "stdout",
     "output_type": "stream",
     "text": [
      "[-1, -2, -3]\n"
     ]
    },
    {
     "name": "stderr",
     "output_type": "stream",
     "text": [
      " 15%|█▍        | 179/1219 [00:59<05:45,  3.01it/s]"
     ]
    },
    {
     "name": "stdout",
     "output_type": "stream",
     "text": [
      "[-1, -2, -3]\n"
     ]
    },
    {
     "name": "stderr",
     "output_type": "stream",
     "text": [
      " 15%|█▍        | 180/1219 [00:59<05:42,  3.03it/s]"
     ]
    },
    {
     "name": "stdout",
     "output_type": "stream",
     "text": [
      "[-1, -2, -3]\n"
     ]
    },
    {
     "name": "stderr",
     "output_type": "stream",
     "text": [
      " 15%|█▍        | 181/1219 [01:00<05:44,  3.02it/s]"
     ]
    },
    {
     "name": "stdout",
     "output_type": "stream",
     "text": [
      "[-1, -2, -3]\n"
     ]
    },
    {
     "name": "stderr",
     "output_type": "stream",
     "text": [
      " 15%|█▍        | 182/1219 [01:00<05:40,  3.04it/s]"
     ]
    },
    {
     "name": "stdout",
     "output_type": "stream",
     "text": [
      "[-1, -2, -3]\n"
     ]
    },
    {
     "name": "stderr",
     "output_type": "stream",
     "text": [
      " 15%|█▌        | 183/1219 [01:00<05:42,  3.02it/s]"
     ]
    },
    {
     "name": "stdout",
     "output_type": "stream",
     "text": [
      "[-1, -2, -3]\n"
     ]
    },
    {
     "name": "stderr",
     "output_type": "stream",
     "text": [
      " 15%|█▌        | 184/1219 [01:01<05:40,  3.04it/s]"
     ]
    },
    {
     "name": "stdout",
     "output_type": "stream",
     "text": [
      "[-1, -2, -3]\n"
     ]
    },
    {
     "name": "stderr",
     "output_type": "stream",
     "text": [
      " 15%|█▌        | 185/1219 [01:01<05:38,  3.05it/s]"
     ]
    },
    {
     "name": "stdout",
     "output_type": "stream",
     "text": [
      "[-1, -2, -3]\n"
     ]
    },
    {
     "name": "stderr",
     "output_type": "stream",
     "text": [
      " 15%|█▌        | 186/1219 [01:01<05:37,  3.06it/s]"
     ]
    },
    {
     "name": "stdout",
     "output_type": "stream",
     "text": [
      "[-1, -2, -3]\n"
     ]
    },
    {
     "name": "stderr",
     "output_type": "stream",
     "text": [
      " 15%|█▌        | 187/1219 [01:02<05:41,  3.03it/s]"
     ]
    },
    {
     "name": "stdout",
     "output_type": "stream",
     "text": [
      "[-1, -2, -3]\n"
     ]
    },
    {
     "name": "stderr",
     "output_type": "stream",
     "text": [
      " 15%|█▌        | 188/1219 [01:02<05:39,  3.03it/s]"
     ]
    },
    {
     "name": "stdout",
     "output_type": "stream",
     "text": [
      "[-1, -2, -3]\n"
     ]
    },
    {
     "name": "stderr",
     "output_type": "stream",
     "text": [
      " 16%|█▌        | 189/1219 [01:02<05:42,  3.01it/s]"
     ]
    },
    {
     "name": "stdout",
     "output_type": "stream",
     "text": [
      "[-1, -2, -3]\n"
     ]
    },
    {
     "name": "stderr",
     "output_type": "stream",
     "text": [
      " 16%|█▌        | 190/1219 [01:03<05:39,  3.03it/s]"
     ]
    },
    {
     "name": "stdout",
     "output_type": "stream",
     "text": [
      "[-1, -2, -3]\n"
     ]
    },
    {
     "name": "stderr",
     "output_type": "stream",
     "text": [
      " 16%|█▌        | 191/1219 [01:03<05:41,  3.01it/s]"
     ]
    },
    {
     "name": "stdout",
     "output_type": "stream",
     "text": [
      "[-1, -2, -3]\n"
     ]
    },
    {
     "name": "stderr",
     "output_type": "stream",
     "text": [
      " 16%|█▌        | 192/1219 [01:03<05:42,  3.00it/s]"
     ]
    },
    {
     "name": "stdout",
     "output_type": "stream",
     "text": [
      "[-1, -2, -3]\n"
     ]
    },
    {
     "name": "stderr",
     "output_type": "stream",
     "text": [
      " 16%|█▌        | 193/1219 [01:04<05:41,  3.00it/s]"
     ]
    },
    {
     "name": "stdout",
     "output_type": "stream",
     "text": [
      "[-1, -2, -3]\n"
     ]
    },
    {
     "name": "stderr",
     "output_type": "stream",
     "text": [
      " 16%|█▌        | 194/1219 [01:04<05:39,  3.02it/s]"
     ]
    },
    {
     "name": "stdout",
     "output_type": "stream",
     "text": [
      "[-1, -2, -3]\n"
     ]
    },
    {
     "name": "stderr",
     "output_type": "stream",
     "text": [
      " 16%|█▌        | 195/1219 [01:04<05:38,  3.02it/s]"
     ]
    },
    {
     "name": "stdout",
     "output_type": "stream",
     "text": [
      "[-1, -2, -3]\n"
     ]
    },
    {
     "name": "stderr",
     "output_type": "stream",
     "text": [
      " 16%|█▌        | 196/1219 [01:05<05:36,  3.04it/s]"
     ]
    },
    {
     "name": "stdout",
     "output_type": "stream",
     "text": [
      "[-1, -2, -3]\n"
     ]
    },
    {
     "name": "stderr",
     "output_type": "stream",
     "text": [
      " 16%|█▌        | 197/1219 [01:05<05:40,  3.00it/s]"
     ]
    },
    {
     "name": "stdout",
     "output_type": "stream",
     "text": [
      "[-1, -2, -3]\n"
     ]
    },
    {
     "name": "stderr",
     "output_type": "stream",
     "text": [
      " 16%|█▌        | 198/1219 [01:05<05:38,  3.01it/s]"
     ]
    },
    {
     "name": "stdout",
     "output_type": "stream",
     "text": [
      "[-1, -2, -3]\n"
     ]
    },
    {
     "name": "stderr",
     "output_type": "stream",
     "text": [
      " 16%|█▋        | 199/1219 [01:06<05:39,  3.00it/s]"
     ]
    },
    {
     "name": "stdout",
     "output_type": "stream",
     "text": [
      "[-1, -2, -3]\n"
     ]
    },
    {
     "name": "stderr",
     "output_type": "stream",
     "text": [
      " 16%|█▋        | 200/1219 [01:06<05:39,  3.00it/s]"
     ]
    },
    {
     "name": "stdout",
     "output_type": "stream",
     "text": [
      "[-1, -2, -3]\n"
     ]
    },
    {
     "name": "stderr",
     "output_type": "stream",
     "text": [
      " 16%|█▋        | 201/1219 [01:06<05:36,  3.03it/s]"
     ]
    },
    {
     "name": "stdout",
     "output_type": "stream",
     "text": [
      "[-1, -2, -3]\n"
     ]
    },
    {
     "name": "stderr",
     "output_type": "stream",
     "text": [
      " 17%|█▋        | 202/1219 [01:07<05:33,  3.05it/s]"
     ]
    },
    {
     "name": "stdout",
     "output_type": "stream",
     "text": [
      "[-1, -2, -3]\n"
     ]
    },
    {
     "name": "stderr",
     "output_type": "stream",
     "text": [
      " 17%|█▋        | 203/1219 [01:07<05:32,  3.06it/s]"
     ]
    },
    {
     "name": "stdout",
     "output_type": "stream",
     "text": [
      "[-1, -2, -3]\n"
     ]
    },
    {
     "name": "stderr",
     "output_type": "stream",
     "text": [
      " 17%|█▋        | 204/1219 [01:07<05:35,  3.03it/s]"
     ]
    },
    {
     "name": "stdout",
     "output_type": "stream",
     "text": [
      "[-1, -2, -3]\n"
     ]
    },
    {
     "name": "stderr",
     "output_type": "stream",
     "text": [
      " 17%|█▋        | 205/1219 [01:08<05:34,  3.03it/s]"
     ]
    },
    {
     "name": "stdout",
     "output_type": "stream",
     "text": [
      "[-1, -2, -3]\n"
     ]
    },
    {
     "name": "stderr",
     "output_type": "stream",
     "text": [
      " 17%|█▋        | 206/1219 [01:08<05:32,  3.04it/s]"
     ]
    },
    {
     "name": "stdout",
     "output_type": "stream",
     "text": [
      "[-1, -2, -3]\n"
     ]
    },
    {
     "name": "stderr",
     "output_type": "stream",
     "text": [
      " 17%|█▋        | 207/1219 [01:08<05:34,  3.03it/s]"
     ]
    },
    {
     "name": "stdout",
     "output_type": "stream",
     "text": [
      "[-1, -2, -3]\n"
     ]
    },
    {
     "name": "stderr",
     "output_type": "stream",
     "text": [
      " 17%|█▋        | 208/1219 [01:09<05:36,  3.00it/s]"
     ]
    },
    {
     "name": "stdout",
     "output_type": "stream",
     "text": [
      "[-1, -2, -3]\n"
     ]
    },
    {
     "name": "stderr",
     "output_type": "stream",
     "text": [
      " 17%|█▋        | 209/1219 [01:09<05:37,  2.99it/s]"
     ]
    },
    {
     "name": "stdout",
     "output_type": "stream",
     "text": [
      "[-1, -2, -3]\n"
     ]
    },
    {
     "name": "stderr",
     "output_type": "stream",
     "text": [
      " 17%|█▋        | 210/1219 [01:09<05:34,  3.02it/s]"
     ]
    },
    {
     "name": "stdout",
     "output_type": "stream",
     "text": [
      "[-1, -2, -3]\n"
     ]
    },
    {
     "name": "stderr",
     "output_type": "stream",
     "text": [
      " 17%|█▋        | 211/1219 [01:10<05:35,  3.00it/s]"
     ]
    },
    {
     "name": "stdout",
     "output_type": "stream",
     "text": [
      "[-1, -2, -3]\n"
     ]
    },
    {
     "name": "stderr",
     "output_type": "stream",
     "text": [
      " 17%|█▋        | 212/1219 [01:10<05:32,  3.02it/s]"
     ]
    },
    {
     "name": "stdout",
     "output_type": "stream",
     "text": [
      "[-1, -2, -3]\n"
     ]
    },
    {
     "name": "stderr",
     "output_type": "stream",
     "text": [
      " 17%|█▋        | 213/1219 [01:10<05:30,  3.04it/s]"
     ]
    },
    {
     "name": "stdout",
     "output_type": "stream",
     "text": [
      "[-1, -2, -3]\n"
     ]
    },
    {
     "name": "stderr",
     "output_type": "stream",
     "text": [
      " 18%|█▊        | 214/1219 [01:11<05:30,  3.05it/s]"
     ]
    },
    {
     "name": "stdout",
     "output_type": "stream",
     "text": [
      "[-1, -2, -3]\n"
     ]
    },
    {
     "name": "stderr",
     "output_type": "stream",
     "text": [
      " 18%|█▊        | 215/1219 [01:11<05:30,  3.04it/s]"
     ]
    },
    {
     "name": "stdout",
     "output_type": "stream",
     "text": [
      "[-1, -2, -3]\n"
     ]
    },
    {
     "name": "stderr",
     "output_type": "stream",
     "text": [
      " 18%|█▊        | 216/1219 [01:11<05:28,  3.06it/s]"
     ]
    },
    {
     "name": "stdout",
     "output_type": "stream",
     "text": [
      "[-1, -2, -3]\n"
     ]
    },
    {
     "name": "stderr",
     "output_type": "stream",
     "text": [
      " 18%|█▊        | 217/1219 [01:12<05:29,  3.04it/s]"
     ]
    },
    {
     "name": "stdout",
     "output_type": "stream",
     "text": [
      "[-1, -2, -3]\n"
     ]
    },
    {
     "name": "stderr",
     "output_type": "stream",
     "text": [
      " 18%|█▊        | 218/1219 [01:12<05:29,  3.04it/s]"
     ]
    },
    {
     "name": "stdout",
     "output_type": "stream",
     "text": [
      "[-1, -2, -3]\n"
     ]
    },
    {
     "name": "stderr",
     "output_type": "stream",
     "text": [
      " 18%|█▊        | 219/1219 [01:12<05:27,  3.05it/s]"
     ]
    },
    {
     "name": "stdout",
     "output_type": "stream",
     "text": [
      "[-1, -2, -3]\n"
     ]
    },
    {
     "name": "stderr",
     "output_type": "stream",
     "text": [
      " 18%|█▊        | 220/1219 [01:12<05:26,  3.06it/s]"
     ]
    },
    {
     "name": "stdout",
     "output_type": "stream",
     "text": [
      "[-1, -2, -3]\n"
     ]
    },
    {
     "name": "stderr",
     "output_type": "stream",
     "text": [
      " 18%|█▊        | 221/1219 [01:13<05:29,  3.03it/s]"
     ]
    },
    {
     "name": "stdout",
     "output_type": "stream",
     "text": [
      "[-1, -2, -3]\n"
     ]
    },
    {
     "name": "stderr",
     "output_type": "stream",
     "text": [
      " 18%|█▊        | 222/1219 [01:13<05:27,  3.04it/s]"
     ]
    },
    {
     "name": "stdout",
     "output_type": "stream",
     "text": [
      "[-1, -2, -3]\n"
     ]
    },
    {
     "name": "stderr",
     "output_type": "stream",
     "text": [
      " 18%|█▊        | 223/1219 [01:13<05:30,  3.02it/s]"
     ]
    },
    {
     "name": "stdout",
     "output_type": "stream",
     "text": [
      "[-1, -2, -3]\n"
     ]
    },
    {
     "name": "stderr",
     "output_type": "stream",
     "text": [
      " 18%|█▊        | 224/1219 [01:14<05:28,  3.03it/s]"
     ]
    },
    {
     "name": "stdout",
     "output_type": "stream",
     "text": [
      "[-1, -2, -3]\n"
     ]
    },
    {
     "name": "stderr",
     "output_type": "stream",
     "text": [
      " 18%|█▊        | 225/1219 [01:14<05:29,  3.01it/s]"
     ]
    },
    {
     "name": "stdout",
     "output_type": "stream",
     "text": [
      "[-1, -2, -3]\n"
     ]
    },
    {
     "name": "stderr",
     "output_type": "stream",
     "text": [
      " 19%|█▊        | 226/1219 [01:14<05:27,  3.03it/s]"
     ]
    },
    {
     "name": "stdout",
     "output_type": "stream",
     "text": [
      "[-1, -2, -3]\n"
     ]
    },
    {
     "name": "stderr",
     "output_type": "stream",
     "text": [
      " 19%|█▊        | 227/1219 [01:15<05:24,  3.05it/s]"
     ]
    },
    {
     "name": "stdout",
     "output_type": "stream",
     "text": [
      "[-1, -2, -3]\n"
     ]
    },
    {
     "name": "stderr",
     "output_type": "stream",
     "text": [
      " 19%|█▊        | 228/1219 [01:15<05:24,  3.06it/s]"
     ]
    },
    {
     "name": "stdout",
     "output_type": "stream",
     "text": [
      "[-1, -2, -3]\n"
     ]
    },
    {
     "name": "stderr",
     "output_type": "stream",
     "text": [
      " 19%|█▉        | 229/1219 [01:15<05:26,  3.03it/s]"
     ]
    },
    {
     "name": "stdout",
     "output_type": "stream",
     "text": [
      "[-1, -2, -3]\n"
     ]
    },
    {
     "name": "stderr",
     "output_type": "stream",
     "text": [
      " 19%|█▉        | 230/1219 [01:16<05:29,  3.00it/s]"
     ]
    },
    {
     "name": "stdout",
     "output_type": "stream",
     "text": [
      "[-1, -2, -3]\n"
     ]
    },
    {
     "name": "stderr",
     "output_type": "stream",
     "text": [
      " 19%|█▉        | 231/1219 [01:16<05:30,  2.99it/s]"
     ]
    },
    {
     "name": "stdout",
     "output_type": "stream",
     "text": [
      "[-1, -2, -3]\n"
     ]
    },
    {
     "name": "stderr",
     "output_type": "stream",
     "text": [
      " 19%|█▉        | 232/1219 [01:16<05:30,  2.99it/s]"
     ]
    },
    {
     "name": "stdout",
     "output_type": "stream",
     "text": [
      "[-1, -2, -3]\n"
     ]
    },
    {
     "name": "stderr",
     "output_type": "stream",
     "text": [
      " 19%|█▉        | 233/1219 [01:17<05:30,  2.98it/s]"
     ]
    },
    {
     "name": "stdout",
     "output_type": "stream",
     "text": [
      "[-1, -2, -3]\n"
     ]
    },
    {
     "name": "stderr",
     "output_type": "stream",
     "text": [
      " 19%|█▉        | 234/1219 [01:17<05:27,  3.01it/s]"
     ]
    },
    {
     "name": "stdout",
     "output_type": "stream",
     "text": [
      "[-1, -2, -3]\n"
     ]
    },
    {
     "name": "stderr",
     "output_type": "stream",
     "text": [
      " 19%|█▉        | 235/1219 [01:17<05:27,  3.00it/s]"
     ]
    },
    {
     "name": "stdout",
     "output_type": "stream",
     "text": [
      "[-1, -2, -3]\n"
     ]
    },
    {
     "name": "stderr",
     "output_type": "stream",
     "text": [
      " 19%|█▉        | 236/1219 [01:18<05:28,  2.99it/s]"
     ]
    },
    {
     "name": "stdout",
     "output_type": "stream",
     "text": [
      "[-1, -2, -3]\n"
     ]
    },
    {
     "name": "stderr",
     "output_type": "stream",
     "text": [
      " 19%|█▉        | 237/1219 [01:18<05:25,  3.02it/s]"
     ]
    },
    {
     "name": "stdout",
     "output_type": "stream",
     "text": [
      "[-1, -2, -3]\n"
     ]
    },
    {
     "name": "stderr",
     "output_type": "stream",
     "text": [
      " 20%|█▉        | 238/1219 [01:18<05:23,  3.03it/s]"
     ]
    },
    {
     "name": "stdout",
     "output_type": "stream",
     "text": [
      "[-1, -2, -3]\n"
     ]
    },
    {
     "name": "stderr",
     "output_type": "stream",
     "text": [
      " 20%|█▉        | 239/1219 [01:19<05:22,  3.04it/s]"
     ]
    },
    {
     "name": "stdout",
     "output_type": "stream",
     "text": [
      "[-1, -2, -3]\n"
     ]
    },
    {
     "name": "stderr",
     "output_type": "stream",
     "text": [
      " 20%|█▉        | 240/1219 [01:19<05:20,  3.06it/s]"
     ]
    },
    {
     "name": "stdout",
     "output_type": "stream",
     "text": [
      "[-1, -2, -3]\n"
     ]
    },
    {
     "name": "stderr",
     "output_type": "stream",
     "text": [
      " 20%|█▉        | 241/1219 [01:19<05:19,  3.06it/s]"
     ]
    },
    {
     "name": "stdout",
     "output_type": "stream",
     "text": [
      "[-1, -2, -3]\n"
     ]
    },
    {
     "name": "stderr",
     "output_type": "stream",
     "text": [
      " 20%|█▉        | 242/1219 [01:20<05:20,  3.05it/s]"
     ]
    },
    {
     "name": "stdout",
     "output_type": "stream",
     "text": [
      "[-1, -2, -3]\n"
     ]
    },
    {
     "name": "stderr",
     "output_type": "stream",
     "text": [
      " 20%|█▉        | 243/1219 [01:20<05:20,  3.05it/s]"
     ]
    },
    {
     "name": "stdout",
     "output_type": "stream",
     "text": [
      "[-1, -2, -3]\n"
     ]
    },
    {
     "name": "stderr",
     "output_type": "stream",
     "text": [
      " 20%|██        | 244/1219 [01:20<05:26,  2.99it/s]"
     ]
    },
    {
     "name": "stdout",
     "output_type": "stream",
     "text": [
      "[-1, -2, -3]\n"
     ]
    },
    {
     "name": "stderr",
     "output_type": "stream",
     "text": [
      " 20%|██        | 245/1219 [01:21<05:23,  3.01it/s]"
     ]
    },
    {
     "name": "stdout",
     "output_type": "stream",
     "text": [
      "[-1, -2, -3]\n"
     ]
    },
    {
     "name": "stderr",
     "output_type": "stream",
     "text": [
      " 20%|██        | 246/1219 [01:21<05:24,  3.00it/s]"
     ]
    },
    {
     "name": "stdout",
     "output_type": "stream",
     "text": [
      "[-1, -2, -3]\n"
     ]
    },
    {
     "name": "stderr",
     "output_type": "stream",
     "text": [
      " 20%|██        | 247/1219 [01:21<05:21,  3.02it/s]"
     ]
    },
    {
     "name": "stdout",
     "output_type": "stream",
     "text": [
      "[-1, -2, -3]\n"
     ]
    },
    {
     "name": "stderr",
     "output_type": "stream",
     "text": [
      " 20%|██        | 248/1219 [01:22<05:19,  3.04it/s]"
     ]
    },
    {
     "name": "stdout",
     "output_type": "stream",
     "text": [
      "[-1, -2, -3]\n"
     ]
    },
    {
     "name": "stderr",
     "output_type": "stream",
     "text": [
      " 20%|██        | 249/1219 [01:22<05:17,  3.05it/s]"
     ]
    },
    {
     "name": "stdout",
     "output_type": "stream",
     "text": [
      "[-1, -2, -3]\n"
     ]
    },
    {
     "name": "stderr",
     "output_type": "stream",
     "text": [
      " 21%|██        | 250/1219 [01:22<05:16,  3.06it/s]"
     ]
    },
    {
     "name": "stdout",
     "output_type": "stream",
     "text": [
      "[-1, -2, -3]\n"
     ]
    },
    {
     "name": "stderr",
     "output_type": "stream",
     "text": [
      " 21%|██        | 251/1219 [01:23<05:18,  3.04it/s]"
     ]
    },
    {
     "name": "stdout",
     "output_type": "stream",
     "text": [
      "[-1, -2, -3]\n"
     ]
    },
    {
     "name": "stderr",
     "output_type": "stream",
     "text": [
      " 21%|██        | 252/1219 [01:23<05:19,  3.02it/s]"
     ]
    },
    {
     "name": "stdout",
     "output_type": "stream",
     "text": [
      "[-1, -2, -3]\n"
     ]
    },
    {
     "name": "stderr",
     "output_type": "stream",
     "text": [
      " 21%|██        | 253/1219 [01:23<05:17,  3.04it/s]"
     ]
    },
    {
     "name": "stdout",
     "output_type": "stream",
     "text": [
      "[-1, -2, -3]\n"
     ]
    },
    {
     "name": "stderr",
     "output_type": "stream",
     "text": [
      " 21%|██        | 254/1219 [01:24<05:20,  3.01it/s]"
     ]
    },
    {
     "name": "stdout",
     "output_type": "stream",
     "text": [
      "[-1, -2, -3]\n"
     ]
    },
    {
     "name": "stderr",
     "output_type": "stream",
     "text": [
      " 21%|██        | 255/1219 [01:24<05:18,  3.03it/s]"
     ]
    },
    {
     "name": "stdout",
     "output_type": "stream",
     "text": [
      "[-1, -2, -3]\n"
     ]
    },
    {
     "name": "stderr",
     "output_type": "stream",
     "text": [
      " 21%|██        | 256/1219 [01:24<05:16,  3.04it/s]"
     ]
    },
    {
     "name": "stdout",
     "output_type": "stream",
     "text": [
      "[-1, -2, -3]\n"
     ]
    },
    {
     "name": "stderr",
     "output_type": "stream",
     "text": [
      " 21%|██        | 257/1219 [01:25<05:15,  3.05it/s]"
     ]
    },
    {
     "name": "stdout",
     "output_type": "stream",
     "text": [
      "[-1, -2, -3]\n"
     ]
    },
    {
     "name": "stderr",
     "output_type": "stream",
     "text": [
      " 21%|██        | 258/1219 [01:25<05:14,  3.06it/s]"
     ]
    },
    {
     "name": "stdout",
     "output_type": "stream",
     "text": [
      "[-1, -2, -3]\n"
     ]
    },
    {
     "name": "stderr",
     "output_type": "stream",
     "text": [
      " 21%|██        | 259/1219 [01:25<05:13,  3.06it/s]"
     ]
    },
    {
     "name": "stdout",
     "output_type": "stream",
     "text": [
      "[-1, -2, -3]\n"
     ]
    },
    {
     "name": "stderr",
     "output_type": "stream",
     "text": [
      " 21%|██▏       | 260/1219 [01:26<05:13,  3.06it/s]"
     ]
    },
    {
     "name": "stdout",
     "output_type": "stream",
     "text": [
      "[-1, -2, -3]\n"
     ]
    },
    {
     "name": "stderr",
     "output_type": "stream",
     "text": [
      " 21%|██▏       | 261/1219 [01:26<05:13,  3.05it/s]"
     ]
    },
    {
     "name": "stdout",
     "output_type": "stream",
     "text": [
      "[-1, -2, -3]\n"
     ]
    },
    {
     "name": "stderr",
     "output_type": "stream",
     "text": [
      " 21%|██▏       | 262/1219 [01:26<05:13,  3.05it/s]"
     ]
    },
    {
     "name": "stdout",
     "output_type": "stream",
     "text": [
      "[-1, -2, -3]\n"
     ]
    },
    {
     "name": "stderr",
     "output_type": "stream",
     "text": [
      " 22%|██▏       | 263/1219 [01:27<05:15,  3.03it/s]"
     ]
    },
    {
     "name": "stdout",
     "output_type": "stream",
     "text": [
      "[-1, -2, -3]\n"
     ]
    },
    {
     "name": "stderr",
     "output_type": "stream",
     "text": [
      " 22%|██▏       | 264/1219 [01:27<05:16,  3.01it/s]"
     ]
    },
    {
     "name": "stdout",
     "output_type": "stream",
     "text": [
      "[-1, -2, -3]\n"
     ]
    },
    {
     "name": "stderr",
     "output_type": "stream",
     "text": [
      " 22%|██▏       | 265/1219 [01:27<05:17,  3.00it/s]"
     ]
    },
    {
     "name": "stdout",
     "output_type": "stream",
     "text": [
      "[-1, -2, -3]\n"
     ]
    },
    {
     "name": "stderr",
     "output_type": "stream",
     "text": [
      " 22%|██▏       | 266/1219 [01:28<05:18,  3.00it/s]"
     ]
    },
    {
     "name": "stdout",
     "output_type": "stream",
     "text": [
      "[-1, -2, -3]\n"
     ]
    },
    {
     "name": "stderr",
     "output_type": "stream",
     "text": [
      " 22%|██▏       | 267/1219 [01:28<05:15,  3.02it/s]"
     ]
    },
    {
     "name": "stdout",
     "output_type": "stream",
     "text": [
      "[-1, -2, -3]\n"
     ]
    },
    {
     "name": "stderr",
     "output_type": "stream",
     "text": [
      " 22%|██▏       | 268/1219 [01:28<05:13,  3.03it/s]"
     ]
    },
    {
     "name": "stdout",
     "output_type": "stream",
     "text": [
      "[-1, -2, -3]\n"
     ]
    },
    {
     "name": "stderr",
     "output_type": "stream",
     "text": [
      " 22%|██▏       | 269/1219 [01:29<05:15,  3.01it/s]"
     ]
    },
    {
     "name": "stdout",
     "output_type": "stream",
     "text": [
      "[-1, -2, -3]\n"
     ]
    },
    {
     "name": "stderr",
     "output_type": "stream",
     "text": [
      " 22%|██▏       | 270/1219 [01:29<05:12,  3.03it/s]"
     ]
    },
    {
     "name": "stdout",
     "output_type": "stream",
     "text": [
      "[-1, -2, -3]\n"
     ]
    },
    {
     "name": "stderr",
     "output_type": "stream",
     "text": [
      " 22%|██▏       | 271/1219 [01:29<05:14,  3.02it/s]"
     ]
    },
    {
     "name": "stdout",
     "output_type": "stream",
     "text": [
      "[-1, -2, -3]\n"
     ]
    },
    {
     "name": "stderr",
     "output_type": "stream",
     "text": [
      " 22%|██▏       | 272/1219 [01:30<05:14,  3.01it/s]"
     ]
    },
    {
     "name": "stdout",
     "output_type": "stream",
     "text": [
      "[-1, -2, -3]\n"
     ]
    },
    {
     "name": "stderr",
     "output_type": "stream",
     "text": [
      " 22%|██▏       | 273/1219 [01:30<05:13,  3.02it/s]"
     ]
    },
    {
     "name": "stdout",
     "output_type": "stream",
     "text": [
      "[-1, -2, -3]\n"
     ]
    },
    {
     "name": "stderr",
     "output_type": "stream",
     "text": [
      " 22%|██▏       | 274/1219 [01:30<05:11,  3.04it/s]"
     ]
    },
    {
     "name": "stdout",
     "output_type": "stream",
     "text": [
      "[-1, -2, -3]\n"
     ]
    },
    {
     "name": "stderr",
     "output_type": "stream",
     "text": [
      " 23%|██▎       | 275/1219 [01:31<05:11,  3.03it/s]"
     ]
    },
    {
     "name": "stdout",
     "output_type": "stream",
     "text": [
      "[-1, -2, -3]\n"
     ]
    },
    {
     "name": "stderr",
     "output_type": "stream",
     "text": [
      " 23%|██▎       | 276/1219 [01:31<05:09,  3.04it/s]"
     ]
    },
    {
     "name": "stdout",
     "output_type": "stream",
     "text": [
      "[-1, -2, -3]\n"
     ]
    },
    {
     "name": "stderr",
     "output_type": "stream",
     "text": [
      " 23%|██▎       | 277/1219 [01:31<05:08,  3.05it/s]"
     ]
    },
    {
     "name": "stdout",
     "output_type": "stream",
     "text": [
      "[-1, -2, -3]\n"
     ]
    },
    {
     "name": "stderr",
     "output_type": "stream",
     "text": [
      " 23%|██▎       | 278/1219 [01:32<05:07,  3.06it/s]"
     ]
    },
    {
     "name": "stdout",
     "output_type": "stream",
     "text": [
      "[-1, -2, -3]\n"
     ]
    },
    {
     "name": "stderr",
     "output_type": "stream",
     "text": [
      " 23%|██▎       | 279/1219 [01:32<05:06,  3.06it/s]"
     ]
    },
    {
     "name": "stdout",
     "output_type": "stream",
     "text": [
      "[-1, -2, -3]\n"
     ]
    },
    {
     "name": "stderr",
     "output_type": "stream",
     "text": [
      " 23%|██▎       | 280/1219 [01:32<05:05,  3.07it/s]"
     ]
    },
    {
     "name": "stdout",
     "output_type": "stream",
     "text": [
      "[-1, -2, -3]\n"
     ]
    },
    {
     "name": "stderr",
     "output_type": "stream",
     "text": [
      " 23%|██▎       | 281/1219 [01:33<06:10,  2.53it/s]"
     ]
    },
    {
     "name": "stdout",
     "output_type": "stream",
     "text": [
      "[-1, 0, -1, -2, -3]\n"
     ]
    },
    {
     "name": "stderr",
     "output_type": "stream",
     "text": [
      " 23%|██▎       | 282/1219 [01:33<05:54,  2.64it/s]"
     ]
    },
    {
     "name": "stdout",
     "output_type": "stream",
     "text": [
      "[-1, -2, -3]\n"
     ]
    },
    {
     "name": "stderr",
     "output_type": "stream",
     "text": [
      " 23%|██▎       | 283/1219 [01:34<05:39,  2.76it/s]"
     ]
    },
    {
     "name": "stdout",
     "output_type": "stream",
     "text": [
      "[-1, -2, -3]\n"
     ]
    },
    {
     "name": "stderr",
     "output_type": "stream",
     "text": [
      " 23%|██▎       | 284/1219 [01:34<05:28,  2.84it/s]"
     ]
    },
    {
     "name": "stdout",
     "output_type": "stream",
     "text": [
      "[-1, -2, -3]\n"
     ]
    },
    {
     "name": "stderr",
     "output_type": "stream",
     "text": [
      " 23%|██▎       | 285/1219 [01:34<05:21,  2.90it/s]"
     ]
    },
    {
     "name": "stdout",
     "output_type": "stream",
     "text": [
      "[-1, -2, -3]\n"
     ]
    },
    {
     "name": "stderr",
     "output_type": "stream",
     "text": [
      " 23%|██▎       | 286/1219 [01:35<05:21,  2.90it/s]"
     ]
    },
    {
     "name": "stdout",
     "output_type": "stream",
     "text": [
      "[-1, -2, -3]\n"
     ]
    },
    {
     "name": "stderr",
     "output_type": "stream",
     "text": [
      " 24%|██▎       | 287/1219 [01:35<05:15,  2.95it/s]"
     ]
    },
    {
     "name": "stdout",
     "output_type": "stream",
     "text": [
      "[-1, -2, -3]\n"
     ]
    },
    {
     "name": "stderr",
     "output_type": "stream",
     "text": [
      " 24%|██▎       | 288/1219 [01:35<05:14,  2.96it/s]"
     ]
    },
    {
     "name": "stdout",
     "output_type": "stream",
     "text": [
      "[-1, -2, -3]\n"
     ]
    },
    {
     "name": "stderr",
     "output_type": "stream",
     "text": [
      " 24%|██▎       | 289/1219 [01:35<05:10,  3.00it/s]"
     ]
    },
    {
     "name": "stdout",
     "output_type": "stream",
     "text": [
      "[-1, -2, -3]\n"
     ]
    },
    {
     "name": "stderr",
     "output_type": "stream",
     "text": [
      " 24%|██▍       | 290/1219 [01:36<05:07,  3.02it/s]"
     ]
    },
    {
     "name": "stdout",
     "output_type": "stream",
     "text": [
      "[-1, -2, -3]\n"
     ]
    },
    {
     "name": "stderr",
     "output_type": "stream",
     "text": [
      " 24%|██▍       | 291/1219 [01:36<05:06,  3.03it/s]"
     ]
    },
    {
     "name": "stdout",
     "output_type": "stream",
     "text": [
      "[-1, -2, -3]\n"
     ]
    },
    {
     "name": "stderr",
     "output_type": "stream",
     "text": [
      " 24%|██▍       | 292/1219 [01:36<05:05,  3.03it/s]"
     ]
    },
    {
     "name": "stdout",
     "output_type": "stream",
     "text": [
      "[-1, -2, -3]\n"
     ]
    },
    {
     "name": "stderr",
     "output_type": "stream",
     "text": [
      " 24%|██▍       | 293/1219 [01:37<05:07,  3.01it/s]"
     ]
    },
    {
     "name": "stdout",
     "output_type": "stream",
     "text": [
      "[-1, -2, -3]\n"
     ]
    },
    {
     "name": "stderr",
     "output_type": "stream",
     "text": [
      " 24%|██▍       | 294/1219 [01:37<05:05,  3.02it/s]"
     ]
    },
    {
     "name": "stdout",
     "output_type": "stream",
     "text": [
      "[-1, -2, -3]\n"
     ]
    },
    {
     "name": "stderr",
     "output_type": "stream",
     "text": [
      " 24%|██▍       | 295/1219 [01:37<05:03,  3.05it/s]"
     ]
    },
    {
     "name": "stdout",
     "output_type": "stream",
     "text": [
      "[-1, -2, -3]\n"
     ]
    },
    {
     "name": "stderr",
     "output_type": "stream",
     "text": [
      " 24%|██▍       | 296/1219 [01:38<05:02,  3.06it/s]"
     ]
    },
    {
     "name": "stdout",
     "output_type": "stream",
     "text": [
      "[-1, -2, -3]\n"
     ]
    },
    {
     "name": "stderr",
     "output_type": "stream",
     "text": [
      " 24%|██▍       | 297/1219 [01:38<05:01,  3.05it/s]"
     ]
    },
    {
     "name": "stdout",
     "output_type": "stream",
     "text": [
      "[-1, -2, -3]\n"
     ]
    },
    {
     "name": "stderr",
     "output_type": "stream",
     "text": [
      " 24%|██▍       | 298/1219 [01:38<05:00,  3.07it/s]"
     ]
    },
    {
     "name": "stdout",
     "output_type": "stream",
     "text": [
      "[-1, -2, -3]\n"
     ]
    },
    {
     "name": "stderr",
     "output_type": "stream",
     "text": [
      " 25%|██▍       | 299/1219 [01:39<04:59,  3.07it/s]"
     ]
    },
    {
     "name": "stdout",
     "output_type": "stream",
     "text": [
      "[-1, -2, -3]\n"
     ]
    },
    {
     "name": "stderr",
     "output_type": "stream",
     "text": [
      " 25%|██▍       | 300/1219 [01:39<05:00,  3.06it/s]"
     ]
    },
    {
     "name": "stdout",
     "output_type": "stream",
     "text": [
      "[-1, -2, -3]\n"
     ]
    },
    {
     "name": "stderr",
     "output_type": "stream",
     "text": [
      " 25%|██▍       | 301/1219 [01:39<04:59,  3.07it/s]"
     ]
    },
    {
     "name": "stdout",
     "output_type": "stream",
     "text": [
      "[-1, -2, -3]\n"
     ]
    },
    {
     "name": "stderr",
     "output_type": "stream",
     "text": [
      " 25%|██▍       | 302/1219 [01:40<04:58,  3.07it/s]"
     ]
    },
    {
     "name": "stdout",
     "output_type": "stream",
     "text": [
      "[-1, -2, -3]\n"
     ]
    },
    {
     "name": "stderr",
     "output_type": "stream",
     "text": [
      " 25%|██▍       | 303/1219 [01:40<04:58,  3.07it/s]"
     ]
    },
    {
     "name": "stdout",
     "output_type": "stream",
     "text": [
      "[-1, -2, -3]\n"
     ]
    },
    {
     "name": "stderr",
     "output_type": "stream",
     "text": [
      " 25%|██▍       | 304/1219 [01:40<04:58,  3.07it/s]"
     ]
    },
    {
     "name": "stdout",
     "output_type": "stream",
     "text": [
      "[-1, -2, -3]\n"
     ]
    },
    {
     "name": "stderr",
     "output_type": "stream",
     "text": [
      " 25%|██▌       | 305/1219 [01:41<05:05,  2.99it/s]"
     ]
    },
    {
     "name": "stdout",
     "output_type": "stream",
     "text": [
      "[-1, -2, -3]\n"
     ]
    },
    {
     "name": "stderr",
     "output_type": "stream",
     "text": [
      " 25%|██▌       | 306/1219 [01:41<06:44,  2.26it/s]"
     ]
    },
    {
     "name": "stdout",
     "output_type": "stream",
     "text": [
      "[-1, -1, -2, -1, -2, -3]\n"
     ]
    },
    {
     "name": "stderr",
     "output_type": "stream",
     "text": [
      " 25%|██▌       | 307/1219 [01:42<06:15,  2.43it/s]"
     ]
    },
    {
     "name": "stdout",
     "output_type": "stream",
     "text": [
      "[-1, -2, -3]\n"
     ]
    },
    {
     "name": "stderr",
     "output_type": "stream",
     "text": [
      " 25%|██▌       | 308/1219 [01:42<05:51,  2.59it/s]"
     ]
    },
    {
     "name": "stdout",
     "output_type": "stream",
     "text": [
      "[-1, -2, -3]\n"
     ]
    },
    {
     "name": "stderr",
     "output_type": "stream",
     "text": [
      " 25%|██▌       | 309/1219 [01:42<05:34,  2.72it/s]"
     ]
    },
    {
     "name": "stdout",
     "output_type": "stream",
     "text": [
      "[-1, -2, -3]\n"
     ]
    },
    {
     "name": "stderr",
     "output_type": "stream",
     "text": [
      " 25%|██▌       | 310/1219 [01:43<05:25,  2.80it/s]"
     ]
    },
    {
     "name": "stdout",
     "output_type": "stream",
     "text": [
      "[-1, -2, -3]\n"
     ]
    },
    {
     "name": "stderr",
     "output_type": "stream",
     "text": [
      " 26%|██▌       | 311/1219 [01:43<05:19,  2.84it/s]"
     ]
    },
    {
     "name": "stdout",
     "output_type": "stream",
     "text": [
      "[-1, -2, -3]\n"
     ]
    },
    {
     "name": "stderr",
     "output_type": "stream",
     "text": [
      " 26%|██▌       | 312/1219 [01:43<05:15,  2.88it/s]"
     ]
    },
    {
     "name": "stdout",
     "output_type": "stream",
     "text": [
      "[-1, -2, -3]\n"
     ]
    },
    {
     "name": "stderr",
     "output_type": "stream",
     "text": [
      " 26%|██▌       | 313/1219 [01:44<05:08,  2.94it/s]"
     ]
    },
    {
     "name": "stdout",
     "output_type": "stream",
     "text": [
      "[-1, -2, -3]\n"
     ]
    },
    {
     "name": "stderr",
     "output_type": "stream",
     "text": [
      " 26%|██▌       | 314/1219 [01:44<05:04,  2.98it/s]"
     ]
    },
    {
     "name": "stdout",
     "output_type": "stream",
     "text": [
      "[-1, -2, -3]\n"
     ]
    },
    {
     "name": "stderr",
     "output_type": "stream",
     "text": [
      " 26%|██▌       | 315/1219 [01:44<05:01,  3.00it/s]"
     ]
    },
    {
     "name": "stdout",
     "output_type": "stream",
     "text": [
      "[-1, -2, -3]\n"
     ]
    },
    {
     "name": "stderr",
     "output_type": "stream",
     "text": [
      " 26%|██▌       | 316/1219 [01:45<05:02,  2.99it/s]"
     ]
    },
    {
     "name": "stdout",
     "output_type": "stream",
     "text": [
      "[-1, -2, -3]\n"
     ]
    },
    {
     "name": "stderr",
     "output_type": "stream",
     "text": [
      " 26%|██▌       | 317/1219 [01:45<04:59,  3.01it/s]"
     ]
    },
    {
     "name": "stdout",
     "output_type": "stream",
     "text": [
      "[-1, -2, -3]\n"
     ]
    },
    {
     "name": "stderr",
     "output_type": "stream",
     "text": [
      " 26%|██▌       | 318/1219 [01:45<04:58,  3.02it/s]"
     ]
    },
    {
     "name": "stdout",
     "output_type": "stream",
     "text": [
      "[-1, -2, -3]\n"
     ]
    },
    {
     "name": "stderr",
     "output_type": "stream",
     "text": [
      " 26%|██▌       | 319/1219 [01:46<04:59,  3.01it/s]"
     ]
    },
    {
     "name": "stdout",
     "output_type": "stream",
     "text": [
      "[-1, -2, -3]\n"
     ]
    },
    {
     "name": "stderr",
     "output_type": "stream",
     "text": [
      " 26%|██▋       | 320/1219 [01:46<04:55,  3.04it/s]"
     ]
    },
    {
     "name": "stdout",
     "output_type": "stream",
     "text": [
      "[-1, -2, -3]\n"
     ]
    },
    {
     "name": "stderr",
     "output_type": "stream",
     "text": [
      " 26%|██▋       | 321/1219 [01:46<04:55,  3.04it/s]"
     ]
    },
    {
     "name": "stdout",
     "output_type": "stream",
     "text": [
      "[-1, -2, -3]\n"
     ]
    },
    {
     "name": "stderr",
     "output_type": "stream",
     "text": [
      " 26%|██▋       | 322/1219 [01:47<04:55,  3.04it/s]"
     ]
    },
    {
     "name": "stdout",
     "output_type": "stream",
     "text": [
      "[-1, -2, -3]\n"
     ]
    },
    {
     "name": "stderr",
     "output_type": "stream",
     "text": [
      " 26%|██▋       | 323/1219 [01:47<04:53,  3.05it/s]"
     ]
    },
    {
     "name": "stdout",
     "output_type": "stream",
     "text": [
      "[-1, -2, -3]\n"
     ]
    },
    {
     "name": "stderr",
     "output_type": "stream",
     "text": [
      " 27%|██▋       | 324/1219 [01:47<04:52,  3.06it/s]"
     ]
    },
    {
     "name": "stdout",
     "output_type": "stream",
     "text": [
      "[-1, -2, -3]\n"
     ]
    },
    {
     "name": "stderr",
     "output_type": "stream",
     "text": [
      " 27%|██▋       | 325/1219 [01:48<04:54,  3.04it/s]"
     ]
    },
    {
     "name": "stdout",
     "output_type": "stream",
     "text": [
      "[-1, -2, -3]\n"
     ]
    },
    {
     "name": "stderr",
     "output_type": "stream",
     "text": [
      " 27%|██▋       | 326/1219 [01:48<04:53,  3.05it/s]"
     ]
    },
    {
     "name": "stdout",
     "output_type": "stream",
     "text": [
      "[-1, -2, -3]\n"
     ]
    },
    {
     "name": "stderr",
     "output_type": "stream",
     "text": [
      " 27%|██▋       | 327/1219 [01:48<04:52,  3.05it/s]"
     ]
    },
    {
     "name": "stdout",
     "output_type": "stream",
     "text": [
      "[-1, -2, -3]\n"
     ]
    },
    {
     "name": "stderr",
     "output_type": "stream",
     "text": [
      " 27%|██▋       | 328/1219 [01:49<04:54,  3.03it/s]"
     ]
    },
    {
     "name": "stdout",
     "output_type": "stream",
     "text": [
      "[-1, -2, -3]\n"
     ]
    },
    {
     "name": "stderr",
     "output_type": "stream",
     "text": [
      " 27%|██▋       | 329/1219 [01:49<04:55,  3.01it/s]"
     ]
    },
    {
     "name": "stdout",
     "output_type": "stream",
     "text": [
      "[-1, -2, -3]\n"
     ]
    },
    {
     "name": "stderr",
     "output_type": "stream",
     "text": [
      " 27%|██▋       | 330/1219 [01:49<04:53,  3.03it/s]"
     ]
    },
    {
     "name": "stdout",
     "output_type": "stream",
     "text": [
      "[-1, -2, -3]\n"
     ]
    },
    {
     "name": "stderr",
     "output_type": "stream",
     "text": [
      " 27%|██▋       | 331/1219 [01:50<04:54,  3.01it/s]"
     ]
    },
    {
     "name": "stdout",
     "output_type": "stream",
     "text": [
      "[-1, -2, -3]\n"
     ]
    },
    {
     "name": "stderr",
     "output_type": "stream",
     "text": [
      " 27%|██▋       | 332/1219 [01:50<04:55,  3.00it/s]"
     ]
    },
    {
     "name": "stdout",
     "output_type": "stream",
     "text": [
      "[-1, -2, -3]\n"
     ]
    },
    {
     "name": "stderr",
     "output_type": "stream",
     "text": [
      " 27%|██▋       | 333/1219 [01:50<04:53,  3.02it/s]"
     ]
    },
    {
     "name": "stdout",
     "output_type": "stream",
     "text": [
      "[-1, -2, -3]\n"
     ]
    },
    {
     "name": "stderr",
     "output_type": "stream",
     "text": [
      " 27%|██▋       | 334/1219 [01:51<04:52,  3.03it/s]"
     ]
    },
    {
     "name": "stdout",
     "output_type": "stream",
     "text": [
      "[-1, -2, -3]\n"
     ]
    },
    {
     "name": "stderr",
     "output_type": "stream",
     "text": [
      " 27%|██▋       | 335/1219 [01:51<04:50,  3.04it/s]"
     ]
    },
    {
     "name": "stdout",
     "output_type": "stream",
     "text": [
      "[-1, -2, -3]\n"
     ]
    },
    {
     "name": "stderr",
     "output_type": "stream",
     "text": [
      " 28%|██▊       | 336/1219 [01:51<04:49,  3.05it/s]"
     ]
    },
    {
     "name": "stdout",
     "output_type": "stream",
     "text": [
      "[-1, -2, -3]\n"
     ]
    },
    {
     "name": "stderr",
     "output_type": "stream",
     "text": [
      " 28%|██▊       | 337/1219 [01:52<04:48,  3.05it/s]"
     ]
    },
    {
     "name": "stdout",
     "output_type": "stream",
     "text": [
      "[-1, -2, -3]\n"
     ]
    },
    {
     "name": "stderr",
     "output_type": "stream",
     "text": [
      " 28%|██▊       | 338/1219 [01:52<04:48,  3.05it/s]"
     ]
    },
    {
     "name": "stdout",
     "output_type": "stream",
     "text": [
      "[-1, -2, -3]\n"
     ]
    },
    {
     "name": "stderr",
     "output_type": "stream",
     "text": [
      " 28%|██▊       | 339/1219 [01:52<04:47,  3.06it/s]"
     ]
    },
    {
     "name": "stdout",
     "output_type": "stream",
     "text": [
      "[-1, -2, -3]\n"
     ]
    },
    {
     "name": "stderr",
     "output_type": "stream",
     "text": [
      " 28%|██▊       | 340/1219 [01:53<04:50,  3.03it/s]"
     ]
    },
    {
     "name": "stdout",
     "output_type": "stream",
     "text": [
      "[-1, -2, -3]\n"
     ]
    },
    {
     "name": "stderr",
     "output_type": "stream",
     "text": [
      " 28%|██▊       | 341/1219 [01:53<04:49,  3.04it/s]"
     ]
    },
    {
     "name": "stdout",
     "output_type": "stream",
     "text": [
      "[-1, -2, -3]\n"
     ]
    },
    {
     "name": "stderr",
     "output_type": "stream",
     "text": [
      " 28%|██▊       | 342/1219 [01:53<04:48,  3.04it/s]"
     ]
    },
    {
     "name": "stdout",
     "output_type": "stream",
     "text": [
      "[-1, -2, -3]\n"
     ]
    },
    {
     "name": "stderr",
     "output_type": "stream",
     "text": [
      " 28%|██▊       | 343/1219 [01:54<04:47,  3.05it/s]"
     ]
    },
    {
     "name": "stdout",
     "output_type": "stream",
     "text": [
      "[-1, -2, -3]\n"
     ]
    },
    {
     "name": "stderr",
     "output_type": "stream",
     "text": [
      " 28%|██▊       | 344/1219 [01:54<04:45,  3.06it/s]"
     ]
    },
    {
     "name": "stdout",
     "output_type": "stream",
     "text": [
      "[-1, -2, -3]\n"
     ]
    },
    {
     "name": "stderr",
     "output_type": "stream",
     "text": [
      " 28%|██▊       | 345/1219 [01:54<04:54,  2.97it/s]"
     ]
    },
    {
     "name": "stdout",
     "output_type": "stream",
     "text": [
      "[-1, -2, -3]\n"
     ]
    },
    {
     "name": "stderr",
     "output_type": "stream",
     "text": [
      " 28%|██▊       | 346/1219 [01:55<04:51,  2.99it/s]"
     ]
    },
    {
     "name": "stdout",
     "output_type": "stream",
     "text": [
      "[-1, -2, -3]\n"
     ]
    },
    {
     "name": "stderr",
     "output_type": "stream",
     "text": [
      " 28%|██▊       | 347/1219 [01:55<04:49,  3.01it/s]"
     ]
    },
    {
     "name": "stdout",
     "output_type": "stream",
     "text": [
      "[-1, -2, -3]\n"
     ]
    },
    {
     "name": "stderr",
     "output_type": "stream",
     "text": [
      " 29%|██▊       | 348/1219 [01:55<04:47,  3.03it/s]"
     ]
    },
    {
     "name": "stdout",
     "output_type": "stream",
     "text": [
      "[-1, -2, -3]\n"
     ]
    },
    {
     "name": "stderr",
     "output_type": "stream",
     "text": [
      " 29%|██▊       | 349/1219 [01:56<04:46,  3.04it/s]"
     ]
    },
    {
     "name": "stdout",
     "output_type": "stream",
     "text": [
      "[-1, -2, -3]\n"
     ]
    },
    {
     "name": "stderr",
     "output_type": "stream",
     "text": [
      " 29%|██▊       | 350/1219 [01:56<04:44,  3.05it/s]"
     ]
    },
    {
     "name": "stdout",
     "output_type": "stream",
     "text": [
      "[-1, -2, -3]\n"
     ]
    },
    {
     "name": "stderr",
     "output_type": "stream",
     "text": [
      " 29%|██▉       | 351/1219 [01:56<04:43,  3.06it/s]"
     ]
    },
    {
     "name": "stdout",
     "output_type": "stream",
     "text": [
      "[-1, -2, -3]\n"
     ]
    },
    {
     "name": "stderr",
     "output_type": "stream",
     "text": [
      " 29%|██▉       | 352/1219 [01:57<04:43,  3.06it/s]"
     ]
    },
    {
     "name": "stdout",
     "output_type": "stream",
     "text": [
      "[-1, -2, -3]\n"
     ]
    },
    {
     "name": "stderr",
     "output_type": "stream",
     "text": [
      " 29%|██▉       | 353/1219 [01:57<04:45,  3.03it/s]"
     ]
    },
    {
     "name": "stdout",
     "output_type": "stream",
     "text": [
      "[-1, -2, -3]\n"
     ]
    },
    {
     "name": "stderr",
     "output_type": "stream",
     "text": [
      " 29%|██▉       | 354/1219 [01:57<04:44,  3.04it/s]"
     ]
    },
    {
     "name": "stdout",
     "output_type": "stream",
     "text": [
      "[-1, -2, -3]\n"
     ]
    },
    {
     "name": "stderr",
     "output_type": "stream",
     "text": [
      " 29%|██▉       | 355/1219 [01:58<04:46,  3.02it/s]"
     ]
    },
    {
     "name": "stdout",
     "output_type": "stream",
     "text": [
      "[-1, -2, -3]\n"
     ]
    },
    {
     "name": "stderr",
     "output_type": "stream",
     "text": [
      " 29%|██▉       | 356/1219 [01:58<04:44,  3.03it/s]"
     ]
    },
    {
     "name": "stdout",
     "output_type": "stream",
     "text": [
      "[-1, -2, -3]\n"
     ]
    },
    {
     "name": "stderr",
     "output_type": "stream",
     "text": [
      " 29%|██▉       | 357/1219 [01:58<04:43,  3.04it/s]"
     ]
    },
    {
     "name": "stdout",
     "output_type": "stream",
     "text": [
      "[-1, -2, -3]\n"
     ]
    },
    {
     "name": "stderr",
     "output_type": "stream",
     "text": [
      " 29%|██▉       | 358/1219 [01:59<04:41,  3.06it/s]"
     ]
    },
    {
     "name": "stdout",
     "output_type": "stream",
     "text": [
      "[-1, -2, -3]\n"
     ]
    },
    {
     "name": "stderr",
     "output_type": "stream",
     "text": [
      " 29%|██▉       | 359/1219 [01:59<04:40,  3.06it/s]"
     ]
    },
    {
     "name": "stdout",
     "output_type": "stream",
     "text": [
      "[-1, -2, -3]\n"
     ]
    },
    {
     "name": "stderr",
     "output_type": "stream",
     "text": [
      " 30%|██▉       | 360/1219 [01:59<04:40,  3.07it/s]"
     ]
    },
    {
     "name": "stdout",
     "output_type": "stream",
     "text": [
      "[-1, -2, -3]\n"
     ]
    },
    {
     "name": "stderr",
     "output_type": "stream",
     "text": [
      " 30%|██▉       | 361/1219 [02:00<04:42,  3.04it/s]"
     ]
    },
    {
     "name": "stdout",
     "output_type": "stream",
     "text": [
      "[-1, -2, -3]\n"
     ]
    },
    {
     "name": "stderr",
     "output_type": "stream",
     "text": [
      " 30%|██▉       | 362/1219 [02:00<04:41,  3.05it/s]"
     ]
    },
    {
     "name": "stdout",
     "output_type": "stream",
     "text": [
      "[-1, -2, -3]\n"
     ]
    },
    {
     "name": "stderr",
     "output_type": "stream",
     "text": [
      " 30%|██▉       | 363/1219 [02:00<04:40,  3.05it/s]"
     ]
    },
    {
     "name": "stdout",
     "output_type": "stream",
     "text": [
      "[-1, -2, -3]\n"
     ]
    },
    {
     "name": "stderr",
     "output_type": "stream",
     "text": [
      " 30%|██▉       | 364/1219 [02:01<04:39,  3.06it/s]"
     ]
    },
    {
     "name": "stdout",
     "output_type": "stream",
     "text": [
      "[-1, -2, -3]\n"
     ]
    },
    {
     "name": "stderr",
     "output_type": "stream",
     "text": [
      " 30%|██▉       | 365/1219 [02:01<04:38,  3.06it/s]"
     ]
    },
    {
     "name": "stdout",
     "output_type": "stream",
     "text": [
      "[-1, -2, -3]\n"
     ]
    },
    {
     "name": "stderr",
     "output_type": "stream",
     "text": [
      " 30%|███       | 366/1219 [02:01<04:41,  3.03it/s]"
     ]
    },
    {
     "name": "stdout",
     "output_type": "stream",
     "text": [
      "[-1, -2, -3]\n"
     ]
    },
    {
     "name": "stderr",
     "output_type": "stream",
     "text": [
      " 30%|███       | 367/1219 [02:02<04:40,  3.04it/s]"
     ]
    },
    {
     "name": "stdout",
     "output_type": "stream",
     "text": [
      "[-1, -2, -3]\n"
     ]
    },
    {
     "name": "stderr",
     "output_type": "stream",
     "text": [
      " 30%|███       | 368/1219 [02:02<04:39,  3.04it/s]"
     ]
    },
    {
     "name": "stdout",
     "output_type": "stream",
     "text": [
      "[-1, -2, -3]\n"
     ]
    },
    {
     "name": "stderr",
     "output_type": "stream",
     "text": [
      " 30%|███       | 369/1219 [02:02<04:41,  3.02it/s]"
     ]
    },
    {
     "name": "stdout",
     "output_type": "stream",
     "text": [
      "[-1, -2, -3]\n"
     ]
    },
    {
     "name": "stderr",
     "output_type": "stream",
     "text": [
      " 30%|███       | 370/1219 [02:03<04:40,  3.03it/s]"
     ]
    },
    {
     "name": "stdout",
     "output_type": "stream",
     "text": [
      "[-1, -2, -3]\n"
     ]
    },
    {
     "name": "stderr",
     "output_type": "stream",
     "text": [
      " 30%|███       | 371/1219 [02:03<04:39,  3.04it/s]"
     ]
    },
    {
     "name": "stdout",
     "output_type": "stream",
     "text": [
      "[-1, -2, -3]\n"
     ]
    },
    {
     "name": "stderr",
     "output_type": "stream",
     "text": [
      " 31%|███       | 372/1219 [02:03<04:38,  3.05it/s]"
     ]
    },
    {
     "name": "stdout",
     "output_type": "stream",
     "text": [
      "[-1, -2, -3]\n"
     ]
    },
    {
     "name": "stderr",
     "output_type": "stream",
     "text": [
      " 31%|███       | 373/1219 [02:04<04:36,  3.06it/s]"
     ]
    },
    {
     "name": "stdout",
     "output_type": "stream",
     "text": [
      "[-1, -2, -3]\n"
     ]
    },
    {
     "name": "stderr",
     "output_type": "stream",
     "text": [
      " 31%|███       | 374/1219 [02:04<04:36,  3.05it/s]"
     ]
    },
    {
     "name": "stdout",
     "output_type": "stream",
     "text": [
      "[-1, -2, -3]\n"
     ]
    },
    {
     "name": "stderr",
     "output_type": "stream",
     "text": [
      " 31%|███       | 375/1219 [02:04<04:38,  3.03it/s]"
     ]
    },
    {
     "name": "stdout",
     "output_type": "stream",
     "text": [
      "[-1, -2, -3]\n"
     ]
    },
    {
     "name": "stderr",
     "output_type": "stream",
     "text": [
      " 31%|███       | 376/1219 [02:04<04:36,  3.05it/s]"
     ]
    },
    {
     "name": "stdout",
     "output_type": "stream",
     "text": [
      "[-1, -2, -3]\n"
     ]
    },
    {
     "name": "stderr",
     "output_type": "stream",
     "text": [
      " 31%|███       | 377/1219 [02:05<04:38,  3.02it/s]"
     ]
    },
    {
     "name": "stdout",
     "output_type": "stream",
     "text": [
      "[-1, -2, -3]\n"
     ]
    },
    {
     "name": "stderr",
     "output_type": "stream",
     "text": [
      " 31%|███       | 378/1219 [02:05<04:35,  3.05it/s]"
     ]
    },
    {
     "name": "stdout",
     "output_type": "stream",
     "text": [
      "[-1, -2, -3]\n"
     ]
    },
    {
     "name": "stderr",
     "output_type": "stream",
     "text": [
      " 31%|███       | 379/1219 [02:05<04:37,  3.03it/s]"
     ]
    },
    {
     "name": "stdout",
     "output_type": "stream",
     "text": [
      "[-1, -2, -3]\n"
     ]
    },
    {
     "name": "stderr",
     "output_type": "stream",
     "text": [
      " 31%|███       | 380/1219 [02:06<04:35,  3.04it/s]"
     ]
    },
    {
     "name": "stdout",
     "output_type": "stream",
     "text": [
      "[-1, -2, -3]\n"
     ]
    },
    {
     "name": "stderr",
     "output_type": "stream",
     "text": [
      " 31%|███▏      | 381/1219 [02:06<04:34,  3.05it/s]"
     ]
    },
    {
     "name": "stdout",
     "output_type": "stream",
     "text": [
      "[-1, -2, -3]\n"
     ]
    },
    {
     "name": "stderr",
     "output_type": "stream",
     "text": [
      " 31%|███▏      | 382/1219 [02:06<04:36,  3.03it/s]"
     ]
    },
    {
     "name": "stdout",
     "output_type": "stream",
     "text": [
      "[-1, -2, -3]\n"
     ]
    },
    {
     "name": "stderr",
     "output_type": "stream",
     "text": [
      " 31%|███▏      | 383/1219 [02:07<04:37,  3.02it/s]"
     ]
    },
    {
     "name": "stdout",
     "output_type": "stream",
     "text": [
      "[-1, -2, -3]\n"
     ]
    },
    {
     "name": "stderr",
     "output_type": "stream",
     "text": [
      " 32%|███▏      | 384/1219 [02:07<04:40,  2.98it/s]"
     ]
    },
    {
     "name": "stdout",
     "output_type": "stream",
     "text": [
      "[-1, -2, -3]\n"
     ]
    },
    {
     "name": "stderr",
     "output_type": "stream",
     "text": [
      " 32%|███▏      | 385/1219 [02:08<04:43,  2.94it/s]"
     ]
    },
    {
     "name": "stdout",
     "output_type": "stream",
     "text": [
      "[-1, -2, -3]\n"
     ]
    },
    {
     "name": "stderr",
     "output_type": "stream",
     "text": [
      " 32%|███▏      | 386/1219 [02:08<04:42,  2.95it/s]"
     ]
    },
    {
     "name": "stdout",
     "output_type": "stream",
     "text": [
      "[-1, -2, -3]\n"
     ]
    },
    {
     "name": "stderr",
     "output_type": "stream",
     "text": [
      " 32%|███▏      | 387/1219 [02:08<04:41,  2.96it/s]"
     ]
    },
    {
     "name": "stdout",
     "output_type": "stream",
     "text": [
      "[-1, -2, -3]\n"
     ]
    },
    {
     "name": "stderr",
     "output_type": "stream",
     "text": [
      " 32%|███▏      | 388/1219 [02:09<04:38,  2.98it/s]"
     ]
    },
    {
     "name": "stdout",
     "output_type": "stream",
     "text": [
      "[-1, -2, -3]\n"
     ]
    },
    {
     "name": "stderr",
     "output_type": "stream",
     "text": [
      " 32%|███▏      | 389/1219 [02:09<04:35,  3.01it/s]"
     ]
    },
    {
     "name": "stdout",
     "output_type": "stream",
     "text": [
      "[-1, -2, -3]\n"
     ]
    },
    {
     "name": "stderr",
     "output_type": "stream",
     "text": [
      " 32%|███▏      | 390/1219 [02:09<04:34,  3.02it/s]"
     ]
    },
    {
     "name": "stdout",
     "output_type": "stream",
     "text": [
      "[-1, -2, -3]\n"
     ]
    },
    {
     "name": "stderr",
     "output_type": "stream",
     "text": [
      " 32%|███▏      | 391/1219 [02:09<04:35,  3.01it/s]"
     ]
    },
    {
     "name": "stdout",
     "output_type": "stream",
     "text": [
      "[-1, -2, -3]\n"
     ]
    },
    {
     "name": "stderr",
     "output_type": "stream",
     "text": [
      " 32%|███▏      | 392/1219 [02:10<04:32,  3.03it/s]"
     ]
    },
    {
     "name": "stdout",
     "output_type": "stream",
     "text": [
      "[-1, -2, -3]\n"
     ]
    },
    {
     "name": "stderr",
     "output_type": "stream",
     "text": [
      " 32%|███▏      | 393/1219 [02:10<04:34,  3.01it/s]"
     ]
    },
    {
     "name": "stdout",
     "output_type": "stream",
     "text": [
      "[-1, -2, -3]\n"
     ]
    },
    {
     "name": "stderr",
     "output_type": "stream",
     "text": [
      " 32%|███▏      | 394/1219 [02:10<04:35,  3.00it/s]"
     ]
    },
    {
     "name": "stdout",
     "output_type": "stream",
     "text": [
      "[-1, -2, -3]\n"
     ]
    },
    {
     "name": "stderr",
     "output_type": "stream",
     "text": [
      " 32%|███▏      | 395/1219 [02:11<04:32,  3.02it/s]"
     ]
    },
    {
     "name": "stdout",
     "output_type": "stream",
     "text": [
      "[-1, -2, -3]\n"
     ]
    },
    {
     "name": "stderr",
     "output_type": "stream",
     "text": [
      " 32%|███▏      | 396/1219 [02:11<04:33,  3.01it/s]"
     ]
    },
    {
     "name": "stdout",
     "output_type": "stream",
     "text": [
      "[-1, -2, -3]\n"
     ]
    },
    {
     "name": "stderr",
     "output_type": "stream",
     "text": [
      " 33%|███▎      | 397/1219 [02:11<04:31,  3.02it/s]"
     ]
    },
    {
     "name": "stdout",
     "output_type": "stream",
     "text": [
      "[-1, -2, -3]\n"
     ]
    },
    {
     "name": "stderr",
     "output_type": "stream",
     "text": [
      " 33%|███▎      | 398/1219 [02:12<04:32,  3.01it/s]"
     ]
    },
    {
     "name": "stdout",
     "output_type": "stream",
     "text": [
      "[-1, -2, -3]\n"
     ]
    },
    {
     "name": "stderr",
     "output_type": "stream",
     "text": [
      " 33%|███▎      | 399/1219 [02:12<04:30,  3.03it/s]"
     ]
    },
    {
     "name": "stdout",
     "output_type": "stream",
     "text": [
      "[-1, -2, -3]\n"
     ]
    },
    {
     "name": "stderr",
     "output_type": "stream",
     "text": [
      " 33%|███▎      | 400/1219 [02:12<04:32,  3.01it/s]"
     ]
    },
    {
     "name": "stdout",
     "output_type": "stream",
     "text": [
      "[-1, -2, -3]\n"
     ]
    },
    {
     "name": "stderr",
     "output_type": "stream",
     "text": [
      " 33%|███▎      | 401/1219 [02:13<04:30,  3.03it/s]"
     ]
    },
    {
     "name": "stdout",
     "output_type": "stream",
     "text": [
      "[-1, -2, -3]\n"
     ]
    },
    {
     "name": "stderr",
     "output_type": "stream",
     "text": [
      " 33%|███▎      | 402/1219 [02:13<04:31,  3.01it/s]"
     ]
    },
    {
     "name": "stdout",
     "output_type": "stream",
     "text": [
      "[-1, -2, -3]\n"
     ]
    },
    {
     "name": "stderr",
     "output_type": "stream",
     "text": [
      " 33%|███▎      | 403/1219 [02:13<04:32,  2.99it/s]"
     ]
    },
    {
     "name": "stdout",
     "output_type": "stream",
     "text": [
      "[-1, -2, -3]\n"
     ]
    },
    {
     "name": "stderr",
     "output_type": "stream",
     "text": [
      " 33%|███▎      | 404/1219 [02:14<04:32,  2.99it/s]"
     ]
    },
    {
     "name": "stdout",
     "output_type": "stream",
     "text": [
      "[-1, -2, -3]\n"
     ]
    },
    {
     "name": "stderr",
     "output_type": "stream",
     "text": [
      " 33%|███▎      | 405/1219 [02:14<05:54,  2.30it/s]"
     ]
    },
    {
     "name": "stdout",
     "output_type": "stream",
     "text": [
      "[0, -1, 0, -1, -2, -3]\n"
     ]
    },
    {
     "name": "stderr",
     "output_type": "stream",
     "text": [
      " 33%|███▎      | 406/1219 [02:15<05:26,  2.49it/s]"
     ]
    },
    {
     "name": "stdout",
     "output_type": "stream",
     "text": [
      "[-1, -2, -3]\n"
     ]
    },
    {
     "name": "stderr",
     "output_type": "stream",
     "text": [
      " 33%|███▎      | 407/1219 [02:15<05:07,  2.64it/s]"
     ]
    },
    {
     "name": "stdout",
     "output_type": "stream",
     "text": [
      "[-1, -2, -3]\n"
     ]
    },
    {
     "name": "stderr",
     "output_type": "stream",
     "text": [
      " 33%|███▎      | 408/1219 [02:15<04:54,  2.76it/s]"
     ]
    },
    {
     "name": "stdout",
     "output_type": "stream",
     "text": [
      "[-1, -2, -3]\n"
     ]
    },
    {
     "name": "stderr",
     "output_type": "stream",
     "text": [
      " 34%|███▎      | 409/1219 [02:16<04:44,  2.85it/s]"
     ]
    },
    {
     "name": "stdout",
     "output_type": "stream",
     "text": [
      "[-1, -2, -3]\n"
     ]
    },
    {
     "name": "stderr",
     "output_type": "stream",
     "text": [
      " 34%|███▎      | 410/1219 [02:16<04:37,  2.91it/s]"
     ]
    },
    {
     "name": "stdout",
     "output_type": "stream",
     "text": [
      "[-1, -2, -3]\n"
     ]
    },
    {
     "name": "stderr",
     "output_type": "stream",
     "text": [
      " 34%|███▎      | 411/1219 [02:16<04:32,  2.96it/s]"
     ]
    },
    {
     "name": "stdout",
     "output_type": "stream",
     "text": [
      "[-1, -2, -3]\n"
     ]
    },
    {
     "name": "stderr",
     "output_type": "stream",
     "text": [
      " 34%|███▍      | 412/1219 [02:17<04:32,  2.97it/s]"
     ]
    },
    {
     "name": "stdout",
     "output_type": "stream",
     "text": [
      "[-1, -2, -3]\n"
     ]
    },
    {
     "name": "stderr",
     "output_type": "stream",
     "text": [
      " 34%|███▍      | 413/1219 [02:17<04:31,  2.96it/s]"
     ]
    },
    {
     "name": "stdout",
     "output_type": "stream",
     "text": [
      "[-1, -2, -3]\n"
     ]
    },
    {
     "name": "stderr",
     "output_type": "stream",
     "text": [
      " 34%|███▍      | 414/1219 [02:17<04:29,  2.99it/s]"
     ]
    },
    {
     "name": "stdout",
     "output_type": "stream",
     "text": [
      "[-1, -2, -3]\n"
     ]
    },
    {
     "name": "stderr",
     "output_type": "stream",
     "text": [
      " 34%|███▍      | 415/1219 [02:18<04:30,  2.97it/s]"
     ]
    },
    {
     "name": "stdout",
     "output_type": "stream",
     "text": [
      "[-1, -2, -3]\n"
     ]
    },
    {
     "name": "stderr",
     "output_type": "stream",
     "text": [
      " 34%|███▍      | 416/1219 [02:18<04:27,  3.00it/s]"
     ]
    },
    {
     "name": "stdout",
     "output_type": "stream",
     "text": [
      "[-1, -2, -3]\n"
     ]
    },
    {
     "name": "stderr",
     "output_type": "stream",
     "text": [
      " 34%|███▍      | 417/1219 [02:18<04:25,  3.02it/s]"
     ]
    },
    {
     "name": "stdout",
     "output_type": "stream",
     "text": [
      "[-1, -2, -3]\n"
     ]
    },
    {
     "name": "stderr",
     "output_type": "stream",
     "text": [
      " 34%|███▍      | 418/1219 [02:19<04:26,  3.01it/s]"
     ]
    },
    {
     "name": "stdout",
     "output_type": "stream",
     "text": [
      "[-1, -2, -3]\n"
     ]
    },
    {
     "name": "stderr",
     "output_type": "stream",
     "text": [
      " 34%|███▍      | 419/1219 [02:19<04:23,  3.04it/s]"
     ]
    },
    {
     "name": "stdout",
     "output_type": "stream",
     "text": [
      "[-1, -2, -3]\n"
     ]
    },
    {
     "name": "stderr",
     "output_type": "stream",
     "text": [
      " 34%|███▍      | 420/1219 [02:19<04:22,  3.05it/s]"
     ]
    },
    {
     "name": "stdout",
     "output_type": "stream",
     "text": [
      "[-1, -2, -3]\n"
     ]
    },
    {
     "name": "stderr",
     "output_type": "stream",
     "text": [
      " 35%|███▍      | 421/1219 [02:20<04:22,  3.04it/s]"
     ]
    },
    {
     "name": "stdout",
     "output_type": "stream",
     "text": [
      "[-1, -2, -3]\n"
     ]
    },
    {
     "name": "stderr",
     "output_type": "stream",
     "text": [
      " 35%|███▍      | 422/1219 [02:20<04:27,  2.98it/s]"
     ]
    },
    {
     "name": "stdout",
     "output_type": "stream",
     "text": [
      "[-1, -2, -3]\n"
     ]
    },
    {
     "name": "stderr",
     "output_type": "stream",
     "text": [
      " 35%|███▍      | 423/1219 [02:20<04:25,  3.00it/s]"
     ]
    },
    {
     "name": "stdout",
     "output_type": "stream",
     "text": [
      "[-1, -2, -3]\n"
     ]
    },
    {
     "name": "stderr",
     "output_type": "stream",
     "text": [
      " 35%|███▍      | 424/1219 [02:21<04:23,  3.01it/s]"
     ]
    },
    {
     "name": "stdout",
     "output_type": "stream",
     "text": [
      "[-1, -2, -3]\n"
     ]
    },
    {
     "name": "stderr",
     "output_type": "stream",
     "text": [
      " 35%|███▍      | 425/1219 [02:21<04:21,  3.04it/s]"
     ]
    },
    {
     "name": "stdout",
     "output_type": "stream",
     "text": [
      "[-1, -2, -3]\n"
     ]
    },
    {
     "name": "stderr",
     "output_type": "stream",
     "text": [
      " 35%|███▍      | 426/1219 [02:21<04:20,  3.04it/s]"
     ]
    },
    {
     "name": "stdout",
     "output_type": "stream",
     "text": [
      "[-1, -2, -3]\n"
     ]
    },
    {
     "name": "stderr",
     "output_type": "stream",
     "text": [
      " 35%|███▌      | 427/1219 [02:22<04:19,  3.05it/s]"
     ]
    },
    {
     "name": "stdout",
     "output_type": "stream",
     "text": [
      "[-1, -2, -3]\n"
     ]
    },
    {
     "name": "stderr",
     "output_type": "stream",
     "text": [
      " 35%|███▌      | 428/1219 [02:22<04:19,  3.05it/s]"
     ]
    },
    {
     "name": "stdout",
     "output_type": "stream",
     "text": [
      "[-1, -2, -3]\n"
     ]
    },
    {
     "name": "stderr",
     "output_type": "stream",
     "text": [
      " 35%|███▌      | 429/1219 [02:22<04:18,  3.05it/s]"
     ]
    },
    {
     "name": "stdout",
     "output_type": "stream",
     "text": [
      "[-1, -2, -3]\n"
     ]
    },
    {
     "name": "stderr",
     "output_type": "stream",
     "text": [
      " 35%|███▌      | 430/1219 [02:23<04:21,  3.02it/s]"
     ]
    },
    {
     "name": "stdout",
     "output_type": "stream",
     "text": [
      "[-1, -2, -3]\n"
     ]
    },
    {
     "name": "stderr",
     "output_type": "stream",
     "text": [
      " 35%|███▌      | 431/1219 [02:23<04:22,  3.00it/s]"
     ]
    },
    {
     "name": "stdout",
     "output_type": "stream",
     "text": [
      "[-1, -2, -3]\n"
     ]
    },
    {
     "name": "stderr",
     "output_type": "stream",
     "text": [
      " 35%|███▌      | 432/1219 [02:23<04:23,  2.99it/s]"
     ]
    },
    {
     "name": "stdout",
     "output_type": "stream",
     "text": [
      "[-1, -2, -3]\n"
     ]
    },
    {
     "name": "stderr",
     "output_type": "stream",
     "text": [
      " 36%|███▌      | 433/1219 [02:24<04:21,  3.01it/s]"
     ]
    },
    {
     "name": "stdout",
     "output_type": "stream",
     "text": [
      "[-1, -2, -3]\n"
     ]
    },
    {
     "name": "stderr",
     "output_type": "stream",
     "text": [
      " 36%|███▌      | 434/1219 [02:24<04:23,  2.98it/s]"
     ]
    },
    {
     "name": "stdout",
     "output_type": "stream",
     "text": [
      "[-1, -2, -3]\n"
     ]
    },
    {
     "name": "stderr",
     "output_type": "stream",
     "text": [
      " 36%|███▌      | 435/1219 [02:24<04:20,  3.01it/s]"
     ]
    },
    {
     "name": "stdout",
     "output_type": "stream",
     "text": [
      "[-1, -2, -3]\n"
     ]
    },
    {
     "name": "stderr",
     "output_type": "stream",
     "text": [
      " 36%|███▌      | 436/1219 [02:25<04:21,  2.99it/s]"
     ]
    },
    {
     "name": "stdout",
     "output_type": "stream",
     "text": [
      "[-1, -2, -3]\n"
     ]
    },
    {
     "name": "stderr",
     "output_type": "stream",
     "text": [
      " 36%|███▌      | 437/1219 [02:25<04:19,  3.01it/s]"
     ]
    },
    {
     "name": "stdout",
     "output_type": "stream",
     "text": [
      "[-1, -2, -3]\n"
     ]
    },
    {
     "name": "stderr",
     "output_type": "stream",
     "text": [
      " 36%|███▌      | 438/1219 [02:25<04:20,  3.00it/s]"
     ]
    },
    {
     "name": "stdout",
     "output_type": "stream",
     "text": [
      "[-1, -2, -3]\n"
     ]
    },
    {
     "name": "stderr",
     "output_type": "stream",
     "text": [
      " 36%|███▌      | 439/1219 [02:26<04:17,  3.03it/s]"
     ]
    },
    {
     "name": "stdout",
     "output_type": "stream",
     "text": [
      "[-1, -2, -3]\n"
     ]
    },
    {
     "name": "stderr",
     "output_type": "stream",
     "text": [
      " 36%|███▌      | 440/1219 [02:26<04:18,  3.01it/s]"
     ]
    },
    {
     "name": "stdout",
     "output_type": "stream",
     "text": [
      "[-1, -2, -3]\n"
     ]
    },
    {
     "name": "stderr",
     "output_type": "stream",
     "text": [
      " 36%|███▌      | 441/1219 [02:26<04:19,  3.00it/s]"
     ]
    },
    {
     "name": "stdout",
     "output_type": "stream",
     "text": [
      "[-1, -2, -3]\n"
     ]
    },
    {
     "name": "stderr",
     "output_type": "stream",
     "text": [
      " 36%|███▋      | 442/1219 [02:27<04:19,  2.99it/s]"
     ]
    },
    {
     "name": "stdout",
     "output_type": "stream",
     "text": [
      "[-1, -2, -3]\n"
     ]
    },
    {
     "name": "stderr",
     "output_type": "stream",
     "text": [
      " 36%|███▋      | 443/1219 [02:27<04:17,  3.02it/s]"
     ]
    },
    {
     "name": "stdout",
     "output_type": "stream",
     "text": [
      "[-1, -2, -3]\n"
     ]
    },
    {
     "name": "stderr",
     "output_type": "stream",
     "text": [
      " 36%|███▋      | 444/1219 [02:27<04:15,  3.03it/s]"
     ]
    },
    {
     "name": "stdout",
     "output_type": "stream",
     "text": [
      "[-1, -2, -3]\n"
     ]
    },
    {
     "name": "stderr",
     "output_type": "stream",
     "text": [
      " 37%|███▋      | 445/1219 [02:28<04:14,  3.04it/s]"
     ]
    },
    {
     "name": "stdout",
     "output_type": "stream",
     "text": [
      "[-1, -2, -3]\n"
     ]
    },
    {
     "name": "stderr",
     "output_type": "stream",
     "text": [
      " 37%|███▋      | 446/1219 [02:28<04:13,  3.04it/s]"
     ]
    },
    {
     "name": "stdout",
     "output_type": "stream",
     "text": [
      "[-1, -2, -3]\n"
     ]
    },
    {
     "name": "stderr",
     "output_type": "stream",
     "text": [
      " 37%|███▋      | 447/1219 [02:28<04:16,  3.02it/s]"
     ]
    },
    {
     "name": "stdout",
     "output_type": "stream",
     "text": [
      "[-1, -2, -3]\n"
     ]
    },
    {
     "name": "stderr",
     "output_type": "stream",
     "text": [
      " 37%|███▋      | 448/1219 [02:29<04:14,  3.03it/s]"
     ]
    },
    {
     "name": "stdout",
     "output_type": "stream",
     "text": [
      "[-1, -2, -3]\n"
     ]
    },
    {
     "name": "stderr",
     "output_type": "stream",
     "text": [
      " 37%|███▋      | 449/1219 [02:29<04:12,  3.04it/s]"
     ]
    },
    {
     "name": "stdout",
     "output_type": "stream",
     "text": [
      "[-1, -2, -3]\n"
     ]
    },
    {
     "name": "stderr",
     "output_type": "stream",
     "text": [
      " 37%|███▋      | 450/1219 [02:29<04:11,  3.06it/s]"
     ]
    },
    {
     "name": "stdout",
     "output_type": "stream",
     "text": [
      "[-1, -2, -3]\n"
     ]
    },
    {
     "name": "stderr",
     "output_type": "stream",
     "text": [
      " 37%|███▋      | 451/1219 [02:30<04:10,  3.06it/s]"
     ]
    },
    {
     "name": "stdout",
     "output_type": "stream",
     "text": [
      "[-1, -2, -3]\n"
     ]
    },
    {
     "name": "stderr",
     "output_type": "stream",
     "text": [
      " 37%|███▋      | 452/1219 [02:30<04:10,  3.07it/s]"
     ]
    },
    {
     "name": "stdout",
     "output_type": "stream",
     "text": [
      "[-1, -2, -3]\n"
     ]
    },
    {
     "name": "stderr",
     "output_type": "stream",
     "text": [
      " 37%|███▋      | 453/1219 [02:30<04:10,  3.06it/s]"
     ]
    },
    {
     "name": "stdout",
     "output_type": "stream",
     "text": [
      "[-1, -2, -3]\n"
     ]
    },
    {
     "name": "stderr",
     "output_type": "stream",
     "text": [
      " 37%|███▋      | 454/1219 [02:31<04:09,  3.07it/s]"
     ]
    },
    {
     "name": "stdout",
     "output_type": "stream",
     "text": [
      "[-1, -2, -3]\n"
     ]
    },
    {
     "name": "stderr",
     "output_type": "stream",
     "text": [
      " 37%|███▋      | 455/1219 [02:31<04:14,  3.00it/s]"
     ]
    },
    {
     "name": "stdout",
     "output_type": "stream",
     "text": [
      "[-1, -2, -3]\n"
     ]
    },
    {
     "name": "stderr",
     "output_type": "stream",
     "text": [
      " 37%|███▋      | 456/1219 [02:31<04:12,  3.03it/s]"
     ]
    },
    {
     "name": "stdout",
     "output_type": "stream",
     "text": [
      "[-1, -2, -3]\n"
     ]
    },
    {
     "name": "stderr",
     "output_type": "stream",
     "text": [
      " 37%|███▋      | 457/1219 [02:32<04:09,  3.05it/s]"
     ]
    },
    {
     "name": "stdout",
     "output_type": "stream",
     "text": [
      "[-1, -2, -3]\n"
     ]
    },
    {
     "name": "stderr",
     "output_type": "stream",
     "text": [
      " 38%|███▊      | 458/1219 [02:32<04:11,  3.03it/s]"
     ]
    },
    {
     "name": "stdout",
     "output_type": "stream",
     "text": [
      "[-1, -2, -3]\n"
     ]
    },
    {
     "name": "stderr",
     "output_type": "stream",
     "text": [
      " 38%|███▊      | 459/1219 [02:32<04:12,  3.01it/s]"
     ]
    },
    {
     "name": "stdout",
     "output_type": "stream",
     "text": [
      "[-1, -2, -3]\n"
     ]
    },
    {
     "name": "stderr",
     "output_type": "stream",
     "text": [
      " 38%|███▊      | 460/1219 [02:33<04:10,  3.03it/s]"
     ]
    },
    {
     "name": "stdout",
     "output_type": "stream",
     "text": [
      "[-1, -2, -3]\n"
     ]
    },
    {
     "name": "stderr",
     "output_type": "stream",
     "text": [
      " 38%|███▊      | 461/1219 [02:33<04:11,  3.01it/s]"
     ]
    },
    {
     "name": "stdout",
     "output_type": "stream",
     "text": [
      "[-1, -2, -3]\n"
     ]
    },
    {
     "name": "stderr",
     "output_type": "stream",
     "text": [
      " 38%|███▊      | 462/1219 [02:33<04:09,  3.03it/s]"
     ]
    },
    {
     "name": "stdout",
     "output_type": "stream",
     "text": [
      "[-1, -2, -3]\n"
     ]
    },
    {
     "name": "stderr",
     "output_type": "stream",
     "text": [
      " 38%|███▊      | 463/1219 [02:34<04:08,  3.04it/s]"
     ]
    },
    {
     "name": "stdout",
     "output_type": "stream",
     "text": [
      "[-1, -2, -3]\n"
     ]
    },
    {
     "name": "stderr",
     "output_type": "stream",
     "text": [
      " 38%|███▊      | 464/1219 [02:34<04:10,  3.01it/s]"
     ]
    },
    {
     "name": "stdout",
     "output_type": "stream",
     "text": [
      "[-1, -2, -3]\n"
     ]
    },
    {
     "name": "stderr",
     "output_type": "stream",
     "text": [
      " 38%|███▊      | 465/1219 [02:34<04:11,  3.00it/s]"
     ]
    },
    {
     "name": "stdout",
     "output_type": "stream",
     "text": [
      "[-1, -2, -3]\n"
     ]
    },
    {
     "name": "stderr",
     "output_type": "stream",
     "text": [
      " 38%|███▊      | 466/1219 [02:35<04:11,  2.99it/s]"
     ]
    },
    {
     "name": "stdout",
     "output_type": "stream",
     "text": [
      "[-1, -2, -3]\n"
     ]
    },
    {
     "name": "stderr",
     "output_type": "stream",
     "text": [
      " 38%|███▊      | 467/1219 [02:35<04:08,  3.02it/s]"
     ]
    },
    {
     "name": "stdout",
     "output_type": "stream",
     "text": [
      "[-1, -2, -3]\n"
     ]
    },
    {
     "name": "stderr",
     "output_type": "stream",
     "text": [
      " 38%|███▊      | 468/1219 [02:35<04:07,  3.03it/s]"
     ]
    },
    {
     "name": "stdout",
     "output_type": "stream",
     "text": [
      "[-1, -2, -3]\n"
     ]
    },
    {
     "name": "stderr",
     "output_type": "stream",
     "text": [
      " 38%|███▊      | 469/1219 [02:36<04:09,  3.01it/s]"
     ]
    },
    {
     "name": "stdout",
     "output_type": "stream",
     "text": [
      "[-1, -2, -3]\n"
     ]
    },
    {
     "name": "stderr",
     "output_type": "stream",
     "text": [
      " 39%|███▊      | 470/1219 [02:36<04:09,  3.00it/s]"
     ]
    },
    {
     "name": "stdout",
     "output_type": "stream",
     "text": [
      "[-1, -2, -3]\n"
     ]
    },
    {
     "name": "stderr",
     "output_type": "stream",
     "text": [
      " 39%|███▊      | 471/1219 [02:36<04:07,  3.02it/s]"
     ]
    },
    {
     "name": "stdout",
     "output_type": "stream",
     "text": [
      "[-1, -2, -3]\n"
     ]
    },
    {
     "name": "stderr",
     "output_type": "stream",
     "text": [
      " 39%|███▊      | 472/1219 [02:37<04:05,  3.04it/s]"
     ]
    },
    {
     "name": "stdout",
     "output_type": "stream",
     "text": [
      "[-1, -2, -3]\n"
     ]
    },
    {
     "name": "stderr",
     "output_type": "stream",
     "text": [
      " 39%|███▉      | 473/1219 [02:37<04:07,  3.01it/s]"
     ]
    },
    {
     "name": "stdout",
     "output_type": "stream",
     "text": [
      "[-1, -2, -3]\n"
     ]
    },
    {
     "name": "stderr",
     "output_type": "stream",
     "text": [
      " 39%|███▉      | 474/1219 [02:37<04:08,  3.00it/s]"
     ]
    },
    {
     "name": "stdout",
     "output_type": "stream",
     "text": [
      "[-1, -2, -3]\n"
     ]
    },
    {
     "name": "stderr",
     "output_type": "stream",
     "text": [
      " 39%|███▉      | 475/1219 [02:38<04:08,  2.99it/s]"
     ]
    },
    {
     "name": "stdout",
     "output_type": "stream",
     "text": [
      "[-1, -2, -3]\n"
     ]
    },
    {
     "name": "stderr",
     "output_type": "stream",
     "text": [
      " 39%|███▉      | 476/1219 [02:38<04:06,  3.02it/s]"
     ]
    },
    {
     "name": "stdout",
     "output_type": "stream",
     "text": [
      "[-1, -2, -3]\n"
     ]
    },
    {
     "name": "stderr",
     "output_type": "stream",
     "text": [
      " 39%|███▉      | 477/1219 [02:38<04:07,  2.99it/s]"
     ]
    },
    {
     "name": "stdout",
     "output_type": "stream",
     "text": [
      "[-1, -2, -3]\n"
     ]
    },
    {
     "name": "stderr",
     "output_type": "stream",
     "text": [
      " 39%|███▉      | 478/1219 [02:39<04:05,  3.02it/s]"
     ]
    },
    {
     "name": "stdout",
     "output_type": "stream",
     "text": [
      "[-1, -2, -3]\n"
     ]
    },
    {
     "name": "stderr",
     "output_type": "stream",
     "text": [
      " 39%|███▉      | 479/1219 [02:39<04:03,  3.04it/s]"
     ]
    },
    {
     "name": "stdout",
     "output_type": "stream",
     "text": [
      "[-1, -2, -3]\n"
     ]
    },
    {
     "name": "stderr",
     "output_type": "stream",
     "text": [
      " 39%|███▉      | 480/1219 [02:39<04:04,  3.02it/s]"
     ]
    },
    {
     "name": "stdout",
     "output_type": "stream",
     "text": [
      "[-1, -2, -3]\n"
     ]
    },
    {
     "name": "stderr",
     "output_type": "stream",
     "text": [
      " 39%|███▉      | 481/1219 [02:40<04:05,  3.00it/s]"
     ]
    },
    {
     "name": "stdout",
     "output_type": "stream",
     "text": [
      "[-1, -2, -3]\n"
     ]
    },
    {
     "name": "stderr",
     "output_type": "stream",
     "text": [
      " 40%|███▉      | 482/1219 [02:40<04:04,  3.02it/s]"
     ]
    },
    {
     "name": "stdout",
     "output_type": "stream",
     "text": [
      "[-1, -2, -3]\n"
     ]
    },
    {
     "name": "stderr",
     "output_type": "stream",
     "text": [
      " 40%|███▉      | 483/1219 [02:40<04:03,  3.03it/s]"
     ]
    },
    {
     "name": "stdout",
     "output_type": "stream",
     "text": [
      "[-1, -2, -3]\n"
     ]
    },
    {
     "name": "stderr",
     "output_type": "stream",
     "text": [
      " 40%|███▉      | 484/1219 [02:41<04:04,  3.00it/s]"
     ]
    },
    {
     "name": "stdout",
     "output_type": "stream",
     "text": [
      "[-1, -2, -3]\n"
     ]
    },
    {
     "name": "stderr",
     "output_type": "stream",
     "text": [
      " 40%|███▉      | 485/1219 [02:41<04:03,  3.02it/s]"
     ]
    },
    {
     "name": "stdout",
     "output_type": "stream",
     "text": [
      "[-1, -2, -3]\n"
     ]
    },
    {
     "name": "stderr",
     "output_type": "stream",
     "text": [
      " 40%|███▉      | 486/1219 [02:41<04:05,  2.99it/s]"
     ]
    },
    {
     "name": "stdout",
     "output_type": "stream",
     "text": [
      "[-1, -2, -3]\n"
     ]
    },
    {
     "name": "stderr",
     "output_type": "stream",
     "text": [
      " 40%|███▉      | 487/1219 [02:42<04:03,  3.01it/s]"
     ]
    },
    {
     "name": "stdout",
     "output_type": "stream",
     "text": [
      "[-1, -2, -3]\n"
     ]
    },
    {
     "name": "stderr",
     "output_type": "stream",
     "text": [
      " 40%|████      | 488/1219 [02:42<04:01,  3.03it/s]"
     ]
    },
    {
     "name": "stdout",
     "output_type": "stream",
     "text": [
      "[-1, -2, -3]\n"
     ]
    },
    {
     "name": "stderr",
     "output_type": "stream",
     "text": [
      " 40%|████      | 489/1219 [02:42<04:02,  3.01it/s]"
     ]
    },
    {
     "name": "stdout",
     "output_type": "stream",
     "text": [
      "[-1, -2, -3]\n"
     ]
    },
    {
     "name": "stderr",
     "output_type": "stream",
     "text": [
      " 40%|████      | 490/1219 [02:43<04:00,  3.03it/s]"
     ]
    },
    {
     "name": "stdout",
     "output_type": "stream",
     "text": [
      "[-1, -2, -3]\n"
     ]
    },
    {
     "name": "stderr",
     "output_type": "stream",
     "text": [
      " 40%|████      | 491/1219 [02:43<03:59,  3.04it/s]"
     ]
    },
    {
     "name": "stdout",
     "output_type": "stream",
     "text": [
      "[-1, -2, -3]\n"
     ]
    },
    {
     "name": "stderr",
     "output_type": "stream",
     "text": [
      " 40%|████      | 492/1219 [02:43<04:00,  3.02it/s]"
     ]
    },
    {
     "name": "stdout",
     "output_type": "stream",
     "text": [
      "[-1, -2, -3]\n"
     ]
    },
    {
     "name": "stderr",
     "output_type": "stream",
     "text": [
      " 40%|████      | 493/1219 [02:44<04:02,  3.00it/s]"
     ]
    },
    {
     "name": "stdout",
     "output_type": "stream",
     "text": [
      "[-1, -2, -3]\n"
     ]
    },
    {
     "name": "stderr",
     "output_type": "stream",
     "text": [
      " 41%|████      | 494/1219 [02:44<04:01,  3.00it/s]"
     ]
    },
    {
     "name": "stdout",
     "output_type": "stream",
     "text": [
      "[-1, -2, -3]\n"
     ]
    },
    {
     "name": "stderr",
     "output_type": "stream",
     "text": [
      " 41%|████      | 495/1219 [02:44<04:00,  3.01it/s]"
     ]
    },
    {
     "name": "stdout",
     "output_type": "stream",
     "text": [
      "[-1, -2, -3]\n"
     ]
    },
    {
     "name": "stderr",
     "output_type": "stream",
     "text": [
      " 41%|████      | 496/1219 [02:45<03:58,  3.03it/s]"
     ]
    },
    {
     "name": "stdout",
     "output_type": "stream",
     "text": [
      "[-1, -2, -3]\n"
     ]
    },
    {
     "name": "stderr",
     "output_type": "stream",
     "text": [
      " 41%|████      | 497/1219 [02:45<03:57,  3.04it/s]"
     ]
    },
    {
     "name": "stdout",
     "output_type": "stream",
     "text": [
      "[-1, -2, -3]\n"
     ]
    },
    {
     "name": "stderr",
     "output_type": "stream",
     "text": [
      " 41%|████      | 498/1219 [02:45<03:55,  3.06it/s]"
     ]
    },
    {
     "name": "stdout",
     "output_type": "stream",
     "text": [
      "[-1, -2, -3]\n"
     ]
    },
    {
     "name": "stderr",
     "output_type": "stream",
     "text": [
      " 41%|████      | 499/1219 [02:46<03:57,  3.03it/s]"
     ]
    },
    {
     "name": "stdout",
     "output_type": "stream",
     "text": [
      "[-1, -2, -3]\n"
     ]
    },
    {
     "name": "stderr",
     "output_type": "stream",
     "text": [
      " 41%|████      | 500/1219 [02:46<03:59,  3.00it/s]"
     ]
    },
    {
     "name": "stdout",
     "output_type": "stream",
     "text": [
      "[-1, -2, -3]\n"
     ]
    },
    {
     "name": "stderr",
     "output_type": "stream",
     "text": [
      " 41%|████      | 501/1219 [02:46<03:59,  2.99it/s]"
     ]
    },
    {
     "name": "stdout",
     "output_type": "stream",
     "text": [
      "[-1, -2, -3]\n"
     ]
    },
    {
     "name": "stderr",
     "output_type": "stream",
     "text": [
      " 41%|████      | 502/1219 [02:47<03:57,  3.02it/s]"
     ]
    },
    {
     "name": "stdout",
     "output_type": "stream",
     "text": [
      "[-1, -2, -3]\n"
     ]
    },
    {
     "name": "stderr",
     "output_type": "stream",
     "text": [
      " 41%|████▏     | 503/1219 [02:47<03:55,  3.04it/s]"
     ]
    },
    {
     "name": "stdout",
     "output_type": "stream",
     "text": [
      "[-1, -2, -3]\n"
     ]
    },
    {
     "name": "stderr",
     "output_type": "stream",
     "text": [
      " 41%|████▏     | 504/1219 [02:47<03:54,  3.05it/s]"
     ]
    },
    {
     "name": "stdout",
     "output_type": "stream",
     "text": [
      "[-1, -2, -3]\n"
     ]
    },
    {
     "name": "stderr",
     "output_type": "stream",
     "text": [
      " 41%|████▏     | 505/1219 [02:48<03:53,  3.06it/s]"
     ]
    },
    {
     "name": "stdout",
     "output_type": "stream",
     "text": [
      "[-1, -2, -3]\n"
     ]
    },
    {
     "name": "stderr",
     "output_type": "stream",
     "text": [
      " 42%|████▏     | 506/1219 [02:48<03:52,  3.07it/s]"
     ]
    },
    {
     "name": "stdout",
     "output_type": "stream",
     "text": [
      "[-1, -2, -3]\n"
     ]
    },
    {
     "name": "stderr",
     "output_type": "stream",
     "text": [
      " 42%|████▏     | 507/1219 [02:48<03:54,  3.04it/s]"
     ]
    },
    {
     "name": "stdout",
     "output_type": "stream",
     "text": [
      "[-1, -2, -3]\n"
     ]
    },
    {
     "name": "stderr",
     "output_type": "stream",
     "text": [
      " 42%|████▏     | 508/1219 [02:49<03:52,  3.05it/s]"
     ]
    },
    {
     "name": "stdout",
     "output_type": "stream",
     "text": [
      "[-1, -2, -3]\n"
     ]
    },
    {
     "name": "stderr",
     "output_type": "stream",
     "text": [
      " 42%|████▏     | 509/1219 [02:49<03:54,  3.03it/s]"
     ]
    },
    {
     "name": "stdout",
     "output_type": "stream",
     "text": [
      "[-1, -2, -3]\n"
     ]
    },
    {
     "name": "stderr",
     "output_type": "stream",
     "text": [
      " 42%|████▏     | 510/1219 [02:49<03:52,  3.04it/s]"
     ]
    },
    {
     "name": "stdout",
     "output_type": "stream",
     "text": [
      "[-1, -2, -3]\n"
     ]
    },
    {
     "name": "stderr",
     "output_type": "stream",
     "text": [
      " 42%|████▏     | 511/1219 [02:50<03:54,  3.02it/s]"
     ]
    },
    {
     "name": "stdout",
     "output_type": "stream",
     "text": [
      "[-1, -2, -3]\n"
     ]
    },
    {
     "name": "stderr",
     "output_type": "stream",
     "text": [
      " 42%|████▏     | 512/1219 [02:50<03:53,  3.03it/s]"
     ]
    },
    {
     "name": "stdout",
     "output_type": "stream",
     "text": [
      "[-1, -2, -3]\n"
     ]
    },
    {
     "name": "stderr",
     "output_type": "stream",
     "text": [
      " 42%|████▏     | 513/1219 [02:50<03:53,  3.02it/s]"
     ]
    },
    {
     "name": "stdout",
     "output_type": "stream",
     "text": [
      "[-1, -2, -3]\n"
     ]
    },
    {
     "name": "stderr",
     "output_type": "stream",
     "text": [
      " 42%|████▏     | 514/1219 [02:51<03:54,  3.00it/s]"
     ]
    },
    {
     "name": "stdout",
     "output_type": "stream",
     "text": [
      "[-1, -2, -3]\n"
     ]
    },
    {
     "name": "stderr",
     "output_type": "stream",
     "text": [
      " 42%|████▏     | 515/1219 [02:51<03:52,  3.02it/s]"
     ]
    },
    {
     "name": "stdout",
     "output_type": "stream",
     "text": [
      "[-1, -2, -3]\n"
     ]
    },
    {
     "name": "stderr",
     "output_type": "stream",
     "text": [
      " 42%|████▏     | 516/1219 [02:51<03:52,  3.03it/s]"
     ]
    },
    {
     "name": "stdout",
     "output_type": "stream",
     "text": [
      "[-1, -2, -3]\n"
     ]
    },
    {
     "name": "stderr",
     "output_type": "stream",
     "text": [
      " 42%|████▏     | 517/1219 [02:52<03:50,  3.04it/s]"
     ]
    },
    {
     "name": "stdout",
     "output_type": "stream",
     "text": [
      "[-1, -2, -3]\n"
     ]
    },
    {
     "name": "stderr",
     "output_type": "stream",
     "text": [
      " 42%|████▏     | 518/1219 [02:52<03:52,  3.02it/s]"
     ]
    },
    {
     "name": "stdout",
     "output_type": "stream",
     "text": [
      "[-1, -2, -3]\n"
     ]
    },
    {
     "name": "stderr",
     "output_type": "stream",
     "text": [
      " 43%|████▎     | 519/1219 [02:52<03:52,  3.00it/s]"
     ]
    },
    {
     "name": "stdout",
     "output_type": "stream",
     "text": [
      "[-1, -2, -3]\n"
     ]
    },
    {
     "name": "stderr",
     "output_type": "stream",
     "text": [
      " 43%|████▎     | 520/1219 [02:53<03:53,  3.00it/s]"
     ]
    },
    {
     "name": "stdout",
     "output_type": "stream",
     "text": [
      "[-1, -2, -3]\n"
     ]
    },
    {
     "name": "stderr",
     "output_type": "stream",
     "text": [
      " 43%|████▎     | 521/1219 [02:53<03:52,  3.00it/s]"
     ]
    },
    {
     "name": "stdout",
     "output_type": "stream",
     "text": [
      "[-1, -2, -3]\n"
     ]
    },
    {
     "name": "stderr",
     "output_type": "stream",
     "text": [
      " 43%|████▎     | 522/1219 [02:53<03:51,  3.01it/s]"
     ]
    },
    {
     "name": "stdout",
     "output_type": "stream",
     "text": [
      "[-1, -2, -3]\n"
     ]
    },
    {
     "name": "stderr",
     "output_type": "stream",
     "text": [
      " 43%|████▎     | 523/1219 [02:54<03:49,  3.04it/s]"
     ]
    },
    {
     "name": "stdout",
     "output_type": "stream",
     "text": [
      "[-1, -2, -3]\n"
     ]
    },
    {
     "name": "stderr",
     "output_type": "stream",
     "text": [
      " 43%|████▎     | 524/1219 [02:54<03:48,  3.04it/s]"
     ]
    },
    {
     "name": "stdout",
     "output_type": "stream",
     "text": [
      "[-1, -2, -3]\n"
     ]
    },
    {
     "name": "stderr",
     "output_type": "stream",
     "text": [
      " 43%|████▎     | 525/1219 [02:54<03:47,  3.05it/s]"
     ]
    },
    {
     "name": "stdout",
     "output_type": "stream",
     "text": [
      "[-1, -2, -3]\n"
     ]
    },
    {
     "name": "stderr",
     "output_type": "stream",
     "text": [
      " 43%|████▎     | 526/1219 [02:54<03:49,  3.03it/s]"
     ]
    },
    {
     "name": "stdout",
     "output_type": "stream",
     "text": [
      "[-1, -2, -3]\n"
     ]
    },
    {
     "name": "stderr",
     "output_type": "stream",
     "text": [
      " 43%|████▎     | 527/1219 [02:55<03:48,  3.03it/s]"
     ]
    },
    {
     "name": "stdout",
     "output_type": "stream",
     "text": [
      "[-1, -2, -3]\n"
     ]
    },
    {
     "name": "stderr",
     "output_type": "stream",
     "text": [
      " 43%|████▎     | 528/1219 [02:55<03:49,  3.01it/s]"
     ]
    },
    {
     "name": "stdout",
     "output_type": "stream",
     "text": [
      "[-1, -2, -3]\n"
     ]
    },
    {
     "name": "stderr",
     "output_type": "stream",
     "text": [
      " 43%|████▎     | 529/1219 [02:55<03:48,  3.03it/s]"
     ]
    },
    {
     "name": "stdout",
     "output_type": "stream",
     "text": [
      "[-1, -2, -3]\n"
     ]
    },
    {
     "name": "stderr",
     "output_type": "stream",
     "text": [
      " 43%|████▎     | 530/1219 [02:56<03:46,  3.04it/s]"
     ]
    },
    {
     "name": "stdout",
     "output_type": "stream",
     "text": [
      "[-1, -2, -3]\n"
     ]
    },
    {
     "name": "stderr",
     "output_type": "stream",
     "text": [
      " 44%|████▎     | 531/1219 [02:56<03:45,  3.04it/s]"
     ]
    },
    {
     "name": "stdout",
     "output_type": "stream",
     "text": [
      "[-1, -2, -3]\n"
     ]
    },
    {
     "name": "stderr",
     "output_type": "stream",
     "text": [
      " 44%|████▎     | 532/1219 [02:56<03:44,  3.05it/s]"
     ]
    },
    {
     "name": "stdout",
     "output_type": "stream",
     "text": [
      "[-1, -2, -3]\n"
     ]
    },
    {
     "name": "stderr",
     "output_type": "stream",
     "text": [
      " 44%|████▎     | 533/1219 [02:57<03:44,  3.05it/s]"
     ]
    },
    {
     "name": "stdout",
     "output_type": "stream",
     "text": [
      "[-1, -2, -3]\n"
     ]
    },
    {
     "name": "stderr",
     "output_type": "stream",
     "text": [
      " 44%|████▍     | 534/1219 [02:57<03:43,  3.06it/s]"
     ]
    },
    {
     "name": "stdout",
     "output_type": "stream",
     "text": [
      "[-1, -2, -3]\n"
     ]
    },
    {
     "name": "stderr",
     "output_type": "stream",
     "text": [
      " 44%|████▍     | 535/1219 [02:57<03:45,  3.04it/s]"
     ]
    },
    {
     "name": "stdout",
     "output_type": "stream",
     "text": [
      "[-1, -2, -3]\n"
     ]
    },
    {
     "name": "stderr",
     "output_type": "stream",
     "text": [
      " 44%|████▍     | 536/1219 [02:58<03:43,  3.05it/s]"
     ]
    },
    {
     "name": "stdout",
     "output_type": "stream",
     "text": [
      "[-1, -2, -3]\n"
     ]
    },
    {
     "name": "stderr",
     "output_type": "stream",
     "text": [
      " 44%|████▍     | 537/1219 [02:58<03:43,  3.05it/s]"
     ]
    },
    {
     "name": "stdout",
     "output_type": "stream",
     "text": [
      "[-1, -2, -3]\n"
     ]
    },
    {
     "name": "stderr",
     "output_type": "stream",
     "text": [
      " 44%|████▍     | 538/1219 [02:58<03:45,  3.03it/s]"
     ]
    },
    {
     "name": "stdout",
     "output_type": "stream",
     "text": [
      "[-1, -2, -3]\n"
     ]
    },
    {
     "name": "stderr",
     "output_type": "stream",
     "text": [
      " 44%|████▍     | 539/1219 [02:59<03:43,  3.04it/s]"
     ]
    },
    {
     "name": "stdout",
     "output_type": "stream",
     "text": [
      "[-1, -2, -3]\n"
     ]
    },
    {
     "name": "stderr",
     "output_type": "stream",
     "text": [
      " 44%|████▍     | 540/1219 [02:59<03:43,  3.03it/s]"
     ]
    },
    {
     "name": "stdout",
     "output_type": "stream",
     "text": [
      "[-1, -2, -3]\n"
     ]
    },
    {
     "name": "stderr",
     "output_type": "stream",
     "text": [
      " 44%|████▍     | 541/1219 [02:59<03:42,  3.05it/s]"
     ]
    },
    {
     "name": "stdout",
     "output_type": "stream",
     "text": [
      "[-1, -2, -3]\n"
     ]
    },
    {
     "name": "stderr",
     "output_type": "stream",
     "text": [
      " 44%|████▍     | 542/1219 [03:00<03:41,  3.05it/s]"
     ]
    },
    {
     "name": "stdout",
     "output_type": "stream",
     "text": [
      "[-1, -2, -3]\n"
     ]
    },
    {
     "name": "stderr",
     "output_type": "stream",
     "text": [
      " 45%|████▍     | 543/1219 [03:00<03:40,  3.06it/s]"
     ]
    },
    {
     "name": "stdout",
     "output_type": "stream",
     "text": [
      "[-1, -2, -3]\n"
     ]
    },
    {
     "name": "stderr",
     "output_type": "stream",
     "text": [
      " 45%|████▍     | 544/1219 [03:00<03:46,  2.98it/s]"
     ]
    },
    {
     "name": "stdout",
     "output_type": "stream",
     "text": [
      "[-1, -2, -3]\n"
     ]
    },
    {
     "name": "stderr",
     "output_type": "stream",
     "text": [
      " 45%|████▍     | 545/1219 [03:01<03:43,  3.02it/s]"
     ]
    },
    {
     "name": "stdout",
     "output_type": "stream",
     "text": [
      "[-1, -2, -3]\n"
     ]
    },
    {
     "name": "stderr",
     "output_type": "stream",
     "text": [
      " 45%|████▍     | 546/1219 [03:01<03:40,  3.05it/s]"
     ]
    },
    {
     "name": "stdout",
     "output_type": "stream",
     "text": [
      "[-1, -2, -3]\n"
     ]
    },
    {
     "name": "stderr",
     "output_type": "stream",
     "text": [
      " 45%|████▍     | 547/1219 [03:01<03:42,  3.03it/s]"
     ]
    },
    {
     "name": "stdout",
     "output_type": "stream",
     "text": [
      "[-1, -2, -3]\n"
     ]
    },
    {
     "name": "stderr",
     "output_type": "stream",
     "text": [
      " 45%|████▍     | 548/1219 [03:02<03:40,  3.04it/s]"
     ]
    },
    {
     "name": "stdout",
     "output_type": "stream",
     "text": [
      "[-1, -2, -3]\n"
     ]
    },
    {
     "name": "stderr",
     "output_type": "stream",
     "text": [
      " 45%|████▌     | 549/1219 [03:02<03:40,  3.04it/s]"
     ]
    },
    {
     "name": "stdout",
     "output_type": "stream",
     "text": [
      "[-1, -2, -3]\n"
     ]
    },
    {
     "name": "stderr",
     "output_type": "stream",
     "text": [
      " 45%|████▌     | 550/1219 [03:02<03:39,  3.05it/s]"
     ]
    },
    {
     "name": "stdout",
     "output_type": "stream",
     "text": [
      "[-1, -2, -3]\n"
     ]
    },
    {
     "name": "stderr",
     "output_type": "stream",
     "text": [
      " 45%|████▌     | 551/1219 [03:03<03:40,  3.02it/s]"
     ]
    },
    {
     "name": "stdout",
     "output_type": "stream",
     "text": [
      "[-1, -2, -3]\n"
     ]
    },
    {
     "name": "stderr",
     "output_type": "stream",
     "text": [
      " 45%|████▌     | 552/1219 [03:03<03:41,  3.01it/s]"
     ]
    },
    {
     "name": "stdout",
     "output_type": "stream",
     "text": [
      "[-1, -2, -3]\n"
     ]
    },
    {
     "name": "stderr",
     "output_type": "stream",
     "text": [
      " 45%|████▌     | 553/1219 [03:03<03:42,  2.99it/s]"
     ]
    },
    {
     "name": "stdout",
     "output_type": "stream",
     "text": [
      "[-1, -2, -3]\n"
     ]
    },
    {
     "name": "stderr",
     "output_type": "stream",
     "text": [
      " 45%|████▌     | 554/1219 [03:04<03:43,  2.98it/s]"
     ]
    },
    {
     "name": "stdout",
     "output_type": "stream",
     "text": [
      "[-1, -2, -3]\n"
     ]
    },
    {
     "name": "stderr",
     "output_type": "stream",
     "text": [
      " 46%|████▌     | 555/1219 [03:04<03:42,  2.98it/s]"
     ]
    },
    {
     "name": "stdout",
     "output_type": "stream",
     "text": [
      "[-1, -2, -3]\n"
     ]
    },
    {
     "name": "stderr",
     "output_type": "stream",
     "text": [
      " 46%|████▌     | 556/1219 [03:04<03:40,  3.01it/s]"
     ]
    },
    {
     "name": "stdout",
     "output_type": "stream",
     "text": [
      "[-1, -2, -3]\n"
     ]
    },
    {
     "name": "stderr",
     "output_type": "stream",
     "text": [
      " 46%|████▌     | 557/1219 [03:05<04:03,  2.72it/s]"
     ]
    },
    {
     "name": "stdout",
     "output_type": "stream",
     "text": [
      "[-1, -2, -2, -3]\n"
     ]
    },
    {
     "name": "stderr",
     "output_type": "stream",
     "text": [
      " 46%|████▌     | 558/1219 [03:05<03:54,  2.81it/s]"
     ]
    },
    {
     "name": "stdout",
     "output_type": "stream",
     "text": [
      "[-1, -2, -3]\n"
     ]
    },
    {
     "name": "stderr",
     "output_type": "stream",
     "text": [
      " 46%|████▌     | 559/1219 [03:05<03:48,  2.89it/s]"
     ]
    },
    {
     "name": "stdout",
     "output_type": "stream",
     "text": [
      "[-1, -2, -3]\n"
     ]
    },
    {
     "name": "stderr",
     "output_type": "stream",
     "text": [
      " 46%|████▌     | 560/1219 [03:06<03:44,  2.93it/s]"
     ]
    },
    {
     "name": "stdout",
     "output_type": "stream",
     "text": [
      "[-1, -2, -3]\n"
     ]
    },
    {
     "name": "stderr",
     "output_type": "stream",
     "text": [
      " 46%|████▌     | 561/1219 [03:06<03:43,  2.95it/s]"
     ]
    },
    {
     "name": "stdout",
     "output_type": "stream",
     "text": [
      "[-1, -2, -3]\n"
     ]
    },
    {
     "name": "stderr",
     "output_type": "stream",
     "text": [
      " 46%|████▌     | 562/1219 [03:07<04:26,  2.46it/s]"
     ]
    },
    {
     "name": "stdout",
     "output_type": "stream",
     "text": [
      "[-1, 0, -1, -2, -3]\n"
     ]
    },
    {
     "name": "stderr",
     "output_type": "stream",
     "text": [
      " 46%|████▌     | 563/1219 [03:07<04:09,  2.63it/s]"
     ]
    },
    {
     "name": "stdout",
     "output_type": "stream",
     "text": [
      "[-1, -2, -3]\n"
     ]
    },
    {
     "name": "stderr",
     "output_type": "stream",
     "text": [
      " 46%|████▋     | 564/1219 [03:07<04:01,  2.71it/s]"
     ]
    },
    {
     "name": "stdout",
     "output_type": "stream",
     "text": [
      "[-1, -2, -3]\n"
     ]
    },
    {
     "name": "stderr",
     "output_type": "stream",
     "text": [
      " 46%|████▋     | 565/1219 [03:08<03:52,  2.81it/s]"
     ]
    },
    {
     "name": "stdout",
     "output_type": "stream",
     "text": [
      "[-1, -2, -3]\n"
     ]
    },
    {
     "name": "stderr",
     "output_type": "stream",
     "text": [
      " 46%|████▋     | 566/1219 [03:08<03:46,  2.88it/s]"
     ]
    },
    {
     "name": "stdout",
     "output_type": "stream",
     "text": [
      "[-1, -2, -3]\n"
     ]
    },
    {
     "name": "stderr",
     "output_type": "stream",
     "text": [
      " 47%|████▋     | 567/1219 [03:08<03:44,  2.91it/s]"
     ]
    },
    {
     "name": "stdout",
     "output_type": "stream",
     "text": [
      "[-1, -2, -3]\n"
     ]
    },
    {
     "name": "stderr",
     "output_type": "stream",
     "text": [
      " 47%|████▋     | 568/1219 [03:09<03:43,  2.91it/s]"
     ]
    },
    {
     "name": "stdout",
     "output_type": "stream",
     "text": [
      "[-1, -2, -3]\n"
     ]
    },
    {
     "name": "stderr",
     "output_type": "stream",
     "text": [
      " 47%|████▋     | 569/1219 [03:09<03:44,  2.90it/s]"
     ]
    },
    {
     "name": "stdout",
     "output_type": "stream",
     "text": [
      "[-1, -2, -3]\n"
     ]
    },
    {
     "name": "stderr",
     "output_type": "stream",
     "text": [
      " 47%|████▋     | 570/1219 [03:09<03:40,  2.95it/s]"
     ]
    },
    {
     "name": "stdout",
     "output_type": "stream",
     "text": [
      "[-1, -2, -3]\n"
     ]
    },
    {
     "name": "stderr",
     "output_type": "stream",
     "text": [
      " 47%|████▋     | 571/1219 [03:10<03:37,  2.98it/s]"
     ]
    },
    {
     "name": "stdout",
     "output_type": "stream",
     "text": [
      "[-1, -2, -3]\n"
     ]
    },
    {
     "name": "stderr",
     "output_type": "stream",
     "text": [
      " 47%|████▋     | 572/1219 [03:10<03:34,  3.01it/s]"
     ]
    },
    {
     "name": "stdout",
     "output_type": "stream",
     "text": [
      "[-1, -2, -3]\n"
     ]
    },
    {
     "name": "stderr",
     "output_type": "stream",
     "text": [
      " 47%|████▋     | 573/1219 [03:10<03:40,  2.93it/s]"
     ]
    },
    {
     "name": "stdout",
     "output_type": "stream",
     "text": [
      "[-1, -2, -3]\n"
     ]
    },
    {
     "name": "stderr",
     "output_type": "stream",
     "text": [
      " 47%|████▋     | 574/1219 [03:11<04:03,  2.65it/s]"
     ]
    },
    {
     "name": "stdout",
     "output_type": "stream",
     "text": [
      "[-1, -2, -3]\n"
     ]
    },
    {
     "name": "stderr",
     "output_type": "stream",
     "text": [
      " 47%|████▋     | 575/1219 [03:11<04:16,  2.51it/s]"
     ]
    },
    {
     "name": "stdout",
     "output_type": "stream",
     "text": [
      "[-1, -2, -3]\n"
     ]
    },
    {
     "name": "stderr",
     "output_type": "stream",
     "text": [
      " 47%|████▋     | 576/1219 [03:12<04:07,  2.59it/s]"
     ]
    },
    {
     "name": "stdout",
     "output_type": "stream",
     "text": [
      "[-1, -2, -3]\n"
     ]
    },
    {
     "name": "stderr",
     "output_type": "stream",
     "text": [
      " 47%|████▋     | 577/1219 [03:12<03:59,  2.68it/s]"
     ]
    },
    {
     "name": "stdout",
     "output_type": "stream",
     "text": [
      "[-1, -2, -3]\n"
     ]
    },
    {
     "name": "stderr",
     "output_type": "stream",
     "text": [
      " 47%|████▋     | 578/1219 [03:12<03:51,  2.77it/s]"
     ]
    },
    {
     "name": "stdout",
     "output_type": "stream",
     "text": [
      "[-1, -2, -3]\n"
     ]
    },
    {
     "name": "stderr",
     "output_type": "stream",
     "text": [
      " 47%|████▋     | 579/1219 [03:13<04:01,  2.65it/s]"
     ]
    },
    {
     "name": "stdout",
     "output_type": "stream",
     "text": [
      "[-1, -2, -3]\n"
     ]
    },
    {
     "name": "stderr",
     "output_type": "stream",
     "text": [
      " 48%|████▊     | 580/1219 [03:13<03:54,  2.72it/s]"
     ]
    },
    {
     "name": "stdout",
     "output_type": "stream",
     "text": [
      "[-1, -2, -3]\n"
     ]
    },
    {
     "name": "stderr",
     "output_type": "stream",
     "text": [
      " 48%|████▊     | 581/1219 [03:13<03:52,  2.75it/s]"
     ]
    },
    {
     "name": "stdout",
     "output_type": "stream",
     "text": [
      "[-1, -2, -3]\n"
     ]
    },
    {
     "name": "stderr",
     "output_type": "stream",
     "text": [
      " 48%|████▊     | 582/1219 [03:14<03:53,  2.73it/s]"
     ]
    },
    {
     "name": "stdout",
     "output_type": "stream",
     "text": [
      "[-1, -2, -3]\n"
     ]
    },
    {
     "name": "stderr",
     "output_type": "stream",
     "text": [
      " 48%|████▊     | 583/1219 [03:14<03:47,  2.80it/s]"
     ]
    },
    {
     "name": "stdout",
     "output_type": "stream",
     "text": [
      "[-1, -2, -3]\n"
     ]
    },
    {
     "name": "stderr",
     "output_type": "stream",
     "text": [
      " 48%|████▊     | 584/1219 [03:15<03:43,  2.84it/s]"
     ]
    },
    {
     "name": "stdout",
     "output_type": "stream",
     "text": [
      "[-1, -2, -3]\n"
     ]
    },
    {
     "name": "stderr",
     "output_type": "stream",
     "text": [
      " 48%|████▊     | 585/1219 [03:15<03:42,  2.85it/s]"
     ]
    },
    {
     "name": "stdout",
     "output_type": "stream",
     "text": [
      "[-1, -2, -3]\n"
     ]
    },
    {
     "name": "stderr",
     "output_type": "stream",
     "text": [
      " 48%|████▊     | 586/1219 [03:15<03:43,  2.83it/s]"
     ]
    },
    {
     "name": "stdout",
     "output_type": "stream",
     "text": [
      "[-1, -2, -3]\n"
     ]
    },
    {
     "name": "stderr",
     "output_type": "stream",
     "text": [
      " 48%|████▊     | 587/1219 [03:16<04:01,  2.62it/s]"
     ]
    },
    {
     "name": "stdout",
     "output_type": "stream",
     "text": [
      "[-1, -2, -3]\n"
     ]
    },
    {
     "name": "stderr",
     "output_type": "stream",
     "text": [
      " 48%|████▊     | 588/1219 [03:16<04:01,  2.62it/s]"
     ]
    },
    {
     "name": "stdout",
     "output_type": "stream",
     "text": [
      "[-1, -2, -3]\n"
     ]
    },
    {
     "name": "stderr",
     "output_type": "stream",
     "text": [
      " 48%|████▊     | 589/1219 [03:16<03:50,  2.74it/s]"
     ]
    },
    {
     "name": "stdout",
     "output_type": "stream",
     "text": [
      "[-1, -2, -3]\n"
     ]
    },
    {
     "name": "stderr",
     "output_type": "stream",
     "text": [
      " 48%|████▊     | 590/1219 [03:17<03:42,  2.83it/s]"
     ]
    },
    {
     "name": "stdout",
     "output_type": "stream",
     "text": [
      "[-1, -2, -3]\n"
     ]
    },
    {
     "name": "stderr",
     "output_type": "stream",
     "text": [
      " 48%|████▊     | 591/1219 [03:17<03:39,  2.87it/s]"
     ]
    },
    {
     "name": "stdout",
     "output_type": "stream",
     "text": [
      "[-1, -2, -3]\n"
     ]
    },
    {
     "name": "stderr",
     "output_type": "stream",
     "text": [
      " 49%|████▊     | 592/1219 [03:17<03:34,  2.92it/s]"
     ]
    },
    {
     "name": "stdout",
     "output_type": "stream",
     "text": [
      "[-1, -2, -3]\n"
     ]
    },
    {
     "name": "stderr",
     "output_type": "stream",
     "text": [
      " 49%|████▊     | 593/1219 [03:18<03:31,  2.95it/s]"
     ]
    },
    {
     "name": "stdout",
     "output_type": "stream",
     "text": [
      "[-1, -2, -3]\n"
     ]
    },
    {
     "name": "stderr",
     "output_type": "stream",
     "text": [
      " 49%|████▊     | 594/1219 [03:18<03:29,  2.98it/s]"
     ]
    },
    {
     "name": "stdout",
     "output_type": "stream",
     "text": [
      "[-1, -2, -3]\n"
     ]
    },
    {
     "name": "stderr",
     "output_type": "stream",
     "text": [
      " 49%|████▉     | 595/1219 [03:18<03:30,  2.97it/s]"
     ]
    },
    {
     "name": "stdout",
     "output_type": "stream",
     "text": [
      "[-1, -2, -3]\n"
     ]
    },
    {
     "name": "stderr",
     "output_type": "stream",
     "text": [
      " 49%|████▉     | 596/1219 [03:19<03:29,  2.98it/s]"
     ]
    },
    {
     "name": "stdout",
     "output_type": "stream",
     "text": [
      "[-1, -2, -3]\n"
     ]
    },
    {
     "name": "stderr",
     "output_type": "stream",
     "text": [
      " 49%|████▉     | 597/1219 [03:19<03:32,  2.93it/s]"
     ]
    },
    {
     "name": "stdout",
     "output_type": "stream",
     "text": [
      "[-1, -2, -3]\n"
     ]
    },
    {
     "name": "stderr",
     "output_type": "stream",
     "text": [
      " 49%|████▉     | 598/1219 [03:19<03:35,  2.88it/s]"
     ]
    },
    {
     "name": "stdout",
     "output_type": "stream",
     "text": [
      "[-1, -2, -3]\n"
     ]
    },
    {
     "name": "stderr",
     "output_type": "stream",
     "text": [
      " 49%|████▉     | 599/1219 [03:20<03:36,  2.87it/s]"
     ]
    },
    {
     "name": "stdout",
     "output_type": "stream",
     "text": [
      "[-1, -2, -3]\n"
     ]
    },
    {
     "name": "stderr",
     "output_type": "stream",
     "text": [
      " 49%|████▉     | 600/1219 [03:20<03:34,  2.89it/s]"
     ]
    },
    {
     "name": "stdout",
     "output_type": "stream",
     "text": [
      "[-1, -2, -3]\n"
     ]
    },
    {
     "name": "stderr",
     "output_type": "stream",
     "text": [
      " 49%|████▉     | 601/1219 [03:20<03:33,  2.89it/s]"
     ]
    },
    {
     "name": "stdout",
     "output_type": "stream",
     "text": [
      "[-1, -2, -3]\n"
     ]
    },
    {
     "name": "stderr",
     "output_type": "stream",
     "text": [
      " 49%|████▉     | 602/1219 [03:21<04:09,  2.47it/s]"
     ]
    },
    {
     "name": "stdout",
     "output_type": "stream",
     "text": [
      "[-1, -2, -3]\n"
     ]
    },
    {
     "name": "stderr",
     "output_type": "stream",
     "text": [
      " 49%|████▉     | 603/1219 [03:21<04:13,  2.43it/s]"
     ]
    },
    {
     "name": "stdout",
     "output_type": "stream",
     "text": [
      "[-1, -2, -3]\n"
     ]
    },
    {
     "name": "stderr",
     "output_type": "stream",
     "text": [
      " 50%|████▉     | 604/1219 [03:22<04:04,  2.52it/s]"
     ]
    },
    {
     "name": "stdout",
     "output_type": "stream",
     "text": [
      "[-1, -2, -3]\n"
     ]
    },
    {
     "name": "stderr",
     "output_type": "stream",
     "text": [
      " 50%|████▉     | 605/1219 [03:22<03:53,  2.63it/s]"
     ]
    },
    {
     "name": "stdout",
     "output_type": "stream",
     "text": [
      "[-1, -2, -3]\n"
     ]
    },
    {
     "name": "stderr",
     "output_type": "stream",
     "text": [
      " 50%|████▉     | 606/1219 [03:22<03:43,  2.74it/s]"
     ]
    },
    {
     "name": "stdout",
     "output_type": "stream",
     "text": [
      "[-1, -2, -3]\n"
     ]
    },
    {
     "name": "stderr",
     "output_type": "stream",
     "text": [
      " 50%|████▉     | 607/1219 [03:23<03:38,  2.80it/s]"
     ]
    },
    {
     "name": "stdout",
     "output_type": "stream",
     "text": [
      "[-1, -2, -3]\n"
     ]
    },
    {
     "name": "stderr",
     "output_type": "stream",
     "text": [
      " 50%|████▉     | 608/1219 [03:23<03:35,  2.84it/s]"
     ]
    },
    {
     "name": "stdout",
     "output_type": "stream",
     "text": [
      "[-1, -2, -3]\n"
     ]
    },
    {
     "name": "stderr",
     "output_type": "stream",
     "text": [
      " 50%|████▉     | 609/1219 [03:23<03:31,  2.88it/s]"
     ]
    },
    {
     "name": "stdout",
     "output_type": "stream",
     "text": [
      "[-1, -2, -3]\n"
     ]
    },
    {
     "name": "stderr",
     "output_type": "stream",
     "text": [
      " 50%|█████     | 610/1219 [03:24<03:29,  2.91it/s]"
     ]
    },
    {
     "name": "stdout",
     "output_type": "stream",
     "text": [
      "[-1, -2, -3]\n"
     ]
    },
    {
     "name": "stderr",
     "output_type": "stream",
     "text": [
      " 50%|█████     | 611/1219 [03:24<03:29,  2.91it/s]"
     ]
    },
    {
     "name": "stdout",
     "output_type": "stream",
     "text": [
      "[-1, -2, -3]\n"
     ]
    },
    {
     "name": "stderr",
     "output_type": "stream",
     "text": [
      " 50%|█████     | 612/1219 [03:24<03:29,  2.90it/s]"
     ]
    },
    {
     "name": "stdout",
     "output_type": "stream",
     "text": [
      "[-1, -2, -3]\n"
     ]
    },
    {
     "name": "stderr",
     "output_type": "stream",
     "text": [
      " 50%|█████     | 613/1219 [03:25<03:29,  2.90it/s]"
     ]
    },
    {
     "name": "stdout",
     "output_type": "stream",
     "text": [
      "[-1, -2, -3]\n"
     ]
    },
    {
     "name": "stderr",
     "output_type": "stream",
     "text": [
      " 50%|█████     | 614/1219 [03:25<03:28,  2.90it/s]"
     ]
    },
    {
     "name": "stdout",
     "output_type": "stream",
     "text": [
      "[-1, -2, -3]\n"
     ]
    },
    {
     "name": "stderr",
     "output_type": "stream",
     "text": [
      " 50%|█████     | 615/1219 [03:26<03:26,  2.92it/s]"
     ]
    },
    {
     "name": "stdout",
     "output_type": "stream",
     "text": [
      "[-1, -2, -3]\n"
     ]
    },
    {
     "name": "stderr",
     "output_type": "stream",
     "text": [
      " 51%|█████     | 616/1219 [03:26<03:24,  2.95it/s]"
     ]
    },
    {
     "name": "stdout",
     "output_type": "stream",
     "text": [
      "[-1, -2, -3]\n"
     ]
    },
    {
     "name": "stderr",
     "output_type": "stream",
     "text": [
      " 51%|█████     | 617/1219 [03:26<03:33,  2.82it/s]"
     ]
    },
    {
     "name": "stdout",
     "output_type": "stream",
     "text": [
      "[-1, -2, -3]\n"
     ]
    },
    {
     "name": "stderr",
     "output_type": "stream",
     "text": [
      " 51%|█████     | 618/1219 [03:27<03:30,  2.86it/s]"
     ]
    },
    {
     "name": "stdout",
     "output_type": "stream",
     "text": [
      "[-1, -2, -3]\n"
     ]
    },
    {
     "name": "stderr",
     "output_type": "stream",
     "text": [
      " 51%|█████     | 619/1219 [03:27<03:25,  2.92it/s]"
     ]
    },
    {
     "name": "stdout",
     "output_type": "stream",
     "text": [
      "[-1, -2, -3]\n"
     ]
    },
    {
     "name": "stderr",
     "output_type": "stream",
     "text": [
      " 51%|█████     | 620/1219 [03:27<03:22,  2.96it/s]"
     ]
    },
    {
     "name": "stdout",
     "output_type": "stream",
     "text": [
      "[-1, -2, -3]\n"
     ]
    },
    {
     "name": "stderr",
     "output_type": "stream",
     "text": [
      " 51%|█████     | 621/1219 [03:28<03:20,  2.98it/s]"
     ]
    },
    {
     "name": "stdout",
     "output_type": "stream",
     "text": [
      "[-1, -2, -3]\n"
     ]
    },
    {
     "name": "stderr",
     "output_type": "stream",
     "text": [
      " 51%|█████     | 622/1219 [03:28<03:21,  2.97it/s]"
     ]
    },
    {
     "name": "stdout",
     "output_type": "stream",
     "text": [
      "[-1, -2, -3]\n"
     ]
    },
    {
     "name": "stderr",
     "output_type": "stream",
     "text": [
      " 51%|█████     | 623/1219 [03:28<03:19,  2.99it/s]"
     ]
    },
    {
     "name": "stdout",
     "output_type": "stream",
     "text": [
      "[-1, -2, -3]\n"
     ]
    },
    {
     "name": "stderr",
     "output_type": "stream",
     "text": [
      " 51%|█████     | 624/1219 [03:29<03:17,  3.01it/s]"
     ]
    },
    {
     "name": "stdout",
     "output_type": "stream",
     "text": [
      "[-1, -2, -3]\n"
     ]
    },
    {
     "name": "stderr",
     "output_type": "stream",
     "text": [
      " 51%|█████▏    | 625/1219 [03:29<03:16,  3.02it/s]"
     ]
    },
    {
     "name": "stdout",
     "output_type": "stream",
     "text": [
      "[-1, -2, -3]\n"
     ]
    },
    {
     "name": "stderr",
     "output_type": "stream",
     "text": [
      " 51%|█████▏    | 626/1219 [03:29<03:15,  3.03it/s]"
     ]
    },
    {
     "name": "stdout",
     "output_type": "stream",
     "text": [
      "[-1, -2, -3]\n"
     ]
    },
    {
     "name": "stderr",
     "output_type": "stream",
     "text": [
      " 51%|█████▏    | 627/1219 [03:30<03:15,  3.02it/s]"
     ]
    },
    {
     "name": "stdout",
     "output_type": "stream",
     "text": [
      "[-1, -2, -3]\n"
     ]
    },
    {
     "name": "stderr",
     "output_type": "stream",
     "text": [
      " 52%|█████▏    | 628/1219 [03:30<03:16,  3.01it/s]"
     ]
    },
    {
     "name": "stdout",
     "output_type": "stream",
     "text": [
      "[-1, -2, -3]\n"
     ]
    },
    {
     "name": "stderr",
     "output_type": "stream",
     "text": [
      " 52%|█████▏    | 629/1219 [03:30<03:24,  2.89it/s]"
     ]
    },
    {
     "name": "stdout",
     "output_type": "stream",
     "text": [
      "[-1, -2, -3]\n"
     ]
    },
    {
     "name": "stderr",
     "output_type": "stream",
     "text": [
      " 52%|█████▏    | 630/1219 [03:31<03:23,  2.89it/s]"
     ]
    },
    {
     "name": "stdout",
     "output_type": "stream",
     "text": [
      "[-1, -2, -3]\n"
     ]
    },
    {
     "name": "stderr",
     "output_type": "stream",
     "text": [
      " 52%|█████▏    | 631/1219 [03:31<03:21,  2.92it/s]"
     ]
    },
    {
     "name": "stdout",
     "output_type": "stream",
     "text": [
      "[-1, -2, -3]\n"
     ]
    },
    {
     "name": "stderr",
     "output_type": "stream",
     "text": [
      " 52%|█████▏    | 632/1219 [03:31<03:22,  2.89it/s]"
     ]
    },
    {
     "name": "stdout",
     "output_type": "stream",
     "text": [
      "[-1, -2, -3]\n"
     ]
    },
    {
     "name": "stderr",
     "output_type": "stream",
     "text": [
      " 52%|█████▏    | 633/1219 [03:32<03:24,  2.87it/s]"
     ]
    },
    {
     "name": "stdout",
     "output_type": "stream",
     "text": [
      "[-1, -2, -3]\n"
     ]
    },
    {
     "name": "stderr",
     "output_type": "stream",
     "text": [
      " 52%|█████▏    | 634/1219 [03:32<03:25,  2.85it/s]"
     ]
    },
    {
     "name": "stdout",
     "output_type": "stream",
     "text": [
      "[-1, -2, -3]\n"
     ]
    },
    {
     "name": "stderr",
     "output_type": "stream",
     "text": [
      " 52%|█████▏    | 635/1219 [03:32<03:23,  2.88it/s]"
     ]
    },
    {
     "name": "stdout",
     "output_type": "stream",
     "text": [
      "[-1, -2, -3]\n"
     ]
    },
    {
     "name": "stderr",
     "output_type": "stream",
     "text": [
      " 52%|█████▏    | 636/1219 [03:33<03:18,  2.94it/s]"
     ]
    },
    {
     "name": "stdout",
     "output_type": "stream",
     "text": [
      "[-1, -2, -3]\n"
     ]
    },
    {
     "name": "stderr",
     "output_type": "stream",
     "text": [
      " 52%|█████▏    | 637/1219 [03:33<03:16,  2.96it/s]"
     ]
    },
    {
     "name": "stdout",
     "output_type": "stream",
     "text": [
      "[-1, -2, -3]\n"
     ]
    },
    {
     "name": "stderr",
     "output_type": "stream",
     "text": [
      " 52%|█████▏    | 638/1219 [03:33<03:14,  2.99it/s]"
     ]
    },
    {
     "name": "stdout",
     "output_type": "stream",
     "text": [
      "[-1, -2, -3]\n"
     ]
    },
    {
     "name": "stderr",
     "output_type": "stream",
     "text": [
      " 52%|█████▏    | 639/1219 [03:34<03:12,  3.01it/s]"
     ]
    },
    {
     "name": "stdout",
     "output_type": "stream",
     "text": [
      "[-1, -2, -3]\n"
     ]
    },
    {
     "name": "stderr",
     "output_type": "stream",
     "text": [
      " 53%|█████▎    | 640/1219 [03:34<03:14,  2.98it/s]"
     ]
    },
    {
     "name": "stdout",
     "output_type": "stream",
     "text": [
      "[-1, -2, -3]\n"
     ]
    },
    {
     "name": "stderr",
     "output_type": "stream",
     "text": [
      " 53%|█████▎    | 641/1219 [03:34<03:18,  2.91it/s]"
     ]
    },
    {
     "name": "stdout",
     "output_type": "stream",
     "text": [
      "[-1, -2, -3]\n"
     ]
    },
    {
     "name": "stderr",
     "output_type": "stream",
     "text": [
      " 53%|█████▎    | 642/1219 [03:35<03:16,  2.94it/s]"
     ]
    },
    {
     "name": "stdout",
     "output_type": "stream",
     "text": [
      "[-1, -2, -3]\n"
     ]
    },
    {
     "name": "stderr",
     "output_type": "stream",
     "text": [
      " 53%|█████▎    | 643/1219 [03:35<03:14,  2.96it/s]"
     ]
    },
    {
     "name": "stdout",
     "output_type": "stream",
     "text": [
      "[-1, -2, -3]\n"
     ]
    },
    {
     "name": "stderr",
     "output_type": "stream",
     "text": [
      " 53%|█████▎    | 644/1219 [03:35<03:12,  2.98it/s]"
     ]
    },
    {
     "name": "stdout",
     "output_type": "stream",
     "text": [
      "[-1, -2, -3]\n"
     ]
    },
    {
     "name": "stderr",
     "output_type": "stream",
     "text": [
      " 53%|█████▎    | 645/1219 [03:36<03:11,  3.00it/s]"
     ]
    },
    {
     "name": "stdout",
     "output_type": "stream",
     "text": [
      "[-1, -2, -3]\n"
     ]
    },
    {
     "name": "stderr",
     "output_type": "stream",
     "text": [
      " 53%|█████▎    | 646/1219 [03:36<03:10,  3.01it/s]"
     ]
    },
    {
     "name": "stdout",
     "output_type": "stream",
     "text": [
      "[-1, -2, -3]\n"
     ]
    },
    {
     "name": "stderr",
     "output_type": "stream",
     "text": [
      " 53%|█████▎    | 647/1219 [03:36<03:09,  3.02it/s]"
     ]
    },
    {
     "name": "stdout",
     "output_type": "stream",
     "text": [
      "[-1, -2, -3]\n"
     ]
    },
    {
     "name": "stderr",
     "output_type": "stream",
     "text": [
      " 53%|█████▎    | 648/1219 [03:37<03:08,  3.03it/s]"
     ]
    },
    {
     "name": "stdout",
     "output_type": "stream",
     "text": [
      "[-1, -2, -3]\n"
     ]
    },
    {
     "name": "stderr",
     "output_type": "stream",
     "text": [
      " 53%|█████▎    | 649/1219 [03:37<03:49,  2.49it/s]"
     ]
    },
    {
     "name": "stdout",
     "output_type": "stream",
     "text": [
      "[-1, -2, -3]\n"
     ]
    },
    {
     "name": "stderr",
     "output_type": "stream",
     "text": [
      " 53%|█████▎    | 650/1219 [03:38<03:44,  2.53it/s]"
     ]
    },
    {
     "name": "stdout",
     "output_type": "stream",
     "text": [
      "[-1, -2, -3]\n"
     ]
    },
    {
     "name": "stderr",
     "output_type": "stream",
     "text": [
      " 53%|█████▎    | 651/1219 [03:38<03:39,  2.59it/s]"
     ]
    },
    {
     "name": "stdout",
     "output_type": "stream",
     "text": [
      "[-1, -2, -3]\n"
     ]
    },
    {
     "name": "stderr",
     "output_type": "stream",
     "text": [
      " 53%|█████▎    | 652/1219 [03:39<04:46,  1.98it/s]"
     ]
    },
    {
     "name": "stdout",
     "output_type": "stream",
     "text": [
      "[-1, -2, -1, -2, -1, -2, -3]\n"
     ]
    },
    {
     "name": "stderr",
     "output_type": "stream",
     "text": [
      " 54%|█████▎    | 653/1219 [03:39<04:37,  2.04it/s]"
     ]
    },
    {
     "name": "stdout",
     "output_type": "stream",
     "text": [
      "[-1, -2, -3]\n"
     ]
    },
    {
     "name": "stderr",
     "output_type": "stream",
     "text": [
      " 54%|█████▎    | 654/1219 [03:40<04:12,  2.24it/s]"
     ]
    },
    {
     "name": "stdout",
     "output_type": "stream",
     "text": [
      "[-1, -2, -3]\n"
     ]
    },
    {
     "name": "stderr",
     "output_type": "stream",
     "text": [
      " 54%|█████▎    | 655/1219 [03:40<03:56,  2.38it/s]"
     ]
    },
    {
     "name": "stdout",
     "output_type": "stream",
     "text": [
      "[-1, -2, -3]\n"
     ]
    },
    {
     "name": "stderr",
     "output_type": "stream",
     "text": [
      " 54%|█████▍    | 656/1219 [03:40<03:40,  2.55it/s]"
     ]
    },
    {
     "name": "stdout",
     "output_type": "stream",
     "text": [
      "[-1, -2, -3]\n"
     ]
    },
    {
     "name": "stderr",
     "output_type": "stream",
     "text": [
      " 54%|█████▍    | 657/1219 [03:41<03:29,  2.68it/s]"
     ]
    },
    {
     "name": "stdout",
     "output_type": "stream",
     "text": [
      "[-1, -2, -3]\n"
     ]
    },
    {
     "name": "stderr",
     "output_type": "stream",
     "text": [
      " 54%|█████▍    | 658/1219 [03:41<03:21,  2.79it/s]"
     ]
    },
    {
     "name": "stdout",
     "output_type": "stream",
     "text": [
      "[-1, -2, -3]\n"
     ]
    },
    {
     "name": "stderr",
     "output_type": "stream",
     "text": [
      " 54%|█████▍    | 659/1219 [03:41<03:15,  2.87it/s]"
     ]
    },
    {
     "name": "stdout",
     "output_type": "stream",
     "text": [
      "[-1, -2, -3]\n"
     ]
    },
    {
     "name": "stderr",
     "output_type": "stream",
     "text": [
      " 54%|█████▍    | 660/1219 [03:42<03:49,  2.43it/s]"
     ]
    },
    {
     "name": "stdout",
     "output_type": "stream",
     "text": [
      "[1, 0, -1, -2, -3]\n"
     ]
    },
    {
     "name": "stderr",
     "output_type": "stream",
     "text": [
      " 54%|█████▍    | 661/1219 [03:42<03:35,  2.59it/s]"
     ]
    },
    {
     "name": "stdout",
     "output_type": "stream",
     "text": [
      "[-1, -2, -3]\n"
     ]
    },
    {
     "name": "stderr",
     "output_type": "stream",
     "text": [
      " 54%|█████▍    | 662/1219 [03:42<03:24,  2.72it/s]"
     ]
    },
    {
     "name": "stdout",
     "output_type": "stream",
     "text": [
      "[-1, -2, -3]\n"
     ]
    },
    {
     "name": "stderr",
     "output_type": "stream",
     "text": [
      " 54%|█████▍    | 663/1219 [03:43<03:17,  2.82it/s]"
     ]
    },
    {
     "name": "stdout",
     "output_type": "stream",
     "text": [
      "[-1, -2, -3]\n"
     ]
    },
    {
     "name": "stderr",
     "output_type": "stream",
     "text": [
      " 54%|█████▍    | 664/1219 [03:43<03:13,  2.86it/s]"
     ]
    },
    {
     "name": "stdout",
     "output_type": "stream",
     "text": [
      "[-1, -2, -3]\n"
     ]
    },
    {
     "name": "stderr",
     "output_type": "stream",
     "text": [
      " 55%|█████▍    | 665/1219 [03:43<03:10,  2.92it/s]"
     ]
    },
    {
     "name": "stdout",
     "output_type": "stream",
     "text": [
      "[-1, -2, -3]\n"
     ]
    },
    {
     "name": "stderr",
     "output_type": "stream",
     "text": [
      " 55%|█████▍    | 666/1219 [03:44<03:07,  2.95it/s]"
     ]
    },
    {
     "name": "stdout",
     "output_type": "stream",
     "text": [
      "[-1, -2, -3]\n"
     ]
    },
    {
     "name": "stderr",
     "output_type": "stream",
     "text": [
      " 55%|█████▍    | 667/1219 [03:44<03:05,  2.98it/s]"
     ]
    },
    {
     "name": "stdout",
     "output_type": "stream",
     "text": [
      "[-1, -2, -3]\n"
     ]
    },
    {
     "name": "stderr",
     "output_type": "stream",
     "text": [
      " 55%|█████▍    | 668/1219 [03:44<03:02,  3.01it/s]"
     ]
    },
    {
     "name": "stdout",
     "output_type": "stream",
     "text": [
      "[-1, -2, -3]\n"
     ]
    },
    {
     "name": "stderr",
     "output_type": "stream",
     "text": [
      " 55%|█████▍    | 669/1219 [03:45<03:03,  3.00it/s]"
     ]
    },
    {
     "name": "stdout",
     "output_type": "stream",
     "text": [
      "[-1, -2, -3]\n"
     ]
    },
    {
     "name": "stderr",
     "output_type": "stream",
     "text": [
      " 55%|█████▍    | 670/1219 [03:45<03:01,  3.02it/s]"
     ]
    },
    {
     "name": "stdout",
     "output_type": "stream",
     "text": [
      "[-1, -2, -3]\n"
     ]
    },
    {
     "name": "stderr",
     "output_type": "stream",
     "text": [
      " 55%|█████▌    | 671/1219 [03:45<03:02,  3.00it/s]"
     ]
    },
    {
     "name": "stdout",
     "output_type": "stream",
     "text": [
      "[-1, -2, -3]\n"
     ]
    },
    {
     "name": "stderr",
     "output_type": "stream",
     "text": [
      " 55%|█████▌    | 672/1219 [03:46<03:00,  3.03it/s]"
     ]
    },
    {
     "name": "stdout",
     "output_type": "stream",
     "text": [
      "[-1, -2, -3]\n"
     ]
    },
    {
     "name": "stderr",
     "output_type": "stream",
     "text": [
      " 55%|█████▌    | 673/1219 [03:46<03:02,  3.00it/s]"
     ]
    },
    {
     "name": "stdout",
     "output_type": "stream",
     "text": [
      "[-1, -2, -3]\n"
     ]
    },
    {
     "name": "stderr",
     "output_type": "stream",
     "text": [
      " 55%|█████▌    | 674/1219 [03:46<03:00,  3.01it/s]"
     ]
    },
    {
     "name": "stdout",
     "output_type": "stream",
     "text": [
      "[-1, -2, -3]\n"
     ]
    },
    {
     "name": "stderr",
     "output_type": "stream",
     "text": [
      " 55%|█████▌    | 675/1219 [03:47<03:01,  3.00it/s]"
     ]
    },
    {
     "name": "stdout",
     "output_type": "stream",
     "text": [
      "[-1, -2, -3]\n"
     ]
    },
    {
     "name": "stderr",
     "output_type": "stream",
     "text": [
      " 55%|█████▌    | 676/1219 [03:47<03:00,  3.01it/s]"
     ]
    },
    {
     "name": "stdout",
     "output_type": "stream",
     "text": [
      "[-1, -2, -3]\n"
     ]
    },
    {
     "name": "stderr",
     "output_type": "stream",
     "text": [
      " 56%|█████▌    | 677/1219 [03:47<02:58,  3.03it/s]"
     ]
    },
    {
     "name": "stdout",
     "output_type": "stream",
     "text": [
      "[-1, -2, -3]\n"
     ]
    },
    {
     "name": "stderr",
     "output_type": "stream",
     "text": [
      " 56%|█████▌    | 678/1219 [03:48<03:00,  3.00it/s]"
     ]
    },
    {
     "name": "stdout",
     "output_type": "stream",
     "text": [
      "[-1, -2, -3]\n"
     ]
    },
    {
     "name": "stderr",
     "output_type": "stream",
     "text": [
      " 56%|█████▌    | 679/1219 [03:48<02:59,  3.01it/s]"
     ]
    },
    {
     "name": "stdout",
     "output_type": "stream",
     "text": [
      "[-1, -2, -3]\n"
     ]
    },
    {
     "name": "stderr",
     "output_type": "stream",
     "text": [
      " 56%|█████▌    | 680/1219 [03:48<02:58,  3.02it/s]"
     ]
    },
    {
     "name": "stdout",
     "output_type": "stream",
     "text": [
      "[-1, -2, -3]\n"
     ]
    },
    {
     "name": "stderr",
     "output_type": "stream",
     "text": [
      " 56%|█████▌    | 681/1219 [03:49<02:57,  3.04it/s]"
     ]
    },
    {
     "name": "stdout",
     "output_type": "stream",
     "text": [
      "[-1, -2, -3]\n"
     ]
    },
    {
     "name": "stderr",
     "output_type": "stream",
     "text": [
      " 56%|█████▌    | 682/1219 [03:49<02:56,  3.05it/s]"
     ]
    },
    {
     "name": "stdout",
     "output_type": "stream",
     "text": [
      "[-1, -2, -3]\n"
     ]
    },
    {
     "name": "stderr",
     "output_type": "stream",
     "text": [
      " 56%|█████▌    | 683/1219 [03:49<02:55,  3.06it/s]"
     ]
    },
    {
     "name": "stdout",
     "output_type": "stream",
     "text": [
      "[-1, -2, -3]\n"
     ]
    },
    {
     "name": "stderr",
     "output_type": "stream",
     "text": [
      " 56%|█████▌    | 684/1219 [03:50<02:56,  3.03it/s]"
     ]
    },
    {
     "name": "stdout",
     "output_type": "stream",
     "text": [
      "[-1, -2, -3]\n"
     ]
    },
    {
     "name": "stderr",
     "output_type": "stream",
     "text": [
      " 56%|█████▌    | 685/1219 [03:50<03:00,  2.96it/s]"
     ]
    },
    {
     "name": "stdout",
     "output_type": "stream",
     "text": [
      "[-1, -2, -3]\n"
     ]
    },
    {
     "name": "stderr",
     "output_type": "stream",
     "text": [
      " 56%|█████▋    | 686/1219 [03:50<02:59,  2.97it/s]"
     ]
    },
    {
     "name": "stdout",
     "output_type": "stream",
     "text": [
      "[-1, -2, -3]\n"
     ]
    },
    {
     "name": "stderr",
     "output_type": "stream",
     "text": [
      " 56%|█████▋    | 687/1219 [03:51<02:58,  2.99it/s]"
     ]
    },
    {
     "name": "stdout",
     "output_type": "stream",
     "text": [
      "[-1, -2, -3]\n"
     ]
    },
    {
     "name": "stderr",
     "output_type": "stream",
     "text": [
      " 56%|█████▋    | 688/1219 [03:51<02:56,  3.01it/s]"
     ]
    },
    {
     "name": "stdout",
     "output_type": "stream",
     "text": [
      "[-1, -2, -3]\n"
     ]
    },
    {
     "name": "stderr",
     "output_type": "stream",
     "text": [
      " 57%|█████▋    | 689/1219 [03:51<02:56,  3.00it/s]"
     ]
    },
    {
     "name": "stdout",
     "output_type": "stream",
     "text": [
      "[-1, -2, -3]\n"
     ]
    },
    {
     "name": "stderr",
     "output_type": "stream",
     "text": [
      " 57%|█████▋    | 690/1219 [03:52<02:55,  3.02it/s]"
     ]
    },
    {
     "name": "stdout",
     "output_type": "stream",
     "text": [
      "[-1, -2, -3]\n"
     ]
    },
    {
     "name": "stderr",
     "output_type": "stream",
     "text": [
      " 57%|█████▋    | 691/1219 [03:52<02:54,  3.03it/s]"
     ]
    },
    {
     "name": "stdout",
     "output_type": "stream",
     "text": [
      "[-1, -2, -3]\n"
     ]
    },
    {
     "name": "stderr",
     "output_type": "stream",
     "text": [
      " 57%|█████▋    | 692/1219 [03:52<02:55,  3.01it/s]"
     ]
    },
    {
     "name": "stdout",
     "output_type": "stream",
     "text": [
      "[-1, -2, -3]\n"
     ]
    },
    {
     "name": "stderr",
     "output_type": "stream",
     "text": [
      " 57%|█████▋    | 693/1219 [03:53<02:55,  3.00it/s]"
     ]
    },
    {
     "name": "stdout",
     "output_type": "stream",
     "text": [
      "[-1, -2, -3]\n"
     ]
    },
    {
     "name": "stderr",
     "output_type": "stream",
     "text": [
      " 57%|█████▋    | 694/1219 [03:53<02:54,  3.02it/s]"
     ]
    },
    {
     "name": "stdout",
     "output_type": "stream",
     "text": [
      "[-1, -2, -3]\n"
     ]
    },
    {
     "name": "stderr",
     "output_type": "stream",
     "text": [
      " 57%|█████▋    | 695/1219 [03:53<02:54,  3.00it/s]"
     ]
    },
    {
     "name": "stdout",
     "output_type": "stream",
     "text": [
      "[-1, -2, -3]\n"
     ]
    },
    {
     "name": "stderr",
     "output_type": "stream",
     "text": [
      " 57%|█████▋    | 696/1219 [03:54<02:52,  3.03it/s]"
     ]
    },
    {
     "name": "stdout",
     "output_type": "stream",
     "text": [
      "[-1, -2, -3]\n"
     ]
    },
    {
     "name": "stderr",
     "output_type": "stream",
     "text": [
      " 57%|█████▋    | 697/1219 [03:54<02:53,  3.01it/s]"
     ]
    },
    {
     "name": "stdout",
     "output_type": "stream",
     "text": [
      "[-1, -2, -3]\n"
     ]
    },
    {
     "name": "stderr",
     "output_type": "stream",
     "text": [
      " 57%|█████▋    | 698/1219 [03:54<02:54,  2.99it/s]"
     ]
    },
    {
     "name": "stdout",
     "output_type": "stream",
     "text": [
      "[-1, -2, -3]\n"
     ]
    },
    {
     "name": "stderr",
     "output_type": "stream",
     "text": [
      " 57%|█████▋    | 699/1219 [03:55<02:54,  2.98it/s]"
     ]
    },
    {
     "name": "stdout",
     "output_type": "stream",
     "text": [
      "[-1, -2, -3]\n"
     ]
    },
    {
     "name": "stderr",
     "output_type": "stream",
     "text": [
      " 57%|█████▋    | 700/1219 [03:55<02:52,  3.00it/s]"
     ]
    },
    {
     "name": "stdout",
     "output_type": "stream",
     "text": [
      "[-1, -2, -3]\n"
     ]
    },
    {
     "name": "stderr",
     "output_type": "stream",
     "text": [
      " 58%|█████▊    | 701/1219 [03:55<02:51,  3.02it/s]"
     ]
    },
    {
     "name": "stdout",
     "output_type": "stream",
     "text": [
      "[-1, -2, -3]\n"
     ]
    },
    {
     "name": "stderr",
     "output_type": "stream",
     "text": [
      " 58%|█████▊    | 702/1219 [03:56<02:57,  2.92it/s]"
     ]
    },
    {
     "name": "stdout",
     "output_type": "stream",
     "text": [
      "[-1, -2, -3]\n"
     ]
    },
    {
     "name": "stderr",
     "output_type": "stream",
     "text": [
      " 58%|█████▊    | 703/1219 [03:56<02:54,  2.96it/s]"
     ]
    },
    {
     "name": "stdout",
     "output_type": "stream",
     "text": [
      "[-1, -2, -3]\n"
     ]
    },
    {
     "name": "stderr",
     "output_type": "stream",
     "text": [
      " 58%|█████▊    | 704/1219 [03:56<02:52,  2.99it/s]"
     ]
    },
    {
     "name": "stdout",
     "output_type": "stream",
     "text": [
      "[-1, -2, -3]\n"
     ]
    },
    {
     "name": "stderr",
     "output_type": "stream",
     "text": [
      " 58%|█████▊    | 705/1219 [03:57<02:50,  3.01it/s]"
     ]
    },
    {
     "name": "stdout",
     "output_type": "stream",
     "text": [
      "[-1, -2, -3]\n"
     ]
    },
    {
     "name": "stderr",
     "output_type": "stream",
     "text": [
      " 58%|█████▊    | 706/1219 [03:57<02:50,  3.00it/s]"
     ]
    },
    {
     "name": "stdout",
     "output_type": "stream",
     "text": [
      "[-1, -2, -3]\n"
     ]
    },
    {
     "name": "stderr",
     "output_type": "stream",
     "text": [
      " 58%|█████▊    | 707/1219 [03:57<02:49,  3.02it/s]"
     ]
    },
    {
     "name": "stdout",
     "output_type": "stream",
     "text": [
      "[-1, -2, -3]\n"
     ]
    },
    {
     "name": "stderr",
     "output_type": "stream",
     "text": [
      " 58%|█████▊    | 708/1219 [03:58<02:49,  3.02it/s]"
     ]
    },
    {
     "name": "stdout",
     "output_type": "stream",
     "text": [
      "[-1, -2, -3]\n"
     ]
    },
    {
     "name": "stderr",
     "output_type": "stream",
     "text": [
      " 58%|█████▊    | 709/1219 [03:58<02:47,  3.04it/s]"
     ]
    },
    {
     "name": "stdout",
     "output_type": "stream",
     "text": [
      "[-1, -2, -3]\n"
     ]
    },
    {
     "name": "stderr",
     "output_type": "stream",
     "text": [
      " 58%|█████▊    | 710/1219 [03:58<02:46,  3.05it/s]"
     ]
    },
    {
     "name": "stdout",
     "output_type": "stream",
     "text": [
      "[-1, -2, -3]\n"
     ]
    },
    {
     "name": "stderr",
     "output_type": "stream",
     "text": [
      " 58%|█████▊    | 711/1219 [03:59<02:48,  3.02it/s]"
     ]
    },
    {
     "name": "stdout",
     "output_type": "stream",
     "text": [
      "[-1, -2, -3]\n"
     ]
    },
    {
     "name": "stderr",
     "output_type": "stream",
     "text": [
      " 58%|█████▊    | 712/1219 [03:59<02:48,  3.00it/s]"
     ]
    },
    {
     "name": "stdout",
     "output_type": "stream",
     "text": [
      "[-1, -2, -3]\n"
     ]
    },
    {
     "name": "stderr",
     "output_type": "stream",
     "text": [
      " 58%|█████▊    | 713/1219 [03:59<02:47,  3.03it/s]"
     ]
    },
    {
     "name": "stdout",
     "output_type": "stream",
     "text": [
      "[-1, -2, -3]\n"
     ]
    },
    {
     "name": "stderr",
     "output_type": "stream",
     "text": [
      " 59%|█████▊    | 714/1219 [04:00<02:46,  3.04it/s]"
     ]
    },
    {
     "name": "stdout",
     "output_type": "stream",
     "text": [
      "[-1, -2, -3]\n"
     ]
    },
    {
     "name": "stderr",
     "output_type": "stream",
     "text": [
      " 59%|█████▊    | 715/1219 [04:00<02:47,  3.01it/s]"
     ]
    },
    {
     "name": "stdout",
     "output_type": "stream",
     "text": [
      "[-1, -2, -3]\n"
     ]
    },
    {
     "name": "stderr",
     "output_type": "stream",
     "text": [
      " 59%|█████▊    | 716/1219 [04:00<02:46,  3.02it/s]"
     ]
    },
    {
     "name": "stdout",
     "output_type": "stream",
     "text": [
      "[-1, -2, -3]\n"
     ]
    },
    {
     "name": "stderr",
     "output_type": "stream",
     "text": [
      " 59%|█████▉    | 717/1219 [04:01<02:48,  2.97it/s]"
     ]
    },
    {
     "name": "stdout",
     "output_type": "stream",
     "text": [
      "[-1, -2, -3]\n"
     ]
    },
    {
     "name": "stderr",
     "output_type": "stream",
     "text": [
      " 59%|█████▉    | 718/1219 [04:01<02:50,  2.94it/s]"
     ]
    },
    {
     "name": "stdout",
     "output_type": "stream",
     "text": [
      "[-1, -2, -3]\n"
     ]
    },
    {
     "name": "stderr",
     "output_type": "stream",
     "text": [
      " 59%|█████▉    | 719/1219 [04:02<03:22,  2.46it/s]"
     ]
    },
    {
     "name": "stdout",
     "output_type": "stream",
     "text": [
      "[-1, 0, 1, 2, 3]\n"
     ]
    },
    {
     "name": "stderr",
     "output_type": "stream",
     "text": [
      " 59%|█████▉    | 720/1219 [04:02<03:12,  2.60it/s]"
     ]
    },
    {
     "name": "stdout",
     "output_type": "stream",
     "text": [
      "[-1, -2, -3]\n"
     ]
    },
    {
     "name": "stderr",
     "output_type": "stream",
     "text": [
      " 59%|█████▉    | 721/1219 [04:03<03:37,  2.29it/s]"
     ]
    },
    {
     "name": "stdout",
     "output_type": "stream",
     "text": [
      "[-1, 0, -1, -2, -3]\n"
     ]
    },
    {
     "name": "stderr",
     "output_type": "stream",
     "text": [
      " 59%|█████▉    | 722/1219 [04:03<03:22,  2.46it/s]"
     ]
    },
    {
     "name": "stdout",
     "output_type": "stream",
     "text": [
      "[-1, -2, -3]\n"
     ]
    },
    {
     "name": "stderr",
     "output_type": "stream",
     "text": [
      " 59%|█████▉    | 723/1219 [04:03<03:11,  2.59it/s]"
     ]
    },
    {
     "name": "stdout",
     "output_type": "stream",
     "text": [
      "[-1, -2, -3]\n"
     ]
    },
    {
     "name": "stderr",
     "output_type": "stream",
     "text": [
      " 59%|█████▉    | 724/1219 [04:04<03:02,  2.71it/s]"
     ]
    },
    {
     "name": "stdout",
     "output_type": "stream",
     "text": [
      "[-1, -2, -3]\n"
     ]
    },
    {
     "name": "stderr",
     "output_type": "stream",
     "text": [
      " 59%|█████▉    | 725/1219 [04:04<02:56,  2.81it/s]"
     ]
    },
    {
     "name": "stdout",
     "output_type": "stream",
     "text": [
      "[-1, -2, -3]\n"
     ]
    },
    {
     "name": "stderr",
     "output_type": "stream",
     "text": [
      " 60%|█████▉    | 726/1219 [04:04<02:51,  2.88it/s]"
     ]
    },
    {
     "name": "stdout",
     "output_type": "stream",
     "text": [
      "[-1, -2, -3]\n"
     ]
    },
    {
     "name": "stderr",
     "output_type": "stream",
     "text": [
      " 60%|█████▉    | 727/1219 [04:04<02:47,  2.94it/s]"
     ]
    },
    {
     "name": "stdout",
     "output_type": "stream",
     "text": [
      "[-1, -2, -3]\n"
     ]
    },
    {
     "name": "stderr",
     "output_type": "stream",
     "text": [
      " 60%|█████▉    | 728/1219 [04:05<02:45,  2.97it/s]"
     ]
    },
    {
     "name": "stdout",
     "output_type": "stream",
     "text": [
      "[-1, -2, -3]\n"
     ]
    },
    {
     "name": "stderr",
     "output_type": "stream",
     "text": [
      " 60%|█████▉    | 729/1219 [04:05<02:43,  3.00it/s]"
     ]
    },
    {
     "name": "stdout",
     "output_type": "stream",
     "text": [
      "[-1, -2, -3]\n"
     ]
    },
    {
     "name": "stderr",
     "output_type": "stream",
     "text": [
      " 60%|█████▉    | 730/1219 [04:05<02:42,  3.02it/s]"
     ]
    },
    {
     "name": "stdout",
     "output_type": "stream",
     "text": [
      "[-1, -2, -3]\n"
     ]
    },
    {
     "name": "stderr",
     "output_type": "stream",
     "text": [
      " 60%|█████▉    | 731/1219 [04:06<02:41,  3.03it/s]"
     ]
    },
    {
     "name": "stdout",
     "output_type": "stream",
     "text": [
      "[-1, -2, -3]\n"
     ]
    },
    {
     "name": "stderr",
     "output_type": "stream",
     "text": [
      " 60%|██████    | 732/1219 [04:06<02:41,  3.01it/s]"
     ]
    },
    {
     "name": "stdout",
     "output_type": "stream",
     "text": [
      "[-1, -2, -3]\n"
     ]
    },
    {
     "name": "stderr",
     "output_type": "stream",
     "text": [
      " 60%|██████    | 733/1219 [04:06<02:43,  2.97it/s]"
     ]
    },
    {
     "name": "stdout",
     "output_type": "stream",
     "text": [
      "[-1, -2, -3]\n"
     ]
    },
    {
     "name": "stderr",
     "output_type": "stream",
     "text": [
      " 60%|██████    | 734/1219 [04:07<02:42,  2.99it/s]"
     ]
    },
    {
     "name": "stdout",
     "output_type": "stream",
     "text": [
      "[-1, -2, -3]\n"
     ]
    },
    {
     "name": "stderr",
     "output_type": "stream",
     "text": [
      " 60%|██████    | 735/1219 [04:07<02:42,  2.98it/s]"
     ]
    },
    {
     "name": "stdout",
     "output_type": "stream",
     "text": [
      "[-1, -2, -3]\n"
     ]
    },
    {
     "name": "stderr",
     "output_type": "stream",
     "text": [
      " 60%|██████    | 736/1219 [04:07<02:41,  3.00it/s]"
     ]
    },
    {
     "name": "stdout",
     "output_type": "stream",
     "text": [
      "[-1, -2, -3]\n"
     ]
    },
    {
     "name": "stderr",
     "output_type": "stream",
     "text": [
      " 60%|██████    | 737/1219 [04:08<02:39,  3.02it/s]"
     ]
    },
    {
     "name": "stdout",
     "output_type": "stream",
     "text": [
      "[-1, -2, -3]\n"
     ]
    },
    {
     "name": "stderr",
     "output_type": "stream",
     "text": [
      " 61%|██████    | 738/1219 [04:08<02:38,  3.04it/s]"
     ]
    },
    {
     "name": "stdout",
     "output_type": "stream",
     "text": [
      "[-1, -2, -3]\n"
     ]
    },
    {
     "name": "stderr",
     "output_type": "stream",
     "text": [
      " 61%|██████    | 739/1219 [04:08<02:37,  3.05it/s]"
     ]
    },
    {
     "name": "stdout",
     "output_type": "stream",
     "text": [
      "[-1, -2, -3]\n"
     ]
    },
    {
     "name": "stderr",
     "output_type": "stream",
     "text": [
      " 61%|██████    | 740/1219 [04:09<02:38,  3.02it/s]"
     ]
    },
    {
     "name": "stdout",
     "output_type": "stream",
     "text": [
      "[-1, -2, -3]\n"
     ]
    },
    {
     "name": "stderr",
     "output_type": "stream",
     "text": [
      " 61%|██████    | 741/1219 [04:09<02:37,  3.03it/s]"
     ]
    },
    {
     "name": "stdout",
     "output_type": "stream",
     "text": [
      "[-1, -2, -3]\n"
     ]
    },
    {
     "name": "stderr",
     "output_type": "stream",
     "text": [
      " 61%|██████    | 742/1219 [04:09<02:36,  3.05it/s]"
     ]
    },
    {
     "name": "stdout",
     "output_type": "stream",
     "text": [
      "[-1, -2, -3]\n"
     ]
    },
    {
     "name": "stderr",
     "output_type": "stream",
     "text": [
      " 61%|██████    | 743/1219 [04:10<02:35,  3.06it/s]"
     ]
    },
    {
     "name": "stdout",
     "output_type": "stream",
     "text": [
      "[-1, -2, -3]\n"
     ]
    },
    {
     "name": "stderr",
     "output_type": "stream",
     "text": [
      " 61%|██████    | 744/1219 [04:10<02:35,  3.06it/s]"
     ]
    },
    {
     "name": "stdout",
     "output_type": "stream",
     "text": [
      "[-1, -2, -3]\n"
     ]
    },
    {
     "name": "stderr",
     "output_type": "stream",
     "text": [
      " 61%|██████    | 745/1219 [04:10<02:36,  3.03it/s]"
     ]
    },
    {
     "name": "stdout",
     "output_type": "stream",
     "text": [
      "[-1, -2, -3]\n"
     ]
    },
    {
     "name": "stderr",
     "output_type": "stream",
     "text": [
      " 61%|██████    | 746/1219 [04:11<02:37,  3.01it/s]"
     ]
    },
    {
     "name": "stdout",
     "output_type": "stream",
     "text": [
      "[-1, -2, -3]\n"
     ]
    },
    {
     "name": "stderr",
     "output_type": "stream",
     "text": [
      " 61%|██████▏   | 747/1219 [04:12<03:42,  2.12it/s]"
     ]
    },
    {
     "name": "stdout",
     "output_type": "stream",
     "text": [
      "[1, 0, -1, 0, -1, -2, -3]\n"
     ]
    },
    {
     "name": "stderr",
     "output_type": "stream",
     "text": [
      " 61%|██████▏   | 748/1219 [04:12<03:23,  2.32it/s]"
     ]
    },
    {
     "name": "stdout",
     "output_type": "stream",
     "text": [
      "[-1, -2, -3]\n"
     ]
    },
    {
     "name": "stderr",
     "output_type": "stream",
     "text": [
      " 61%|██████▏   | 749/1219 [04:12<03:09,  2.48it/s]"
     ]
    },
    {
     "name": "stdout",
     "output_type": "stream",
     "text": [
      "[-1, -2, -3]\n"
     ]
    },
    {
     "name": "stderr",
     "output_type": "stream",
     "text": [
      " 62%|██████▏   | 750/1219 [04:13<02:59,  2.61it/s]"
     ]
    },
    {
     "name": "stdout",
     "output_type": "stream",
     "text": [
      "[-1, -2, -3]\n"
     ]
    },
    {
     "name": "stderr",
     "output_type": "stream",
     "text": [
      " 62%|██████▏   | 751/1219 [04:13<02:52,  2.71it/s]"
     ]
    },
    {
     "name": "stdout",
     "output_type": "stream",
     "text": [
      "[-1, -2, -3]\n"
     ]
    },
    {
     "name": "stderr",
     "output_type": "stream",
     "text": [
      " 62%|██████▏   | 752/1219 [04:13<02:47,  2.78it/s]"
     ]
    },
    {
     "name": "stdout",
     "output_type": "stream",
     "text": [
      "[-1, -2, -3]\n"
     ]
    },
    {
     "name": "stderr",
     "output_type": "stream",
     "text": [
      " 62%|██████▏   | 753/1219 [04:14<02:42,  2.87it/s]"
     ]
    },
    {
     "name": "stdout",
     "output_type": "stream",
     "text": [
      "[-1, -2, -3]\n"
     ]
    },
    {
     "name": "stderr",
     "output_type": "stream",
     "text": [
      " 62%|██████▏   | 754/1219 [04:14<02:39,  2.92it/s]"
     ]
    },
    {
     "name": "stdout",
     "output_type": "stream",
     "text": [
      "[-1, -2, -3]\n"
     ]
    },
    {
     "name": "stderr",
     "output_type": "stream",
     "text": [
      " 62%|██████▏   | 755/1219 [04:14<02:36,  2.97it/s]"
     ]
    },
    {
     "name": "stdout",
     "output_type": "stream",
     "text": [
      "[-1, -2, -3]\n"
     ]
    },
    {
     "name": "stderr",
     "output_type": "stream",
     "text": [
      " 62%|██████▏   | 756/1219 [04:15<02:34,  2.99it/s]"
     ]
    },
    {
     "name": "stdout",
     "output_type": "stream",
     "text": [
      "[-1, -2, -3]\n"
     ]
    },
    {
     "name": "stderr",
     "output_type": "stream",
     "text": [
      " 62%|██████▏   | 757/1219 [04:15<02:33,  3.01it/s]"
     ]
    },
    {
     "name": "stdout",
     "output_type": "stream",
     "text": [
      "[-1, -2, -3]\n"
     ]
    },
    {
     "name": "stderr",
     "output_type": "stream",
     "text": [
      " 62%|██████▏   | 758/1219 [04:15<02:34,  2.99it/s]"
     ]
    },
    {
     "name": "stdout",
     "output_type": "stream",
     "text": [
      "[-1, -2, -3]\n"
     ]
    },
    {
     "name": "stderr",
     "output_type": "stream",
     "text": [
      " 62%|██████▏   | 759/1219 [04:16<02:32,  3.01it/s]"
     ]
    },
    {
     "name": "stdout",
     "output_type": "stream",
     "text": [
      "[-1, -2, -3]\n"
     ]
    },
    {
     "name": "stderr",
     "output_type": "stream",
     "text": [
      " 62%|██████▏   | 760/1219 [04:16<02:32,  3.02it/s]"
     ]
    },
    {
     "name": "stdout",
     "output_type": "stream",
     "text": [
      "[-1, -2, -3]\n"
     ]
    },
    {
     "name": "stderr",
     "output_type": "stream",
     "text": [
      " 62%|██████▏   | 761/1219 [04:16<02:31,  3.03it/s]"
     ]
    },
    {
     "name": "stdout",
     "output_type": "stream",
     "text": [
      "[-1, -2, -3]\n"
     ]
    },
    {
     "name": "stderr",
     "output_type": "stream",
     "text": [
      " 63%|██████▎   | 762/1219 [04:17<02:31,  3.02it/s]"
     ]
    },
    {
     "name": "stdout",
     "output_type": "stream",
     "text": [
      "[-1, -2, -3]\n"
     ]
    },
    {
     "name": "stderr",
     "output_type": "stream",
     "text": [
      " 63%|██████▎   | 763/1219 [04:17<02:33,  2.98it/s]"
     ]
    },
    {
     "name": "stdout",
     "output_type": "stream",
     "text": [
      "[-1, -2, -3]\n"
     ]
    },
    {
     "name": "stderr",
     "output_type": "stream",
     "text": [
      " 63%|██████▎   | 764/1219 [04:17<02:31,  3.00it/s]"
     ]
    },
    {
     "name": "stdout",
     "output_type": "stream",
     "text": [
      "[-1, -2, -3]\n"
     ]
    },
    {
     "name": "stderr",
     "output_type": "stream",
     "text": [
      " 63%|██████▎   | 765/1219 [04:18<02:31,  2.99it/s]"
     ]
    },
    {
     "name": "stdout",
     "output_type": "stream",
     "text": [
      "[-1, -2, -3]\n"
     ]
    },
    {
     "name": "stderr",
     "output_type": "stream",
     "text": [
      " 63%|██████▎   | 766/1219 [04:18<02:32,  2.98it/s]"
     ]
    },
    {
     "name": "stdout",
     "output_type": "stream",
     "text": [
      "[-1, -2, -3]\n"
     ]
    },
    {
     "name": "stderr",
     "output_type": "stream",
     "text": [
      " 63%|██████▎   | 767/1219 [04:18<02:30,  3.00it/s]"
     ]
    },
    {
     "name": "stdout",
     "output_type": "stream",
     "text": [
      "[-1, -2, -3]\n"
     ]
    },
    {
     "name": "stderr",
     "output_type": "stream",
     "text": [
      " 63%|██████▎   | 768/1219 [04:19<02:29,  3.03it/s]"
     ]
    },
    {
     "name": "stdout",
     "output_type": "stream",
     "text": [
      "[-1, -2, -3]\n"
     ]
    },
    {
     "name": "stderr",
     "output_type": "stream",
     "text": [
      " 63%|██████▎   | 769/1219 [04:19<02:28,  3.03it/s]"
     ]
    },
    {
     "name": "stdout",
     "output_type": "stream",
     "text": [
      "[-1, -2, -3]\n"
     ]
    },
    {
     "name": "stderr",
     "output_type": "stream",
     "text": [
      " 63%|██████▎   | 770/1219 [04:19<02:29,  3.01it/s]"
     ]
    },
    {
     "name": "stdout",
     "output_type": "stream",
     "text": [
      "[-1, -2, -3]\n"
     ]
    },
    {
     "name": "stderr",
     "output_type": "stream",
     "text": [
      " 63%|██████▎   | 771/1219 [04:20<02:29,  3.00it/s]"
     ]
    },
    {
     "name": "stdout",
     "output_type": "stream",
     "text": [
      "[-1, -2, -3]\n"
     ]
    },
    {
     "name": "stderr",
     "output_type": "stream",
     "text": [
      " 63%|██████▎   | 772/1219 [04:20<02:29,  2.99it/s]"
     ]
    },
    {
     "name": "stdout",
     "output_type": "stream",
     "text": [
      "[-1, -2, -3]\n"
     ]
    },
    {
     "name": "stderr",
     "output_type": "stream",
     "text": [
      " 63%|██████▎   | 773/1219 [04:20<02:28,  3.01it/s]"
     ]
    },
    {
     "name": "stdout",
     "output_type": "stream",
     "text": [
      "[-1, -2, -3]\n"
     ]
    },
    {
     "name": "stderr",
     "output_type": "stream",
     "text": [
      " 63%|██████▎   | 774/1219 [04:21<02:28,  2.99it/s]"
     ]
    },
    {
     "name": "stdout",
     "output_type": "stream",
     "text": [
      "[-1, -2, -3]\n"
     ]
    },
    {
     "name": "stderr",
     "output_type": "stream",
     "text": [
      " 64%|██████▎   | 775/1219 [04:21<02:28,  2.98it/s]"
     ]
    },
    {
     "name": "stdout",
     "output_type": "stream",
     "text": [
      "[-1, -2, -3]\n"
     ]
    },
    {
     "name": "stderr",
     "output_type": "stream",
     "text": [
      " 64%|██████▎   | 776/1219 [04:21<02:27,  3.01it/s]"
     ]
    },
    {
     "name": "stdout",
     "output_type": "stream",
     "text": [
      "[-1, -2, -3]\n"
     ]
    },
    {
     "name": "stderr",
     "output_type": "stream",
     "text": [
      " 64%|██████▎   | 777/1219 [04:22<02:26,  3.02it/s]"
     ]
    },
    {
     "name": "stdout",
     "output_type": "stream",
     "text": [
      "[-1, -2, -3]\n"
     ]
    },
    {
     "name": "stderr",
     "output_type": "stream",
     "text": [
      " 64%|██████▍   | 778/1219 [04:22<02:27,  3.00it/s]"
     ]
    },
    {
     "name": "stdout",
     "output_type": "stream",
     "text": [
      "[-1, -2, -3]\n"
     ]
    },
    {
     "name": "stderr",
     "output_type": "stream",
     "text": [
      " 64%|██████▍   | 779/1219 [04:22<02:28,  2.96it/s]"
     ]
    },
    {
     "name": "stdout",
     "output_type": "stream",
     "text": [
      "[-1, -2, -3]\n"
     ]
    },
    {
     "name": "stderr",
     "output_type": "stream",
     "text": [
      " 64%|██████▍   | 780/1219 [04:23<02:29,  2.93it/s]"
     ]
    },
    {
     "name": "stdout",
     "output_type": "stream",
     "text": [
      "[-1, -2, -3]\n"
     ]
    },
    {
     "name": "stderr",
     "output_type": "stream",
     "text": [
      " 64%|██████▍   | 781/1219 [04:23<02:27,  2.97it/s]"
     ]
    },
    {
     "name": "stdout",
     "output_type": "stream",
     "text": [
      "[-1, -2, -3]\n"
     ]
    },
    {
     "name": "stderr",
     "output_type": "stream",
     "text": [
      " 64%|██████▍   | 782/1219 [04:23<02:25,  3.00it/s]"
     ]
    },
    {
     "name": "stdout",
     "output_type": "stream",
     "text": [
      "[-1, -2, -3]\n"
     ]
    },
    {
     "name": "stderr",
     "output_type": "stream",
     "text": [
      " 64%|██████▍   | 783/1219 [04:24<02:24,  3.01it/s]"
     ]
    },
    {
     "name": "stdout",
     "output_type": "stream",
     "text": [
      "[-1, -2, -3]\n"
     ]
    },
    {
     "name": "stderr",
     "output_type": "stream",
     "text": [
      " 64%|██████▍   | 784/1219 [04:24<02:23,  3.03it/s]"
     ]
    },
    {
     "name": "stdout",
     "output_type": "stream",
     "text": [
      "[-1, -2, -3]\n"
     ]
    },
    {
     "name": "stderr",
     "output_type": "stream",
     "text": [
      " 64%|██████▍   | 785/1219 [04:24<02:24,  3.01it/s]"
     ]
    },
    {
     "name": "stdout",
     "output_type": "stream",
     "text": [
      "[-1, -2, -3]\n"
     ]
    },
    {
     "name": "stderr",
     "output_type": "stream",
     "text": [
      " 64%|██████▍   | 786/1219 [04:25<02:24,  3.00it/s]"
     ]
    },
    {
     "name": "stdout",
     "output_type": "stream",
     "text": [
      "[-1, -2, -3]\n"
     ]
    },
    {
     "name": "stderr",
     "output_type": "stream",
     "text": [
      " 65%|██████▍   | 787/1219 [04:25<02:24,  2.99it/s]"
     ]
    },
    {
     "name": "stdout",
     "output_type": "stream",
     "text": [
      "[-1, -2, -3]\n"
     ]
    },
    {
     "name": "stderr",
     "output_type": "stream",
     "text": [
      " 65%|██████▍   | 788/1219 [04:25<02:23,  3.01it/s]"
     ]
    },
    {
     "name": "stdout",
     "output_type": "stream",
     "text": [
      "[-1, -2, -3]\n"
     ]
    },
    {
     "name": "stderr",
     "output_type": "stream",
     "text": [
      " 65%|██████▍   | 789/1219 [04:26<02:23,  3.00it/s]"
     ]
    },
    {
     "name": "stdout",
     "output_type": "stream",
     "text": [
      "[-1, -2, -3]\n"
     ]
    },
    {
     "name": "stderr",
     "output_type": "stream",
     "text": [
      " 65%|██████▍   | 790/1219 [04:26<02:23,  2.99it/s]"
     ]
    },
    {
     "name": "stdout",
     "output_type": "stream",
     "text": [
      "[-1, -2, -3]\n"
     ]
    },
    {
     "name": "stderr",
     "output_type": "stream",
     "text": [
      " 65%|██████▍   | 791/1219 [04:26<02:23,  2.98it/s]"
     ]
    },
    {
     "name": "stdout",
     "output_type": "stream",
     "text": [
      "[-1, -2, -3]\n"
     ]
    },
    {
     "name": "stderr",
     "output_type": "stream",
     "text": [
      " 65%|██████▍   | 792/1219 [04:27<02:22,  3.01it/s]"
     ]
    },
    {
     "name": "stdout",
     "output_type": "stream",
     "text": [
      "[-1, -2, -3]\n"
     ]
    },
    {
     "name": "stderr",
     "output_type": "stream",
     "text": [
      " 65%|██████▌   | 793/1219 [04:27<02:20,  3.03it/s]"
     ]
    },
    {
     "name": "stdout",
     "output_type": "stream",
     "text": [
      "[-1, -2, -3]\n"
     ]
    },
    {
     "name": "stderr",
     "output_type": "stream",
     "text": [
      " 65%|██████▌   | 794/1219 [04:27<02:21,  3.00it/s]"
     ]
    },
    {
     "name": "stdout",
     "output_type": "stream",
     "text": [
      "[-1, -2, -3]\n"
     ]
    },
    {
     "name": "stderr",
     "output_type": "stream",
     "text": [
      " 65%|██████▌   | 795/1219 [04:28<02:51,  2.48it/s]"
     ]
    },
    {
     "name": "stdout",
     "output_type": "stream",
     "text": [
      "[1, 0, -1, -2, -3]\n"
     ]
    },
    {
     "name": "stderr",
     "output_type": "stream",
     "text": [
      " 65%|██████▌   | 796/1219 [04:28<02:41,  2.62it/s]"
     ]
    },
    {
     "name": "stdout",
     "output_type": "stream",
     "text": [
      "[-1, -2, -3]\n"
     ]
    },
    {
     "name": "stderr",
     "output_type": "stream",
     "text": [
      " 65%|██████▌   | 797/1219 [04:28<02:35,  2.72it/s]"
     ]
    },
    {
     "name": "stdout",
     "output_type": "stream",
     "text": [
      "[-1, -2, -3]\n"
     ]
    },
    {
     "name": "stderr",
     "output_type": "stream",
     "text": [
      " 65%|██████▌   | 798/1219 [04:29<02:31,  2.78it/s]"
     ]
    },
    {
     "name": "stdout",
     "output_type": "stream",
     "text": [
      "[-1, -2, -3]\n"
     ]
    },
    {
     "name": "stderr",
     "output_type": "stream",
     "text": [
      " 66%|██████▌   | 799/1219 [04:29<02:26,  2.86it/s]"
     ]
    },
    {
     "name": "stdout",
     "output_type": "stream",
     "text": [
      "[-1, -2, -3]\n"
     ]
    },
    {
     "name": "stderr",
     "output_type": "stream",
     "text": [
      " 66%|██████▌   | 800/1219 [04:29<02:24,  2.89it/s]"
     ]
    },
    {
     "name": "stdout",
     "output_type": "stream",
     "text": [
      "[-1, -2, -3]\n"
     ]
    },
    {
     "name": "stderr",
     "output_type": "stream",
     "text": [
      " 66%|██████▌   | 801/1219 [04:30<02:21,  2.95it/s]"
     ]
    },
    {
     "name": "stdout",
     "output_type": "stream",
     "text": [
      "[-1, -2, -3]\n"
     ]
    },
    {
     "name": "stderr",
     "output_type": "stream",
     "text": [
      " 66%|██████▌   | 802/1219 [04:30<02:19,  2.98it/s]"
     ]
    },
    {
     "name": "stdout",
     "output_type": "stream",
     "text": [
      "[-1, -2, -3]\n"
     ]
    },
    {
     "name": "stderr",
     "output_type": "stream",
     "text": [
      " 66%|██████▌   | 803/1219 [04:30<02:18,  3.01it/s]"
     ]
    },
    {
     "name": "stdout",
     "output_type": "stream",
     "text": [
      "[-1, -2, -3]\n"
     ]
    },
    {
     "name": "stderr",
     "output_type": "stream",
     "text": [
      " 66%|██████▌   | 804/1219 [04:31<02:17,  3.02it/s]"
     ]
    },
    {
     "name": "stdout",
     "output_type": "stream",
     "text": [
      "[-1, -2, -3]\n"
     ]
    },
    {
     "name": "stderr",
     "output_type": "stream",
     "text": [
      " 66%|██████▌   | 805/1219 [04:31<02:16,  3.04it/s]"
     ]
    },
    {
     "name": "stdout",
     "output_type": "stream",
     "text": [
      "[-1, -2, -3]\n"
     ]
    },
    {
     "name": "stderr",
     "output_type": "stream",
     "text": [
      " 66%|██████▌   | 806/1219 [04:31<02:15,  3.05it/s]"
     ]
    },
    {
     "name": "stdout",
     "output_type": "stream",
     "text": [
      "[-1, -2, -3]\n"
     ]
    },
    {
     "name": "stderr",
     "output_type": "stream",
     "text": [
      " 66%|██████▌   | 807/1219 [04:32<02:14,  3.05it/s]"
     ]
    },
    {
     "name": "stdout",
     "output_type": "stream",
     "text": [
      "[-1, -2, -3]\n"
     ]
    },
    {
     "name": "stderr",
     "output_type": "stream",
     "text": [
      " 66%|██████▋   | 808/1219 [04:32<02:15,  3.04it/s]"
     ]
    },
    {
     "name": "stdout",
     "output_type": "stream",
     "text": [
      "[-1, -2, -3]\n"
     ]
    },
    {
     "name": "stderr",
     "output_type": "stream",
     "text": [
      " 66%|██████▋   | 809/1219 [04:32<02:14,  3.05it/s]"
     ]
    },
    {
     "name": "stdout",
     "output_type": "stream",
     "text": [
      "[-1, -2, -3]\n"
     ]
    },
    {
     "name": "stderr",
     "output_type": "stream",
     "text": [
      " 66%|██████▋   | 810/1219 [04:33<02:16,  3.00it/s]"
     ]
    },
    {
     "name": "stdout",
     "output_type": "stream",
     "text": [
      "[-1, -2, -3]\n"
     ]
    },
    {
     "name": "stderr",
     "output_type": "stream",
     "text": [
      " 67%|██████▋   | 811/1219 [04:33<02:16,  2.99it/s]"
     ]
    },
    {
     "name": "stdout",
     "output_type": "stream",
     "text": [
      "[-1, -2, -3]\n"
     ]
    },
    {
     "name": "stderr",
     "output_type": "stream",
     "text": [
      " 67%|██████▋   | 812/1219 [04:33<02:16,  2.98it/s]"
     ]
    },
    {
     "name": "stdout",
     "output_type": "stream",
     "text": [
      "[-1, -2, -3]\n"
     ]
    },
    {
     "name": "stderr",
     "output_type": "stream",
     "text": [
      " 67%|██████▋   | 813/1219 [04:34<02:15,  3.01it/s]"
     ]
    },
    {
     "name": "stdout",
     "output_type": "stream",
     "text": [
      "[-1, -2, -3]\n"
     ]
    },
    {
     "name": "stderr",
     "output_type": "stream",
     "text": [
      " 67%|██████▋   | 814/1219 [04:34<02:14,  3.02it/s]"
     ]
    },
    {
     "name": "stdout",
     "output_type": "stream",
     "text": [
      "[-1, -2, -3]\n"
     ]
    },
    {
     "name": "stderr",
     "output_type": "stream",
     "text": [
      " 67%|██████▋   | 815/1219 [04:34<02:13,  3.03it/s]"
     ]
    },
    {
     "name": "stdout",
     "output_type": "stream",
     "text": [
      "[-1, -2, -3]\n"
     ]
    },
    {
     "name": "stderr",
     "output_type": "stream",
     "text": [
      " 67%|██████▋   | 816/1219 [04:35<02:13,  3.01it/s]"
     ]
    },
    {
     "name": "stdout",
     "output_type": "stream",
     "text": [
      "[-1, -2, -3]\n"
     ]
    },
    {
     "name": "stderr",
     "output_type": "stream",
     "text": [
      " 67%|██████▋   | 817/1219 [04:35<02:14,  2.99it/s]"
     ]
    },
    {
     "name": "stdout",
     "output_type": "stream",
     "text": [
      "[-1, -2, -3]\n"
     ]
    },
    {
     "name": "stderr",
     "output_type": "stream",
     "text": [
      " 67%|██████▋   | 818/1219 [04:35<02:13,  3.01it/s]"
     ]
    },
    {
     "name": "stdout",
     "output_type": "stream",
     "text": [
      "[-1, -2, -3]\n"
     ]
    },
    {
     "name": "stderr",
     "output_type": "stream",
     "text": [
      " 67%|██████▋   | 819/1219 [04:36<02:26,  2.73it/s]"
     ]
    },
    {
     "name": "stdout",
     "output_type": "stream",
     "text": [
      "[-1, -2, -2, -3]\n"
     ]
    },
    {
     "name": "stderr",
     "output_type": "stream",
     "text": [
      " 67%|██████▋   | 820/1219 [04:36<02:21,  2.83it/s]"
     ]
    },
    {
     "name": "stdout",
     "output_type": "stream",
     "text": [
      "[-1, -2, -3]\n"
     ]
    },
    {
     "name": "stderr",
     "output_type": "stream",
     "text": [
      " 67%|██████▋   | 821/1219 [04:36<02:17,  2.89it/s]"
     ]
    },
    {
     "name": "stdout",
     "output_type": "stream",
     "text": [
      "[-1, -2, -3]\n"
     ]
    },
    {
     "name": "stderr",
     "output_type": "stream",
     "text": [
      " 67%|██████▋   | 822/1219 [04:37<02:14,  2.94it/s]"
     ]
    },
    {
     "name": "stdout",
     "output_type": "stream",
     "text": [
      "[-1, -2, -3]\n"
     ]
    },
    {
     "name": "stderr",
     "output_type": "stream",
     "text": [
      " 68%|██████▊   | 823/1219 [04:37<02:13,  2.98it/s]"
     ]
    },
    {
     "name": "stdout",
     "output_type": "stream",
     "text": [
      "[-1, -2, -3]\n"
     ]
    },
    {
     "name": "stderr",
     "output_type": "stream",
     "text": [
      " 68%|██████▊   | 824/1219 [04:37<02:11,  3.00it/s]"
     ]
    },
    {
     "name": "stdout",
     "output_type": "stream",
     "text": [
      "[-1, -2, -3]\n"
     ]
    },
    {
     "name": "stderr",
     "output_type": "stream",
     "text": [
      " 68%|██████▊   | 825/1219 [04:38<02:11,  3.00it/s]"
     ]
    },
    {
     "name": "stdout",
     "output_type": "stream",
     "text": [
      "[-1, -2, -3]\n"
     ]
    },
    {
     "name": "stderr",
     "output_type": "stream",
     "text": [
      " 68%|██████▊   | 826/1219 [04:38<02:10,  3.01it/s]"
     ]
    },
    {
     "name": "stdout",
     "output_type": "stream",
     "text": [
      "[-1, -2, -3]\n"
     ]
    },
    {
     "name": "stderr",
     "output_type": "stream",
     "text": [
      " 68%|██████▊   | 827/1219 [04:38<02:11,  2.98it/s]"
     ]
    },
    {
     "name": "stdout",
     "output_type": "stream",
     "text": [
      "[-1, -2, -3]\n"
     ]
    },
    {
     "name": "stderr",
     "output_type": "stream",
     "text": [
      " 68%|██████▊   | 828/1219 [04:39<02:10,  3.00it/s]"
     ]
    },
    {
     "name": "stdout",
     "output_type": "stream",
     "text": [
      "[-1, -2, -3]\n"
     ]
    },
    {
     "name": "stderr",
     "output_type": "stream",
     "text": [
      " 68%|██████▊   | 829/1219 [04:39<02:10,  2.99it/s]"
     ]
    },
    {
     "name": "stdout",
     "output_type": "stream",
     "text": [
      "[-1, -2, -3]\n"
     ]
    },
    {
     "name": "stderr",
     "output_type": "stream",
     "text": [
      " 68%|██████▊   | 830/1219 [04:39<02:09,  3.00it/s]"
     ]
    },
    {
     "name": "stdout",
     "output_type": "stream",
     "text": [
      "[-1, -2, -3]\n"
     ]
    },
    {
     "name": "stderr",
     "output_type": "stream",
     "text": [
      " 68%|██████▊   | 831/1219 [04:40<02:08,  3.02it/s]"
     ]
    },
    {
     "name": "stdout",
     "output_type": "stream",
     "text": [
      "[-1, -2, -3]\n"
     ]
    },
    {
     "name": "stderr",
     "output_type": "stream",
     "text": [
      " 68%|██████▊   | 832/1219 [04:40<02:08,  3.00it/s]"
     ]
    },
    {
     "name": "stdout",
     "output_type": "stream",
     "text": [
      "[-1, -2, -3]\n"
     ]
    },
    {
     "name": "stderr",
     "output_type": "stream",
     "text": [
      " 68%|██████▊   | 833/1219 [04:40<02:07,  3.02it/s]"
     ]
    },
    {
     "name": "stdout",
     "output_type": "stream",
     "text": [
      "[-1, -2, -3]\n"
     ]
    },
    {
     "name": "stderr",
     "output_type": "stream",
     "text": [
      " 68%|██████▊   | 834/1219 [04:41<02:08,  3.00it/s]"
     ]
    },
    {
     "name": "stdout",
     "output_type": "stream",
     "text": [
      "[-1, -2, -3]\n"
     ]
    },
    {
     "name": "stderr",
     "output_type": "stream",
     "text": [
      " 68%|██████▊   | 835/1219 [04:41<02:06,  3.02it/s]"
     ]
    },
    {
     "name": "stdout",
     "output_type": "stream",
     "text": [
      "[-1, -2, -3]\n"
     ]
    },
    {
     "name": "stderr",
     "output_type": "stream",
     "text": [
      " 69%|██████▊   | 836/1219 [04:41<02:06,  3.04it/s]"
     ]
    },
    {
     "name": "stdout",
     "output_type": "stream",
     "text": [
      "[-1, -2, -3]\n"
     ]
    },
    {
     "name": "stderr",
     "output_type": "stream",
     "text": [
      " 69%|██████▊   | 837/1219 [04:42<02:06,  3.01it/s]"
     ]
    },
    {
     "name": "stdout",
     "output_type": "stream",
     "text": [
      "[-1, -2, -3]\n"
     ]
    },
    {
     "name": "stderr",
     "output_type": "stream",
     "text": [
      " 69%|██████▊   | 838/1219 [04:42<02:05,  3.03it/s]"
     ]
    },
    {
     "name": "stdout",
     "output_type": "stream",
     "text": [
      "[-1, -2, -3]\n"
     ]
    },
    {
     "name": "stderr",
     "output_type": "stream",
     "text": [
      " 69%|██████▉   | 839/1219 [04:42<02:06,  3.00it/s]"
     ]
    },
    {
     "name": "stdout",
     "output_type": "stream",
     "text": [
      "[-1, -2, -3]\n"
     ]
    },
    {
     "name": "stderr",
     "output_type": "stream",
     "text": [
      " 69%|██████▉   | 840/1219 [04:43<02:05,  3.02it/s]"
     ]
    },
    {
     "name": "stdout",
     "output_type": "stream",
     "text": [
      "[-1, -2, -3]\n"
     ]
    },
    {
     "name": "stderr",
     "output_type": "stream",
     "text": [
      " 69%|██████▉   | 841/1219 [04:43<02:04,  3.03it/s]"
     ]
    },
    {
     "name": "stdout",
     "output_type": "stream",
     "text": [
      "[-1, -2, -3]\n"
     ]
    },
    {
     "name": "stderr",
     "output_type": "stream",
     "text": [
      " 69%|██████▉   | 842/1219 [04:43<02:05,  3.01it/s]"
     ]
    },
    {
     "name": "stdout",
     "output_type": "stream",
     "text": [
      "[-1, -2, -3]\n"
     ]
    },
    {
     "name": "stderr",
     "output_type": "stream",
     "text": [
      " 69%|██████▉   | 843/1219 [04:44<02:08,  2.92it/s]"
     ]
    },
    {
     "name": "stdout",
     "output_type": "stream",
     "text": [
      "[-1, -2, -3]\n"
     ]
    },
    {
     "name": "stderr",
     "output_type": "stream",
     "text": [
      " 69%|██████▉   | 844/1219 [04:44<02:06,  2.97it/s]"
     ]
    },
    {
     "name": "stdout",
     "output_type": "stream",
     "text": [
      "[-1, -2, -3]\n"
     ]
    },
    {
     "name": "stderr",
     "output_type": "stream",
     "text": [
      " 69%|██████▉   | 845/1219 [04:44<02:06,  2.97it/s]"
     ]
    },
    {
     "name": "stdout",
     "output_type": "stream",
     "text": [
      "[-1, -2, -3]\n"
     ]
    },
    {
     "name": "stderr",
     "output_type": "stream",
     "text": [
      " 69%|██████▉   | 846/1219 [04:45<02:04,  3.00it/s]"
     ]
    },
    {
     "name": "stdout",
     "output_type": "stream",
     "text": [
      "[-1, -2, -3]\n"
     ]
    },
    {
     "name": "stderr",
     "output_type": "stream",
     "text": [
      " 69%|██████▉   | 847/1219 [04:45<02:03,  3.02it/s]"
     ]
    },
    {
     "name": "stdout",
     "output_type": "stream",
     "text": [
      "[-1, -2, -3]\n"
     ]
    },
    {
     "name": "stderr",
     "output_type": "stream",
     "text": [
      " 70%|██████▉   | 848/1219 [04:45<02:03,  3.00it/s]"
     ]
    },
    {
     "name": "stdout",
     "output_type": "stream",
     "text": [
      "[-1, -2, -3]\n"
     ]
    },
    {
     "name": "stderr",
     "output_type": "stream",
     "text": [
      " 70%|██████▉   | 849/1219 [04:46<02:02,  3.02it/s]"
     ]
    },
    {
     "name": "stdout",
     "output_type": "stream",
     "text": [
      "[-1, -2, -3]\n"
     ]
    },
    {
     "name": "stderr",
     "output_type": "stream",
     "text": [
      " 70%|██████▉   | 850/1219 [04:46<02:01,  3.03it/s]"
     ]
    },
    {
     "name": "stdout",
     "output_type": "stream",
     "text": [
      "[-1, -2, -3]\n"
     ]
    },
    {
     "name": "stderr",
     "output_type": "stream",
     "text": [
      " 70%|██████▉   | 851/1219 [04:46<02:02,  3.00it/s]"
     ]
    },
    {
     "name": "stdout",
     "output_type": "stream",
     "text": [
      "[-1, -2, -3]\n"
     ]
    },
    {
     "name": "stderr",
     "output_type": "stream",
     "text": [
      " 70%|██████▉   | 852/1219 [04:47<02:01,  3.03it/s]"
     ]
    },
    {
     "name": "stdout",
     "output_type": "stream",
     "text": [
      "[-1, -2, -3]\n"
     ]
    },
    {
     "name": "stderr",
     "output_type": "stream",
     "text": [
      " 70%|██████▉   | 853/1219 [04:47<02:00,  3.03it/s]"
     ]
    },
    {
     "name": "stdout",
     "output_type": "stream",
     "text": [
      "[-1, -2, -3]\n"
     ]
    },
    {
     "name": "stderr",
     "output_type": "stream",
     "text": [
      " 70%|███████   | 854/1219 [04:47<02:01,  3.00it/s]"
     ]
    },
    {
     "name": "stdout",
     "output_type": "stream",
     "text": [
      "[-1, -2, -3]\n"
     ]
    },
    {
     "name": "stderr",
     "output_type": "stream",
     "text": [
      " 70%|███████   | 855/1219 [04:48<02:01,  2.98it/s]"
     ]
    },
    {
     "name": "stdout",
     "output_type": "stream",
     "text": [
      "[-1, -2, -3]\n"
     ]
    },
    {
     "name": "stderr",
     "output_type": "stream",
     "text": [
      " 70%|███████   | 856/1219 [04:48<02:02,  2.96it/s]"
     ]
    },
    {
     "name": "stdout",
     "output_type": "stream",
     "text": [
      "[-1, -2, -3]\n"
     ]
    },
    {
     "name": "stderr",
     "output_type": "stream",
     "text": [
      " 70%|███████   | 857/1219 [04:48<02:04,  2.92it/s]"
     ]
    },
    {
     "name": "stdout",
     "output_type": "stream",
     "text": [
      "[-1, -2, -3]\n"
     ]
    },
    {
     "name": "stderr",
     "output_type": "stream",
     "text": [
      " 70%|███████   | 858/1219 [04:49<02:02,  2.96it/s]"
     ]
    },
    {
     "name": "stdout",
     "output_type": "stream",
     "text": [
      "[-1, -2, -3]\n"
     ]
    },
    {
     "name": "stderr",
     "output_type": "stream",
     "text": [
      " 70%|███████   | 859/1219 [04:49<02:01,  2.96it/s]"
     ]
    },
    {
     "name": "stdout",
     "output_type": "stream",
     "text": [
      "[-1, -2, -3]\n"
     ]
    },
    {
     "name": "stderr",
     "output_type": "stream",
     "text": [
      " 71%|███████   | 860/1219 [04:49<02:00,  2.99it/s]"
     ]
    },
    {
     "name": "stdout",
     "output_type": "stream",
     "text": [
      "[-1, -2, -3]\n"
     ]
    },
    {
     "name": "stderr",
     "output_type": "stream",
     "text": [
      " 71%|███████   | 861/1219 [04:50<01:59,  3.01it/s]"
     ]
    },
    {
     "name": "stdout",
     "output_type": "stream",
     "text": [
      "[-1, -2, -3]\n"
     ]
    },
    {
     "name": "stderr",
     "output_type": "stream",
     "text": [
      " 71%|███████   | 862/1219 [04:50<01:58,  3.02it/s]"
     ]
    },
    {
     "name": "stdout",
     "output_type": "stream",
     "text": [
      "[-1, -2, -3]\n"
     ]
    },
    {
     "name": "stderr",
     "output_type": "stream",
     "text": [
      " 71%|███████   | 863/1219 [04:50<01:58,  3.01it/s]"
     ]
    },
    {
     "name": "stdout",
     "output_type": "stream",
     "text": [
      "[-1, -2, -3]\n"
     ]
    },
    {
     "name": "stderr",
     "output_type": "stream",
     "text": [
      " 71%|███████   | 864/1219 [04:51<01:57,  3.03it/s]"
     ]
    },
    {
     "name": "stdout",
     "output_type": "stream",
     "text": [
      "[-1, -2, -3]\n"
     ]
    },
    {
     "name": "stderr",
     "output_type": "stream",
     "text": [
      " 71%|███████   | 865/1219 [04:51<01:57,  3.01it/s]"
     ]
    },
    {
     "name": "stdout",
     "output_type": "stream",
     "text": [
      "[-1, -2, -3]\n"
     ]
    },
    {
     "name": "stderr",
     "output_type": "stream",
     "text": [
      " 71%|███████   | 866/1219 [04:51<01:57,  3.00it/s]"
     ]
    },
    {
     "name": "stdout",
     "output_type": "stream",
     "text": [
      "[-1, -2, -3]\n"
     ]
    },
    {
     "name": "stderr",
     "output_type": "stream",
     "text": [
      " 71%|███████   | 867/1219 [04:52<01:57,  2.99it/s]"
     ]
    },
    {
     "name": "stdout",
     "output_type": "stream",
     "text": [
      "[-1, -2, -3]\n"
     ]
    },
    {
     "name": "stderr",
     "output_type": "stream",
     "text": [
      " 71%|███████   | 868/1219 [04:52<01:56,  3.02it/s]"
     ]
    },
    {
     "name": "stdout",
     "output_type": "stream",
     "text": [
      "[-1, -2, -3]\n"
     ]
    },
    {
     "name": "stderr",
     "output_type": "stream",
     "text": [
      " 71%|███████▏  | 869/1219 [04:52<01:56,  3.00it/s]"
     ]
    },
    {
     "name": "stdout",
     "output_type": "stream",
     "text": [
      "[-1, -2, -3]\n"
     ]
    },
    {
     "name": "stderr",
     "output_type": "stream",
     "text": [
      " 71%|███████▏  | 870/1219 [04:53<01:56,  3.01it/s]"
     ]
    },
    {
     "name": "stdout",
     "output_type": "stream",
     "text": [
      "[-1, -2, -3]\n"
     ]
    },
    {
     "name": "stderr",
     "output_type": "stream",
     "text": [
      " 71%|███████▏  | 871/1219 [04:53<01:54,  3.03it/s]"
     ]
    },
    {
     "name": "stdout",
     "output_type": "stream",
     "text": [
      "[-1, -2, -3]\n"
     ]
    },
    {
     "name": "stderr",
     "output_type": "stream",
     "text": [
      " 72%|███████▏  | 872/1219 [04:53<01:54,  3.04it/s]"
     ]
    },
    {
     "name": "stdout",
     "output_type": "stream",
     "text": [
      "[-1, -2, -3]\n"
     ]
    },
    {
     "name": "stderr",
     "output_type": "stream",
     "text": [
      " 72%|███████▏  | 873/1219 [04:54<01:53,  3.04it/s]"
     ]
    },
    {
     "name": "stdout",
     "output_type": "stream",
     "text": [
      "[-1, -2, -3]\n"
     ]
    },
    {
     "name": "stderr",
     "output_type": "stream",
     "text": [
      " 72%|███████▏  | 874/1219 [04:54<01:56,  2.97it/s]"
     ]
    },
    {
     "name": "stdout",
     "output_type": "stream",
     "text": [
      "[-1, -2, -3]\n"
     ]
    },
    {
     "name": "stderr",
     "output_type": "stream",
     "text": [
      " 72%|███████▏  | 875/1219 [04:54<01:56,  2.97it/s]"
     ]
    },
    {
     "name": "stdout",
     "output_type": "stream",
     "text": [
      "[-1, -2, -3]\n"
     ]
    },
    {
     "name": "stderr",
     "output_type": "stream",
     "text": [
      " 72%|███████▏  | 876/1219 [04:55<01:54,  3.00it/s]"
     ]
    },
    {
     "name": "stdout",
     "output_type": "stream",
     "text": [
      "[-1, -2, -3]\n"
     ]
    },
    {
     "name": "stderr",
     "output_type": "stream",
     "text": [
      " 72%|███████▏  | 877/1219 [04:55<01:54,  2.99it/s]"
     ]
    },
    {
     "name": "stdout",
     "output_type": "stream",
     "text": [
      "[-1, -2, -3]\n"
     ]
    },
    {
     "name": "stderr",
     "output_type": "stream",
     "text": [
      " 72%|███████▏  | 878/1219 [04:55<01:53,  3.01it/s]"
     ]
    },
    {
     "name": "stdout",
     "output_type": "stream",
     "text": [
      "[-1, -2, -3]\n"
     ]
    },
    {
     "name": "stderr",
     "output_type": "stream",
     "text": [
      " 72%|███████▏  | 879/1219 [04:56<01:53,  3.00it/s]"
     ]
    },
    {
     "name": "stdout",
     "output_type": "stream",
     "text": [
      "[-1, -2, -3]\n"
     ]
    },
    {
     "name": "stderr",
     "output_type": "stream",
     "text": [
      " 72%|███████▏  | 880/1219 [04:56<01:52,  3.01it/s]"
     ]
    },
    {
     "name": "stdout",
     "output_type": "stream",
     "text": [
      "[-1, -2, -3]\n"
     ]
    },
    {
     "name": "stderr",
     "output_type": "stream",
     "text": [
      " 72%|███████▏  | 881/1219 [04:56<01:51,  3.03it/s]"
     ]
    },
    {
     "name": "stdout",
     "output_type": "stream",
     "text": [
      "[-1, -2, -3]\n"
     ]
    },
    {
     "name": "stderr",
     "output_type": "stream",
     "text": [
      " 72%|███████▏  | 882/1219 [04:57<01:50,  3.04it/s]"
     ]
    },
    {
     "name": "stdout",
     "output_type": "stream",
     "text": [
      "[-1, -2, -3]\n"
     ]
    },
    {
     "name": "stderr",
     "output_type": "stream",
     "text": [
      " 72%|███████▏  | 883/1219 [04:57<01:50,  3.04it/s]"
     ]
    },
    {
     "name": "stdout",
     "output_type": "stream",
     "text": [
      "[-1, -2, -3]\n"
     ]
    },
    {
     "name": "stderr",
     "output_type": "stream",
     "text": [
      " 73%|███████▎  | 884/1219 [04:57<01:51,  3.02it/s]"
     ]
    },
    {
     "name": "stdout",
     "output_type": "stream",
     "text": [
      "[-1, -2, -3]\n"
     ]
    },
    {
     "name": "stderr",
     "output_type": "stream",
     "text": [
      " 73%|███████▎  | 885/1219 [04:58<01:51,  3.00it/s]"
     ]
    },
    {
     "name": "stdout",
     "output_type": "stream",
     "text": [
      "[-1, -2, -3]\n"
     ]
    },
    {
     "name": "stderr",
     "output_type": "stream",
     "text": [
      " 73%|███████▎  | 886/1219 [04:58<01:51,  2.97it/s]"
     ]
    },
    {
     "name": "stdout",
     "output_type": "stream",
     "text": [
      "[-1, -2, -3]\n"
     ]
    },
    {
     "name": "stderr",
     "output_type": "stream",
     "text": [
      " 73%|███████▎  | 887/1219 [04:59<02:03,  2.69it/s]"
     ]
    },
    {
     "name": "stdout",
     "output_type": "stream",
     "text": [
      "[-1, -1, -2, -3]\n"
     ]
    },
    {
     "name": "stderr",
     "output_type": "stream",
     "text": [
      " 73%|███████▎  | 888/1219 [04:59<02:00,  2.75it/s]"
     ]
    },
    {
     "name": "stdout",
     "output_type": "stream",
     "text": [
      "[-1, -2, -3]\n"
     ]
    },
    {
     "name": "stderr",
     "output_type": "stream",
     "text": [
      " 73%|███████▎  | 889/1219 [04:59<01:57,  2.80it/s]"
     ]
    },
    {
     "name": "stdout",
     "output_type": "stream",
     "text": [
      "[-1, -2, -3]\n"
     ]
    },
    {
     "name": "stderr",
     "output_type": "stream",
     "text": [
      " 73%|███████▎  | 890/1219 [05:00<01:55,  2.86it/s]"
     ]
    },
    {
     "name": "stdout",
     "output_type": "stream",
     "text": [
      "[-1, -2, -3]\n"
     ]
    },
    {
     "name": "stderr",
     "output_type": "stream",
     "text": [
      " 73%|███████▎  | 891/1219 [05:00<01:53,  2.89it/s]"
     ]
    },
    {
     "name": "stdout",
     "output_type": "stream",
     "text": [
      "[-1, -2, -3]\n"
     ]
    },
    {
     "name": "stderr",
     "output_type": "stream",
     "text": [
      " 73%|███████▎  | 892/1219 [05:00<01:51,  2.93it/s]"
     ]
    },
    {
     "name": "stdout",
     "output_type": "stream",
     "text": [
      "[-1, -2, -3]\n"
     ]
    },
    {
     "name": "stderr",
     "output_type": "stream",
     "text": [
      " 73%|███████▎  | 893/1219 [05:01<01:50,  2.95it/s]"
     ]
    },
    {
     "name": "stdout",
     "output_type": "stream",
     "text": [
      "[-1, -2, -3]\n"
     ]
    },
    {
     "name": "stderr",
     "output_type": "stream",
     "text": [
      " 73%|███████▎  | 894/1219 [05:01<01:49,  2.97it/s]"
     ]
    },
    {
     "name": "stdout",
     "output_type": "stream",
     "text": [
      "[-1, -2, -3]\n"
     ]
    },
    {
     "name": "stderr",
     "output_type": "stream",
     "text": [
      " 73%|███████▎  | 895/1219 [05:01<01:47,  3.00it/s]"
     ]
    },
    {
     "name": "stdout",
     "output_type": "stream",
     "text": [
      "[-1, -2, -3]\n"
     ]
    },
    {
     "name": "stderr",
     "output_type": "stream",
     "text": [
      " 74%|███████▎  | 896/1219 [05:02<01:47,  3.02it/s]"
     ]
    },
    {
     "name": "stdout",
     "output_type": "stream",
     "text": [
      "[-1, -2, -3]\n"
     ]
    },
    {
     "name": "stderr",
     "output_type": "stream",
     "text": [
      " 74%|███████▎  | 897/1219 [05:02<01:46,  3.03it/s]"
     ]
    },
    {
     "name": "stdout",
     "output_type": "stream",
     "text": [
      "[-1, -2, -3]\n"
     ]
    },
    {
     "name": "stderr",
     "output_type": "stream",
     "text": [
      " 74%|███████▎  | 898/1219 [05:02<01:46,  3.02it/s]"
     ]
    },
    {
     "name": "stdout",
     "output_type": "stream",
     "text": [
      "[-1, -2, -3]\n"
     ]
    },
    {
     "name": "stderr",
     "output_type": "stream",
     "text": [
      " 74%|███████▎  | 899/1219 [05:03<01:45,  3.02it/s]"
     ]
    },
    {
     "name": "stdout",
     "output_type": "stream",
     "text": [
      "[-1, -2, -3]\n"
     ]
    },
    {
     "name": "stderr",
     "output_type": "stream",
     "text": [
      " 74%|███████▍  | 900/1219 [05:03<01:51,  2.85it/s]"
     ]
    },
    {
     "name": "stdout",
     "output_type": "stream",
     "text": [
      "[-1, -2, -3]\n"
     ]
    },
    {
     "name": "stderr",
     "output_type": "stream",
     "text": [
      " 74%|███████▍  | 901/1219 [05:03<01:50,  2.88it/s]"
     ]
    },
    {
     "name": "stdout",
     "output_type": "stream",
     "text": [
      "[-1, -2, -3]\n"
     ]
    },
    {
     "name": "stderr",
     "output_type": "stream",
     "text": [
      " 74%|███████▍  | 902/1219 [05:04<01:47,  2.94it/s]"
     ]
    },
    {
     "name": "stdout",
     "output_type": "stream",
     "text": [
      "[-1, -2, -3]\n"
     ]
    },
    {
     "name": "stderr",
     "output_type": "stream",
     "text": [
      " 74%|███████▍  | 903/1219 [05:04<01:47,  2.94it/s]"
     ]
    },
    {
     "name": "stdout",
     "output_type": "stream",
     "text": [
      "[-1, -2, -3]\n"
     ]
    },
    {
     "name": "stderr",
     "output_type": "stream",
     "text": [
      " 74%|███████▍  | 904/1219 [05:04<01:46,  2.95it/s]"
     ]
    },
    {
     "name": "stdout",
     "output_type": "stream",
     "text": [
      "[-1, -2, -3]\n"
     ]
    },
    {
     "name": "stderr",
     "output_type": "stream",
     "text": [
      " 74%|███████▍  | 905/1219 [05:05<01:46,  2.95it/s]"
     ]
    },
    {
     "name": "stdout",
     "output_type": "stream",
     "text": [
      "[-1, -2, -3]\n"
     ]
    },
    {
     "name": "stderr",
     "output_type": "stream",
     "text": [
      " 74%|███████▍  | 906/1219 [05:05<01:44,  2.99it/s]"
     ]
    },
    {
     "name": "stdout",
     "output_type": "stream",
     "text": [
      "[-1, -2, -3]\n"
     ]
    },
    {
     "name": "stderr",
     "output_type": "stream",
     "text": [
      " 74%|███████▍  | 907/1219 [05:05<01:43,  3.01it/s]"
     ]
    },
    {
     "name": "stdout",
     "output_type": "stream",
     "text": [
      "[-1, -2, -3]\n"
     ]
    },
    {
     "name": "stderr",
     "output_type": "stream",
     "text": [
      " 74%|███████▍  | 908/1219 [05:06<01:42,  3.03it/s]"
     ]
    },
    {
     "name": "stdout",
     "output_type": "stream",
     "text": [
      "[-1, -2, -3]\n"
     ]
    },
    {
     "name": "stderr",
     "output_type": "stream",
     "text": [
      " 75%|███████▍  | 909/1219 [05:06<01:43,  3.01it/s]"
     ]
    },
    {
     "name": "stdout",
     "output_type": "stream",
     "text": [
      "[-1, -2, -3]\n"
     ]
    },
    {
     "name": "stderr",
     "output_type": "stream",
     "text": [
      " 75%|███████▍  | 910/1219 [05:06<01:42,  3.02it/s]"
     ]
    },
    {
     "name": "stdout",
     "output_type": "stream",
     "text": [
      "[-1, -2, -3]\n"
     ]
    },
    {
     "name": "stderr",
     "output_type": "stream",
     "text": [
      " 75%|███████▍  | 911/1219 [05:07<01:42,  3.00it/s]"
     ]
    },
    {
     "name": "stdout",
     "output_type": "stream",
     "text": [
      "[-1, -2, -3]\n"
     ]
    },
    {
     "name": "stderr",
     "output_type": "stream",
     "text": [
      " 75%|███████▍  | 912/1219 [05:07<01:42,  2.99it/s]"
     ]
    },
    {
     "name": "stdout",
     "output_type": "stream",
     "text": [
      "[-1, -2, -3]\n"
     ]
    },
    {
     "name": "stderr",
     "output_type": "stream",
     "text": [
      " 75%|███████▍  | 913/1219 [05:07<01:43,  2.97it/s]"
     ]
    },
    {
     "name": "stdout",
     "output_type": "stream",
     "text": [
      "[-1, -2, -3]\n"
     ]
    },
    {
     "name": "stderr",
     "output_type": "stream",
     "text": [
      " 75%|███████▍  | 914/1219 [05:08<01:41,  2.99it/s]"
     ]
    },
    {
     "name": "stdout",
     "output_type": "stream",
     "text": [
      "[-1, -2, -3]\n"
     ]
    },
    {
     "name": "stderr",
     "output_type": "stream",
     "text": [
      " 75%|███████▌  | 915/1219 [05:08<01:42,  2.97it/s]"
     ]
    },
    {
     "name": "stdout",
     "output_type": "stream",
     "text": [
      "[-1, -2, -3]\n"
     ]
    },
    {
     "name": "stderr",
     "output_type": "stream",
     "text": [
      " 75%|███████▌  | 916/1219 [05:08<01:44,  2.91it/s]"
     ]
    },
    {
     "name": "stdout",
     "output_type": "stream",
     "text": [
      "[-1, -2, -3]\n"
     ]
    },
    {
     "name": "stderr",
     "output_type": "stream",
     "text": [
      " 75%|███████▌  | 917/1219 [05:09<01:42,  2.95it/s]"
     ]
    },
    {
     "name": "stdout",
     "output_type": "stream",
     "text": [
      "[-1, -2, -3]\n"
     ]
    },
    {
     "name": "stderr",
     "output_type": "stream",
     "text": [
      " 75%|███████▌  | 918/1219 [05:09<01:41,  2.96it/s]"
     ]
    },
    {
     "name": "stdout",
     "output_type": "stream",
     "text": [
      "[-1, -2, -3]\n"
     ]
    },
    {
     "name": "stderr",
     "output_type": "stream",
     "text": [
      " 75%|███████▌  | 919/1219 [05:09<01:41,  2.96it/s]"
     ]
    },
    {
     "name": "stdout",
     "output_type": "stream",
     "text": [
      "[-1, -2, -3]\n"
     ]
    },
    {
     "name": "stderr",
     "output_type": "stream",
     "text": [
      " 75%|███████▌  | 920/1219 [05:10<01:41,  2.96it/s]"
     ]
    },
    {
     "name": "stdout",
     "output_type": "stream",
     "text": [
      "[-1, -2, -3]\n"
     ]
    },
    {
     "name": "stderr",
     "output_type": "stream",
     "text": [
      " 76%|███████▌  | 921/1219 [05:10<01:39,  2.99it/s]"
     ]
    },
    {
     "name": "stdout",
     "output_type": "stream",
     "text": [
      "[-1, -2, -3]\n"
     ]
    },
    {
     "name": "stderr",
     "output_type": "stream",
     "text": [
      " 76%|███████▌  | 922/1219 [05:10<01:38,  3.01it/s]"
     ]
    },
    {
     "name": "stdout",
     "output_type": "stream",
     "text": [
      "[-1, -2, -3]\n"
     ]
    },
    {
     "name": "stderr",
     "output_type": "stream",
     "text": [
      " 76%|███████▌  | 923/1219 [05:11<01:37,  3.03it/s]"
     ]
    },
    {
     "name": "stdout",
     "output_type": "stream",
     "text": [
      "[-1, -2, -3]\n"
     ]
    },
    {
     "name": "stderr",
     "output_type": "stream",
     "text": [
      " 76%|███████▌  | 924/1219 [05:11<01:37,  3.01it/s]"
     ]
    },
    {
     "name": "stdout",
     "output_type": "stream",
     "text": [
      "[-1, -2, -3]\n"
     ]
    },
    {
     "name": "stderr",
     "output_type": "stream",
     "text": [
      " 76%|███████▌  | 925/1219 [05:11<01:36,  3.04it/s]"
     ]
    },
    {
     "name": "stdout",
     "output_type": "stream",
     "text": [
      "[-1, -2, -3]\n"
     ]
    },
    {
     "name": "stderr",
     "output_type": "stream",
     "text": [
      " 76%|███████▌  | 926/1219 [05:12<01:37,  3.02it/s]"
     ]
    },
    {
     "name": "stdout",
     "output_type": "stream",
     "text": [
      "[-1, -2, -3]\n"
     ]
    },
    {
     "name": "stderr",
     "output_type": "stream",
     "text": [
      " 76%|███████▌  | 927/1219 [05:12<01:37,  3.00it/s]"
     ]
    },
    {
     "name": "stdout",
     "output_type": "stream",
     "text": [
      "[-1, -2, -3]\n"
     ]
    },
    {
     "name": "stderr",
     "output_type": "stream",
     "text": [
      " 76%|███████▌  | 928/1219 [05:12<01:36,  3.02it/s]"
     ]
    },
    {
     "name": "stdout",
     "output_type": "stream",
     "text": [
      "[-1, -2, -3]\n"
     ]
    },
    {
     "name": "stderr",
     "output_type": "stream",
     "text": [
      " 76%|███████▌  | 929/1219 [05:13<01:35,  3.03it/s]"
     ]
    },
    {
     "name": "stdout",
     "output_type": "stream",
     "text": [
      "[-1, -2, -3]\n"
     ]
    },
    {
     "name": "stderr",
     "output_type": "stream",
     "text": [
      " 76%|███████▋  | 930/1219 [05:13<01:35,  3.03it/s]"
     ]
    },
    {
     "name": "stdout",
     "output_type": "stream",
     "text": [
      "[-1, -2, -3]\n"
     ]
    },
    {
     "name": "stderr",
     "output_type": "stream",
     "text": [
      " 76%|███████▋  | 931/1219 [05:14<01:56,  2.47it/s]"
     ]
    },
    {
     "name": "stdout",
     "output_type": "stream",
     "text": [
      "[-1, -2, -1, -2, -3]\n"
     ]
    },
    {
     "name": "stderr",
     "output_type": "stream",
     "text": [
      " 76%|███████▋  | 932/1219 [05:14<01:49,  2.62it/s]"
     ]
    },
    {
     "name": "stdout",
     "output_type": "stream",
     "text": [
      "[-1, -2, -3]\n"
     ]
    },
    {
     "name": "stderr",
     "output_type": "stream",
     "text": [
      " 77%|███████▋  | 933/1219 [05:14<01:44,  2.74it/s]"
     ]
    },
    {
     "name": "stdout",
     "output_type": "stream",
     "text": [
      "[-1, -2, -3]\n"
     ]
    },
    {
     "name": "stderr",
     "output_type": "stream",
     "text": [
      " 77%|███████▋  | 934/1219 [05:15<01:40,  2.83it/s]"
     ]
    },
    {
     "name": "stdout",
     "output_type": "stream",
     "text": [
      "[-1, -2, -3]\n"
     ]
    },
    {
     "name": "stderr",
     "output_type": "stream",
     "text": [
      " 77%|███████▋  | 935/1219 [05:15<01:39,  2.87it/s]"
     ]
    },
    {
     "name": "stdout",
     "output_type": "stream",
     "text": [
      "[-1, -2, -3]\n"
     ]
    },
    {
     "name": "stderr",
     "output_type": "stream",
     "text": [
      " 77%|███████▋  | 936/1219 [05:15<01:36,  2.93it/s]"
     ]
    },
    {
     "name": "stdout",
     "output_type": "stream",
     "text": [
      "[-1, -2, -3]\n"
     ]
    },
    {
     "name": "stderr",
     "output_type": "stream",
     "text": [
      " 77%|███████▋  | 937/1219 [05:16<01:35,  2.96it/s]"
     ]
    },
    {
     "name": "stdout",
     "output_type": "stream",
     "text": [
      "[-1, -2, -3]\n"
     ]
    },
    {
     "name": "stderr",
     "output_type": "stream",
     "text": [
      " 77%|███████▋  | 938/1219 [05:16<01:33,  2.99it/s]"
     ]
    },
    {
     "name": "stdout",
     "output_type": "stream",
     "text": [
      "[-1, -2, -3]\n"
     ]
    },
    {
     "name": "stderr",
     "output_type": "stream",
     "text": [
      " 77%|███████▋  | 939/1219 [05:16<01:33,  2.98it/s]"
     ]
    },
    {
     "name": "stdout",
     "output_type": "stream",
     "text": [
      "[-1, -2, -3]\n"
     ]
    },
    {
     "name": "stderr",
     "output_type": "stream",
     "text": [
      " 77%|███████▋  | 940/1219 [05:17<01:32,  3.00it/s]"
     ]
    },
    {
     "name": "stdout",
     "output_type": "stream",
     "text": [
      "[-1, -2, -3]\n"
     ]
    },
    {
     "name": "stderr",
     "output_type": "stream",
     "text": [
      " 77%|███████▋  | 941/1219 [05:17<01:31,  3.02it/s]"
     ]
    },
    {
     "name": "stdout",
     "output_type": "stream",
     "text": [
      "[-1, -2, -3]\n"
     ]
    },
    {
     "name": "stderr",
     "output_type": "stream",
     "text": [
      " 77%|███████▋  | 942/1219 [05:17<01:31,  3.03it/s]"
     ]
    },
    {
     "name": "stdout",
     "output_type": "stream",
     "text": [
      "[-1, -2, -3]\n"
     ]
    },
    {
     "name": "stderr",
     "output_type": "stream",
     "text": [
      " 77%|███████▋  | 943/1219 [05:18<01:32,  2.99it/s]"
     ]
    },
    {
     "name": "stdout",
     "output_type": "stream",
     "text": [
      "[-1, -2, -3]\n"
     ]
    },
    {
     "name": "stderr",
     "output_type": "stream",
     "text": [
      " 77%|███████▋  | 944/1219 [05:18<01:31,  3.01it/s]"
     ]
    },
    {
     "name": "stdout",
     "output_type": "stream",
     "text": [
      "[-1, -2, -3]\n"
     ]
    },
    {
     "name": "stderr",
     "output_type": "stream",
     "text": [
      " 78%|███████▊  | 945/1219 [05:18<01:30,  3.02it/s]"
     ]
    },
    {
     "name": "stdout",
     "output_type": "stream",
     "text": [
      "[-1, -2, -3]\n"
     ]
    },
    {
     "name": "stderr",
     "output_type": "stream",
     "text": [
      " 78%|███████▊  | 946/1219 [05:19<01:30,  3.00it/s]"
     ]
    },
    {
     "name": "stdout",
     "output_type": "stream",
     "text": [
      "[-1, -2, -3]\n"
     ]
    },
    {
     "name": "stderr",
     "output_type": "stream",
     "text": [
      " 78%|███████▊  | 947/1219 [05:19<01:29,  3.02it/s]"
     ]
    },
    {
     "name": "stdout",
     "output_type": "stream",
     "text": [
      "[-1, -2, -3]\n"
     ]
    },
    {
     "name": "stderr",
     "output_type": "stream",
     "text": [
      " 78%|███████▊  | 948/1219 [05:19<01:29,  3.03it/s]"
     ]
    },
    {
     "name": "stdout",
     "output_type": "stream",
     "text": [
      "[-1, -2, -3]\n"
     ]
    },
    {
     "name": "stderr",
     "output_type": "stream",
     "text": [
      " 78%|███████▊  | 949/1219 [05:20<01:29,  3.01it/s]"
     ]
    },
    {
     "name": "stdout",
     "output_type": "stream",
     "text": [
      "[-1, -2, -3]\n"
     ]
    },
    {
     "name": "stderr",
     "output_type": "stream",
     "text": [
      " 78%|███████▊  | 950/1219 [05:20<01:29,  3.02it/s]"
     ]
    },
    {
     "name": "stdout",
     "output_type": "stream",
     "text": [
      "[-1, -2, -3]\n"
     ]
    },
    {
     "name": "stderr",
     "output_type": "stream",
     "text": [
      " 78%|███████▊  | 951/1219 [05:20<01:28,  3.03it/s]"
     ]
    },
    {
     "name": "stdout",
     "output_type": "stream",
     "text": [
      "[-1, -2, -3]\n"
     ]
    },
    {
     "name": "stderr",
     "output_type": "stream",
     "text": [
      " 78%|███████▊  | 952/1219 [05:20<01:28,  3.01it/s]"
     ]
    },
    {
     "name": "stdout",
     "output_type": "stream",
     "text": [
      "[-1, -2, -3]\n"
     ]
    },
    {
     "name": "stderr",
     "output_type": "stream",
     "text": [
      " 78%|███████▊  | 953/1219 [05:21<01:27,  3.02it/s]"
     ]
    },
    {
     "name": "stdout",
     "output_type": "stream",
     "text": [
      "[-1, -2, -3]\n"
     ]
    },
    {
     "name": "stderr",
     "output_type": "stream",
     "text": [
      " 78%|███████▊  | 954/1219 [05:21<01:28,  3.00it/s]"
     ]
    },
    {
     "name": "stdout",
     "output_type": "stream",
     "text": [
      "[-1, -2, -3]\n"
     ]
    },
    {
     "name": "stderr",
     "output_type": "stream",
     "text": [
      " 78%|███████▊  | 955/1219 [05:24<04:13,  1.04it/s]"
     ]
    },
    {
     "name": "stdout",
     "output_type": "stream",
     "text": [
      "[1, 0, -1, -2, -1, 0, 1, 0, -1, 0, -1, -2, -1, 0, -1, 0, 1, 0, 0, 1, 2, 3]\n"
     ]
    },
    {
     "name": "stderr",
     "output_type": "stream",
     "text": [
      " 78%|███████▊  | 956/1219 [05:24<03:24,  1.28it/s]"
     ]
    },
    {
     "name": "stdout",
     "output_type": "stream",
     "text": [
      "[-1, -2, -3]\n"
     ]
    },
    {
     "name": "stderr",
     "output_type": "stream",
     "text": [
      " 79%|███████▊  | 957/1219 [05:24<02:49,  1.55it/s]"
     ]
    },
    {
     "name": "stdout",
     "output_type": "stream",
     "text": [
      "[-1, -2, -3]\n"
     ]
    },
    {
     "name": "stderr",
     "output_type": "stream",
     "text": [
      " 79%|███████▊  | 958/1219 [05:25<02:24,  1.81it/s]"
     ]
    },
    {
     "name": "stdout",
     "output_type": "stream",
     "text": [
      "[-1, -2, -3]\n"
     ]
    },
    {
     "name": "stderr",
     "output_type": "stream",
     "text": [
      " 79%|███████▊  | 959/1219 [05:25<02:06,  2.05it/s]"
     ]
    },
    {
     "name": "stdout",
     "output_type": "stream",
     "text": [
      "[-1, -2, -3]\n"
     ]
    },
    {
     "name": "stderr",
     "output_type": "stream",
     "text": [
      " 79%|███████▉  | 960/1219 [05:25<01:53,  2.27it/s]"
     ]
    },
    {
     "name": "stdout",
     "output_type": "stream",
     "text": [
      "[-1, -2, -3]\n"
     ]
    },
    {
     "name": "stderr",
     "output_type": "stream",
     "text": [
      " 79%|███████▉  | 961/1219 [05:26<01:44,  2.46it/s]"
     ]
    },
    {
     "name": "stdout",
     "output_type": "stream",
     "text": [
      "[-1, -2, -3]\n"
     ]
    },
    {
     "name": "stderr",
     "output_type": "stream",
     "text": [
      " 79%|███████▉  | 962/1219 [05:26<01:38,  2.61it/s]"
     ]
    },
    {
     "name": "stdout",
     "output_type": "stream",
     "text": [
      "[-1, -2, -3]\n"
     ]
    },
    {
     "name": "stderr",
     "output_type": "stream",
     "text": [
      " 79%|███████▉  | 963/1219 [05:26<01:33,  2.74it/s]"
     ]
    },
    {
     "name": "stdout",
     "output_type": "stream",
     "text": [
      "[-1, -2, -3]\n"
     ]
    },
    {
     "name": "stderr",
     "output_type": "stream",
     "text": [
      " 79%|███████▉  | 964/1219 [05:27<01:30,  2.82it/s]"
     ]
    },
    {
     "name": "stdout",
     "output_type": "stream",
     "text": [
      "[-1, -2, -3]\n"
     ]
    },
    {
     "name": "stderr",
     "output_type": "stream",
     "text": [
      " 79%|███████▉  | 965/1219 [05:27<01:27,  2.90it/s]"
     ]
    },
    {
     "name": "stdout",
     "output_type": "stream",
     "text": [
      "[-1, -2, -3]\n"
     ]
    },
    {
     "name": "stderr",
     "output_type": "stream",
     "text": [
      " 79%|███████▉  | 966/1219 [05:27<01:25,  2.94it/s]"
     ]
    },
    {
     "name": "stdout",
     "output_type": "stream",
     "text": [
      "[-1, -2, -3]\n"
     ]
    },
    {
     "name": "stderr",
     "output_type": "stream",
     "text": [
      " 79%|███████▉  | 967/1219 [05:28<01:24,  2.99it/s]"
     ]
    },
    {
     "name": "stdout",
     "output_type": "stream",
     "text": [
      "[-1, -2, -3]\n"
     ]
    },
    {
     "name": "stderr",
     "output_type": "stream",
     "text": [
      " 79%|███████▉  | 968/1219 [05:28<01:24,  2.96it/s]"
     ]
    },
    {
     "name": "stdout",
     "output_type": "stream",
     "text": [
      "[-1, -2, -3]\n"
     ]
    },
    {
     "name": "stderr",
     "output_type": "stream",
     "text": [
      " 79%|███████▉  | 969/1219 [05:28<01:24,  2.96it/s]"
     ]
    },
    {
     "name": "stdout",
     "output_type": "stream",
     "text": [
      "[-1, -2, -3]\n"
     ]
    },
    {
     "name": "stderr",
     "output_type": "stream",
     "text": [
      " 80%|███████▉  | 970/1219 [05:29<01:23,  2.97it/s]"
     ]
    },
    {
     "name": "stdout",
     "output_type": "stream",
     "text": [
      "[-1, -2, -3]\n"
     ]
    },
    {
     "name": "stderr",
     "output_type": "stream",
     "text": [
      " 80%|███████▉  | 971/1219 [05:29<01:22,  3.00it/s]"
     ]
    },
    {
     "name": "stdout",
     "output_type": "stream",
     "text": [
      "[-1, -2, -3]\n"
     ]
    },
    {
     "name": "stderr",
     "output_type": "stream",
     "text": [
      " 80%|███████▉  | 972/1219 [05:29<01:21,  3.01it/s]"
     ]
    },
    {
     "name": "stdout",
     "output_type": "stream",
     "text": [
      "[-1, -2, -3]\n"
     ]
    },
    {
     "name": "stderr",
     "output_type": "stream",
     "text": [
      " 80%|███████▉  | 973/1219 [05:30<01:21,  3.03it/s]"
     ]
    },
    {
     "name": "stdout",
     "output_type": "stream",
     "text": [
      "[-1, -2, -3]\n"
     ]
    },
    {
     "name": "stderr",
     "output_type": "stream",
     "text": [
      " 80%|███████▉  | 974/1219 [05:30<01:20,  3.04it/s]"
     ]
    },
    {
     "name": "stdout",
     "output_type": "stream",
     "text": [
      "[-1, -2, -3]\n"
     ]
    },
    {
     "name": "stderr",
     "output_type": "stream",
     "text": [
      " 80%|███████▉  | 975/1219 [05:30<01:19,  3.05it/s]"
     ]
    },
    {
     "name": "stdout",
     "output_type": "stream",
     "text": [
      "[-1, -2, -3]\n"
     ]
    },
    {
     "name": "stderr",
     "output_type": "stream",
     "text": [
      " 80%|████████  | 976/1219 [05:31<01:19,  3.06it/s]"
     ]
    },
    {
     "name": "stdout",
     "output_type": "stream",
     "text": [
      "[-1, -2, -3]\n"
     ]
    },
    {
     "name": "stderr",
     "output_type": "stream",
     "text": [
      " 80%|████████  | 977/1219 [05:31<01:18,  3.06it/s]"
     ]
    },
    {
     "name": "stdout",
     "output_type": "stream",
     "text": [
      "[-1, -2, -3]\n"
     ]
    },
    {
     "name": "stderr",
     "output_type": "stream",
     "text": [
      " 80%|████████  | 978/1219 [05:31<01:18,  3.07it/s]"
     ]
    },
    {
     "name": "stdout",
     "output_type": "stream",
     "text": [
      "[-1, -2, -3]\n"
     ]
    },
    {
     "name": "stderr",
     "output_type": "stream",
     "text": [
      " 80%|████████  | 979/1219 [05:32<01:18,  3.07it/s]"
     ]
    },
    {
     "name": "stdout",
     "output_type": "stream",
     "text": [
      "[-1, -2, -3]\n"
     ]
    },
    {
     "name": "stderr",
     "output_type": "stream",
     "text": [
      " 80%|████████  | 980/1219 [05:32<01:18,  3.04it/s]"
     ]
    },
    {
     "name": "stdout",
     "output_type": "stream",
     "text": [
      "[-1, -2, -3]\n"
     ]
    },
    {
     "name": "stderr",
     "output_type": "stream",
     "text": [
      " 80%|████████  | 981/1219 [05:32<01:19,  3.00it/s]"
     ]
    },
    {
     "name": "stdout",
     "output_type": "stream",
     "text": [
      "[-1, -2, -3]\n"
     ]
    },
    {
     "name": "stderr",
     "output_type": "stream",
     "text": [
      " 81%|████████  | 982/1219 [05:33<01:19,  2.98it/s]"
     ]
    },
    {
     "name": "stdout",
     "output_type": "stream",
     "text": [
      "[-1, -2, -3]\n"
     ]
    },
    {
     "name": "stderr",
     "output_type": "stream",
     "text": [
      " 81%|████████  | 983/1219 [05:33<01:19,  2.97it/s]"
     ]
    },
    {
     "name": "stdout",
     "output_type": "stream",
     "text": [
      "[-1, -2, -3]\n"
     ]
    },
    {
     "name": "stderr",
     "output_type": "stream",
     "text": [
      " 81%|████████  | 984/1219 [05:33<01:19,  2.97it/s]"
     ]
    },
    {
     "name": "stdout",
     "output_type": "stream",
     "text": [
      "[-1, -2, -3]\n"
     ]
    },
    {
     "name": "stderr",
     "output_type": "stream",
     "text": [
      " 81%|████████  | 985/1219 [05:34<01:19,  2.96it/s]"
     ]
    },
    {
     "name": "stdout",
     "output_type": "stream",
     "text": [
      "[-1, -2, -3]\n"
     ]
    },
    {
     "name": "stderr",
     "output_type": "stream",
     "text": [
      " 81%|████████  | 986/1219 [05:34<01:17,  2.99it/s]"
     ]
    },
    {
     "name": "stdout",
     "output_type": "stream",
     "text": [
      "[-1, -2, -3]\n"
     ]
    },
    {
     "name": "stderr",
     "output_type": "stream",
     "text": [
      " 81%|████████  | 987/1219 [05:34<01:17,  2.97it/s]"
     ]
    },
    {
     "name": "stdout",
     "output_type": "stream",
     "text": [
      "[-1, -2, -3]\n"
     ]
    },
    {
     "name": "stderr",
     "output_type": "stream",
     "text": [
      " 81%|████████  | 988/1219 [05:35<01:17,  3.00it/s]"
     ]
    },
    {
     "name": "stdout",
     "output_type": "stream",
     "text": [
      "[-1, -2, -3]\n"
     ]
    },
    {
     "name": "stderr",
     "output_type": "stream",
     "text": [
      " 81%|████████  | 989/1219 [05:35<01:16,  3.01it/s]"
     ]
    },
    {
     "name": "stdout",
     "output_type": "stream",
     "text": [
      "[-1, -2, -3]\n"
     ]
    },
    {
     "name": "stderr",
     "output_type": "stream",
     "text": [
      " 81%|████████  | 990/1219 [05:35<01:16,  2.99it/s]"
     ]
    },
    {
     "name": "stdout",
     "output_type": "stream",
     "text": [
      "[-1, -2, -3]\n"
     ]
    },
    {
     "name": "stderr",
     "output_type": "stream",
     "text": [
      " 81%|████████▏ | 991/1219 [05:36<01:16,  2.99it/s]"
     ]
    },
    {
     "name": "stdout",
     "output_type": "stream",
     "text": [
      "[-1, -2, -3]\n"
     ]
    },
    {
     "name": "stderr",
     "output_type": "stream",
     "text": [
      " 81%|████████▏ | 992/1219 [05:36<01:16,  2.98it/s]"
     ]
    },
    {
     "name": "stdout",
     "output_type": "stream",
     "text": [
      "[-1, -2, -3]\n"
     ]
    },
    {
     "name": "stderr",
     "output_type": "stream",
     "text": [
      " 81%|████████▏ | 993/1219 [05:36<01:15,  3.00it/s]"
     ]
    },
    {
     "name": "stdout",
     "output_type": "stream",
     "text": [
      "[-1, -2, -3]\n"
     ]
    },
    {
     "name": "stderr",
     "output_type": "stream",
     "text": [
      " 82%|████████▏ | 994/1219 [05:37<01:17,  2.91it/s]"
     ]
    },
    {
     "name": "stdout",
     "output_type": "stream",
     "text": [
      "[-1, -2, -3]\n"
     ]
    },
    {
     "name": "stderr",
     "output_type": "stream",
     "text": [
      " 82%|████████▏ | 995/1219 [05:37<01:15,  2.95it/s]"
     ]
    },
    {
     "name": "stdout",
     "output_type": "stream",
     "text": [
      "[-1, -2, -3]\n"
     ]
    },
    {
     "name": "stderr",
     "output_type": "stream",
     "text": [
      " 82%|████████▏ | 996/1219 [05:37<01:15,  2.95it/s]"
     ]
    },
    {
     "name": "stdout",
     "output_type": "stream",
     "text": [
      "[-1, -2, -3]\n"
     ]
    },
    {
     "name": "stderr",
     "output_type": "stream",
     "text": [
      " 82%|████████▏ | 997/1219 [05:38<01:14,  2.99it/s]"
     ]
    },
    {
     "name": "stdout",
     "output_type": "stream",
     "text": [
      "[-1, -2, -3]\n"
     ]
    },
    {
     "name": "stderr",
     "output_type": "stream",
     "text": [
      " 82%|████████▏ | 998/1219 [05:38<01:13,  3.01it/s]"
     ]
    },
    {
     "name": "stdout",
     "output_type": "stream",
     "text": [
      "[-1, -2, -3]\n"
     ]
    },
    {
     "name": "stderr",
     "output_type": "stream",
     "text": [
      " 82%|████████▏ | 999/1219 [05:38<01:12,  3.03it/s]"
     ]
    },
    {
     "name": "stdout",
     "output_type": "stream",
     "text": [
      "[-1, -2, -3]\n"
     ]
    },
    {
     "name": "stderr",
     "output_type": "stream",
     "text": [
      " 82%|████████▏ | 1000/1219 [05:39<01:12,  3.04it/s]"
     ]
    },
    {
     "name": "stdout",
     "output_type": "stream",
     "text": [
      "[-1, -2, -3]\n"
     ]
    },
    {
     "name": "stderr",
     "output_type": "stream",
     "text": [
      " 82%|████████▏ | 1001/1219 [05:39<01:12,  3.01it/s]"
     ]
    },
    {
     "name": "stdout",
     "output_type": "stream",
     "text": [
      "[-1, -2, -3]\n"
     ]
    },
    {
     "name": "stderr",
     "output_type": "stream",
     "text": [
      " 82%|████████▏ | 1002/1219 [05:39<01:12,  2.99it/s]"
     ]
    },
    {
     "name": "stdout",
     "output_type": "stream",
     "text": [
      "[-1, -2, -3]\n"
     ]
    },
    {
     "name": "stderr",
     "output_type": "stream",
     "text": [
      " 82%|████████▏ | 1003/1219 [05:40<01:11,  3.02it/s]"
     ]
    },
    {
     "name": "stdout",
     "output_type": "stream",
     "text": [
      "[-1, -2, -3]\n"
     ]
    },
    {
     "name": "stderr",
     "output_type": "stream",
     "text": [
      " 82%|████████▏ | 1004/1219 [05:40<01:10,  3.04it/s]"
     ]
    },
    {
     "name": "stdout",
     "output_type": "stream",
     "text": [
      "[-1, -2, -3]\n"
     ]
    },
    {
     "name": "stderr",
     "output_type": "stream",
     "text": [
      " 82%|████████▏ | 1005/1219 [05:40<01:11,  3.01it/s]"
     ]
    },
    {
     "name": "stdout",
     "output_type": "stream",
     "text": [
      "[-1, -2, -3]\n"
     ]
    },
    {
     "name": "stderr",
     "output_type": "stream",
     "text": [
      " 83%|████████▎ | 1006/1219 [05:41<01:12,  2.95it/s]"
     ]
    },
    {
     "name": "stdout",
     "output_type": "stream",
     "text": [
      "[-1, -2, -3]\n"
     ]
    },
    {
     "name": "stderr",
     "output_type": "stream",
     "text": [
      " 83%|████████▎ | 1007/1219 [05:41<01:11,  2.95it/s]"
     ]
    },
    {
     "name": "stdout",
     "output_type": "stream",
     "text": [
      "[-1, -2, -3]\n"
     ]
    },
    {
     "name": "stderr",
     "output_type": "stream",
     "text": [
      " 83%|████████▎ | 1008/1219 [05:41<01:11,  2.96it/s]"
     ]
    },
    {
     "name": "stdout",
     "output_type": "stream",
     "text": [
      "[-1, -2, -3]\n"
     ]
    },
    {
     "name": "stderr",
     "output_type": "stream",
     "text": [
      " 83%|████████▎ | 1009/1219 [05:42<01:24,  2.48it/s]"
     ]
    },
    {
     "name": "stdout",
     "output_type": "stream",
     "text": [
      "[1, 0, -1, -2, -3]\n"
     ]
    },
    {
     "name": "stderr",
     "output_type": "stream",
     "text": [
      " 83%|████████▎ | 1010/1219 [05:42<01:19,  2.63it/s]"
     ]
    },
    {
     "name": "stdout",
     "output_type": "stream",
     "text": [
      "[-1, -2, -3]\n"
     ]
    },
    {
     "name": "stderr",
     "output_type": "stream",
     "text": [
      " 83%|████████▎ | 1011/1219 [05:42<01:15,  2.75it/s]"
     ]
    },
    {
     "name": "stdout",
     "output_type": "stream",
     "text": [
      "[-1, -2, -3]\n"
     ]
    },
    {
     "name": "stderr",
     "output_type": "stream",
     "text": [
      " 83%|████████▎ | 1012/1219 [05:43<01:12,  2.84it/s]"
     ]
    },
    {
     "name": "stdout",
     "output_type": "stream",
     "text": [
      "[-1, -2, -3]\n"
     ]
    },
    {
     "name": "stderr",
     "output_type": "stream",
     "text": [
      " 83%|████████▎ | 1013/1219 [05:43<01:11,  2.88it/s]"
     ]
    },
    {
     "name": "stdout",
     "output_type": "stream",
     "text": [
      "[-1, -2, -3]\n"
     ]
    },
    {
     "name": "stderr",
     "output_type": "stream",
     "text": [
      " 83%|████████▎ | 1014/1219 [05:43<01:09,  2.93it/s]"
     ]
    },
    {
     "name": "stdout",
     "output_type": "stream",
     "text": [
      "[-1, -2, -3]\n"
     ]
    },
    {
     "name": "stderr",
     "output_type": "stream",
     "text": [
      " 83%|████████▎ | 1015/1219 [05:44<01:09,  2.95it/s]"
     ]
    },
    {
     "name": "stdout",
     "output_type": "stream",
     "text": [
      "[-1, -2, -3]\n"
     ]
    },
    {
     "name": "stderr",
     "output_type": "stream",
     "text": [
      " 83%|████████▎ | 1016/1219 [05:44<01:08,  2.95it/s]"
     ]
    },
    {
     "name": "stdout",
     "output_type": "stream",
     "text": [
      "[-1, -2, -3]\n"
     ]
    },
    {
     "name": "stderr",
     "output_type": "stream",
     "text": [
      " 83%|████████▎ | 1017/1219 [05:44<01:08,  2.96it/s]"
     ]
    },
    {
     "name": "stdout",
     "output_type": "stream",
     "text": [
      "[-1, -2, -3]\n"
     ]
    },
    {
     "name": "stderr",
     "output_type": "stream",
     "text": [
      " 84%|████████▎ | 1018/1219 [05:45<01:08,  2.94it/s]"
     ]
    },
    {
     "name": "stdout",
     "output_type": "stream",
     "text": [
      "[-1, -2, -3]\n"
     ]
    },
    {
     "name": "stderr",
     "output_type": "stream",
     "text": [
      " 84%|████████▎ | 1019/1219 [05:45<01:07,  2.98it/s]"
     ]
    },
    {
     "name": "stdout",
     "output_type": "stream",
     "text": [
      "[-1, -2, -3]\n"
     ]
    },
    {
     "name": "stderr",
     "output_type": "stream",
     "text": [
      " 84%|████████▎ | 1020/1219 [05:45<01:06,  3.00it/s]"
     ]
    },
    {
     "name": "stdout",
     "output_type": "stream",
     "text": [
      "[-1, -2, -3]\n"
     ]
    },
    {
     "name": "stderr",
     "output_type": "stream",
     "text": [
      " 84%|████████▍ | 1021/1219 [05:46<01:05,  3.02it/s]"
     ]
    },
    {
     "name": "stdout",
     "output_type": "stream",
     "text": [
      "[-1, -2, -3]\n"
     ]
    },
    {
     "name": "stderr",
     "output_type": "stream",
     "text": [
      " 84%|████████▍ | 1022/1219 [05:46<01:05,  3.00it/s]"
     ]
    },
    {
     "name": "stdout",
     "output_type": "stream",
     "text": [
      "[-1, -2, -3]\n"
     ]
    },
    {
     "name": "stderr",
     "output_type": "stream",
     "text": [
      " 84%|████████▍ | 1023/1219 [05:46<01:05,  2.99it/s]"
     ]
    },
    {
     "name": "stdout",
     "output_type": "stream",
     "text": [
      "[-1, -2, -3]\n"
     ]
    },
    {
     "name": "stderr",
     "output_type": "stream",
     "text": [
      " 84%|████████▍ | 1024/1219 [05:47<01:04,  3.00it/s]"
     ]
    },
    {
     "name": "stdout",
     "output_type": "stream",
     "text": [
      "[-1, -2, -3]\n"
     ]
    },
    {
     "name": "stderr",
     "output_type": "stream",
     "text": [
      " 84%|████████▍ | 1025/1219 [05:47<01:04,  3.02it/s]"
     ]
    },
    {
     "name": "stdout",
     "output_type": "stream",
     "text": [
      "[-1, -2, -3]\n"
     ]
    },
    {
     "name": "stderr",
     "output_type": "stream",
     "text": [
      " 84%|████████▍ | 1026/1219 [05:47<01:04,  3.01it/s]"
     ]
    },
    {
     "name": "stdout",
     "output_type": "stream",
     "text": [
      "[-1, -2, -3]\n"
     ]
    },
    {
     "name": "stderr",
     "output_type": "stream",
     "text": [
      " 84%|████████▍ | 1027/1219 [05:48<01:04,  2.99it/s]"
     ]
    },
    {
     "name": "stdout",
     "output_type": "stream",
     "text": [
      "[-1, -2, -3]\n"
     ]
    },
    {
     "name": "stderr",
     "output_type": "stream",
     "text": [
      " 84%|████████▍ | 1028/1219 [05:48<01:03,  3.01it/s]"
     ]
    },
    {
     "name": "stdout",
     "output_type": "stream",
     "text": [
      "[-1, -2, -3]\n"
     ]
    },
    {
     "name": "stderr",
     "output_type": "stream",
     "text": [
      " 84%|████████▍ | 1029/1219 [05:48<01:03,  3.00it/s]"
     ]
    },
    {
     "name": "stdout",
     "output_type": "stream",
     "text": [
      "[-1, -2, -3]\n"
     ]
    },
    {
     "name": "stderr",
     "output_type": "stream",
     "text": [
      " 84%|████████▍ | 1030/1219 [05:49<01:03,  2.99it/s]"
     ]
    },
    {
     "name": "stdout",
     "output_type": "stream",
     "text": [
      "[-1, -2, -3]\n"
     ]
    },
    {
     "name": "stderr",
     "output_type": "stream",
     "text": [
      " 85%|████████▍ | 1031/1219 [05:49<01:02,  3.00it/s]"
     ]
    },
    {
     "name": "stdout",
     "output_type": "stream",
     "text": [
      "[-1, -2, -3]\n"
     ]
    },
    {
     "name": "stderr",
     "output_type": "stream",
     "text": [
      " 85%|████████▍ | 1032/1219 [05:49<01:03,  2.95it/s]"
     ]
    },
    {
     "name": "stdout",
     "output_type": "stream",
     "text": [
      "[-1, -2, -3]\n"
     ]
    },
    {
     "name": "stderr",
     "output_type": "stream",
     "text": [
      " 85%|████████▍ | 1033/1219 [05:50<01:02,  2.98it/s]"
     ]
    },
    {
     "name": "stdout",
     "output_type": "stream",
     "text": [
      "[-1, -2, -3]\n"
     ]
    },
    {
     "name": "stderr",
     "output_type": "stream",
     "text": [
      " 85%|████████▍ | 1034/1219 [05:50<01:01,  3.00it/s]"
     ]
    },
    {
     "name": "stdout",
     "output_type": "stream",
     "text": [
      "[-1, -2, -3]\n"
     ]
    },
    {
     "name": "stderr",
     "output_type": "stream",
     "text": [
      " 85%|████████▍ | 1035/1219 [05:50<01:01,  2.99it/s]"
     ]
    },
    {
     "name": "stdout",
     "output_type": "stream",
     "text": [
      "[-1, -2, -3]\n"
     ]
    },
    {
     "name": "stderr",
     "output_type": "stream",
     "text": [
      " 85%|████████▍ | 1036/1219 [05:51<01:00,  3.02it/s]"
     ]
    },
    {
     "name": "stdout",
     "output_type": "stream",
     "text": [
      "[-1, -2, -3]\n"
     ]
    },
    {
     "name": "stderr",
     "output_type": "stream",
     "text": [
      " 85%|████████▌ | 1037/1219 [05:51<01:18,  2.32it/s]"
     ]
    },
    {
     "name": "stdout",
     "output_type": "stream",
     "text": [
      "[1, 1, 0, -1, -2, -3]\n"
     ]
    },
    {
     "name": "stderr",
     "output_type": "stream",
     "text": [
      " 85%|████████▌ | 1038/1219 [05:52<01:12,  2.48it/s]"
     ]
    },
    {
     "name": "stdout",
     "output_type": "stream",
     "text": [
      "[-1, -2, -3]\n"
     ]
    },
    {
     "name": "stderr",
     "output_type": "stream",
     "text": [
      " 85%|████████▌ | 1039/1219 [05:52<01:08,  2.63it/s]"
     ]
    },
    {
     "name": "stdout",
     "output_type": "stream",
     "text": [
      "[-1, -2, -3]\n"
     ]
    },
    {
     "name": "stderr",
     "output_type": "stream",
     "text": [
      " 85%|████████▌ | 1040/1219 [05:52<01:05,  2.72it/s]"
     ]
    },
    {
     "name": "stdout",
     "output_type": "stream",
     "text": [
      "[-1, -2, -3]\n"
     ]
    },
    {
     "name": "stderr",
     "output_type": "stream",
     "text": [
      " 85%|████████▌ | 1041/1219 [05:53<01:03,  2.82it/s]"
     ]
    },
    {
     "name": "stdout",
     "output_type": "stream",
     "text": [
      "[-1, -2, -3]\n"
     ]
    },
    {
     "name": "stderr",
     "output_type": "stream",
     "text": [
      " 85%|████████▌ | 1042/1219 [05:53<01:01,  2.89it/s]"
     ]
    },
    {
     "name": "stdout",
     "output_type": "stream",
     "text": [
      "[-1, -2, -3]\n"
     ]
    },
    {
     "name": "stderr",
     "output_type": "stream",
     "text": [
      " 86%|████████▌ | 1043/1219 [05:53<00:59,  2.93it/s]"
     ]
    },
    {
     "name": "stdout",
     "output_type": "stream",
     "text": [
      "[-1, -2, -3]\n"
     ]
    },
    {
     "name": "stderr",
     "output_type": "stream",
     "text": [
      " 86%|████████▌ | 1044/1219 [05:54<00:58,  2.97it/s]"
     ]
    },
    {
     "name": "stdout",
     "output_type": "stream",
     "text": [
      "[-1, -2, -3]\n"
     ]
    },
    {
     "name": "stderr",
     "output_type": "stream",
     "text": [
      " 86%|████████▌ | 1045/1219 [05:54<00:59,  2.94it/s]"
     ]
    },
    {
     "name": "stdout",
     "output_type": "stream",
     "text": [
      "[-1, -2, -3]\n"
     ]
    },
    {
     "name": "stderr",
     "output_type": "stream",
     "text": [
      " 86%|████████▌ | 1046/1219 [05:54<00:58,  2.97it/s]"
     ]
    },
    {
     "name": "stdout",
     "output_type": "stream",
     "text": [
      "[-1, -2, -3]\n"
     ]
    },
    {
     "name": "stderr",
     "output_type": "stream",
     "text": [
      " 86%|████████▌ | 1047/1219 [05:55<00:57,  2.99it/s]"
     ]
    },
    {
     "name": "stdout",
     "output_type": "stream",
     "text": [
      "[-1, -2, -3]\n"
     ]
    },
    {
     "name": "stderr",
     "output_type": "stream",
     "text": [
      " 86%|████████▌ | 1048/1219 [05:55<00:56,  3.02it/s]"
     ]
    },
    {
     "name": "stdout",
     "output_type": "stream",
     "text": [
      "[-1, -2, -3]\n"
     ]
    },
    {
     "name": "stderr",
     "output_type": "stream",
     "text": [
      " 86%|████████▌ | 1049/1219 [05:55<00:56,  3.00it/s]"
     ]
    },
    {
     "name": "stdout",
     "output_type": "stream",
     "text": [
      "[-1, -2, -3]\n"
     ]
    },
    {
     "name": "stderr",
     "output_type": "stream",
     "text": [
      " 86%|████████▌ | 1050/1219 [05:56<00:55,  3.02it/s]"
     ]
    },
    {
     "name": "stdout",
     "output_type": "stream",
     "text": [
      "[-1, -2, -3]\n"
     ]
    },
    {
     "name": "stderr",
     "output_type": "stream",
     "text": [
      " 86%|████████▌ | 1051/1219 [05:56<00:55,  3.04it/s]"
     ]
    },
    {
     "name": "stdout",
     "output_type": "stream",
     "text": [
      "[-1, -2, -3]\n"
     ]
    },
    {
     "name": "stderr",
     "output_type": "stream",
     "text": [
      " 86%|████████▋ | 1052/1219 [05:56<00:54,  3.05it/s]"
     ]
    },
    {
     "name": "stdout",
     "output_type": "stream",
     "text": [
      "[-1, -2, -3]\n"
     ]
    },
    {
     "name": "stderr",
     "output_type": "stream",
     "text": [
      " 86%|████████▋ | 1053/1219 [05:57<00:54,  3.05it/s]"
     ]
    },
    {
     "name": "stdout",
     "output_type": "stream",
     "text": [
      "[-1, -2, -3]\n"
     ]
    },
    {
     "name": "stderr",
     "output_type": "stream",
     "text": [
      " 86%|████████▋ | 1054/1219 [05:57<00:54,  3.05it/s]"
     ]
    },
    {
     "name": "stdout",
     "output_type": "stream",
     "text": [
      "[-1, -2, -3]\n"
     ]
    },
    {
     "name": "stderr",
     "output_type": "stream",
     "text": [
      " 87%|████████▋ | 1055/1219 [05:57<00:53,  3.05it/s]"
     ]
    },
    {
     "name": "stdout",
     "output_type": "stream",
     "text": [
      "[-1, -2, -3]\n"
     ]
    },
    {
     "name": "stderr",
     "output_type": "stream",
     "text": [
      " 87%|████████▋ | 1056/1219 [05:58<00:53,  3.05it/s]"
     ]
    },
    {
     "name": "stdout",
     "output_type": "stream",
     "text": [
      "[-1, -2, -3]\n"
     ]
    },
    {
     "name": "stderr",
     "output_type": "stream",
     "text": [
      " 87%|████████▋ | 1057/1219 [05:58<00:52,  3.06it/s]"
     ]
    },
    {
     "name": "stdout",
     "output_type": "stream",
     "text": [
      "[-1, -2, -3]\n"
     ]
    },
    {
     "name": "stderr",
     "output_type": "stream",
     "text": [
      " 87%|████████▋ | 1058/1219 [05:58<00:53,  2.99it/s]"
     ]
    },
    {
     "name": "stdout",
     "output_type": "stream",
     "text": [
      "[-1, -2, -3]\n"
     ]
    },
    {
     "name": "stderr",
     "output_type": "stream",
     "text": [
      " 87%|████████▋ | 1059/1219 [05:59<00:53,  2.99it/s]"
     ]
    },
    {
     "name": "stdout",
     "output_type": "stream",
     "text": [
      "[-1, -2, -3]\n"
     ]
    },
    {
     "name": "stderr",
     "output_type": "stream",
     "text": [
      " 87%|████████▋ | 1060/1219 [05:59<00:52,  3.02it/s]"
     ]
    },
    {
     "name": "stdout",
     "output_type": "stream",
     "text": [
      "[-1, -2, -3]\n"
     ]
    },
    {
     "name": "stderr",
     "output_type": "stream",
     "text": [
      " 87%|████████▋ | 1061/1219 [05:59<00:52,  3.02it/s]"
     ]
    },
    {
     "name": "stdout",
     "output_type": "stream",
     "text": [
      "[-1, -2, -3]\n"
     ]
    },
    {
     "name": "stderr",
     "output_type": "stream",
     "text": [
      " 87%|████████▋ | 1062/1219 [06:00<00:52,  3.00it/s]"
     ]
    },
    {
     "name": "stdout",
     "output_type": "stream",
     "text": [
      "[-1, -2, -3]\n"
     ]
    },
    {
     "name": "stderr",
     "output_type": "stream",
     "text": [
      " 87%|████████▋ | 1063/1219 [06:00<00:51,  3.03it/s]"
     ]
    },
    {
     "name": "stdout",
     "output_type": "stream",
     "text": [
      "[-1, -2, -3]\n"
     ]
    },
    {
     "name": "stderr",
     "output_type": "stream",
     "text": [
      " 87%|████████▋ | 1064/1219 [06:00<00:56,  2.74it/s]"
     ]
    },
    {
     "name": "stdout",
     "output_type": "stream",
     "text": [
      "[-1, -1, -2, -3]\n"
     ]
    },
    {
     "name": "stderr",
     "output_type": "stream",
     "text": [
      " 87%|████████▋ | 1065/1219 [06:01<00:54,  2.83it/s]"
     ]
    },
    {
     "name": "stdout",
     "output_type": "stream",
     "text": [
      "[-1, -2, -3]\n"
     ]
    },
    {
     "name": "stderr",
     "output_type": "stream",
     "text": [
      " 87%|████████▋ | 1066/1219 [06:01<00:52,  2.89it/s]"
     ]
    },
    {
     "name": "stdout",
     "output_type": "stream",
     "text": [
      "[-1, -2, -3]\n"
     ]
    },
    {
     "name": "stderr",
     "output_type": "stream",
     "text": [
      " 88%|████████▊ | 1067/1219 [06:01<00:51,  2.95it/s]"
     ]
    },
    {
     "name": "stdout",
     "output_type": "stream",
     "text": [
      "[-1, -2, -3]\n"
     ]
    },
    {
     "name": "stderr",
     "output_type": "stream",
     "text": [
      " 88%|████████▊ | 1068/1219 [06:02<00:51,  2.95it/s]"
     ]
    },
    {
     "name": "stdout",
     "output_type": "stream",
     "text": [
      "[-1, -2, -3]\n"
     ]
    },
    {
     "name": "stderr",
     "output_type": "stream",
     "text": [
      " 88%|████████▊ | 1069/1219 [06:02<00:50,  2.96it/s]"
     ]
    },
    {
     "name": "stdout",
     "output_type": "stream",
     "text": [
      "[-1, -2, -3]\n"
     ]
    },
    {
     "name": "stderr",
     "output_type": "stream",
     "text": [
      " 88%|████████▊ | 1070/1219 [06:02<00:50,  2.94it/s]"
     ]
    },
    {
     "name": "stdout",
     "output_type": "stream",
     "text": [
      "[-1, -2, -3]\n"
     ]
    },
    {
     "name": "stderr",
     "output_type": "stream",
     "text": [
      " 88%|████████▊ | 1071/1219 [06:03<00:50,  2.95it/s]"
     ]
    },
    {
     "name": "stdout",
     "output_type": "stream",
     "text": [
      "[-1, -2, -3]\n"
     ]
    },
    {
     "name": "stderr",
     "output_type": "stream",
     "text": [
      " 88%|████████▊ | 1072/1219 [06:03<00:49,  2.98it/s]"
     ]
    },
    {
     "name": "stdout",
     "output_type": "stream",
     "text": [
      "[-1, -2, -3]\n"
     ]
    },
    {
     "name": "stderr",
     "output_type": "stream",
     "text": [
      " 88%|████████▊ | 1073/1219 [06:03<00:49,  2.98it/s]"
     ]
    },
    {
     "name": "stdout",
     "output_type": "stream",
     "text": [
      "[-1, -2, -3]\n"
     ]
    },
    {
     "name": "stderr",
     "output_type": "stream",
     "text": [
      " 88%|████████▊ | 1074/1219 [06:04<00:48,  3.00it/s]"
     ]
    },
    {
     "name": "stdout",
     "output_type": "stream",
     "text": [
      "[-1, -2, -3]\n"
     ]
    },
    {
     "name": "stderr",
     "output_type": "stream",
     "text": [
      " 88%|████████▊ | 1075/1219 [06:04<00:47,  3.02it/s]"
     ]
    },
    {
     "name": "stdout",
     "output_type": "stream",
     "text": [
      "[-1, -2, -3]\n"
     ]
    },
    {
     "name": "stderr",
     "output_type": "stream",
     "text": [
      " 88%|████████▊ | 1076/1219 [06:04<00:47,  3.03it/s]"
     ]
    },
    {
     "name": "stdout",
     "output_type": "stream",
     "text": [
      "[-1, -2, -3]\n"
     ]
    },
    {
     "name": "stderr",
     "output_type": "stream",
     "text": [
      " 88%|████████▊ | 1077/1219 [06:05<00:47,  3.01it/s]"
     ]
    },
    {
     "name": "stdout",
     "output_type": "stream",
     "text": [
      "[-1, -2, -3]\n"
     ]
    },
    {
     "name": "stderr",
     "output_type": "stream",
     "text": [
      " 88%|████████▊ | 1078/1219 [06:05<00:46,  3.02it/s]"
     ]
    },
    {
     "name": "stdout",
     "output_type": "stream",
     "text": [
      "[-1, -2, -3]\n"
     ]
    },
    {
     "name": "stderr",
     "output_type": "stream",
     "text": [
      " 89%|████████▊ | 1079/1219 [06:05<00:46,  3.00it/s]"
     ]
    },
    {
     "name": "stdout",
     "output_type": "stream",
     "text": [
      "[-1, -2, -3]\n"
     ]
    },
    {
     "name": "stderr",
     "output_type": "stream",
     "text": [
      " 89%|████████▊ | 1080/1219 [06:06<00:46,  3.00it/s]"
     ]
    },
    {
     "name": "stdout",
     "output_type": "stream",
     "text": [
      "[-1, -2, -3]\n"
     ]
    },
    {
     "name": "stderr",
     "output_type": "stream",
     "text": [
      " 89%|████████▊ | 1081/1219 [06:06<00:46,  2.95it/s]"
     ]
    },
    {
     "name": "stdout",
     "output_type": "stream",
     "text": [
      "[-1, -2, -3]\n"
     ]
    },
    {
     "name": "stderr",
     "output_type": "stream",
     "text": [
      " 89%|████████▉ | 1082/1219 [06:06<00:45,  2.99it/s]"
     ]
    },
    {
     "name": "stdout",
     "output_type": "stream",
     "text": [
      "[-1, -2, -3]\n"
     ]
    },
    {
     "name": "stderr",
     "output_type": "stream",
     "text": [
      " 89%|████████▉ | 1083/1219 [06:07<00:45,  3.01it/s]"
     ]
    },
    {
     "name": "stdout",
     "output_type": "stream",
     "text": [
      "[-1, -2, -3]\n"
     ]
    },
    {
     "name": "stderr",
     "output_type": "stream",
     "text": [
      " 89%|████████▉ | 1084/1219 [06:07<00:45,  3.00it/s]"
     ]
    },
    {
     "name": "stdout",
     "output_type": "stream",
     "text": [
      "[-1, -2, -3]\n"
     ]
    },
    {
     "name": "stderr",
     "output_type": "stream",
     "text": [
      " 89%|████████▉ | 1085/1219 [06:07<00:44,  2.98it/s]"
     ]
    },
    {
     "name": "stdout",
     "output_type": "stream",
     "text": [
      "[-1, -2, -3]\n"
     ]
    },
    {
     "name": "stderr",
     "output_type": "stream",
     "text": [
      " 89%|████████▉ | 1086/1219 [06:08<00:44,  3.01it/s]"
     ]
    },
    {
     "name": "stdout",
     "output_type": "stream",
     "text": [
      "[-1, -2, -3]\n"
     ]
    },
    {
     "name": "stderr",
     "output_type": "stream",
     "text": [
      " 89%|████████▉ | 1087/1219 [06:08<00:44,  2.99it/s]"
     ]
    },
    {
     "name": "stdout",
     "output_type": "stream",
     "text": [
      "[-1, -2, -3]\n"
     ]
    },
    {
     "name": "stderr",
     "output_type": "stream",
     "text": [
      " 89%|████████▉ | 1088/1219 [06:08<00:43,  2.98it/s]"
     ]
    },
    {
     "name": "stdout",
     "output_type": "stream",
     "text": [
      "[-1, -2, -3]\n"
     ]
    },
    {
     "name": "stderr",
     "output_type": "stream",
     "text": [
      " 89%|████████▉ | 1089/1219 [06:09<00:43,  2.98it/s]"
     ]
    },
    {
     "name": "stdout",
     "output_type": "stream",
     "text": [
      "[-1, -2, -3]\n"
     ]
    },
    {
     "name": "stderr",
     "output_type": "stream",
     "text": [
      " 89%|████████▉ | 1090/1219 [06:09<00:42,  3.00it/s]"
     ]
    },
    {
     "name": "stdout",
     "output_type": "stream",
     "text": [
      "[-1, -2, -3]\n"
     ]
    },
    {
     "name": "stderr",
     "output_type": "stream",
     "text": [
      " 89%|████████▉ | 1091/1219 [06:09<00:42,  2.99it/s]"
     ]
    },
    {
     "name": "stdout",
     "output_type": "stream",
     "text": [
      "[-1, -2, -3]\n"
     ]
    },
    {
     "name": "stderr",
     "output_type": "stream",
     "text": [
      " 90%|████████▉ | 1092/1219 [06:10<00:42,  3.02it/s]"
     ]
    },
    {
     "name": "stdout",
     "output_type": "stream",
     "text": [
      "[-1, -2, -3]\n"
     ]
    },
    {
     "name": "stderr",
     "output_type": "stream",
     "text": [
      " 90%|████████▉ | 1093/1219 [06:10<00:41,  3.03it/s]"
     ]
    },
    {
     "name": "stdout",
     "output_type": "stream",
     "text": [
      "[-1, -2, -3]\n"
     ]
    },
    {
     "name": "stderr",
     "output_type": "stream",
     "text": [
      " 90%|████████▉ | 1094/1219 [06:10<00:42,  2.94it/s]"
     ]
    },
    {
     "name": "stdout",
     "output_type": "stream",
     "text": [
      "[-1, -2, -3]\n"
     ]
    },
    {
     "name": "stderr",
     "output_type": "stream",
     "text": [
      " 90%|████████▉ | 1095/1219 [06:11<00:42,  2.95it/s]"
     ]
    },
    {
     "name": "stdout",
     "output_type": "stream",
     "text": [
      "[-1, -2, -3]\n"
     ]
    },
    {
     "name": "stderr",
     "output_type": "stream",
     "text": [
      " 90%|████████▉ | 1096/1219 [06:11<00:49,  2.48it/s]"
     ]
    },
    {
     "name": "stdout",
     "output_type": "stream",
     "text": [
      "[-1, -2, -3]\n"
     ]
    },
    {
     "name": "stderr",
     "output_type": "stream",
     "text": [
      " 90%|████████▉ | 1097/1219 [06:12<00:47,  2.59it/s]"
     ]
    },
    {
     "name": "stdout",
     "output_type": "stream",
     "text": [
      "[-1, -2, -3]\n"
     ]
    },
    {
     "name": "stderr",
     "output_type": "stream",
     "text": [
      " 90%|█████████ | 1098/1219 [06:12<00:46,  2.58it/s]"
     ]
    },
    {
     "name": "stdout",
     "output_type": "stream",
     "text": [
      "[-1, -2, -3]\n"
     ]
    },
    {
     "name": "stderr",
     "output_type": "stream",
     "text": [
      " 90%|█████████ | 1099/1219 [06:12<00:44,  2.70it/s]"
     ]
    },
    {
     "name": "stdout",
     "output_type": "stream",
     "text": [
      "[-1, -2, -3]\n"
     ]
    },
    {
     "name": "stderr",
     "output_type": "stream",
     "text": [
      " 90%|█████████ | 1100/1219 [06:13<00:43,  2.77it/s]"
     ]
    },
    {
     "name": "stdout",
     "output_type": "stream",
     "text": [
      "[-1, -2, -3]\n"
     ]
    },
    {
     "name": "stderr",
     "output_type": "stream",
     "text": [
      " 90%|█████████ | 1101/1219 [06:13<00:41,  2.85it/s]"
     ]
    },
    {
     "name": "stdout",
     "output_type": "stream",
     "text": [
      "[-1, -2, -3]\n"
     ]
    },
    {
     "name": "stderr",
     "output_type": "stream",
     "text": [
      " 90%|█████████ | 1102/1219 [06:14<00:42,  2.77it/s]"
     ]
    },
    {
     "name": "stdout",
     "output_type": "stream",
     "text": [
      "[-1, -2, -3]\n"
     ]
    },
    {
     "name": "stderr",
     "output_type": "stream",
     "text": [
      " 90%|█████████ | 1103/1219 [06:14<00:41,  2.79it/s]"
     ]
    },
    {
     "name": "stdout",
     "output_type": "stream",
     "text": [
      "[-1, -2, -3]\n"
     ]
    },
    {
     "name": "stderr",
     "output_type": "stream",
     "text": [
      " 91%|█████████ | 1104/1219 [06:14<00:40,  2.82it/s]"
     ]
    },
    {
     "name": "stdout",
     "output_type": "stream",
     "text": [
      "[-1, -2, -3]\n"
     ]
    },
    {
     "name": "stderr",
     "output_type": "stream",
     "text": [
      " 91%|█████████ | 1105/1219 [06:15<00:39,  2.86it/s]"
     ]
    },
    {
     "name": "stdout",
     "output_type": "stream",
     "text": [
      "[-1, -2, -3]\n"
     ]
    },
    {
     "name": "stderr",
     "output_type": "stream",
     "text": [
      " 91%|█████████ | 1106/1219 [06:15<00:38,  2.90it/s]"
     ]
    },
    {
     "name": "stdout",
     "output_type": "stream",
     "text": [
      "[-1, -2, -3]\n"
     ]
    },
    {
     "name": "stderr",
     "output_type": "stream",
     "text": [
      " 91%|█████████ | 1107/1219 [06:15<00:39,  2.87it/s]"
     ]
    },
    {
     "name": "stdout",
     "output_type": "stream",
     "text": [
      "[-1, -2, -3]\n"
     ]
    },
    {
     "name": "stderr",
     "output_type": "stream",
     "text": [
      " 91%|█████████ | 1108/1219 [06:16<00:38,  2.86it/s]"
     ]
    },
    {
     "name": "stdout",
     "output_type": "stream",
     "text": [
      "[-1, -2, -3]\n"
     ]
    },
    {
     "name": "stderr",
     "output_type": "stream",
     "text": [
      " 91%|█████████ | 1109/1219 [06:16<00:38,  2.89it/s]"
     ]
    },
    {
     "name": "stdout",
     "output_type": "stream",
     "text": [
      "[-1, -2, -3]\n"
     ]
    },
    {
     "name": "stderr",
     "output_type": "stream",
     "text": [
      " 91%|█████████ | 1110/1219 [06:16<00:37,  2.89it/s]"
     ]
    },
    {
     "name": "stdout",
     "output_type": "stream",
     "text": [
      "[-1, -2, -3]\n"
     ]
    },
    {
     "name": "stderr",
     "output_type": "stream",
     "text": [
      " 91%|█████████ | 1111/1219 [06:17<00:37,  2.89it/s]"
     ]
    },
    {
     "name": "stdout",
     "output_type": "stream",
     "text": [
      "[-1, -2, -3]\n"
     ]
    },
    {
     "name": "stderr",
     "output_type": "stream",
     "text": [
      " 91%|█████████ | 1112/1219 [06:18<01:14,  1.43it/s]"
     ]
    },
    {
     "name": "stdout",
     "output_type": "stream",
     "text": [
      "[-1, -1, 0, 1, 2, 1, 0, -1, -2, -2, -1, -2, -3]\n"
     ]
    },
    {
     "name": "stderr",
     "output_type": "stream",
     "text": [
      " 91%|█████████▏| 1113/1219 [06:18<01:02,  1.70it/s]"
     ]
    },
    {
     "name": "stdout",
     "output_type": "stream",
     "text": [
      "[-1, -2, -3]\n"
     ]
    },
    {
     "name": "stderr",
     "output_type": "stream",
     "text": [
      " 91%|█████████▏| 1114/1219 [06:19<00:53,  1.95it/s]"
     ]
    },
    {
     "name": "stdout",
     "output_type": "stream",
     "text": [
      "[-1, -2, -3]\n"
     ]
    },
    {
     "name": "stderr",
     "output_type": "stream",
     "text": [
      " 91%|█████████▏| 1115/1219 [06:19<00:47,  2.19it/s]"
     ]
    },
    {
     "name": "stdout",
     "output_type": "stream",
     "text": [
      "[-1, -2, -3]\n"
     ]
    },
    {
     "name": "stderr",
     "output_type": "stream",
     "text": [
      " 92%|█████████▏| 1116/1219 [06:20<00:44,  2.29it/s]"
     ]
    },
    {
     "name": "stdout",
     "output_type": "stream",
     "text": [
      "[-1, -2, -3]\n"
     ]
    },
    {
     "name": "stderr",
     "output_type": "stream",
     "text": [
      " 92%|█████████▏| 1117/1219 [06:20<00:41,  2.45it/s]"
     ]
    },
    {
     "name": "stdout",
     "output_type": "stream",
     "text": [
      "[-1, -2, -3]\n"
     ]
    },
    {
     "name": "stderr",
     "output_type": "stream",
     "text": [
      " 92%|█████████▏| 1118/1219 [06:20<00:38,  2.61it/s]"
     ]
    },
    {
     "name": "stdout",
     "output_type": "stream",
     "text": [
      "[-1, -2, -3]\n"
     ]
    },
    {
     "name": "stderr",
     "output_type": "stream",
     "text": [
      " 92%|█████████▏| 1119/1219 [06:21<00:37,  2.70it/s]"
     ]
    },
    {
     "name": "stdout",
     "output_type": "stream",
     "text": [
      "[-1, -2, -3]\n"
     ]
    },
    {
     "name": "stderr",
     "output_type": "stream",
     "text": [
      " 92%|█████████▏| 1120/1219 [06:21<00:35,  2.76it/s]"
     ]
    },
    {
     "name": "stdout",
     "output_type": "stream",
     "text": [
      "[-1, -2, -3]\n"
     ]
    },
    {
     "name": "stderr",
     "output_type": "stream",
     "text": [
      " 92%|█████████▏| 1121/1219 [06:21<00:34,  2.83it/s]"
     ]
    },
    {
     "name": "stdout",
     "output_type": "stream",
     "text": [
      "[-1, -2, -3]\n"
     ]
    },
    {
     "name": "stderr",
     "output_type": "stream",
     "text": [
      " 92%|█████████▏| 1122/1219 [06:22<00:33,  2.87it/s]"
     ]
    },
    {
     "name": "stdout",
     "output_type": "stream",
     "text": [
      "[-1, -2, -3]\n"
     ]
    },
    {
     "name": "stderr",
     "output_type": "stream",
     "text": [
      " 92%|█████████▏| 1123/1219 [06:22<00:32,  2.92it/s]"
     ]
    },
    {
     "name": "stdout",
     "output_type": "stream",
     "text": [
      "[-1, -2, -3]\n"
     ]
    },
    {
     "name": "stderr",
     "output_type": "stream",
     "text": [
      " 92%|█████████▏| 1124/1219 [06:22<00:33,  2.81it/s]"
     ]
    },
    {
     "name": "stdout",
     "output_type": "stream",
     "text": [
      "[-1, -2, -3]\n"
     ]
    },
    {
     "name": "stderr",
     "output_type": "stream",
     "text": [
      " 92%|█████████▏| 1125/1219 [06:23<00:33,  2.83it/s]"
     ]
    },
    {
     "name": "stdout",
     "output_type": "stream",
     "text": [
      "[-1, -2, -3]\n"
     ]
    },
    {
     "name": "stderr",
     "output_type": "stream",
     "text": [
      " 92%|█████████▏| 1126/1219 [06:23<00:32,  2.87it/s]"
     ]
    },
    {
     "name": "stdout",
     "output_type": "stream",
     "text": [
      "[-1, -2, -3]\n"
     ]
    },
    {
     "name": "stderr",
     "output_type": "stream",
     "text": [
      " 92%|█████████▏| 1127/1219 [06:23<00:31,  2.88it/s]"
     ]
    },
    {
     "name": "stdout",
     "output_type": "stream",
     "text": [
      "[-1, -2, -3]\n"
     ]
    },
    {
     "name": "stderr",
     "output_type": "stream",
     "text": [
      " 93%|█████████▎| 1128/1219 [06:24<00:31,  2.91it/s]"
     ]
    },
    {
     "name": "stdout",
     "output_type": "stream",
     "text": [
      "[-1, -2, -3]\n"
     ]
    },
    {
     "name": "stderr",
     "output_type": "stream",
     "text": [
      " 93%|█████████▎| 1129/1219 [06:24<00:30,  2.92it/s]"
     ]
    },
    {
     "name": "stdout",
     "output_type": "stream",
     "text": [
      "[-1, -2, -3]\n"
     ]
    },
    {
     "name": "stderr",
     "output_type": "stream",
     "text": [
      " 93%|█████████▎| 1130/1219 [06:24<00:30,  2.89it/s]"
     ]
    },
    {
     "name": "stdout",
     "output_type": "stream",
     "text": [
      "[-1, -2, -3]\n"
     ]
    },
    {
     "name": "stderr",
     "output_type": "stream",
     "text": [
      " 93%|█████████▎| 1131/1219 [06:25<00:29,  2.94it/s]"
     ]
    },
    {
     "name": "stdout",
     "output_type": "stream",
     "text": [
      "[-1, -2, -3]\n"
     ]
    },
    {
     "name": "stderr",
     "output_type": "stream",
     "text": [
      " 93%|█████████▎| 1132/1219 [06:25<00:29,  2.93it/s]"
     ]
    },
    {
     "name": "stdout",
     "output_type": "stream",
     "text": [
      "[-1, -2, -3]\n"
     ]
    },
    {
     "name": "stderr",
     "output_type": "stream",
     "text": [
      " 93%|█████████▎| 1133/1219 [06:25<00:29,  2.94it/s]"
     ]
    },
    {
     "name": "stdout",
     "output_type": "stream",
     "text": [
      "[-1, -2, -3]\n"
     ]
    },
    {
     "name": "stderr",
     "output_type": "stream",
     "text": [
      " 93%|█████████▎| 1134/1219 [06:26<00:29,  2.89it/s]"
     ]
    },
    {
     "name": "stdout",
     "output_type": "stream",
     "text": [
      "[-1, -2, -3]\n"
     ]
    },
    {
     "name": "stderr",
     "output_type": "stream",
     "text": [
      " 93%|█████████▎| 1135/1219 [06:26<00:29,  2.87it/s]"
     ]
    },
    {
     "name": "stdout",
     "output_type": "stream",
     "text": [
      "[-1, -2, -3]\n"
     ]
    },
    {
     "name": "stderr",
     "output_type": "stream",
     "text": [
      " 93%|█████████▎| 1136/1219 [06:27<00:34,  2.43it/s]"
     ]
    },
    {
     "name": "stdout",
     "output_type": "stream",
     "text": [
      "[-1, 0, -1, -2, -3]\n"
     ]
    },
    {
     "name": "stderr",
     "output_type": "stream",
     "text": [
      " 93%|█████████▎| 1137/1219 [06:27<00:31,  2.58it/s]"
     ]
    },
    {
     "name": "stdout",
     "output_type": "stream",
     "text": [
      "[-1, -2, -3]\n"
     ]
    },
    {
     "name": "stderr",
     "output_type": "stream",
     "text": [
      " 93%|█████████▎| 1138/1219 [06:27<00:30,  2.68it/s]"
     ]
    },
    {
     "name": "stdout",
     "output_type": "stream",
     "text": [
      "[-1, -2, -3]\n"
     ]
    },
    {
     "name": "stderr",
     "output_type": "stream",
     "text": [
      " 93%|█████████▎| 1139/1219 [06:28<00:28,  2.78it/s]"
     ]
    },
    {
     "name": "stdout",
     "output_type": "stream",
     "text": [
      "[-1, -2, -3]\n"
     ]
    },
    {
     "name": "stderr",
     "output_type": "stream",
     "text": [
      " 94%|█████████▎| 1140/1219 [06:28<00:27,  2.85it/s]"
     ]
    },
    {
     "name": "stdout",
     "output_type": "stream",
     "text": [
      "[-1, -2, -3]\n"
     ]
    },
    {
     "name": "stderr",
     "output_type": "stream",
     "text": [
      " 94%|█████████▎| 1141/1219 [06:28<00:27,  2.88it/s]"
     ]
    },
    {
     "name": "stdout",
     "output_type": "stream",
     "text": [
      "[-1, -2, -3]\n"
     ]
    },
    {
     "name": "stderr",
     "output_type": "stream",
     "text": [
      " 94%|█████████▎| 1142/1219 [06:29<00:26,  2.89it/s]"
     ]
    },
    {
     "name": "stdout",
     "output_type": "stream",
     "text": [
      "[-1, -2, -3]\n"
     ]
    },
    {
     "name": "stderr",
     "output_type": "stream",
     "text": [
      " 94%|█████████▍| 1143/1219 [06:29<00:26,  2.91it/s]"
     ]
    },
    {
     "name": "stdout",
     "output_type": "stream",
     "text": [
      "[-1, -2, -3]\n"
     ]
    },
    {
     "name": "stderr",
     "output_type": "stream",
     "text": [
      " 94%|█████████▍| 1144/1219 [06:29<00:25,  2.92it/s]"
     ]
    },
    {
     "name": "stdout",
     "output_type": "stream",
     "text": [
      "[-1, -2, -3]\n"
     ]
    },
    {
     "name": "stderr",
     "output_type": "stream",
     "text": [
      " 94%|█████████▍| 1145/1219 [06:30<00:25,  2.95it/s]"
     ]
    },
    {
     "name": "stdout",
     "output_type": "stream",
     "text": [
      "[-1, -2, -3]\n"
     ]
    },
    {
     "name": "stderr",
     "output_type": "stream",
     "text": [
      " 94%|█████████▍| 1146/1219 [06:30<00:24,  2.95it/s]"
     ]
    },
    {
     "name": "stdout",
     "output_type": "stream",
     "text": [
      "[-1, -2, -3]\n"
     ]
    },
    {
     "name": "stderr",
     "output_type": "stream",
     "text": [
      " 94%|█████████▍| 1147/1219 [06:30<00:24,  2.98it/s]"
     ]
    },
    {
     "name": "stdout",
     "output_type": "stream",
     "text": [
      "[-1, -2, -3]\n"
     ]
    },
    {
     "name": "stderr",
     "output_type": "stream",
     "text": [
      " 94%|█████████▍| 1148/1219 [06:31<00:23,  3.00it/s]"
     ]
    },
    {
     "name": "stdout",
     "output_type": "stream",
     "text": [
      "[-1, -2, -3]\n"
     ]
    },
    {
     "name": "stderr",
     "output_type": "stream",
     "text": [
      " 94%|█████████▍| 1149/1219 [06:31<00:23,  2.97it/s]"
     ]
    },
    {
     "name": "stdout",
     "output_type": "stream",
     "text": [
      "[-1, -2, -3]\n"
     ]
    },
    {
     "name": "stderr",
     "output_type": "stream",
     "text": [
      " 94%|█████████▍| 1150/1219 [06:31<00:23,  2.95it/s]"
     ]
    },
    {
     "name": "stdout",
     "output_type": "stream",
     "text": [
      "[-1, -2, -3]\n"
     ]
    },
    {
     "name": "stderr",
     "output_type": "stream",
     "text": [
      " 94%|█████████▍| 1151/1219 [06:32<00:22,  2.99it/s]"
     ]
    },
    {
     "name": "stdout",
     "output_type": "stream",
     "text": [
      "[-1, -2, -3]\n"
     ]
    },
    {
     "name": "stderr",
     "output_type": "stream",
     "text": [
      " 95%|█████████▍| 1152/1219 [06:32<00:26,  2.53it/s]"
     ]
    },
    {
     "name": "stdout",
     "output_type": "stream",
     "text": [
      "[-1, -2, -3]\n"
     ]
    },
    {
     "name": "stderr",
     "output_type": "stream",
     "text": [
      " 95%|█████████▍| 1153/1219 [06:32<00:25,  2.64it/s]"
     ]
    },
    {
     "name": "stdout",
     "output_type": "stream",
     "text": [
      "[-1, -2, -3]\n"
     ]
    },
    {
     "name": "stderr",
     "output_type": "stream",
     "text": [
      " 95%|█████████▍| 1154/1219 [06:33<00:23,  2.74it/s]"
     ]
    },
    {
     "name": "stdout",
     "output_type": "stream",
     "text": [
      "[-1, -2, -3]\n"
     ]
    },
    {
     "name": "stderr",
     "output_type": "stream",
     "text": [
      " 95%|█████████▍| 1155/1219 [06:33<00:22,  2.83it/s]"
     ]
    },
    {
     "name": "stdout",
     "output_type": "stream",
     "text": [
      "[-1, -2, -3]\n"
     ]
    },
    {
     "name": "stderr",
     "output_type": "stream",
     "text": [
      " 95%|█████████▍| 1156/1219 [06:33<00:21,  2.89it/s]"
     ]
    },
    {
     "name": "stdout",
     "output_type": "stream",
     "text": [
      "[-1, -2, -3]\n"
     ]
    },
    {
     "name": "stderr",
     "output_type": "stream",
     "text": [
      " 95%|█████████▍| 1157/1219 [06:34<00:21,  2.87it/s]"
     ]
    },
    {
     "name": "stdout",
     "output_type": "stream",
     "text": [
      "[-1, -2, -3]\n"
     ]
    },
    {
     "name": "stderr",
     "output_type": "stream",
     "text": [
      " 95%|█████████▍| 1158/1219 [06:34<00:21,  2.89it/s]"
     ]
    },
    {
     "name": "stdout",
     "output_type": "stream",
     "text": [
      "[-1, -2, -3]\n"
     ]
    },
    {
     "name": "stderr",
     "output_type": "stream",
     "text": [
      " 95%|█████████▌| 1159/1219 [06:35<00:20,  2.94it/s]"
     ]
    },
    {
     "name": "stdout",
     "output_type": "stream",
     "text": [
      "[-1, -2, -3]\n"
     ]
    },
    {
     "name": "stderr",
     "output_type": "stream",
     "text": [
      " 95%|█████████▌| 1160/1219 [06:35<00:19,  2.97it/s]"
     ]
    },
    {
     "name": "stdout",
     "output_type": "stream",
     "text": [
      "[-1, -2, -3]\n"
     ]
    },
    {
     "name": "stderr",
     "output_type": "stream",
     "text": [
      " 95%|█████████▌| 1161/1219 [06:35<00:19,  2.96it/s]"
     ]
    },
    {
     "name": "stdout",
     "output_type": "stream",
     "text": [
      "[-1, -2, -3]\n"
     ]
    },
    {
     "name": "stderr",
     "output_type": "stream",
     "text": [
      " 95%|█████████▌| 1162/1219 [06:36<00:19,  2.98it/s]"
     ]
    },
    {
     "name": "stdout",
     "output_type": "stream",
     "text": [
      "[-1, -2, -3]\n"
     ]
    },
    {
     "name": "stderr",
     "output_type": "stream",
     "text": [
      " 95%|█████████▌| 1163/1219 [06:36<00:18,  3.00it/s]"
     ]
    },
    {
     "name": "stdout",
     "output_type": "stream",
     "text": [
      "[-1, -2, -3]\n"
     ]
    },
    {
     "name": "stderr",
     "output_type": "stream",
     "text": [
      " 95%|█████████▌| 1164/1219 [06:36<00:18,  3.01it/s]"
     ]
    },
    {
     "name": "stdout",
     "output_type": "stream",
     "text": [
      "[-1, -2, -3]\n"
     ]
    },
    {
     "name": "stderr",
     "output_type": "stream",
     "text": [
      " 96%|█████████▌| 1165/1219 [06:37<00:18,  2.99it/s]"
     ]
    },
    {
     "name": "stdout",
     "output_type": "stream",
     "text": [
      "[-1, -2, -3]\n"
     ]
    },
    {
     "name": "stderr",
     "output_type": "stream",
     "text": [
      " 96%|█████████▌| 1166/1219 [06:37<00:17,  2.97it/s]"
     ]
    },
    {
     "name": "stdout",
     "output_type": "stream",
     "text": [
      "[-1, -2, -3]\n"
     ]
    },
    {
     "name": "stderr",
     "output_type": "stream",
     "text": [
      " 96%|█████████▌| 1167/1219 [06:37<00:17,  3.00it/s]"
     ]
    },
    {
     "name": "stdout",
     "output_type": "stream",
     "text": [
      "[-1, -2, -3]\n"
     ]
    },
    {
     "name": "stderr",
     "output_type": "stream",
     "text": [
      " 96%|█████████▌| 1168/1219 [06:38<00:17,  2.98it/s]"
     ]
    },
    {
     "name": "stdout",
     "output_type": "stream",
     "text": [
      "[-1, -2, -3]\n"
     ]
    },
    {
     "name": "stderr",
     "output_type": "stream",
     "text": [
      " 96%|█████████▌| 1169/1219 [06:38<00:16,  3.00it/s]"
     ]
    },
    {
     "name": "stdout",
     "output_type": "stream",
     "text": [
      "[-1, -2, -3]\n"
     ]
    },
    {
     "name": "stderr",
     "output_type": "stream",
     "text": [
      " 96%|█████████▌| 1170/1219 [06:38<00:16,  3.01it/s]"
     ]
    },
    {
     "name": "stdout",
     "output_type": "stream",
     "text": [
      "[-1, -2, -3]\n"
     ]
    },
    {
     "name": "stderr",
     "output_type": "stream",
     "text": [
      " 96%|█████████▌| 1171/1219 [06:38<00:15,  3.02it/s]"
     ]
    },
    {
     "name": "stdout",
     "output_type": "stream",
     "text": [
      "[-1, -2, -3]\n"
     ]
    },
    {
     "name": "stderr",
     "output_type": "stream",
     "text": [
      " 96%|█████████▌| 1172/1219 [06:39<00:15,  2.99it/s]"
     ]
    },
    {
     "name": "stdout",
     "output_type": "stream",
     "text": [
      "[-1, -2, -3]\n"
     ]
    },
    {
     "name": "stderr",
     "output_type": "stream",
     "text": [
      " 96%|█████████▌| 1173/1219 [06:39<00:15,  2.93it/s]"
     ]
    },
    {
     "name": "stdout",
     "output_type": "stream",
     "text": [
      "[-1, -2, -3]\n"
     ]
    },
    {
     "name": "stderr",
     "output_type": "stream",
     "text": [
      " 96%|█████████▋| 1174/1219 [06:40<00:15,  2.95it/s]"
     ]
    },
    {
     "name": "stdout",
     "output_type": "stream",
     "text": [
      "[-1, -2, -3]\n"
     ]
    },
    {
     "name": "stderr",
     "output_type": "stream",
     "text": [
      " 96%|█████████▋| 1175/1219 [06:40<00:14,  2.97it/s]"
     ]
    },
    {
     "name": "stdout",
     "output_type": "stream",
     "text": [
      "[-1, -2, -3]\n"
     ]
    },
    {
     "name": "stderr",
     "output_type": "stream",
     "text": [
      " 96%|█████████▋| 1176/1219 [06:40<00:14,  2.99it/s]"
     ]
    },
    {
     "name": "stdout",
     "output_type": "stream",
     "text": [
      "[-1, -2, -3]\n"
     ]
    },
    {
     "name": "stderr",
     "output_type": "stream",
     "text": [
      " 97%|█████████▋| 1177/1219 [06:41<00:13,  3.00it/s]"
     ]
    },
    {
     "name": "stdout",
     "output_type": "stream",
     "text": [
      "[-1, -2, -3]\n"
     ]
    },
    {
     "name": "stderr",
     "output_type": "stream",
     "text": [
      " 97%|█████████▋| 1178/1219 [06:41<00:13,  3.01it/s]"
     ]
    },
    {
     "name": "stdout",
     "output_type": "stream",
     "text": [
      "[-1, -2, -3]\n"
     ]
    },
    {
     "name": "stderr",
     "output_type": "stream",
     "text": [
      " 97%|█████████▋| 1179/1219 [06:41<00:13,  3.00it/s]"
     ]
    },
    {
     "name": "stdout",
     "output_type": "stream",
     "text": [
      "[-1, -2, -3]\n"
     ]
    },
    {
     "name": "stderr",
     "output_type": "stream",
     "text": [
      " 97%|█████████▋| 1180/1219 [06:42<00:12,  3.01it/s]"
     ]
    },
    {
     "name": "stdout",
     "output_type": "stream",
     "text": [
      "[-1, -2, -3]\n"
     ]
    },
    {
     "name": "stderr",
     "output_type": "stream",
     "text": [
      " 97%|█████████▋| 1181/1219 [06:42<00:13,  2.90it/s]"
     ]
    },
    {
     "name": "stdout",
     "output_type": "stream",
     "text": [
      "[-1, -2, -3]\n"
     ]
    },
    {
     "name": "stderr",
     "output_type": "stream",
     "text": [
      " 97%|█████████▋| 1182/1219 [06:42<00:12,  2.94it/s]"
     ]
    },
    {
     "name": "stdout",
     "output_type": "stream",
     "text": [
      "[-1, -2, -3]\n"
     ]
    },
    {
     "name": "stderr",
     "output_type": "stream",
     "text": [
      " 97%|█████████▋| 1183/1219 [06:43<00:12,  2.94it/s]"
     ]
    },
    {
     "name": "stdout",
     "output_type": "stream",
     "text": [
      "[-1, -2, -3]\n"
     ]
    },
    {
     "name": "stderr",
     "output_type": "stream",
     "text": [
      " 97%|█████████▋| 1184/1219 [06:43<00:11,  2.94it/s]"
     ]
    },
    {
     "name": "stdout",
     "output_type": "stream",
     "text": [
      "[-1, -2, -3]\n"
     ]
    },
    {
     "name": "stderr",
     "output_type": "stream",
     "text": [
      " 97%|█████████▋| 1185/1219 [06:43<00:11,  2.98it/s]"
     ]
    },
    {
     "name": "stdout",
     "output_type": "stream",
     "text": [
      "[-1, -2, -3]\n"
     ]
    },
    {
     "name": "stderr",
     "output_type": "stream",
     "text": [
      " 97%|█████████▋| 1186/1219 [06:44<00:10,  3.01it/s]"
     ]
    },
    {
     "name": "stdout",
     "output_type": "stream",
     "text": [
      "[-1, -2, -3]\n"
     ]
    },
    {
     "name": "stderr",
     "output_type": "stream",
     "text": [
      " 97%|█████████▋| 1187/1219 [06:44<00:10,  3.02it/s]"
     ]
    },
    {
     "name": "stdout",
     "output_type": "stream",
     "text": [
      "[-1, -2, -3]\n"
     ]
    },
    {
     "name": "stderr",
     "output_type": "stream",
     "text": [
      " 97%|█████████▋| 1188/1219 [06:44<00:10,  2.94it/s]"
     ]
    },
    {
     "name": "stdout",
     "output_type": "stream",
     "text": [
      "[-1, -2, -3]\n"
     ]
    },
    {
     "name": "stderr",
     "output_type": "stream",
     "text": [
      " 98%|█████████▊| 1189/1219 [06:45<00:10,  2.97it/s]"
     ]
    },
    {
     "name": "stdout",
     "output_type": "stream",
     "text": [
      "[-1, -2, -3]\n"
     ]
    },
    {
     "name": "stderr",
     "output_type": "stream",
     "text": [
      " 98%|█████████▊| 1190/1219 [06:45<00:09,  2.99it/s]"
     ]
    },
    {
     "name": "stdout",
     "output_type": "stream",
     "text": [
      "[-1, -2, -3]\n"
     ]
    },
    {
     "name": "stderr",
     "output_type": "stream",
     "text": [
      " 98%|█████████▊| 1191/1219 [06:45<00:09,  3.00it/s]"
     ]
    },
    {
     "name": "stdout",
     "output_type": "stream",
     "text": [
      "[-1, -2, -3]\n"
     ]
    },
    {
     "name": "stderr",
     "output_type": "stream",
     "text": [
      " 98%|█████████▊| 1192/1219 [06:46<00:08,  3.01it/s]"
     ]
    },
    {
     "name": "stdout",
     "output_type": "stream",
     "text": [
      "[-1, -2, -3]\n"
     ]
    },
    {
     "name": "stderr",
     "output_type": "stream",
     "text": [
      " 98%|█████████▊| 1193/1219 [06:46<00:09,  2.71it/s]"
     ]
    },
    {
     "name": "stdout",
     "output_type": "stream",
     "text": [
      "[-1, -1, -2, -3]\n"
     ]
    },
    {
     "name": "stderr",
     "output_type": "stream",
     "text": [
      " 98%|█████████▊| 1194/1219 [06:46<00:09,  2.76it/s]"
     ]
    },
    {
     "name": "stdout",
     "output_type": "stream",
     "text": [
      "[-1, -2, -3]\n"
     ]
    },
    {
     "name": "stderr",
     "output_type": "stream",
     "text": [
      " 98%|█████████▊| 1195/1219 [06:47<00:08,  2.84it/s]"
     ]
    },
    {
     "name": "stdout",
     "output_type": "stream",
     "text": [
      "[-1, -2, -3]\n"
     ]
    },
    {
     "name": "stderr",
     "output_type": "stream",
     "text": [
      " 98%|█████████▊| 1196/1219 [06:47<00:08,  2.86it/s]"
     ]
    },
    {
     "name": "stdout",
     "output_type": "stream",
     "text": [
      "[-1, -2, -3]\n"
     ]
    },
    {
     "name": "stderr",
     "output_type": "stream",
     "text": [
      " 98%|█████████▊| 1197/1219 [06:47<00:07,  2.83it/s]"
     ]
    },
    {
     "name": "stdout",
     "output_type": "stream",
     "text": [
      "[-1, -2, -3]\n"
     ]
    },
    {
     "name": "stderr",
     "output_type": "stream",
     "text": [
      " 98%|█████████▊| 1198/1219 [06:48<00:07,  2.86it/s]"
     ]
    },
    {
     "name": "stdout",
     "output_type": "stream",
     "text": [
      "[-1, -2, -3]\n"
     ]
    },
    {
     "name": "stderr",
     "output_type": "stream",
     "text": [
      " 98%|█████████▊| 1199/1219 [06:48<00:06,  2.89it/s]"
     ]
    },
    {
     "name": "stdout",
     "output_type": "stream",
     "text": [
      "[-1, -2, -3]\n"
     ]
    },
    {
     "name": "stderr",
     "output_type": "stream",
     "text": [
      " 98%|█████████▊| 1200/1219 [06:48<00:06,  2.90it/s]"
     ]
    },
    {
     "name": "stdout",
     "output_type": "stream",
     "text": [
      "[-1, -2, -3]\n"
     ]
    },
    {
     "name": "stderr",
     "output_type": "stream",
     "text": [
      " 99%|█████████▊| 1201/1219 [06:49<00:06,  2.93it/s]"
     ]
    },
    {
     "name": "stdout",
     "output_type": "stream",
     "text": [
      "[-1, -2, -3]\n"
     ]
    },
    {
     "name": "stderr",
     "output_type": "stream",
     "text": [
      " 99%|█████████▊| 1202/1219 [06:49<00:05,  2.97it/s]"
     ]
    },
    {
     "name": "stdout",
     "output_type": "stream",
     "text": [
      "[-1, -2, -3]\n"
     ]
    },
    {
     "name": "stderr",
     "output_type": "stream",
     "text": [
      " 99%|█████████▊| 1203/1219 [06:49<00:05,  2.99it/s]"
     ]
    },
    {
     "name": "stdout",
     "output_type": "stream",
     "text": [
      "[-1, -2, -3]\n"
     ]
    },
    {
     "name": "stderr",
     "output_type": "stream",
     "text": [
      " 99%|█████████▉| 1204/1219 [06:50<00:05,  2.94it/s]"
     ]
    },
    {
     "name": "stdout",
     "output_type": "stream",
     "text": [
      "[-1, -2, -3]\n"
     ]
    },
    {
     "name": "stderr",
     "output_type": "stream",
     "text": [
      " 99%|█████████▉| 1205/1219 [06:50<00:04,  2.97it/s]"
     ]
    },
    {
     "name": "stdout",
     "output_type": "stream",
     "text": [
      "[-1, -2, -3]\n"
     ]
    },
    {
     "name": "stderr",
     "output_type": "stream",
     "text": [
      " 99%|█████████▉| 1206/1219 [06:50<00:04,  2.99it/s]"
     ]
    },
    {
     "name": "stdout",
     "output_type": "stream",
     "text": [
      "[-1, -2, -3]\n"
     ]
    },
    {
     "name": "stderr",
     "output_type": "stream",
     "text": [
      " 99%|█████████▉| 1207/1219 [06:51<00:03,  3.01it/s]"
     ]
    },
    {
     "name": "stdout",
     "output_type": "stream",
     "text": [
      "[-1, -2, -3]\n"
     ]
    },
    {
     "name": "stderr",
     "output_type": "stream",
     "text": [
      " 99%|█████████▉| 1208/1219 [06:51<00:03,  2.98it/s]"
     ]
    },
    {
     "name": "stdout",
     "output_type": "stream",
     "text": [
      "[-1, -2, -3]\n"
     ]
    },
    {
     "name": "stderr",
     "output_type": "stream",
     "text": [
      " 99%|█████████▉| 1209/1219 [06:51<00:03,  3.00it/s]"
     ]
    },
    {
     "name": "stdout",
     "output_type": "stream",
     "text": [
      "[-1, -2, -3]\n"
     ]
    },
    {
     "name": "stderr",
     "output_type": "stream",
     "text": [
      " 99%|█████████▉| 1210/1219 [06:52<00:02,  3.01it/s]"
     ]
    },
    {
     "name": "stdout",
     "output_type": "stream",
     "text": [
      "[-1, -2, -3]\n"
     ]
    },
    {
     "name": "stderr",
     "output_type": "stream",
     "text": [
      " 99%|█████████▉| 1211/1219 [06:52<00:02,  2.94it/s]"
     ]
    },
    {
     "name": "stdout",
     "output_type": "stream",
     "text": [
      "[-1, -2, -3]\n"
     ]
    },
    {
     "name": "stderr",
     "output_type": "stream",
     "text": [
      " 99%|█████████▉| 1212/1219 [06:52<00:02,  2.97it/s]"
     ]
    },
    {
     "name": "stdout",
     "output_type": "stream",
     "text": [
      "[-1, -2, -3]\n"
     ]
    },
    {
     "name": "stderr",
     "output_type": "stream",
     "text": [
      "100%|█████████▉| 1213/1219 [06:53<00:02,  2.99it/s]"
     ]
    },
    {
     "name": "stdout",
     "output_type": "stream",
     "text": [
      "[-1, -2, -3]\n"
     ]
    },
    {
     "name": "stderr",
     "output_type": "stream",
     "text": [
      "100%|█████████▉| 1214/1219 [06:53<00:01,  2.98it/s]"
     ]
    },
    {
     "name": "stdout",
     "output_type": "stream",
     "text": [
      "[-1, -2, -3]\n"
     ]
    },
    {
     "name": "stderr",
     "output_type": "stream",
     "text": [
      "100%|█████████▉| 1215/1219 [06:53<00:01,  2.98it/s]"
     ]
    },
    {
     "name": "stdout",
     "output_type": "stream",
     "text": [
      "[-1, -2, -3]\n"
     ]
    },
    {
     "name": "stderr",
     "output_type": "stream",
     "text": [
      "100%|█████████▉| 1216/1219 [06:54<00:01,  3.00it/s]"
     ]
    },
    {
     "name": "stdout",
     "output_type": "stream",
     "text": [
      "[-1, -2, -3]\n"
     ]
    },
    {
     "name": "stderr",
     "output_type": "stream",
     "text": [
      "100%|█████████▉| 1217/1219 [06:54<00:00,  2.98it/s]"
     ]
    },
    {
     "name": "stdout",
     "output_type": "stream",
     "text": [
      "[-1, -2, -3]\n"
     ]
    },
    {
     "name": "stderr",
     "output_type": "stream",
     "text": [
      "100%|█████████▉| 1218/1219 [06:54<00:00,  2.88it/s]"
     ]
    },
    {
     "name": "stdout",
     "output_type": "stream",
     "text": [
      "[-1, -2, -3]\n"
     ]
    },
    {
     "name": "stderr",
     "output_type": "stream",
     "text": [
      "100%|██████████| 1219/1219 [06:55<00:00,  2.94it/s]"
     ]
    },
    {
     "name": "stdout",
     "output_type": "stream",
     "text": [
      "[-1, -2, -3]\n"
     ]
    },
    {
     "name": "stderr",
     "output_type": "stream",
     "text": [
      "\n"
     ]
    },
    {
     "data": {
      "text/plain": [
       "[1, 3, 2, 2, 7]"
      ]
     },
     "execution_count": 172,
     "metadata": {},
     "output_type": "execute_result"
    }
   ],
   "source": [
    "optimal_configuration, configuration_pair, T_total = find_optimal_configuration(3, F, 1)\n",
    "optimal_configuration"
   ]
  },
  {
   "cell_type": "code",
   "execution_count": 173,
   "metadata": {},
   "outputs": [],
   "source": [
    "# bound = 3\n",
    "\n",
    "# FF = copy.deepcopy(F)\n",
    "# i = random.choice(FF)\n",
    "# FF.remove(i)\n",
    "\n",
    "# T_total = []\n",
    "# configuration_pair = []\n",
    "# X = []\n",
    "# T = []\n",
    "# current_configuration = i\n",
    "\n",
    "# for _ in tqdm(range(len(FF) - 1)):\n",
    "#     j = random.choice(FF)\n",
    "#     FF.remove(j)\n",
    "#     configuration_pair.append((current_configuration, j))\n",
    "#     while sum(X) > -bound and sum(X) < bound:\n",
    "#         discharge_number_current_configuration = get_discharge_number(current_configuration)\n",
    "#         discharge_number_j = get_discharge_number(j)\n",
    "#         if discharge_number_current_configuration < discharge_number_j:\n",
    "#             X.append(1)\n",
    "#         elif discharge_number_current_configuration > discharge_number_j:\n",
    "#             X.append(-1)\n",
    "#         else:\n",
    "#             X.append(0)\n",
    "#         T.append(sum(X))\n",
    "#     T_total.append(T)\n",
    "#     print(T)\n",
    "#     if sum(X) >= bound:\n",
    "#         current_configuration = j\n",
    "#     T = []\n",
    "#     X = []\n",
    "        \n",
    "# current_configuration "
   ]
  },
  {
   "cell_type": "code",
   "execution_count": 177,
   "metadata": {},
   "outputs": [
    {
     "data": {
      "text/plain": [
       "[1, 3, 2, 2, 7]"
      ]
     },
     "execution_count": 177,
     "metadata": {},
     "output_type": "execute_result"
    }
   ],
   "source": [
    "optimal_configuration"
   ]
  },
  {
   "cell_type": "markdown",
   "metadata": {},
   "source": [
    "# Visualisation of ED\n",
    "## A typical sample path of the random walk $T_n$."
   ]
  },
  {
   "cell_type": "code",
   "execution_count": 175,
   "metadata": {},
   "outputs": [],
   "source": [
    "def draw_random_walk(T_total, bound, n_times):\n",
    "    for _ in range(n_times):\n",
    "        y = random.choice(T_total)\n",
    "        \n",
    "        plt.figure(figsize = (10,6))\n",
    "        plt.step(np.linspace(0,len(y)-1,len(y)), y, color = 'b')\n",
    "        \n",
    "        plt.axhline(y=bound, color='k', linestyle='--')\n",
    "        plt.axhline(y=-bound, color='k', linestyle='--')\n",
    "        plt.text(len(y)/4, bound+0.2, 'Reject', fontsize=12, color='k', ha='center')\n",
    "        plt.text(len(y)/4, -bound-0.4, 'Accept', fontsize=12, color='k', ha='center')\n",
    "        \n",
    "        plt.xlabel('Iteration')\n",
    "        plt.ylabel('Test statistic')\n",
    "        plt.xlim(0, len(y)-1)\n",
    "        plt.ylim(-bound-1, bound+1)\n",
    "        \n",
    "        plt.show()"
   ]
  },
  {
   "cell_type": "code",
   "execution_count": 183,
   "metadata": {},
   "outputs": [
    {
     "name": "stdout",
     "output_type": "stream",
     "text": [
      "22\n"
     ]
    },
    {
     "data": {
      "image/png": "[encoded data removed]",
      "text/plain": [
       "<Figure size 1000x600 with 1 Axes>"
      ]
     },
     "metadata": {},
     "output_type": "display_data"
    },
    {
     "data": {
      "image/png": "[encoded data removed]",
      "text/plain": [
       "<Figure size 1000x600 with 1 Axes>"
      ]
     },
     "metadata": {},
     "output_type": "display_data"
    },
    {
     "data": {
      "image/png": "[encoded data removed]",
      "text/plain": [
       "<Figure size 1000x600 with 1 Axes>"
      ]
     },
     "metadata": {},
     "output_type": "display_data"
    },
    {
     "data": {
      "image/png": "[encoded data removed]",
      "text/plain": [
       "<Figure size 1000x600 with 1 Axes>"
      ]
     },
     "metadata": {},
     "output_type": "display_data"
    },
    {
     "data": {
      "image/png": "[encoded data removed]",
      "text/plain": [
       "<Figure size 1000x600 with 1 Axes>"
      ]
     },
     "metadata": {},
     "output_type": "display_data"
    },
    {
     "data": {
      "image/png": "[encoded data removed]",
      "text/plain": [
       "<Figure size 1000x600 with 1 Axes>"
      ]
     },
     "metadata": {},
     "output_type": "display_data"
    },
    {
     "data": {
      "image/png": "[encoded data removed]",
      "text/plain": [
       "<Figure size 1000x600 with 1 Axes>"
      ]
     },
     "metadata": {},
     "output_type": "display_data"
    },
    {
     "data": {
      "image/png": "[encoded data removed]",
      "text/plain": [
       "<Figure size 1000x600 with 1 Axes>"
      ]
     },
     "metadata": {},
     "output_type": "display_data"
    },
    {
     "data": {
      "image/png": "[encoded data removed]",
      "text/plain": [
       "<Figure size 1000x600 with 1 Axes>"
      ]
     },
     "metadata": {},
     "output_type": "display_data"
    },
    {
     "data": {
      "image/png": "[encoded data removed]",
      "text/plain": [
       "<Figure size 1000x600 with 1 Axes>"
      ]
     },
     "metadata": {},
     "output_type": "display_data"
    }
   ],
   "source": [
    "T_total_long = []\n",
    "for i in T_total:\n",
    "    if len(i) > 3:\n",
    "        T_total_long.append(i)\n",
    "        \n",
    "draw_random_walk(T_total_long, 3, 10)"
   ]
  },
  {
   "cell_type": "code",
   "execution_count": null,
   "metadata": {},
   "outputs": [],
   "source": []
  }
 ],
 "metadata": {
  "kernelspec": {
   "display_name": "battery",
   "language": "python",
   "name": "python3"
  },
  "language_info": {
   "codemirror_mode": {
    "name": "ipython",
    "version": 3
   },
   "file_extension": ".py",
   "mimetype": "text/x-python",
   "name": "python",
   "nbconvert_exporter": "python",
   "pygments_lexer": "ipython3",
   "version": "3.9.18"
  }
 },
 "nbformat": 4,
 "nbformat_minor": 2
}
